{
 "cells": [
  {
   "cell_type": "code",
   "execution_count": 1,
   "metadata": {},
   "outputs": [],
   "source": [
    "from cimgraph.databases import ConnectionParameters, BlazegraphConnection\n",
    "from cimbuilder.substation_builder import new_main_and_transfer, new_main_trans_branch\n",
    "import cimgraph.utils as utils\n",
    "import importlib"
   ]
  },
  {
   "cell_type": "code",
   "execution_count": 2,
   "metadata": {},
   "outputs": [],
   "source": [
    "cim_profile = 'cimhub_2023'\n",
    "cim = importlib.import_module('cimgraph.data_profile.' + cim_profile)"
   ]
  },
  {
   "cell_type": "code",
   "execution_count": 5,
   "metadata": {},
   "outputs": [],
   "source": [
    "params = ConnectionParameters(url = \"http://localhost:8889/bigdata/namespace/kb/sparql\", cim_profile=cim_profile, iec61970_301=8)\n",
    "connection = BlazegraphConnection(params)"
   ]
  },
  {
   "cell_type": "code",
   "execution_count": 6,
   "metadata": {},
   "outputs": [],
   "source": [
    "network = new_main_and_transfer(connection=connection, name=\"test_sub1\")\n"
   ]
  },
  {
   "cell_type": "code",
   "execution_count": 7,
   "metadata": {},
   "outputs": [
    {
     "name": "stdout",
     "output_type": "stream",
     "text": [
      "{\n",
      "    \"2484eae2-e4ff-4e00-b144-23a839e4a72a\": {\n",
      "        \"mRID\": \"2484eae2-e4ff-4e00-b144-23a839e4a72a\",\n",
      "        \"name\": \"main_bus\",\n",
      "        \"ConnectivityNodeContainer\": \"b22fef9c-5967-46d9-a346-23d0c56b99f7\",\n",
      "        \"Terminals\": \"['ba35042d-f35e-43e1-bf6b-088e46ab0237']\"\n",
      "    },\n",
      "    \"a66c31db-0d1b-4db9-9919-b16698e0b775\": {\n",
      "        \"mRID\": \"a66c31db-0d1b-4db9-9919-b16698e0b775\",\n",
      "        \"name\": \"transfer_bus\",\n",
      "        \"ConnectivityNodeContainer\": \"b22fef9c-5967-46d9-a346-23d0c56b99f7\",\n",
      "        \"Terminals\": \"['3f2b34e7-1188-4f89-a978-29eb63065733']\"\n",
      "    },\n",
      "    \"4af3a5be-44a1-4c53-b17b-c6778735bca5\": {\n",
      "        \"mRID\": \"4af3a5be-44a1-4c53-b17b-c6778735bca5\",\n",
      "        \"name\": \"test_sub1_bt_j1\",\n",
      "        \"ConnectivityNodeContainer\": \"b22fef9c-5967-46d9-a346-23d0c56b99f7\",\n",
      "        \"Terminals\": \"['a6d74bfb-0562-42a4-a477-b3785fb2d5cf', '986cf575-5292-482f-8d3e-60c735622a93']\"\n",
      "    },\n",
      "    \"579e59c8-f6c0-409f-a3d5-dca2a8b9d5c6\": {\n",
      "        \"mRID\": \"579e59c8-f6c0-409f-a3d5-dca2a8b9d5c6\",\n",
      "        \"name\": \"test_sub1_bt_j2\",\n",
      "        \"ConnectivityNodeContainer\": \"b22fef9c-5967-46d9-a346-23d0c56b99f7\",\n",
      "        \"Terminals\": \"['85317e17-d45a-477a-a0d8-44626d3d9203', '88fc7044-41a3-4f98-a65c-e00c23d0aef6']\"\n",
      "    }\n",
      "}\n"
     ]
    }
   ],
   "source": [
    "network.pprint(cim.ConnectivityNode)"
   ]
  },
  {
   "cell_type": "code",
   "execution_count": 8,
   "metadata": {},
   "outputs": [],
   "source": [
    "utils.write_xml(network, 'test_sub1.xml')"
   ]
  },
  {
   "cell_type": "code",
   "execution_count": null,
   "metadata": {},
   "outputs": [],
   "source": []
  }
 ],
 "metadata": {
  "kernelspec": {
   "display_name": ".venv",
   "language": "python",
   "name": "python3"
  },
  "language_info": {
   "codemirror_mode": {
    "name": "ipython",
    "version": 3
   },
   "file_extension": ".py",
   "mimetype": "text/x-python",
   "name": "python",
   "nbconvert_exporter": "python",
   "pygments_lexer": "ipython3",
   "version": "3.10.12"
  }
 },
 "nbformat": 4,
 "nbformat_minor": 2
}
