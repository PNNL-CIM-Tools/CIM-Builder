{
 "cells": [
  {
   "cell_type": "code",
   "execution_count": 1,
   "metadata": {},
   "outputs": [],
   "source": [
    "from cimgraph.databases import ConnectionParameters, BlazegraphConnection, RDFlibConnection\n",
    "from cimgraph.models import FeederModel\n",
    "import cimgraph.utils as utils\n",
    "import importlib"
   ]
  },
  {
   "cell_type": "code",
   "execution_count": 2,
   "metadata": {},
   "outputs": [],
   "source": [
    "cim_profile = 'cimhub_2023'\n",
    "cim = importlib.import_module('cimgraph.data_profile.' + cim_profile)"
   ]
  },
  {
   "cell_type": "code",
   "execution_count": 3,
   "metadata": {},
   "outputs": [],
   "source": [
    "params = ConnectionParameters(url = \"http://localhost:8889/bigdata/namespace/kb/sparql\", cim_profile=cim_profile, iec61970_301=8)\n",
    "connection = BlazegraphConnection(params)"
   ]
  },
  {
   "cell_type": "code",
   "execution_count": 4,
   "metadata": {},
   "outputs": [],
   "source": [
    "# Import 13 bus model from XML file\n",
    "ieee13_feeder = cim.Feeder(mRID = '49AD8E07-3BF9-A4E2-CB8F-C3722F837B62')\n",
    "params = ConnectionParameters(filename='tests/test_models/IEEE13.xml', cim_profile=cim_profile, iec61970_301=8)\n",
    "connection = RDFlibConnection(params)\n",
    "network = FeederModel(connection=connection, container=ieee13_feeder, distributed=False)"
   ]
  },
  {
   "cell_type": "code",
   "execution_count": 5,
   "metadata": {},
   "outputs": [],
   "source": [
    "utils.get_all_transformer_data(network)"
   ]
  },
  {
   "cell_type": "code",
   "execution_count": 12,
   "metadata": {},
   "outputs": [
    {
     "name": "stdout",
     "output_type": "stream",
     "text": [
      "{\n",
      "    \"92ADAD7A-8BD7-4523-914A-E73534E9AD4C\": {\n",
      "        \"mRID\": \"92ADAD7A-8BD7-4523-914A-E73534E9AD4C\",\n",
      "        \"name\": \"ct5_2\",\n",
      "        \"connectionKind\": \"WindingConnection.I\",\n",
      "        \"emergencyS\": \"7500\",\n",
      "        \"endNumber\": \"2\",\n",
      "        \"insulationU\": \"0\",\n",
      "        \"phaseAngleClock\": \"0\",\n",
      "        \"r\": \"0.03456\",\n",
      "        \"ratedS\": \"5000\",\n",
      "        \"ratedU\": \"120\",\n",
      "        \"shortTermS\": \"5500\",\n",
      "        \"EnergisedEndShortCircuitTests\": \"[{'@type': {'ShortCircuitTest'}, '@id': {'751CE05A-600E-4460-882A-E43600C4B59D'}}]\",\n",
      "        \"GroundedEndShortCircuitTests\": \"[{'@type': {'ShortCircuitTest'}, '@id': {'F03E870F-08F7-4655-B2D9-8C3FAFFA3375'}}]\",\n",
      "        \"TransformerTankInfo\": \"{'@type': {'TransformerTankInfo'}, '@id': {'70FD7F8F-EF10-425E-AA73-955F13E4486C'}}\"\n",
      "    },\n",
      "    \"2958B019-21BE-49DC-BCD7-D130B99D2D7A\": {\n",
      "        \"mRID\": \"2958B019-21BE-49DC-BCD7-D130B99D2D7A\",\n",
      "        \"name\": \"ct5_3\",\n",
      "        \"connectionKind\": \"WindingConnection.I\",\n",
      "        \"emergencyS\": \"7500\",\n",
      "        \"endNumber\": \"3\",\n",
      "        \"insulationU\": \"0\",\n",
      "        \"phaseAngleClock\": \"6\",\n",
      "        \"r\": \"0.03456\",\n",
      "        \"ratedS\": \"5000\",\n",
      "        \"ratedU\": \"120\",\n",
      "        \"shortTermS\": \"5500\",\n",
      "        \"GroundedEndShortCircuitTests\": \"[{'@type': {'ShortCircuitTest'}, '@id': {'751CE05A-600E-4460-882A-E43600C4B59D'}}, {'@type': {'ShortCircuitTest'}, '@id': {'D7280340-526F-4DBC-8E66-133FA827C156'}}]\",\n",
      "        \"TransformerTankInfo\": \"{'@type': {'TransformerTankInfo'}, '@id': {'70FD7F8F-EF10-425E-AA73-955F13E4486C'}}\"\n",
      "    },\n",
      "    \"D60116A9-72D6-4598-BDC7-0431A127C548\": {\n",
      "        \"mRID\": \"D60116A9-72D6-4598-BDC7-0431A127C548\",\n",
      "        \"name\": \"ct5_1\",\n",
      "        \"connectionKind\": \"WindingConnection.I\",\n",
      "        \"emergencyS\": \"7500\",\n",
      "        \"endNumber\": \"1\",\n",
      "        \"insulationU\": \"0\",\n",
      "        \"phaseAngleClock\": \"0\",\n",
      "        \"r\": \"6.912\",\n",
      "        \"ratedS\": \"5000\",\n",
      "        \"ratedU\": \"2400\",\n",
      "        \"shortTermS\": \"5500\",\n",
      "        \"EnergisedEndNoLoadTests\": \"[{'@type': {'NoLoadTest'}, '@id': {'3A6061DD-5830-4201-AFAD-632E43806959'}}]\",\n",
      "        \"EnergisedEndShortCircuitTests\": \"[{'@type': {'ShortCircuitTest'}, '@id': {'D7280340-526F-4DBC-8E66-133FA827C156'}}, {'@type': {'ShortCircuitTest'}, '@id': {'F03E870F-08F7-4655-B2D9-8C3FAFFA3375'}}]\",\n",
      "        \"TransformerTankInfo\": \"{'@type': {'TransformerTankInfo'}, '@id': {'70FD7F8F-EF10-425E-AA73-955F13E4486C'}}\"\n",
      "    },\n",
      "    \"E5816653-354B-4A9B-B3C6-52AF94318954\": {\n",
      "        \"mRID\": \"E5816653-354B-4A9B-B3C6-52AF94318954\",\n",
      "        \"name\": \"cimxfmrcode_reg1_1\",\n",
      "        \"connectionKind\": \"WindingConnection.I\",\n",
      "        \"emergencyS\": \"2499000\",\n",
      "        \"endNumber\": \"1\",\n",
      "        \"insulationU\": \"0\",\n",
      "        \"phaseAngleClock\": \"0\",\n",
      "        \"r\": \"0.00017286915\",\n",
      "        \"ratedS\": \"1666000\",\n",
      "        \"ratedU\": \"2400\",\n",
      "        \"shortTermS\": \"1832600\",\n",
      "        \"EnergisedEndNoLoadTests\": \"[{'@type': {'NoLoadTest'}, '@id': {'BE33E771-EF98-44EE-9E97-C845D93AE8BB'}}]\",\n",
      "        \"EnergisedEndShortCircuitTests\": \"[{'@type': {'ShortCircuitTest'}, '@id': {'D957DFA4-C676-401D-8F83-A6C927387240'}}]\",\n",
      "        \"TransformerTankInfo\": \"{'@type': {'TransformerTankInfo'}, '@id': {'7C934331-21F0-483C-92E7-09AA35DA3D46'}}\"\n",
      "    },\n",
      "    \"6CD0E0AD-7F30-48DF-ADA1-1DDD9E9424EA\": {\n",
      "        \"mRID\": \"6CD0E0AD-7F30-48DF-ADA1-1DDD9E9424EA\",\n",
      "        \"name\": \"cimxfmrcode_reg1_2\",\n",
      "        \"connectionKind\": \"WindingConnection.I\",\n",
      "        \"emergencyS\": \"2499000\",\n",
      "        \"endNumber\": \"2\",\n",
      "        \"insulationU\": \"0\",\n",
      "        \"phaseAngleClock\": \"0\",\n",
      "        \"r\": \"0.00017286915\",\n",
      "        \"ratedS\": \"1666000\",\n",
      "        \"ratedU\": \"2400\",\n",
      "        \"shortTermS\": \"1832600\",\n",
      "        \"GroundedEndShortCircuitTests\": \"[{'@type': {'ShortCircuitTest'}, '@id': {'D957DFA4-C676-401D-8F83-A6C927387240'}}]\",\n",
      "        \"TransformerTankInfo\": \"{'@type': {'TransformerTankInfo'}, '@id': {'7C934331-21F0-483C-92E7-09AA35DA3D46'}}\"\n",
      "    },\n",
      "    \"27E2528D-9996-4297-BCDA-902BF8A98878\": {\n",
      "        \"mRID\": \"27E2528D-9996-4297-BCDA-902BF8A98878\",\n",
      "        \"name\": \"cimxfmrcode_reg3_2\",\n",
      "        \"connectionKind\": \"WindingConnection.I\",\n",
      "        \"emergencyS\": \"2499000\",\n",
      "        \"endNumber\": \"2\",\n",
      "        \"insulationU\": \"0\",\n",
      "        \"phaseAngleClock\": \"0\",\n",
      "        \"r\": \"0.00017286915\",\n",
      "        \"ratedS\": \"1666000\",\n",
      "        \"ratedU\": \"2400\",\n",
      "        \"shortTermS\": \"1832600\",\n",
      "        \"GroundedEndShortCircuitTests\": \"[{'@type': {'ShortCircuitTest'}, '@id': {'6A5CE486-B7EF-4BAB-9802-25E277BA3C36'}}]\",\n",
      "        \"TransformerTankInfo\": \"{'@type': {'TransformerTankInfo'}, '@id': {'D403D1F0-46E9-4446-A604-0EABFB6D4209'}}\"\n",
      "    },\n",
      "    \"3356BA5B-42F3-4A23-BEE1-7DCF76F0DD01\": {\n",
      "        \"mRID\": \"3356BA5B-42F3-4A23-BEE1-7DCF76F0DD01\",\n",
      "        \"name\": \"cimxfmrcode_reg3_1\",\n",
      "        \"connectionKind\": \"WindingConnection.I\",\n",
      "        \"emergencyS\": \"2499000\",\n",
      "        \"endNumber\": \"1\",\n",
      "        \"insulationU\": \"0\",\n",
      "        \"phaseAngleClock\": \"0\",\n",
      "        \"r\": \"0.00017286915\",\n",
      "        \"ratedS\": \"1666000\",\n",
      "        \"ratedU\": \"2400\",\n",
      "        \"shortTermS\": \"1832600\",\n",
      "        \"EnergisedEndNoLoadTests\": \"[{'@type': {'NoLoadTest'}, '@id': {'8B114BAF-BC38-4EA8-8EC6-CF753564A857'}}]\",\n",
      "        \"EnergisedEndShortCircuitTests\": \"[{'@type': {'ShortCircuitTest'}, '@id': {'6A5CE486-B7EF-4BAB-9802-25E277BA3C36'}}]\",\n",
      "        \"TransformerTankInfo\": \"{'@type': {'TransformerTankInfo'}, '@id': {'D403D1F0-46E9-4446-A604-0EABFB6D4209'}}\"\n",
      "    },\n",
      "    \"69E263F9-E7D8-43F4-8F1A-93E46EDAB9F2\": {\n",
      "        \"mRID\": \"69E263F9-E7D8-43F4-8F1A-93E46EDAB9F2\",\n",
      "        \"name\": \"cimxfmrcode_reg2_2\",\n",
      "        \"connectionKind\": \"WindingConnection.I\",\n",
      "        \"emergencyS\": \"2499000\",\n",
      "        \"endNumber\": \"2\",\n",
      "        \"insulationU\": \"0\",\n",
      "        \"phaseAngleClock\": \"0\",\n",
      "        \"r\": \"0.00017286915\",\n",
      "        \"ratedS\": \"1666000\",\n",
      "        \"ratedU\": \"2400\",\n",
      "        \"shortTermS\": \"1832600\",\n",
      "        \"GroundedEndShortCircuitTests\": \"[{'@type': {'ShortCircuitTest'}, '@id': {'300AB4E7-FFFF-45B4-B326-596E21060346'}}]\",\n",
      "        \"TransformerTankInfo\": \"{'@type': {'TransformerTankInfo'}, '@id': {'D58D1234-3316-4AA4-AC56-7EC1E808215B'}}\"\n",
      "    },\n",
      "    \"A5CB8331-A94D-48D8-BED5-DEF0F0B7E812\": {\n",
      "        \"mRID\": \"A5CB8331-A94D-48D8-BED5-DEF0F0B7E812\",\n",
      "        \"name\": \"cimxfmrcode_reg2_1\",\n",
      "        \"connectionKind\": \"WindingConnection.I\",\n",
      "        \"emergencyS\": \"2499000\",\n",
      "        \"endNumber\": \"1\",\n",
      "        \"insulationU\": \"0\",\n",
      "        \"phaseAngleClock\": \"0\",\n",
      "        \"r\": \"0.00017286915\",\n",
      "        \"ratedS\": \"1666000\",\n",
      "        \"ratedU\": \"2400\",\n",
      "        \"shortTermS\": \"1832600\",\n",
      "        \"EnergisedEndNoLoadTests\": \"[{'@type': {'NoLoadTest'}, '@id': {'E31DAFA6-A4E2-461C-910F-0CDCD13FF1F6'}}]\",\n",
      "        \"EnergisedEndShortCircuitTests\": \"[{'@type': {'ShortCircuitTest'}, '@id': {'300AB4E7-FFFF-45B4-B326-596E21060346'}}]\",\n",
      "        \"TransformerTankInfo\": \"{'@type': {'TransformerTankInfo'}, '@id': {'D58D1234-3316-4AA4-AC56-7EC1E808215B'}}\"\n",
      "    }\n",
      "}\n"
     ]
    }
   ],
   "source": [
    "network.pprint(cim.TransformerEndInfo, json_ld=True)"
   ]
  },
  {
   "cell_type": "code",
   "execution_count": null,
   "metadata": {},
   "outputs": [],
   "source": []
  },
  {
   "cell_type": "code",
   "execution_count": null,
   "metadata": {},
   "outputs": [],
   "source": []
  },
  {
   "cell_type": "code",
   "execution_count": 6,
   "metadata": {},
   "outputs": [],
   "source": [
    "network = new_main_and_transfer(connection=connection, name=\"test_sub1\")\n"
   ]
  },
  {
   "cell_type": "code",
   "execution_count": 7,
   "metadata": {},
   "outputs": [
    {
     "name": "stdout",
     "output_type": "stream",
     "text": [
      "{\n",
      "    \"2484eae2-e4ff-4e00-b144-23a839e4a72a\": {\n",
      "        \"mRID\": \"2484eae2-e4ff-4e00-b144-23a839e4a72a\",\n",
      "        \"name\": \"main_bus\",\n",
      "        \"ConnectivityNodeContainer\": \"b22fef9c-5967-46d9-a346-23d0c56b99f7\",\n",
      "        \"Terminals\": \"['ba35042d-f35e-43e1-bf6b-088e46ab0237']\"\n",
      "    },\n",
      "    \"a66c31db-0d1b-4db9-9919-b16698e0b775\": {\n",
      "        \"mRID\": \"a66c31db-0d1b-4db9-9919-b16698e0b775\",\n",
      "        \"name\": \"transfer_bus\",\n",
      "        \"ConnectivityNodeContainer\": \"b22fef9c-5967-46d9-a346-23d0c56b99f7\",\n",
      "        \"Terminals\": \"['3f2b34e7-1188-4f89-a978-29eb63065733']\"\n",
      "    },\n",
      "    \"4af3a5be-44a1-4c53-b17b-c6778735bca5\": {\n",
      "        \"mRID\": \"4af3a5be-44a1-4c53-b17b-c6778735bca5\",\n",
      "        \"name\": \"test_sub1_bt_j1\",\n",
      "        \"ConnectivityNodeContainer\": \"b22fef9c-5967-46d9-a346-23d0c56b99f7\",\n",
      "        \"Terminals\": \"['a6d74bfb-0562-42a4-a477-b3785fb2d5cf', '986cf575-5292-482f-8d3e-60c735622a93']\"\n",
      "    },\n",
      "    \"579e59c8-f6c0-409f-a3d5-dca2a8b9d5c6\": {\n",
      "        \"mRID\": \"579e59c8-f6c0-409f-a3d5-dca2a8b9d5c6\",\n",
      "        \"name\": \"test_sub1_bt_j2\",\n",
      "        \"ConnectivityNodeContainer\": \"b22fef9c-5967-46d9-a346-23d0c56b99f7\",\n",
      "        \"Terminals\": \"['85317e17-d45a-477a-a0d8-44626d3d9203', '88fc7044-41a3-4f98-a65c-e00c23d0aef6']\"\n",
      "    }\n",
      "}\n"
     ]
    }
   ],
   "source": [
    "network.pprint(cim.ConnectivityNode)"
   ]
  },
  {
   "cell_type": "code",
   "execution_count": 8,
   "metadata": {},
   "outputs": [],
   "source": [
    "utils.write_xml(network, 'test_sub1.xml')"
   ]
  },
  {
   "cell_type": "code",
   "execution_count": null,
   "metadata": {},
   "outputs": [],
   "source": []
  }
 ],
 "metadata": {
  "kernelspec": {
   "display_name": ".venv",
   "language": "python",
   "name": "python3"
  },
  "language_info": {
   "codemirror_mode": {
    "name": "ipython",
    "version": 3
   },
   "file_extension": ".py",
   "mimetype": "text/x-python",
   "name": "python",
   "nbconvert_exporter": "python",
   "pygments_lexer": "ipython3",
   "version": "3.10.12"
  }
 },
 "nbformat": 4,
 "nbformat_minor": 2
}
