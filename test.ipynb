{
 "cells": [
  {
   "cell_type": "code",
   "execution_count": 1,
   "metadata": {},
   "outputs": [],
   "source": [
    "from cimgraph.databases import ConnectionParameters, BlazegraphConnection\n",
    "from cimbuilder.substation_builder import new_main_and_transfer, new_main_trans_branch\n",
    "import cimgraph.utils as utils\n",
    "import importlib"
   ]
  },
  {
   "cell_type": "code",
   "execution_count": 2,
   "metadata": {},
   "outputs": [],
   "source": [
    "cim_profile = 'cimhub_2023'\n",
    "cim = importlib.import_module('cimgraph.data_profile.' + cim_profile)"
   ]
  },
  {
   "cell_type": "code",
   "execution_count": 3,
   "metadata": {},
   "outputs": [],
   "source": [
    "params = ConnectionParameters(url = \"http://localhost:8889/bigdata/namespace/kb/sparql\", cim_profile=cim_profile, iec61970_301=8)\n",
    "connection = BlazegraphConnection(params)"
   ]
  },
  {
   "cell_type": "code",
   "execution_count": 4,
   "metadata": {},
   "outputs": [],
   "source": [
    "network = new_main_and_transfer(connection=connection, name=\"test_sub1\")"
   ]
  },
  {
   "cell_type": "code",
   "execution_count": 5,
   "metadata": {},
   "outputs": [
    {
     "name": "stdout",
     "output_type": "stream",
     "text": [
      "{\n",
      "    \"3c27644a-5a83-4d06-9750-af89ab1ccbed\": {\n",
      "        \"mRID\": \"3c27644a-5a83-4d06-9750-af89ab1ccbed\",\n",
      "        \"name\": \"main_bus\",\n",
      "        \"ConnectivityNodeContainer\": \"09c07b84-8c38-4704-89bf-4a32d6937ce4\",\n",
      "        \"Terminals\": \"['21baa506-62ac-435f-ae55-fd317b6490df']\"\n",
      "    },\n",
      "    \"f41682d6-4466-4a70-8377-919f5d455198\": {\n",
      "        \"mRID\": \"f41682d6-4466-4a70-8377-919f5d455198\",\n",
      "        \"name\": \"transfer_bus\",\n",
      "        \"ConnectivityNodeContainer\": \"09c07b84-8c38-4704-89bf-4a32d6937ce4\",\n",
      "        \"Terminals\": \"['14d7ad1b-9f4d-445b-a33d-87305b24d408']\"\n",
      "    },\n",
      "    \"ba7383aa-e019-4cc2-b335-825e70978169\": {\n",
      "        \"mRID\": \"ba7383aa-e019-4cc2-b335-825e70978169\",\n",
      "        \"name\": \"test_sub1_bt_j1\",\n",
      "        \"ConnectivityNodeContainer\": \"09c07b84-8c38-4704-89bf-4a32d6937ce4\",\n",
      "        \"Terminals\": \"['730caa26-36c8-4f8a-9474-251cca475193', '10bcd864-2062-4509-9adc-e3376d0bc0c3']\"\n",
      "    },\n",
      "    \"ae79d05a-48e9-4d27-9e06-570b7c27ea47\": {\n",
      "        \"mRID\": \"ae79d05a-48e9-4d27-9e06-570b7c27ea47\",\n",
      "        \"name\": \"test_sub1_bt_j2\",\n",
      "        \"ConnectivityNodeContainer\": \"09c07b84-8c38-4704-89bf-4a32d6937ce4\",\n",
      "        \"Terminals\": \"['bb5721c6-b3c1-4b05-8307-85a0c5c4df85', 'a77764b5-6496-45c0-a120-4a9914b9473f']\"\n",
      "    }\n",
      "}\n"
     ]
    }
   ],
   "source": [
    "network.pprint(cim.ConnectivityNode)"
   ]
  },
  {
   "cell_type": "code",
   "execution_count": 7,
   "metadata": {},
   "outputs": [],
   "source": [
    "utils.write_xml(network, 'test_sub1.xml')"
   ]
  },
  {
   "cell_type": "code",
   "execution_count": null,
   "metadata": {},
   "outputs": [],
   "source": []
  }
 ],
 "metadata": {
  "kernelspec": {
   "display_name": ".venv",
   "language": "python",
   "name": "python3"
  },
  "language_info": {
   "codemirror_mode": {
    "name": "ipython",
    "version": 3
   },
   "file_extension": ".py",
   "mimetype": "text/x-python",
   "name": "python",
   "nbconvert_exporter": "python",
   "pygments_lexer": "ipython3",
   "version": "3.10.12"
  }
 },
 "nbformat": 4,
 "nbformat_minor": 2
}
