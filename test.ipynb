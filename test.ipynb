{
 "cells": [
  {
   "cell_type": "code",
   "execution_count": 1,
   "metadata": {},
   "outputs": [],
   "source": [
    "from cimgraph.models import FeederModel\n",
    "from cimgraph.databases import ConnectionParameters, RDFlibConnection\n",
    "from cimbuilder.substation_builder import new_main_and_transfer, new_main_trans_branch, new_main_trans_feeder\n",
    "import cimgraph.utils as utils\n",
    "import importlib"
   ]
  },
  {
   "cell_type": "code",
   "execution_count": 2,
   "metadata": {},
   "outputs": [],
   "source": [
    "cim_profile = 'cimhub_2023'\n",
    "cim = importlib.import_module('cimgraph.data_profile.' + cim_profile)"
   ]
  },
  {
   "cell_type": "code",
   "execution_count": 3,
   "metadata": {},
   "outputs": [],
   "source": [
    "params = ConnectionParameters(filename=None, cim_profile=cim_profile, iec61970_301=8)\n",
    "connection = RDFlibConnection(params)"
   ]
  },
  {
   "cell_type": "code",
   "execution_count": 4,
   "metadata": {},
   "outputs": [],
   "source": [
    "network, substation, main_bus, transfer_bus = new_main_and_transfer(connection=connection, name=\"test_sub1\")"
   ]
  },
  {
   "cell_type": "code",
   "execution_count": 6,
   "metadata": {},
   "outputs": [],
   "source": [
    "ieee13bus = cim.Feeder(mRID = '49AD8E07-3BF9-A4E2-CB8F-C3722F837B62')\n",
    "params = ConnectionParameters(filename='./tests/test_models/IEEE13.xml', cim_profile=cim_profile, iec61970_301=8)\n",
    "connection = RDFlibConnection(params)\n",
    "ieee13network = FeederModel(connection=connection, container=ieee13bus, distributed=False)"
   ]
  },
  {
   "cell_type": "code",
   "execution_count": 7,
   "metadata": {},
   "outputs": [],
   "source": [
    "ieee13assets = cim.Feeder(mRID = '5B816B93-7A5F-B64C-8460-47C17D6E4B0F')\n",
    "params = ConnectionParameters(filename='./tests/test_models/IEEE13_Assets.xml', cim_profile=cim_profile, iec61970_301=8)\n",
    "connection = RDFlibConnection(params)\n",
    "ieee13assetsnetwork = FeederModel(connection=connection, container=ieee13assets, distributed=False)"
   ]
  },
  {
   "cell_type": "code",
   "execution_count": 8,
   "metadata": {},
   "outputs": [],
   "source": [
    "ieee13network.get_all_edges(cim.EnergySource)\n",
    "ieee13network.get_all_edges(cim.Terminal)\n",
    "ieee13network.get_all_edges(cim.ConnectivityNode)\n",
    "for source in ieee13network.graph[cim.EnergySource].values():\n",
    "    sourcebus = source.Terminals[0].ConnectivityNode #TODO: find a better way to get source"
   ]
  },
  {
   "cell_type": "code",
   "execution_count": 9,
   "metadata": {},
   "outputs": [
    {
     "data": {
      "text/plain": [
       "'sourcebus'"
      ]
     },
     "execution_count": 9,
     "metadata": {},
     "output_type": "execute_result"
    }
   ],
   "source": [
    "ieee13network.graph[cim.EnergySource][\"8B452737-CA3D-4C10-A99D-6865506437C8\"].Terminals[0].ConnectivityNode.name"
   ]
  },
  {
   "cell_type": "code",
   "execution_count": 11,
   "metadata": {},
   "outputs": [],
   "source": [
    "# new_main_trans_branch(network=network, substation=substation, main_bus=main_bus, transfer_bus=transfer_bus,sequenceNumber=10, branch_equipment = energy_source, branch_terminal=energy_source.Terminals[0] )"
   ]
  },
  {
   "cell_type": "code",
   "execution_count": 12,
   "metadata": {},
   "outputs": [],
   "source": [
    "new_main_trans_feeder(network=network, substation=substation, main_bus=main_bus, transfer_bus=transfer_bus,sequenceNumber = 10, feeder=ieee13bus, sourcebus=sourcebus)"
   ]
  },
  {
   "cell_type": "code",
   "execution_count": 13,
   "metadata": {},
   "outputs": [],
   "source": [
    "utils.write_xml(network, 'test_sub1.xml')"
   ]
  },
  {
   "cell_type": "code",
   "execution_count": null,
   "metadata": {},
   "outputs": [],
   "source": []
  },
  {
   "cell_type": "code",
   "execution_count": null,
   "metadata": {},
   "outputs": [],
   "source": []
  }
 ],
 "metadata": {
  "kernelspec": {
   "display_name": ".venv",
   "language": "python",
   "name": "python3"
  },
  "language_info": {
   "codemirror_mode": {
    "name": "ipython",
    "version": 3
   },
   "file_extension": ".py",
   "mimetype": "text/x-python",
   "name": "python",
   "nbconvert_exporter": "python",
   "pygments_lexer": "ipython3",
   "version": "3.10.12"
  }
 },
 "nbformat": 4,
 "nbformat_minor": 2
}
