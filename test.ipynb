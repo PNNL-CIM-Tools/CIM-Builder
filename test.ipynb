{
 "cells": [
  {
   "cell_type": "code",
   "execution_count": 1,
   "metadata": {},
   "outputs": [],
   "source": [
    "from cimgraph.databases import ConnectionParameters, BlazegraphConnection\n",
    "from cimbuilder.substation_builder import new_main_and_transfer, new_main_trans_branch\n",
    "import cimgraph.utils as utils\n",
    "import importlib"
   ]
  },
  {
   "cell_type": "code",
   "execution_count": 2,
   "metadata": {},
   "outputs": [],
   "source": [
    "cim_profile = 'cimhub_2023'\n",
    "cim = importlib.import_module('cimgraph.data_profile.' + cim_profile)"
   ]
  },
  {
   "cell_type": "code",
   "execution_count": 3,
   "metadata": {},
   "outputs": [],
   "source": [
    "params = ConnectionParameters(url = \"http://localhost:8889/bigdata/namespace/kb/sparql\", cim_profile=cim_profile, iec61970_301=8)\n",
    "connection = BlazegraphConnection(params)"
   ]
  },
  {
   "cell_type": "code",
   "execution_count": 4,
   "metadata": {},
   "outputs": [],
   "source": [
    "network = new_main_and_transfer(connection=connection, name=\"test_sub1\")"
   ]
  },
  {
   "cell_type": "code",
   "execution_count": 5,
   "metadata": {},
   "outputs": [
    {
     "name": "stdout",
     "output_type": "stream",
     "text": [
      "{\n",
      "    \"e834569f-b47e-4cd1-b604-0c6ae91127a5\": {\n",
      "        \"mRID\": \"e834569f-b47e-4cd1-b604-0c6ae91127a5\",\n",
      "        \"name\": \"main_bus\",\n",
      "        \"ConnectivityNodeContainer\": \"893c0520-bdd5-40ef-a6c7-6554050d296d\",\n",
      "        \"Terminals\": \"['c9093a3d-6f32-47cf-810c-2ce94bea1ae4']\"\n",
      "    },\n",
      "    \"1e4a57fc-58e7-4274-ab70-186a71e9e340\": {\n",
      "        \"mRID\": \"1e4a57fc-58e7-4274-ab70-186a71e9e340\",\n",
      "        \"name\": \"transfer_bus\",\n",
      "        \"ConnectivityNodeContainer\": \"893c0520-bdd5-40ef-a6c7-6554050d296d\",\n",
      "        \"Terminals\": \"['8b6d7f35-6f99-43e9-be71-fc251b8db3c9']\"\n",
      "    },\n",
      "    \"d0237c6b-d7be-44a4-8bff-06826131d995\": {\n",
      "        \"mRID\": \"d0237c6b-d7be-44a4-8bff-06826131d995\",\n",
      "        \"name\": \"test_sub1_bt_j1\",\n",
      "        \"ConnectivityNodeContainer\": \"893c0520-bdd5-40ef-a6c7-6554050d296d\",\n",
      "        \"Terminals\": \"['ccd6122c-ca63-40eb-b39e-9414a7207f4f', 'bb294438-b8bd-4f91-b937-a90855ad639b']\"\n",
      "    },\n",
      "    \"00f573a0-359d-49ae-94b4-e0c6ff159831\": {\n",
      "        \"mRID\": \"00f573a0-359d-49ae-94b4-e0c6ff159831\",\n",
      "        \"name\": \"test_sub1_bt_j2\",\n",
      "        \"ConnectivityNodeContainer\": \"893c0520-bdd5-40ef-a6c7-6554050d296d\",\n",
      "        \"Terminals\": \"['30ea97c5-c17d-42cd-853d-318d211bc14e', 'bbe559fa-d36a-4b42-ae50-0c07ac40b773']\"\n",
      "    }\n",
      "}\n"
     ]
    }
   ],
   "source": [
    "network.pprint(cim.ConnectivityNode)"
   ]
  },
  {
   "cell_type": "code",
   "execution_count": 6,
   "metadata": {},
   "outputs": [],
   "source": [
    "utils.write_xml(network, 'test_sub1.xml')"
   ]
  },
  {
   "cell_type": "code",
   "execution_count": null,
   "metadata": {},
   "outputs": [],
   "source": []
  }
 ],
 "metadata": {
  "kernelspec": {
   "display_name": ".venv",
   "language": "python",
   "name": "python3"
  },
  "language_info": {
   "codemirror_mode": {
    "name": "ipython",
    "version": 3
   },
   "file_extension": ".py",
   "mimetype": "text/x-python",
   "name": "python",
   "nbconvert_exporter": "python",
   "pygments_lexer": "ipython3",
   "version": "3.10.12"
  }
 },
 "nbformat": 4,
 "nbformat_minor": 2
}
