{
 "cells": [
  {
   "cell_type": "markdown",
   "metadata": {},
   "source": [
    "# Automated Substation Creation and Feeder Insertion in Native CIM17"
   ]
  },
  {
   "cell_type": "markdown",
   "metadata": {},
   "source": [
    "CIM-Builder is a new python library developed under the Grid Atlas and MAPLE LEAF projects for creating CIM models \"from scratch\" with no pre-existing model files. This is a significantly different capability than all other tooling, which requires a source file from which to start, such as OpenDSS, PSSE, or GIS data. The library currently inlcudes three main functionalities:\n",
    "\n",
    "1) automatic creation of new node-breaker substations in CIM based on interactive API calls\n",
    "\n",
    "2) automatic insertion of existing distribution feeders in CIM into new node-breaker substations\n",
    "\n",
    "3) automatic insertion of new aggregate feeder data in existing CIM transmission models (not demonstrated in this report). //\n",
    "\n",
    "The library contains a set of classes for each type of common substation, which each contain two methods. The first is `add_feeder`, which automatically adds the specified distribution feeder to the substation and creates the chain of switching equipment between the sourcebus of the feeder and the correct breaker or airgap switch in the substation. The second is `add_branch`, which enables automated addition of transmission branches, transformers, and shunt equipment to the substation bus.\n",
    "\n",
    "The classes supported within the first version of CIM-Builder are\n",
    "\n",
    "* `SingleBusSubstation`\n",
    "* `MainAndTransferSubstation`\n",
    "* `RingBusSubstation`\n",
    "* `DoubleBusSingleBreakerSubstation`\n",
    "* `BreakerAndHalfSubstation`\n",
    "\n",
    "When instantiated, these classes create a new CIMantic Graphs `DistributedArea` or `NodeBreakerModel` graph model with all CIM objects associated with the default bus configuration for that substation. Distribution feeders can then be added to the substation by instantiating each feeder as a new CIMantic Graphs `FeederModel`. The python library then builds the set of CIM associations to map the feeder to the substation and create all CIM objects for the breaker, airgap switches, and junctions.\n",
    "\n"
   ]
  },
  {
   "cell_type": "markdown",
   "metadata": {},
   "source": [
    "----"
   ]
  },
  {
   "cell_type": "markdown",
   "metadata": {},
   "source": [
    "### Import CIMantic Graphs Library and CIM profile"
   ]
  },
  {
   "cell_type": "markdown",
   "metadata": {},
   "source": [
    "The CIMantic Graphs library can be installed using `pip install cim-graph` and imported into any script:"
   ]
  },
  {
   "cell_type": "code",
   "execution_count": 1,
   "metadata": {},
   "outputs": [],
   "source": [
    "# Import transmission and distribution modeling classes\n",
    "from cimgraph.models import FeederModel, NodeBreakerModel\n",
    "from cimgraph.databases import ConnectionParameters\n",
    "from cimgraph.databases import RDFlibConnection\n",
    "import cimgraph.utils as utils"
   ]
  },
  {
   "cell_type": "markdown",
   "metadata": {},
   "source": [
    "CIMantic Graphs can support multiple CIM profiles, so it is necessary to specify which one to use. This demonstration will use the extensions from CIMHub feature/SETO, which is derived from CIM17V38."
   ]
  },
  {
   "cell_type": "code",
   "execution_count": 2,
   "metadata": {},
   "outputs": [],
   "source": [
    "# Specify CIM Profile\n",
    "import importlib\n",
    "cim_profile = 'cimhub_2023'\n",
    "cim = importlib.import_module('cimgraph.data_profile.' + cim_profile)"
   ]
  },
  {
   "cell_type": "markdown",
   "metadata": {},
   "source": [
    "To create a new model \"from scratch\", no filename or databased is specified. This connection object contains all information regarding the CIM version, serilaization format, etc."
   ]
  },
  {
   "cell_type": "code",
   "execution_count": 3,
   "metadata": {},
   "outputs": [],
   "source": [
    "# Create an empty connection for new file\n",
    "params = ConnectionParameters(filename=None,\n",
    "                              cim_profile=cim_profile, iec61970_301=8)\n",
    "connection = RDFlibConnection(params)"
   ]
  },
  {
   "cell_type": "markdown",
   "metadata": {},
   "source": [
    "For this demonstration, the IEEE 13 and IEEE 13 assets feeders will be used to populate each substation. It is possible to load these files from a database, or open them directly from the XML using CIMantic Graphs. Since end-users of the Grid Atlas may not have a database, the feeders will be loaded from the standalone files:"
   ]
  },
  {
   "cell_type": "code",
   "execution_count": 4,
   "metadata": {},
   "outputs": [],
   "source": [
    "# Import 13 bus model from XML file\n",
    "ieee13_feeder = cim.Feeder(mRID = '49AD8E07-3BF9-A4E2-CB8F-C3722F837B62')\n",
    "params = ConnectionParameters(filename='../test_models/IEEE13.xml',\n",
    "                               cim_profile=cim_profile, iec61970_301=8)\n",
    "ieee13_connection = RDFlibConnection(params)\n",
    "ieee13_network = FeederModel(connection=ieee13_connection, container=ieee13_feeder,\n",
    "                              distributed=False)\n"
   ]
  },
  {
   "cell_type": "code",
   "execution_count": 5,
   "metadata": {},
   "outputs": [],
   "source": [
    "\n",
    "assets13_feeder = cim.Feeder(mRID = '5B816B93-7A5F-B64C-8460-47C17D6E4B0F')\n",
    "params = ConnectionParameters(filename='../test_models/IEEE13_Assets.xml', \n",
    "                              cim_profile=cim_profile, iec61970_301=8)\n",
    "assets13_connection = RDFlibConnection(params)\n",
    "assets13_network = FeederModel(connection=assets13_connection, container=assets13_feeder,\n",
    "                                distributed=False)\n"
   ]
  },
  {
   "cell_type": "markdown",
   "metadata": {},
   "source": [
    "For this demonstration, the Blazegraph database used by GridAPPS-D will be used for roundtrip testing. During these tests, each of the substation models developed for Grid Atlas will be added to the database. Connectivity and total load within the test feeders will be queried through a simple test.\n",
    "\n",
    "To connect to the database, we will establish two connections. The first will be used for database bulk upload using the CIM-Loader library previously developed for Grid Atlas. The second will be used for automated database queries using CIMantic Graphs."
   ]
  },
  {
   "cell_type": "code",
   "execution_count": 6,
   "metadata": {},
   "outputs": [],
   "source": [
    "# Connection to Blazegraph Database for CIM-Loader\n",
    "from cimloader.databases.blazegraph import BlazegraphConnection as BlazegraphLoader\n",
    "params = ConnectionParameters(url = \"http://localhost:8889/bigdata/namespace/kb/sparql\",\n",
    "                               cim_profile=cim_profile, iec61970_301=8)\n",
    "bg_loader = BlazegraphLoader(params)"
   ]
  },
  {
   "cell_type": "code",
   "execution_count": 7,
   "metadata": {},
   "outputs": [],
   "source": [
    "# Connection to Blazegraph Database for CIMantic Graphs\n",
    "from cimgraph.databases import BlazegraphConnection as BlazegraphConnection\n",
    "params = ConnectionParameters(url = \"http://localhost:8889/bigdata/namespace/kb/sparql\",\n",
    "                               cim_profile=cim_profile, iec61970_301=8)\n",
    "blazegraph = BlazegraphConnection(params)"
   ]
  },
  {
   "cell_type": "markdown",
   "metadata": {},
   "source": [
    "### Create New Single Bus Substation"
   ]
  },
  {
   "cell_type": "markdown",
   "metadata": {},
   "source": [
    "To create a new Single Bus substation, we import the associated class from the `substation_builder` module in CIM-Builder:"
   ]
  },
  {
   "cell_type": "code",
   "execution_count": 8,
   "metadata": {},
   "outputs": [],
   "source": [
    "from cimbuilder.substation_builder import SingleBusSubstation"
   ]
  },
  {
   "cell_type": "markdown",
   "metadata": {},
   "source": [
    "To create a new substation, the class is instantiated with the name of the substation and base voltage. If the substation is not being added to an existing network, a new `DistributedArea` will be created to contain the substation."
   ]
  },
  {
   "cell_type": "code",
   "execution_count": 9,
   "metadata": {},
   "outputs": [],
   "source": [
    "SubBuilder = SingleBusSubstation(connection=connection,\n",
    "                                 name=\"single_bus_sub\", \n",
    "                                 base_voltage = 115000)\n",
    "substation = SubBuilder.substation"
   ]
  },
  {
   "cell_type": "markdown",
   "metadata": {},
   "source": [
    "To add a feeder to the new substation, the `.new_feeder()` method is called. The `series_number` is used for automatic naming of the breaker and airgap switches.The arguments `feeder` and `feeder_network` are used for the CIM feeder object and the CIMantic Graphs network model.\n",
    "\n",
    "The function call below will automatically insert the IEEE 13 and IEEE 13 Assets feeders into the new substation:"
   ]
  },
  {
   "cell_type": "code",
   "execution_count": 10,
   "metadata": {},
   "outputs": [],
   "source": [
    "SubBuilder.new_feeder(series_number = 1, feeder=ieee13_feeder,\n",
    "                       feeder_network=ieee13_network)\n",
    "SubBuilder.new_feeder(series_number = 2, feeder=assets13_feeder,\n",
    "                      feeder_network=assets13_network)"
   ]
  },
  {
   "cell_type": "markdown",
   "metadata": {},
   "source": [
    "To check whether the feeders have been added successfully, it is possible to use the CIMantic Graphs `.pprint(cim.ClassName)` method to print all instances of Substation and Feeder objects."
   ]
  },
  {
   "cell_type": "code",
   "execution_count": 11,
   "metadata": {},
   "outputs": [
    {
     "name": "stdout",
     "output_type": "stream",
     "text": [
      "{\n",
      "    \"1672f75d-4487-4270-8bbd-090aa2979db6\": {\n",
      "        \"mRID\": \"1672f75d-4487-4270-8bbd-090aa2979db6\",\n",
      "        \"name\": \"single_bus_sub\",\n",
      "        \"NormalEnergizedFeeder\": \"['ieee13nodeckt', 'ieee13nodecktassets']\"\n",
      "    }\n",
      "}\n",
      "{\n",
      "    \"49AD8E07-3BF9-A4E2-CB8F-C3722F837B62\": {\n",
      "        \"mRID\": \"49AD8E07-3BF9-A4E2-CB8F-C3722F837B62\",\n",
      "        \"name\": \"ieee13nodeckt\",\n",
      "        \"Location\": \"8E4E3C92-0B7A-4F74-8FD2-CC10F74E452F\",\n",
      "        \"ConnectivityNodes\": \"['673E896A-DCBF-4E43-9924-BEB31C5B6005', 'A8A25B50-3AE3-4A31-A18B-B3FA13397ED3', '421E99BE-A834-4809-B924-84D88F634A45', '2A6DC4DD-D3DC-434D-A187-D2C58A0A72C8', '7BEDDADD-0A14-429F-8601-9EA8B892CA6E', '63DFBEA0-CD06-4D2E-B956-DF9517BE057B', '30BE5988-DE57-4E0C-AB08-50D5A13D2C1B', '0124E881-B82D-4206-BBDF-37D585159872', 'C6256170-E6ED-4F91-8EBD-748090C3FDD5', '0A98A62D-7642-4F03-8317-A8605CBDBA37', '04984C4D-CC29-477A-9AF4-61AC7D74F16F', '0DCC57AF-F4FA-457D-BB24-2EFDA9865A1A', 'E5B2888B-B60D-4DA6-A4F7-17EB849D28B2', '6CB5E5CE-2CD0-40CC-A979-B4F9ED05E49B', '8E99F99D-FE8F-420B-AC49-0B52DF5362AB', 'DC889FA5-7B28-4273-A1D7-205BE3E0BFED', '94F822E0-7130-4205-8597-B47110BBEF4B', 'ADDB7A30-5A3C-4179-AF5D-5C9A7213B0E7', '8C58660F-C62C-4903-BE72-22F1255B1E62', '76D6D03C-967C-4E12-836D-A98DF3552BC7', '0F1E28C3-6C44-4F88-B79C-2FDBCA4487B2', 'DBFA8EFA-B397-40DA-9642-60E8DE4B3471']\",\n",
      "        \"Equipments\": \"['60B55036-DD71-40CE-ADDA-97B8CE7447DC', '52DE9189-20DC-4C73-BDEE-E960FE1F9493', '8E180773-2A9B-4136-BC9A-132A52C8E276', '259E820F-B4AF-4E1A-8271-687534EDAECC', '3FFFB3F7-A7AF-49E1-ACEE-449FC73D3CD6', 'ABF877D7-DAC2-4BF0-AB58-9A8A02E92EB3', '32F02D2B-EE6E-4D3F-8486-1B5CAEF70204', 'D34B0D01-B082-4081-A3CC-B68B9B8313A4', 'C39149DE-3451-4D33-B4C2-B1E6C6FC9AAB', 'A04CDFB1-E951-4FC4-8882-0323CD70AE3C', 'ABF53597-A808-422A-B7EE-552F24D83A5F', 'FBE26B35-13AB-457D-9795-DF58B28E309D', '45395C84-F20A-4F5A-977F-B80348256421', 'CE5D0651-676B-4AF3-8D67-41BF1B33E30C', '67B57539-590B-4158-9CBB-9DBA2FE6C1F0', 'A9E8758B-5486-4798-8FBA-9AE639ABFC38', '517413CB-6977-46FA-8911-C82332E42884', 'A9DE8829-58CB-4750-B2A2-672846A89753', '9CAAF741-BE1E-4893-8044-1E507B7DDC38', 'B21C5599-1D00-4FCF-904B-58D9D4CAC49A', 'B6363F07-B1BC-420B-AA4C-A34BB8F05827', '1E6B5C97-C4E8-4CED-B9A5-6E69F389DA93', 'E2E0FC64-8D45-4C55-BDB9-EAB827A46FBC', '4C04F838-62AA-475E-AEFA-A63B7C889C13', '7060D0BB-B30D-4932-8FA1-40820A0FC4D0', '8B452737-CA3D-4C10-A99D-6865506437C8', '7FF12CEF-1C4D-4CD2-8FCC-662530A7BA33', '44FC5A86-A099-45B8-B847-F685C5027AFB', '3B2021A7-4BFC-418D-9C20-BD6838E52CF8', 'D2E930A7-B136-4ACA-A996-8DB5C60AADF3', '1C6781A2-5B9D-4525-8A9B-F9B32C4C4AC0', '682AB7A9-4FBF-4204-BDE1-27EAB3425DA0', '8CA46F28-84C0-4FE2-B228-EC4080777865', '7B671984-4C56-4FF1-9733-B4B6FCA5F2AA', '9D725810-BFD6-44C6-961A-2BC027F6FC95', 'E503BBF8-3C82-4DF7-B6E9-2488ECFCC847', '47E52220-4596-4AF0-9724-0167B72A4DB8', '17A934C7-1510-481F-BAD7-189058957FF1', '91A37B4C-C38B-4269-8467-F40870934386', '0BBD0EA3-F665-465B-86FD-FC8B8466AD53', '8E34333C-2BB8-4631-B072-383F1CA38F60', '0BC9183A-9067-4E06-AA5B-48DC2AB30C80', '572BCFC9-E1D6-4419-9A33-EDD284806AF3', '2858B6C2-0886-4269-884C-06FA8B887319', 'CEC0FC3A-0FD1-4F1C-9C51-7D9BEF4D8222', '43EF8365-F932-409B-A51E-FBED3F6DFFAA', 'E26D83A0-D29D-41EF-9528-02C882FFCC0D', '70188FF4-04F0-48D2-8706-698D1FD086E6']\",\n",
      "        \"NormalEnergizingSubstation\": \"1672f75d-4487-4270-8bbd-090aa2979db6\"\n",
      "    },\n",
      "    \"5B816B93-7A5F-B64C-8460-47C17D6E4B0F\": {\n",
      "        \"mRID\": \"5B816B93-7A5F-B64C-8460-47C17D6E4B0F\",\n",
      "        \"name\": \"ieee13nodecktassets\",\n",
      "        \"Location\": \"E8CC2D43-FB22-4798-AA57-09F1CDB77C00\",\n",
      "        \"ConnectivityNodes\": \"['09A37A19-DF0E-48F3-92E9-10FA62A08120', 'E14BD0DF-466D-487B-8786-0D46515D1F9B', '7326FB57-9839-4AE6-9F3D-B5660C58A7BA', '04006A64-109D-499D-8496-1B55907C1570', 'DFA687CB-83D6-4FD0-8007-657A3E1819F6', 'CB29A4D1-EE08-4AAF-82F6-3C178009EBC0', '22B55260-79B0-4DF5-A070-AFEDAFA299D4', 'B7E4EF30-D95D-4C8E-829B-F75FB0FDBEAD', 'BDCA9F2B-81A8-4969-AE86-B9D5DC399F51', '4163D7DE-898A-4241-93E0-F3FC49F1F714', '249A3E8C-0128-4DE2-92EA-112B44080BF2', '348C3A23-B2F4-4101-9A6C-AF8DEF97DD4C', '3E259C63-39CC-4B6C-9C4A-1B29A5C83840', '560E1C31-EE5C-4BFD-A0B6-F4E8D60E2C76', '61D2A727-4D2E-45F9-8A94-C42B38FFF029', 'DC7FBBF3-1456-4B9C-8983-9E3D4FA9D95B']\",\n",
      "        \"Equipments\": \"['4774208A-B9AB-4051-8BC9-4F7C8EA6552A', '603106B5-1DC7-40B1-A264-98774F6FD16D', '6964DE20-CC96-473D-BB0F-73CD8ACAED2D', '928BCF3C-276A-4E74-A4AE-C3C79D624F5F', '2EB647F9-B8F8-4659-9D2D-3515563030EB', 'F229083B-D5FC-40F0-BFE0-9E92C8C69574', '819CA18E-54AA-42D5-B069-F1AC831D926E', 'C28BFD4B-C7D1-49AD-BAA6-E06CB0856A72', 'EF316EA5-74D3-4209-89EA-BF8FAAC2BAF6', '28456F60-7196-47E4-9BE6-54F7EAABC04A', 'F3D41D9D-9606-4277-A336-69D7048301AF', '6A7D7AF8-A0F7-41B6-BB0C-160EAE054DEA', '4FE57842-43D5-4EBB-8FF1-795E6FE1C507', '7E0E4F76-E0FD-4BB5-BB58-BC5B05A5A59A', '16861155-E2D2-4E9C-8FCA-50EA820E96D0', '46479235-D5D9-4CE8-9F7C-C78426691797', '6EBB2188-CBE1-4FEC-9406-83DE8E61F9CB', '6BC92BAB-B1C8-49C5-87B3-126BBCDC46D5', '73E02C20-7DB0-4825-84C1-E58DB8C296BF', '6DEF3353-8276-402F-AC8E-3DEF4A396FFE', '8A0CF414-3240-47D1-AB8F-998165BA092E', 'EBD2AE36-04A5-4EA9-836F-12F9D3CCB777', 'F841F05A-E047-491F-BF7B-C71283C653D6', '4E1B3F09-CB88-4A5E-8198-24490EE7FC58', '6ECF60CD-E1E5-4C59-8941-3EC0E9DF30DD', 'C9CB60C2-46E0-4FDC-B2A5-73318344E4C9', '173879C4-4FDB-4521-A60D-5B102B3781B2', '8C536493-14B8-41D0-8EE4-CAE4DFF33839', 'A98417B1-4A7F-484F-97C8-9B91F29A26F1', 'D186291A-2487-45AE-83C7-651C7C71D41E', 'BE3F4495-1AC4-4A36-A529-40A6A740F58C', '08848DC6-BB11-4647-9C21-475BAD66A8B8', 'E062E187-F149-4555-8E27-2EE0C9D75274', '958C1DE5-2FA9-4051-8827-8681C4E7AFF6', 'F20F52DF-B0B1-4615-B9D3-AC669CE18454', '34A04257-8486-40AC-BE74-4022F7D395E4', '8A62F620-7C58-4662-AE5C-F41F5E3F0022', '67A2574B-8146-464D-B93C-B9FCBCE913BC']\",\n",
      "        \"NormalEnergizingSubstation\": \"1672f75d-4487-4270-8bbd-090aa2979db6\"\n",
      "    }\n",
      "}\n"
     ]
    }
   ],
   "source": [
    "# Print substation data using names\n",
    "SubBuilder.network.pprint(cim.Substation, use_names = True)\n",
    "# Print feeder data\n",
    "SubBuilder.network.pprint(cim.Feeder)"
   ]
  },
  {
   "cell_type": "markdown",
   "metadata": {},
   "source": [
    "The CIMantic Graphs `utils` package can be used to save the substation to an XML file for further use. "
   ]
  },
  {
   "cell_type": "code",
   "execution_count": 12,
   "metadata": {},
   "outputs": [],
   "source": [
    "utils.write_xml(SubBuilder.network, '../test_output/single_bus.xml')"
   ]
  },
  {
   "cell_type": "markdown",
   "metadata": {},
   "source": [
    "The final verification that the substation has been created and can be successfully used with the network models Round-Trip Test: \n",
    "1) Delete all old models from the database\n",
    "2) Load the new substation and feeder CIM XML files\n",
    "3) Obtain all data for feeders contained by the subustation"
   ]
  },
  {
   "cell_type": "code",
   "execution_count": 13,
   "metadata": {},
   "outputs": [
    {
     "name": "stderr",
     "output_type": "stream",
     "text": [
      "/home/ande188/CIM-Builder/.venv/lib/python3.10/site-packages/SPARQLWrapper/Wrapper.py:1215: RuntimeWarning: unknown response content type 'text/html;charset=utf-8' returning raw response...\n",
      "  warnings.warn(\n"
     ]
    },
    {
     "data": {
      "text/plain": [
       "b'<!DOCTYPE HTML PUBLIC \"-//W3C//DTD HTML 4.01 Transitional//EN\" \"http://www.w3.org/TR/html4/loose.dtd\"><html><head><meta http-equiv=\"Content-Type\" content=\"text&#47;html;charset=UTF-8\"><title>blazegraph&trade; by SYSTAP</title\\n></head\\n><body<p>totalElapsed=306ms, elapsed=234ms, connFlush=0ms, batchResolve=0, whereClause=0ms, deleteClause=0ms, insertClause=0ms</p\\n><hr><p>COMMIT: totalElapsed=385ms, commitTime=1709690418951, mutationCount=6789</p\\n></html\\n>'"
      ]
     },
     "execution_count": 13,
     "metadata": {},
     "output_type": "execute_result"
    }
   ],
   "source": [
    "# Delete all CIM triples from database\n",
    "blazegraph.execute('drop all')"
   ]
  },
  {
   "cell_type": "code",
   "execution_count": 14,
   "metadata": {},
   "outputs": [
    {
     "name": "stdout",
     "output_type": "stream",
     "text": [
      "HTTP/1.1 100 Continue\n",
      "\n",
      "HTTP/1.1 200 OK\n",
      "Content-Type: application/xml;charset=iso-8859-1\n",
      "Content-Length: 63\n",
      "Server: Jetty(9.4.18.v20190429)\n",
      "\n",
      "<?xml version=\"1.0\"?><data modified=\"3392\" milliseconds=\"478\"/>HTTP/1.1 100 Continue\n",
      "\n",
      "HTTP/1.1 200 OK\n",
      "Content-Type: application/xml;charset=iso-8859-1\n",
      "Content-Length: 63\n",
      "Server: Jetty(9.4.18.v20190429)\n",
      "\n",
      "<?xml version=\"1.0\"?><data modified=\"2927\" milliseconds=\"140\"/>HTTP/1.1 100 Continue\n",
      "\n",
      "HTTP/1.1 200 OK\n",
      "Content-Type: application/xml;charset=iso-8859-1\n",
      "Content-Length: 61\n",
      "Server: Jetty(9.4.18.v20190429)\n",
      "\n",
      "<?xml version=\"1.0\"?><data modified=\"173\" milliseconds=\"47\"/>"
     ]
    }
   ],
   "source": [
    "# Upload new models into the database\n",
    "bg_loader.upload_from_file(filename='../test_models/IEEE13.xml')\n",
    "bg_loader.upload_from_file(filename='../test_models/IEEE13_Assets.xml')\n",
    "bg_loader.upload_from_file(filename='../test_output/single_bus.xml')"
   ]
  },
  {
   "cell_type": "markdown",
   "metadata": {},
   "source": [
    "To verify that all feeder data can be obtained, we create a new CIMantic Graphs model and then query for the classes Substation and Feeder. We can also obtain the total amount of aggregate load from both feeders that are served by the substation."
   ]
  },
  {
   "cell_type": "code",
   "execution_count": 15,
   "metadata": {},
   "outputs": [],
   "source": [
    "network = NodeBreakerModel(container=substation, connection=blazegraph)"
   ]
  },
  {
   "cell_type": "code",
   "execution_count": 16,
   "metadata": {},
   "outputs": [
    {
     "name": "stdout",
     "output_type": "stream",
     "text": [
      "{\n",
      "    \"1672f75d-4487-4270-8bbd-090aa2979db6\": {\n",
      "        \"mRID\": \"1672f75d-4487-4270-8bbd-090aa2979db6\",\n",
      "        \"name\": \"single_bus_sub\",\n",
      "        \"ConnectivityNodes\": \"['8948f0c1-8387-47fd-825e-9e1abb78e8c5', 'd27b70f9-80c4-4874-b32e-b6bee2f9c0c5', '4cabedb5-1154-4025-9ca5-2db23a824c10', '601add86-558f-4c2a-a0e3-5c687a55490e', '675230a7-48b0-44ec-bdcb-1e41ffe7be0b']\",\n",
      "        \"Equipments\": \"['87d04109-9826-4443-9e33-dc283abb4216', '87db4e0a-50ab-41a2-90c9-594a595d3745', '8bfd2c69-f830-4059-a21c-86ae10fd76d6', 'bc177e50-f2f3-446e-8073-2f331f4c579c', 'bf9669e7-862c-4452-9531-849f4ce485fa', 'f9645444-5ab9-40c2-9eaf-bc8965789925', '609c0f5d-bf47-4673-acf8-dbaee4f891c0']\",\n",
      "        \"NormalEnergizedFeeder\": \"['49AD8E07-3BF9-A4E2-CB8F-C3722F837B62', '5B816B93-7A5F-B64C-8460-47C17D6E4B0F']\"\n",
      "    }\n",
      "}\n"
     ]
    }
   ],
   "source": [
    "# Print substation info\n",
    "network.get_all_edges(cim.Substation)\n",
    "network.pprint(cim.Substation)"
   ]
  },
  {
   "cell_type": "code",
   "execution_count": 17,
   "metadata": {},
   "outputs": [
    {
     "name": "stdout",
     "output_type": "stream",
     "text": [
      "{\n",
      "    \"49AD8E07-3BF9-A4E2-CB8F-C3722F837B62\": {\n",
      "        \"mRID\": \"49AD8E07-3BF9-A4E2-CB8F-C3722F837B62\",\n",
      "        \"name\": \"ieee13nodeckt\",\n",
      "        \"Location\": \"8E4E3C92-0B7A-4F74-8FD2-CC10F74E452F\",\n",
      "        \"ConnectivityNodes\": \"['673E896A-DCBF-4E43-9924-BEB31C5B6005', 'A8A25B50-3AE3-4A31-A18B-B3FA13397ED3', '421E99BE-A834-4809-B924-84D88F634A45', '2A6DC4DD-D3DC-434D-A187-D2C58A0A72C8', '7BEDDADD-0A14-429F-8601-9EA8B892CA6E', '63DFBEA0-CD06-4D2E-B956-DF9517BE057B', '30BE5988-DE57-4E0C-AB08-50D5A13D2C1B', '0124E881-B82D-4206-BBDF-37D585159872', 'C6256170-E6ED-4F91-8EBD-748090C3FDD5', '0A98A62D-7642-4F03-8317-A8605CBDBA37', '04984C4D-CC29-477A-9AF4-61AC7D74F16F', '0DCC57AF-F4FA-457D-BB24-2EFDA9865A1A', 'E5B2888B-B60D-4DA6-A4F7-17EB849D28B2', '6CB5E5CE-2CD0-40CC-A979-B4F9ED05E49B', '8E99F99D-FE8F-420B-AC49-0B52DF5362AB', 'DC889FA5-7B28-4273-A1D7-205BE3E0BFED', '94F822E0-7130-4205-8597-B47110BBEF4B', 'ADDB7A30-5A3C-4179-AF5D-5C9A7213B0E7', '8C58660F-C62C-4903-BE72-22F1255B1E62', '76D6D03C-967C-4E12-836D-A98DF3552BC7', '0F1E28C3-6C44-4F88-B79C-2FDBCA4487B2', 'DBFA8EFA-B397-40DA-9642-60E8DE4B3471']\",\n",
      "        \"Equipments\": \"['60B55036-DD71-40CE-ADDA-97B8CE7447DC', '52DE9189-20DC-4C73-BDEE-E960FE1F9493', '8E180773-2A9B-4136-BC9A-132A52C8E276', '259E820F-B4AF-4E1A-8271-687534EDAECC', '3FFFB3F7-A7AF-49E1-ACEE-449FC73D3CD6', 'ABF877D7-DAC2-4BF0-AB58-9A8A02E92EB3', '32F02D2B-EE6E-4D3F-8486-1B5CAEF70204', 'D34B0D01-B082-4081-A3CC-B68B9B8313A4', 'C39149DE-3451-4D33-B4C2-B1E6C6FC9AAB', 'A04CDFB1-E951-4FC4-8882-0323CD70AE3C', 'ABF53597-A808-422A-B7EE-552F24D83A5F', 'FBE26B35-13AB-457D-9795-DF58B28E309D', '45395C84-F20A-4F5A-977F-B80348256421', 'CE5D0651-676B-4AF3-8D67-41BF1B33E30C', '67B57539-590B-4158-9CBB-9DBA2FE6C1F0', 'A9E8758B-5486-4798-8FBA-9AE639ABFC38', '517413CB-6977-46FA-8911-C82332E42884', 'A9DE8829-58CB-4750-B2A2-672846A89753', '9CAAF741-BE1E-4893-8044-1E507B7DDC38', 'B21C5599-1D00-4FCF-904B-58D9D4CAC49A', 'B6363F07-B1BC-420B-AA4C-A34BB8F05827', '1E6B5C97-C4E8-4CED-B9A5-6E69F389DA93', 'E2E0FC64-8D45-4C55-BDB9-EAB827A46FBC', '4C04F838-62AA-475E-AEFA-A63B7C889C13', '7060D0BB-B30D-4932-8FA1-40820A0FC4D0', '8B452737-CA3D-4C10-A99D-6865506437C8', '7FF12CEF-1C4D-4CD2-8FCC-662530A7BA33', '44FC5A86-A099-45B8-B847-F685C5027AFB', '3B2021A7-4BFC-418D-9C20-BD6838E52CF8', 'D2E930A7-B136-4ACA-A996-8DB5C60AADF3', '1C6781A2-5B9D-4525-8A9B-F9B32C4C4AC0', '682AB7A9-4FBF-4204-BDE1-27EAB3425DA0', '8CA46F28-84C0-4FE2-B228-EC4080777865', '7B671984-4C56-4FF1-9733-B4B6FCA5F2AA', '9D725810-BFD6-44C6-961A-2BC027F6FC95', 'E503BBF8-3C82-4DF7-B6E9-2488ECFCC847', '47E52220-4596-4AF0-9724-0167B72A4DB8', '17A934C7-1510-481F-BAD7-189058957FF1', '91A37B4C-C38B-4269-8467-F40870934386', '0BBD0EA3-F665-465B-86FD-FC8B8466AD53', '8E34333C-2BB8-4631-B072-383F1CA38F60', '0BC9183A-9067-4E06-AA5B-48DC2AB30C80', '572BCFC9-E1D6-4419-9A33-EDD284806AF3', '2858B6C2-0886-4269-884C-06FA8B887319', 'CEC0FC3A-0FD1-4F1C-9C51-7D9BEF4D8222', '43EF8365-F932-409B-A51E-FBED3F6DFFAA', 'E26D83A0-D29D-41EF-9528-02C882FFCC0D', '70188FF4-04F0-48D2-8706-698D1FD086E6']\",\n",
      "        \"NormalEnergizingSubstation\": \"6C62C905-6FC7-653D-9F1E-1340F974A587\"\n",
      "    },\n",
      "    \"5B816B93-7A5F-B64C-8460-47C17D6E4B0F\": {\n",
      "        \"mRID\": \"5B816B93-7A5F-B64C-8460-47C17D6E4B0F\",\n",
      "        \"name\": \"ieee13nodecktassets\",\n",
      "        \"Location\": \"E8CC2D43-FB22-4798-AA57-09F1CDB77C00\",\n",
      "        \"ConnectivityNodes\": \"['09A37A19-DF0E-48F3-92E9-10FA62A08120', 'E14BD0DF-466D-487B-8786-0D46515D1F9B', '7326FB57-9839-4AE6-9F3D-B5660C58A7BA', '04006A64-109D-499D-8496-1B55907C1570', 'DFA687CB-83D6-4FD0-8007-657A3E1819F6', 'CB29A4D1-EE08-4AAF-82F6-3C178009EBC0', '22B55260-79B0-4DF5-A070-AFEDAFA299D4', 'B7E4EF30-D95D-4C8E-829B-F75FB0FDBEAD', 'BDCA9F2B-81A8-4969-AE86-B9D5DC399F51', '4163D7DE-898A-4241-93E0-F3FC49F1F714', '249A3E8C-0128-4DE2-92EA-112B44080BF2', '348C3A23-B2F4-4101-9A6C-AF8DEF97DD4C', '3E259C63-39CC-4B6C-9C4A-1B29A5C83840', '560E1C31-EE5C-4BFD-A0B6-F4E8D60E2C76', '61D2A727-4D2E-45F9-8A94-C42B38FFF029', 'DC7FBBF3-1456-4B9C-8983-9E3D4FA9D95B']\",\n",
      "        \"Equipments\": \"['4774208A-B9AB-4051-8BC9-4F7C8EA6552A', '603106B5-1DC7-40B1-A264-98774F6FD16D', '6964DE20-CC96-473D-BB0F-73CD8ACAED2D', '928BCF3C-276A-4E74-A4AE-C3C79D624F5F', '2EB647F9-B8F8-4659-9D2D-3515563030EB', 'F229083B-D5FC-40F0-BFE0-9E92C8C69574', '819CA18E-54AA-42D5-B069-F1AC831D926E', 'C28BFD4B-C7D1-49AD-BAA6-E06CB0856A72', 'EF316EA5-74D3-4209-89EA-BF8FAAC2BAF6', '28456F60-7196-47E4-9BE6-54F7EAABC04A', 'F3D41D9D-9606-4277-A336-69D7048301AF', '6A7D7AF8-A0F7-41B6-BB0C-160EAE054DEA', '4FE57842-43D5-4EBB-8FF1-795E6FE1C507', '7E0E4F76-E0FD-4BB5-BB58-BC5B05A5A59A', '16861155-E2D2-4E9C-8FCA-50EA820E96D0', '46479235-D5D9-4CE8-9F7C-C78426691797', '6EBB2188-CBE1-4FEC-9406-83DE8E61F9CB', '6BC92BAB-B1C8-49C5-87B3-126BBCDC46D5', '73E02C20-7DB0-4825-84C1-E58DB8C296BF', '6DEF3353-8276-402F-AC8E-3DEF4A396FFE', '8A0CF414-3240-47D1-AB8F-998165BA092E', 'EBD2AE36-04A5-4EA9-836F-12F9D3CCB777', 'F841F05A-E047-491F-BF7B-C71283C653D6', '4E1B3F09-CB88-4A5E-8198-24490EE7FC58', '6ECF60CD-E1E5-4C59-8941-3EC0E9DF30DD', 'C9CB60C2-46E0-4FDC-B2A5-73318344E4C9', '173879C4-4FDB-4521-A60D-5B102B3781B2', '8C536493-14B8-41D0-8EE4-CAE4DFF33839', 'A98417B1-4A7F-484F-97C8-9B91F29A26F1', 'D186291A-2487-45AE-83C7-651C7C71D41E', 'BE3F4495-1AC4-4A36-A529-40A6A740F58C', '08848DC6-BB11-4647-9C21-475BAD66A8B8', 'E062E187-F149-4555-8E27-2EE0C9D75274', '958C1DE5-2FA9-4051-8827-8681C4E7AFF6', 'F20F52DF-B0B1-4615-B9D3-AC669CE18454', '34A04257-8486-40AC-BE74-4022F7D395E4', '8A62F620-7C58-4662-AE5C-F41F5E3F0022', '67A2574B-8146-464D-B93C-B9FCBCE913BC']\",\n",
      "        \"NormalEnergizingSubstation\": \"6C62C905-6FC7-653D-9F1E-1340F974A587\"\n",
      "    }\n",
      "}\n"
     ]
    }
   ],
   "source": [
    "# Print feeder info\n",
    "network.get_all_edges(cim.Feeder)\n",
    "network.pprint(cim.Feeder)"
   ]
  },
  {
   "cell_type": "code",
   "execution_count": 18,
   "metadata": {},
   "outputs": [
    {
     "name": "stdout",
     "output_type": "stream",
     "text": [
      "total load is 6937.0 kW\n"
     ]
    }
   ],
   "source": [
    "# Print total load served by substation from both feeders\n",
    "total_load = 0\n",
    "network.get_all_edges(cim.EnergyConsumer)\n",
    "for load in network.graph[cim.EnergyConsumer].values():\n",
    "    total_load = total_load + float(load.p)\n",
    "\n",
    "print(f'total load is {total_load/1000} kW')"
   ]
  },
  {
   "cell_type": "markdown",
   "metadata": {},
   "source": [
    "As part of the round-trip test, it is also possible to merge the substation and both feeders into a single XML file "
   ]
  },
  {
   "cell_type": "code",
   "execution_count": 19,
   "metadata": {},
   "outputs": [],
   "source": [
    "utils.get_all_data(network)\n",
    "utils.write_xml(network, '../test_output/single_bus_and_feeders.xml')"
   ]
  },
  {
   "cell_type": "code",
   "execution_count": null,
   "metadata": {},
   "outputs": [],
   "source": []
  },
  {
   "cell_type": "code",
   "execution_count": null,
   "metadata": {},
   "outputs": [],
   "source": []
  },
  {
   "cell_type": "markdown",
   "metadata": {},
   "source": [
    "### Create New Sectionalized-Bus Substation"
   ]
  },
  {
   "cell_type": "markdown",
   "metadata": {},
   "source": [
    "To create a new Sectionalized-Bus substation, we import the associated class from the `substation_builder` module in CIM-Builder:"
   ]
  },
  {
   "cell_type": "code",
   "execution_count": 20,
   "metadata": {},
   "outputs": [],
   "source": [
    "from cimbuilder.substation_builder import SectionalizedBusSubstation"
   ]
  },
  {
   "cell_type": "markdown",
   "metadata": {},
   "source": [
    "To create a new substation, the class is instantiated with the name of the substation and base voltage. If the substation is not being added to an existing network, a new `DistributedArea` will be created to contain the substation. The total number of bus sections is specified by `total_sections` with a default value of two bus sections."
   ]
  },
  {
   "cell_type": "code",
   "execution_count": 21,
   "metadata": {},
   "outputs": [],
   "source": [
    "SubBuilder = SectionalizedBusSubstation(connection=connection,\n",
    "                                        name=\"sectionalized_sub\", \n",
    "                                        base_voltage = 115000,\n",
    "                                        total_sections = 2)\n",
    "substation = SubBuilder.substation"
   ]
  },
  {
   "cell_type": "markdown",
   "metadata": {},
   "source": [
    "To add a feeder to the new substation, the `.new_feeder()` method is called. The `section_number` is used to identify the bus section to which the feeder should be connected. The arguments `feeder` and `feeder_network` are used for the CIM feeder object and the CIMantic Graphs network model.\n",
    "\n",
    "The function call below will automatically insert the IEEE 13 and IEEE 13 Assets feeders into the new substation:"
   ]
  },
  {
   "cell_type": "code",
   "execution_count": 22,
   "metadata": {},
   "outputs": [],
   "source": [
    "SubBuilder.new_feeder(section_number = 1, feeder=ieee13_feeder,\n",
    "                       feeder_network=ieee13_network)\n",
    "SubBuilder.new_feeder(section_number = 2, feeder=assets13_feeder,\n",
    "                      feeder_network=assets13_network)"
   ]
  },
  {
   "cell_type": "markdown",
   "metadata": {},
   "source": [
    "To check whether the feeders have been added successfully, it is possible to use the CIMantic Graphs `.pprint(cim.ClassName)` method to print all instances of Substation and Feeder objects."
   ]
  },
  {
   "cell_type": "code",
   "execution_count": 23,
   "metadata": {},
   "outputs": [
    {
     "name": "stdout",
     "output_type": "stream",
     "text": [
      "{\n",
      "    \"28cfce9c-3568-465a-913b-029437bc7147\": {\n",
      "        \"mRID\": \"28cfce9c-3568-465a-913b-029437bc7147\",\n",
      "        \"name\": \"sectionalized_sub\",\n",
      "        \"NormalEnergizedFeeder\": \"['ieee13nodeckt', 'ieee13nodecktassets']\"\n",
      "    }\n",
      "}\n",
      "{\n",
      "    \"49AD8E07-3BF9-A4E2-CB8F-C3722F837B62\": {\n",
      "        \"mRID\": \"49AD8E07-3BF9-A4E2-CB8F-C3722F837B62\",\n",
      "        \"name\": \"ieee13nodeckt\",\n",
      "        \"Location\": \"8E4E3C92-0B7A-4F74-8FD2-CC10F74E452F\",\n",
      "        \"ConnectivityNodes\": \"['673E896A-DCBF-4E43-9924-BEB31C5B6005', 'A8A25B50-3AE3-4A31-A18B-B3FA13397ED3', '421E99BE-A834-4809-B924-84D88F634A45', '2A6DC4DD-D3DC-434D-A187-D2C58A0A72C8', '7BEDDADD-0A14-429F-8601-9EA8B892CA6E', '63DFBEA0-CD06-4D2E-B956-DF9517BE057B', '30BE5988-DE57-4E0C-AB08-50D5A13D2C1B', '0124E881-B82D-4206-BBDF-37D585159872', 'C6256170-E6ED-4F91-8EBD-748090C3FDD5', '0A98A62D-7642-4F03-8317-A8605CBDBA37', '04984C4D-CC29-477A-9AF4-61AC7D74F16F', '0DCC57AF-F4FA-457D-BB24-2EFDA9865A1A', 'E5B2888B-B60D-4DA6-A4F7-17EB849D28B2', '6CB5E5CE-2CD0-40CC-A979-B4F9ED05E49B', '8E99F99D-FE8F-420B-AC49-0B52DF5362AB', 'DC889FA5-7B28-4273-A1D7-205BE3E0BFED', '94F822E0-7130-4205-8597-B47110BBEF4B', 'ADDB7A30-5A3C-4179-AF5D-5C9A7213B0E7', '8C58660F-C62C-4903-BE72-22F1255B1E62', '76D6D03C-967C-4E12-836D-A98DF3552BC7', '0F1E28C3-6C44-4F88-B79C-2FDBCA4487B2', 'DBFA8EFA-B397-40DA-9642-60E8DE4B3471']\",\n",
      "        \"Equipments\": \"['60B55036-DD71-40CE-ADDA-97B8CE7447DC', '52DE9189-20DC-4C73-BDEE-E960FE1F9493', '8E180773-2A9B-4136-BC9A-132A52C8E276', '259E820F-B4AF-4E1A-8271-687534EDAECC', '3FFFB3F7-A7AF-49E1-ACEE-449FC73D3CD6', 'ABF877D7-DAC2-4BF0-AB58-9A8A02E92EB3', '32F02D2B-EE6E-4D3F-8486-1B5CAEF70204', 'D34B0D01-B082-4081-A3CC-B68B9B8313A4', 'C39149DE-3451-4D33-B4C2-B1E6C6FC9AAB', 'A04CDFB1-E951-4FC4-8882-0323CD70AE3C', 'ABF53597-A808-422A-B7EE-552F24D83A5F', 'FBE26B35-13AB-457D-9795-DF58B28E309D', '45395C84-F20A-4F5A-977F-B80348256421', 'CE5D0651-676B-4AF3-8D67-41BF1B33E30C', '67B57539-590B-4158-9CBB-9DBA2FE6C1F0', 'A9E8758B-5486-4798-8FBA-9AE639ABFC38', '517413CB-6977-46FA-8911-C82332E42884', 'A9DE8829-58CB-4750-B2A2-672846A89753', '9CAAF741-BE1E-4893-8044-1E507B7DDC38', 'B21C5599-1D00-4FCF-904B-58D9D4CAC49A', 'B6363F07-B1BC-420B-AA4C-A34BB8F05827', '1E6B5C97-C4E8-4CED-B9A5-6E69F389DA93', 'E2E0FC64-8D45-4C55-BDB9-EAB827A46FBC', '4C04F838-62AA-475E-AEFA-A63B7C889C13', '7060D0BB-B30D-4932-8FA1-40820A0FC4D0', '8B452737-CA3D-4C10-A99D-6865506437C8', '7FF12CEF-1C4D-4CD2-8FCC-662530A7BA33', '44FC5A86-A099-45B8-B847-F685C5027AFB', '3B2021A7-4BFC-418D-9C20-BD6838E52CF8', 'D2E930A7-B136-4ACA-A996-8DB5C60AADF3', '1C6781A2-5B9D-4525-8A9B-F9B32C4C4AC0', '682AB7A9-4FBF-4204-BDE1-27EAB3425DA0', '8CA46F28-84C0-4FE2-B228-EC4080777865', '7B671984-4C56-4FF1-9733-B4B6FCA5F2AA', '9D725810-BFD6-44C6-961A-2BC027F6FC95', 'E503BBF8-3C82-4DF7-B6E9-2488ECFCC847', '47E52220-4596-4AF0-9724-0167B72A4DB8', '17A934C7-1510-481F-BAD7-189058957FF1', '91A37B4C-C38B-4269-8467-F40870934386', '0BBD0EA3-F665-465B-86FD-FC8B8466AD53', '8E34333C-2BB8-4631-B072-383F1CA38F60', '0BC9183A-9067-4E06-AA5B-48DC2AB30C80', '572BCFC9-E1D6-4419-9A33-EDD284806AF3', '2858B6C2-0886-4269-884C-06FA8B887319', 'CEC0FC3A-0FD1-4F1C-9C51-7D9BEF4D8222', '43EF8365-F932-409B-A51E-FBED3F6DFFAA', 'E26D83A0-D29D-41EF-9528-02C882FFCC0D', '70188FF4-04F0-48D2-8706-698D1FD086E6']\",\n",
      "        \"NormalEnergizingSubstation\": \"28cfce9c-3568-465a-913b-029437bc7147\"\n",
      "    },\n",
      "    \"5B816B93-7A5F-B64C-8460-47C17D6E4B0F\": {\n",
      "        \"mRID\": \"5B816B93-7A5F-B64C-8460-47C17D6E4B0F\",\n",
      "        \"name\": \"ieee13nodecktassets\",\n",
      "        \"Location\": \"E8CC2D43-FB22-4798-AA57-09F1CDB77C00\",\n",
      "        \"ConnectivityNodes\": \"['09A37A19-DF0E-48F3-92E9-10FA62A08120', 'E14BD0DF-466D-487B-8786-0D46515D1F9B', '7326FB57-9839-4AE6-9F3D-B5660C58A7BA', '04006A64-109D-499D-8496-1B55907C1570', 'DFA687CB-83D6-4FD0-8007-657A3E1819F6', 'CB29A4D1-EE08-4AAF-82F6-3C178009EBC0', '22B55260-79B0-4DF5-A070-AFEDAFA299D4', 'B7E4EF30-D95D-4C8E-829B-F75FB0FDBEAD', 'BDCA9F2B-81A8-4969-AE86-B9D5DC399F51', '4163D7DE-898A-4241-93E0-F3FC49F1F714', '249A3E8C-0128-4DE2-92EA-112B44080BF2', '348C3A23-B2F4-4101-9A6C-AF8DEF97DD4C', '3E259C63-39CC-4B6C-9C4A-1B29A5C83840', '560E1C31-EE5C-4BFD-A0B6-F4E8D60E2C76', '61D2A727-4D2E-45F9-8A94-C42B38FFF029', 'DC7FBBF3-1456-4B9C-8983-9E3D4FA9D95B']\",\n",
      "        \"Equipments\": \"['4774208A-B9AB-4051-8BC9-4F7C8EA6552A', '603106B5-1DC7-40B1-A264-98774F6FD16D', '6964DE20-CC96-473D-BB0F-73CD8ACAED2D', '928BCF3C-276A-4E74-A4AE-C3C79D624F5F', '2EB647F9-B8F8-4659-9D2D-3515563030EB', 'F229083B-D5FC-40F0-BFE0-9E92C8C69574', '819CA18E-54AA-42D5-B069-F1AC831D926E', 'C28BFD4B-C7D1-49AD-BAA6-E06CB0856A72', 'EF316EA5-74D3-4209-89EA-BF8FAAC2BAF6', '28456F60-7196-47E4-9BE6-54F7EAABC04A', 'F3D41D9D-9606-4277-A336-69D7048301AF', '6A7D7AF8-A0F7-41B6-BB0C-160EAE054DEA', '4FE57842-43D5-4EBB-8FF1-795E6FE1C507', '7E0E4F76-E0FD-4BB5-BB58-BC5B05A5A59A', '16861155-E2D2-4E9C-8FCA-50EA820E96D0', '46479235-D5D9-4CE8-9F7C-C78426691797', '6EBB2188-CBE1-4FEC-9406-83DE8E61F9CB', '6BC92BAB-B1C8-49C5-87B3-126BBCDC46D5', '73E02C20-7DB0-4825-84C1-E58DB8C296BF', '6DEF3353-8276-402F-AC8E-3DEF4A396FFE', '8A0CF414-3240-47D1-AB8F-998165BA092E', 'EBD2AE36-04A5-4EA9-836F-12F9D3CCB777', 'F841F05A-E047-491F-BF7B-C71283C653D6', '4E1B3F09-CB88-4A5E-8198-24490EE7FC58', '6ECF60CD-E1E5-4C59-8941-3EC0E9DF30DD', 'C9CB60C2-46E0-4FDC-B2A5-73318344E4C9', '173879C4-4FDB-4521-A60D-5B102B3781B2', '8C536493-14B8-41D0-8EE4-CAE4DFF33839', 'A98417B1-4A7F-484F-97C8-9B91F29A26F1', 'D186291A-2487-45AE-83C7-651C7C71D41E', 'BE3F4495-1AC4-4A36-A529-40A6A740F58C', '08848DC6-BB11-4647-9C21-475BAD66A8B8', 'E062E187-F149-4555-8E27-2EE0C9D75274', '958C1DE5-2FA9-4051-8827-8681C4E7AFF6', 'F20F52DF-B0B1-4615-B9D3-AC669CE18454', '34A04257-8486-40AC-BE74-4022F7D395E4', '8A62F620-7C58-4662-AE5C-F41F5E3F0022', '67A2574B-8146-464D-B93C-B9FCBCE913BC']\",\n",
      "        \"NormalEnergizingSubstation\": \"28cfce9c-3568-465a-913b-029437bc7147\"\n",
      "    }\n",
      "}\n"
     ]
    }
   ],
   "source": [
    "# Print substation data using names\n",
    "SubBuilder.network.pprint(cim.Substation, use_names = True)\n",
    "# Print feeder data\n",
    "SubBuilder.network.pprint(cim.Feeder)"
   ]
  },
  {
   "cell_type": "markdown",
   "metadata": {},
   "source": [
    "The CIMantic Graphs `utils` package can be used to save the substation to an XML file for further use. "
   ]
  },
  {
   "cell_type": "code",
   "execution_count": 24,
   "metadata": {},
   "outputs": [],
   "source": [
    "utils.write_xml(SubBuilder.network, '../test_output/sectionalized.xml')"
   ]
  },
  {
   "cell_type": "markdown",
   "metadata": {},
   "source": [
    "The final verification that the substation has been created and can be successfully used with the network models Round-Trip Test: \n",
    "1) Delete all old models from the database\n",
    "2) Load the new substation and feeder CIM XML files\n",
    "3) Obtain all data for feeders contained by the subustation"
   ]
  },
  {
   "cell_type": "code",
   "execution_count": 25,
   "metadata": {},
   "outputs": [
    {
     "name": "stderr",
     "output_type": "stream",
     "text": [
      "/home/ande188/CIM-Builder/.venv/lib/python3.10/site-packages/SPARQLWrapper/Wrapper.py:1215: RuntimeWarning: unknown response content type 'text/html;charset=utf-8' returning raw response...\n",
      "  warnings.warn(\n"
     ]
    },
    {
     "data": {
      "text/plain": [
       "b'<!DOCTYPE HTML PUBLIC \"-//W3C//DTD HTML 4.01 Transitional//EN\" \"http://www.w3.org/TR/html4/loose.dtd\"><html><head><meta http-equiv=\"Content-Type\" content=\"text&#47;html;charset=UTF-8\"><title>blazegraph&trade; by SYSTAP</title\\n></head\\n><body<p>totalElapsed=39ms, elapsed=38ms, connFlush=0ms, batchResolve=0, whereClause=0ms, deleteClause=0ms, insertClause=0ms</p\\n><hr><p>COMMIT: totalElapsed=48ms, commitTime=1709690424642, mutationCount=6461</p\\n></html\\n>'"
      ]
     },
     "execution_count": 25,
     "metadata": {},
     "output_type": "execute_result"
    }
   ],
   "source": [
    "# Delete all CIM triples from database\n",
    "blazegraph.execute('drop all')"
   ]
  },
  {
   "cell_type": "code",
   "execution_count": 26,
   "metadata": {},
   "outputs": [
    {
     "name": "stdout",
     "output_type": "stream",
     "text": [
      "HTTP/1.1 100 Continue\n",
      "\n",
      "HTTP/1.1 200 OK\n",
      "Content-Type: application/xml;charset=iso-8859-1\n",
      "Content-Length: 62\n",
      "Server: Jetty(9.4.18.v20190429)\n",
      "\n",
      "<?xml version=\"1.0\"?><data modified=\"3392\" milliseconds=\"56\"/>HTTP/1.1 100 Continue\n",
      "\n",
      "HTTP/1.1 200 OK\n",
      "Content-Type: application/xml;charset=iso-8859-1\n",
      "Content-Length: 62\n",
      "Server: Jetty(9.4.18.v20190429)\n",
      "\n",
      "<?xml version=\"1.0\"?><data modified=\"2927\" milliseconds=\"75\"/>HTTP/1.1 100 Continue\n",
      "\n",
      "HTTP/1.1 200 OK\n",
      "Content-Type: application/xml;charset=iso-8859-1\n",
      "Content-Length: 61\n",
      "Server: Jetty(9.4.18.v20190429)\n",
      "\n",
      "<?xml version=\"1.0\"?><data modified=\"252\" milliseconds=\"45\"/>"
     ]
    }
   ],
   "source": [
    "# Upload new models into the database\n",
    "bg_loader.upload_from_file(filename='../test_models/IEEE13.xml')\n",
    "bg_loader.upload_from_file(filename='../test_models/IEEE13_Assets.xml')\n",
    "bg_loader.upload_from_file(filename='../test_output/sectionalized.xml')"
   ]
  },
  {
   "cell_type": "markdown",
   "metadata": {},
   "source": [
    "To verify that all feeder data can be obtained, we create a new CIMantic Graphs model and then query for the classes Substation and Feeder. We can also obtain the total amount of aggregate load from both feeders that are served by the substation."
   ]
  },
  {
   "cell_type": "code",
   "execution_count": 27,
   "metadata": {},
   "outputs": [],
   "source": [
    "network = NodeBreakerModel(container=substation, connection=blazegraph, distributed = False)"
   ]
  },
  {
   "cell_type": "code",
   "execution_count": 28,
   "metadata": {},
   "outputs": [
    {
     "name": "stdout",
     "output_type": "stream",
     "text": [
      "{\n",
      "    \"28cfce9c-3568-465a-913b-029437bc7147\": {\n",
      "        \"mRID\": \"28cfce9c-3568-465a-913b-029437bc7147\",\n",
      "        \"name\": \"sectionalized_sub\",\n",
      "        \"ConnectivityNodes\": \"['d368f54a-29c3-4304-acf0-6cf92cff3538', 'ef68d6a2-723f-4f4f-b20d-1f883cb7f900', '1ecb430c-2383-4ba8-a0f2-9fcb7edb128f', '29479bd1-99e6-4bb7-9e4d-1a2414ded66c', '40131e52-8338-4a53-932e-7975fd544ba3', '4e7cf8a1-f53b-41ce-9ec4-2872a0e715cb', '664ef03a-ddd7-408b-92f4-ee1cc91d7f28', '6c0a1c47-e242-45ce-a7c6-21795dcd5536']\",\n",
      "        \"Equipments\": \"['c1258bdf-c6a1-4ef2-bb93-5091c93346ba', 'e22531ed-ef7e-4282-a560-ceeeb208afb2', 'eb9d6435-caa3-4e04-b48b-541ffd6fa4cb', '242877d8-bdd3-4731-89d5-8b1c80568b19', '2779aa15-e896-413a-85ac-9b204a77e8b4', '42ede277-14b0-48eb-b228-8bb1f4628e5b', '53859b2e-16ea-494a-a0ba-16edb0796a25', '6b625e97-ef49-42bc-90e4-4b9bd5ed0718', '7013c0dd-19aa-4562-9094-f243e2c56fef', '7541450d-b429-462c-b1da-0a235718d1d2', '791065e5-6c37-4d0d-882f-20c45a0b330b']\",\n",
      "        \"NormalEnergizedFeeder\": \"['49AD8E07-3BF9-A4E2-CB8F-C3722F837B62', '5B816B93-7A5F-B64C-8460-47C17D6E4B0F']\"\n",
      "    }\n",
      "}\n"
     ]
    }
   ],
   "source": [
    "# Print substation info\n",
    "network.get_all_edges(cim.Substation)\n",
    "network.pprint(cim.Substation)"
   ]
  },
  {
   "cell_type": "code",
   "execution_count": 29,
   "metadata": {},
   "outputs": [
    {
     "name": "stdout",
     "output_type": "stream",
     "text": [
      "{\n",
      "    \"49AD8E07-3BF9-A4E2-CB8F-C3722F837B62\": {\n",
      "        \"mRID\": \"49AD8E07-3BF9-A4E2-CB8F-C3722F837B62\",\n",
      "        \"name\": \"ieee13nodeckt\",\n",
      "        \"Location\": \"8E4E3C92-0B7A-4F74-8FD2-CC10F74E452F\",\n",
      "        \"ConnectivityNodes\": \"['673E896A-DCBF-4E43-9924-BEB31C5B6005', 'A8A25B50-3AE3-4A31-A18B-B3FA13397ED3', '421E99BE-A834-4809-B924-84D88F634A45', '2A6DC4DD-D3DC-434D-A187-D2C58A0A72C8', '7BEDDADD-0A14-429F-8601-9EA8B892CA6E', '63DFBEA0-CD06-4D2E-B956-DF9517BE057B', '30BE5988-DE57-4E0C-AB08-50D5A13D2C1B', '0124E881-B82D-4206-BBDF-37D585159872', 'C6256170-E6ED-4F91-8EBD-748090C3FDD5', '0A98A62D-7642-4F03-8317-A8605CBDBA37', '04984C4D-CC29-477A-9AF4-61AC7D74F16F', '0DCC57AF-F4FA-457D-BB24-2EFDA9865A1A', 'E5B2888B-B60D-4DA6-A4F7-17EB849D28B2', '6CB5E5CE-2CD0-40CC-A979-B4F9ED05E49B', '8E99F99D-FE8F-420B-AC49-0B52DF5362AB', 'DC889FA5-7B28-4273-A1D7-205BE3E0BFED', '94F822E0-7130-4205-8597-B47110BBEF4B', 'ADDB7A30-5A3C-4179-AF5D-5C9A7213B0E7', '8C58660F-C62C-4903-BE72-22F1255B1E62', '76D6D03C-967C-4E12-836D-A98DF3552BC7', '0F1E28C3-6C44-4F88-B79C-2FDBCA4487B2', 'DBFA8EFA-B397-40DA-9642-60E8DE4B3471']\",\n",
      "        \"Equipments\": \"['60B55036-DD71-40CE-ADDA-97B8CE7447DC', '52DE9189-20DC-4C73-BDEE-E960FE1F9493', '8E180773-2A9B-4136-BC9A-132A52C8E276', '259E820F-B4AF-4E1A-8271-687534EDAECC', '3FFFB3F7-A7AF-49E1-ACEE-449FC73D3CD6', 'ABF877D7-DAC2-4BF0-AB58-9A8A02E92EB3', '32F02D2B-EE6E-4D3F-8486-1B5CAEF70204', 'D34B0D01-B082-4081-A3CC-B68B9B8313A4', 'C39149DE-3451-4D33-B4C2-B1E6C6FC9AAB', 'A04CDFB1-E951-4FC4-8882-0323CD70AE3C', 'ABF53597-A808-422A-B7EE-552F24D83A5F', 'FBE26B35-13AB-457D-9795-DF58B28E309D', '45395C84-F20A-4F5A-977F-B80348256421', 'CE5D0651-676B-4AF3-8D67-41BF1B33E30C', '67B57539-590B-4158-9CBB-9DBA2FE6C1F0', 'A9E8758B-5486-4798-8FBA-9AE639ABFC38', '517413CB-6977-46FA-8911-C82332E42884', 'A9DE8829-58CB-4750-B2A2-672846A89753', '9CAAF741-BE1E-4893-8044-1E507B7DDC38', 'B21C5599-1D00-4FCF-904B-58D9D4CAC49A', 'B6363F07-B1BC-420B-AA4C-A34BB8F05827', '1E6B5C97-C4E8-4CED-B9A5-6E69F389DA93', 'E2E0FC64-8D45-4C55-BDB9-EAB827A46FBC', '4C04F838-62AA-475E-AEFA-A63B7C889C13', '7060D0BB-B30D-4932-8FA1-40820A0FC4D0', '8B452737-CA3D-4C10-A99D-6865506437C8', '7FF12CEF-1C4D-4CD2-8FCC-662530A7BA33', '44FC5A86-A099-45B8-B847-F685C5027AFB', '3B2021A7-4BFC-418D-9C20-BD6838E52CF8', 'D2E930A7-B136-4ACA-A996-8DB5C60AADF3', '1C6781A2-5B9D-4525-8A9B-F9B32C4C4AC0', '682AB7A9-4FBF-4204-BDE1-27EAB3425DA0', '8CA46F28-84C0-4FE2-B228-EC4080777865', '7B671984-4C56-4FF1-9733-B4B6FCA5F2AA', '9D725810-BFD6-44C6-961A-2BC027F6FC95', 'E503BBF8-3C82-4DF7-B6E9-2488ECFCC847', '47E52220-4596-4AF0-9724-0167B72A4DB8', '17A934C7-1510-481F-BAD7-189058957FF1', '91A37B4C-C38B-4269-8467-F40870934386', '0BBD0EA3-F665-465B-86FD-FC8B8466AD53', '8E34333C-2BB8-4631-B072-383F1CA38F60', '0BC9183A-9067-4E06-AA5B-48DC2AB30C80', '572BCFC9-E1D6-4419-9A33-EDD284806AF3', '2858B6C2-0886-4269-884C-06FA8B887319', 'CEC0FC3A-0FD1-4F1C-9C51-7D9BEF4D8222', '43EF8365-F932-409B-A51E-FBED3F6DFFAA', 'E26D83A0-D29D-41EF-9528-02C882FFCC0D', '70188FF4-04F0-48D2-8706-698D1FD086E6']\",\n",
      "        \"NormalEnergizingSubstation\": \"6C62C905-6FC7-653D-9F1E-1340F974A587\"\n",
      "    },\n",
      "    \"5B816B93-7A5F-B64C-8460-47C17D6E4B0F\": {\n",
      "        \"mRID\": \"5B816B93-7A5F-B64C-8460-47C17D6E4B0F\",\n",
      "        \"name\": \"ieee13nodecktassets\",\n",
      "        \"Location\": \"E8CC2D43-FB22-4798-AA57-09F1CDB77C00\",\n",
      "        \"ConnectivityNodes\": \"['09A37A19-DF0E-48F3-92E9-10FA62A08120', 'E14BD0DF-466D-487B-8786-0D46515D1F9B', '7326FB57-9839-4AE6-9F3D-B5660C58A7BA', '04006A64-109D-499D-8496-1B55907C1570', 'DFA687CB-83D6-4FD0-8007-657A3E1819F6', 'CB29A4D1-EE08-4AAF-82F6-3C178009EBC0', '22B55260-79B0-4DF5-A070-AFEDAFA299D4', 'B7E4EF30-D95D-4C8E-829B-F75FB0FDBEAD', 'BDCA9F2B-81A8-4969-AE86-B9D5DC399F51', '4163D7DE-898A-4241-93E0-F3FC49F1F714', '249A3E8C-0128-4DE2-92EA-112B44080BF2', '348C3A23-B2F4-4101-9A6C-AF8DEF97DD4C', '3E259C63-39CC-4B6C-9C4A-1B29A5C83840', '560E1C31-EE5C-4BFD-A0B6-F4E8D60E2C76', '61D2A727-4D2E-45F9-8A94-C42B38FFF029', 'DC7FBBF3-1456-4B9C-8983-9E3D4FA9D95B']\",\n",
      "        \"Equipments\": \"['4774208A-B9AB-4051-8BC9-4F7C8EA6552A', '603106B5-1DC7-40B1-A264-98774F6FD16D', '6964DE20-CC96-473D-BB0F-73CD8ACAED2D', '928BCF3C-276A-4E74-A4AE-C3C79D624F5F', '2EB647F9-B8F8-4659-9D2D-3515563030EB', 'F229083B-D5FC-40F0-BFE0-9E92C8C69574', '819CA18E-54AA-42D5-B069-F1AC831D926E', 'C28BFD4B-C7D1-49AD-BAA6-E06CB0856A72', 'EF316EA5-74D3-4209-89EA-BF8FAAC2BAF6', '28456F60-7196-47E4-9BE6-54F7EAABC04A', 'F3D41D9D-9606-4277-A336-69D7048301AF', '6A7D7AF8-A0F7-41B6-BB0C-160EAE054DEA', '4FE57842-43D5-4EBB-8FF1-795E6FE1C507', '7E0E4F76-E0FD-4BB5-BB58-BC5B05A5A59A', '16861155-E2D2-4E9C-8FCA-50EA820E96D0', '46479235-D5D9-4CE8-9F7C-C78426691797', '6EBB2188-CBE1-4FEC-9406-83DE8E61F9CB', '6BC92BAB-B1C8-49C5-87B3-126BBCDC46D5', '73E02C20-7DB0-4825-84C1-E58DB8C296BF', '6DEF3353-8276-402F-AC8E-3DEF4A396FFE', '8A0CF414-3240-47D1-AB8F-998165BA092E', 'EBD2AE36-04A5-4EA9-836F-12F9D3CCB777', 'F841F05A-E047-491F-BF7B-C71283C653D6', '4E1B3F09-CB88-4A5E-8198-24490EE7FC58', '6ECF60CD-E1E5-4C59-8941-3EC0E9DF30DD', 'C9CB60C2-46E0-4FDC-B2A5-73318344E4C9', '173879C4-4FDB-4521-A60D-5B102B3781B2', '8C536493-14B8-41D0-8EE4-CAE4DFF33839', 'A98417B1-4A7F-484F-97C8-9B91F29A26F1', 'D186291A-2487-45AE-83C7-651C7C71D41E', 'BE3F4495-1AC4-4A36-A529-40A6A740F58C', '08848DC6-BB11-4647-9C21-475BAD66A8B8', 'E062E187-F149-4555-8E27-2EE0C9D75274', '958C1DE5-2FA9-4051-8827-8681C4E7AFF6', 'F20F52DF-B0B1-4615-B9D3-AC669CE18454', '34A04257-8486-40AC-BE74-4022F7D395E4', '8A62F620-7C58-4662-AE5C-F41F5E3F0022', '67A2574B-8146-464D-B93C-B9FCBCE913BC']\",\n",
      "        \"NormalEnergizingSubstation\": \"6C62C905-6FC7-653D-9F1E-1340F974A587\"\n",
      "    }\n",
      "}\n"
     ]
    }
   ],
   "source": [
    "# Print feeder info\n",
    "network.get_all_edges(cim.Feeder)\n",
    "network.pprint(cim.Feeder)"
   ]
  },
  {
   "cell_type": "code",
   "execution_count": 30,
   "metadata": {},
   "outputs": [
    {
     "name": "stdout",
     "output_type": "stream",
     "text": [
      "total load is 6937.0 kW\n"
     ]
    }
   ],
   "source": [
    "# Print total load served by substation from both feeders\n",
    "total_load = 0\n",
    "network.get_all_edges(cim.EnergyConsumer)\n",
    "for load in network.graph[cim.EnergyConsumer].values():\n",
    "    total_load = total_load + float(load.p)\n",
    "\n",
    "print(f'total load is {total_load/1000} kW')"
   ]
  },
  {
   "cell_type": "markdown",
   "metadata": {},
   "source": [
    "As part of the round-trip test, it is also possible to merge the substation and both feeders into a single XML file "
   ]
  },
  {
   "cell_type": "code",
   "execution_count": 31,
   "metadata": {},
   "outputs": [],
   "source": [
    "utils.get_all_data(network)\n",
    "utils.write_xml(network, '../test_output/sectionalized_and_feeders.xml')"
   ]
  },
  {
   "cell_type": "code",
   "execution_count": null,
   "metadata": {},
   "outputs": [],
   "source": []
  },
  {
   "cell_type": "code",
   "execution_count": null,
   "metadata": {},
   "outputs": [],
   "source": []
  },
  {
   "cell_type": "markdown",
   "metadata": {},
   "source": [
    "### Create New Main-and-Transfer Substation"
   ]
  },
  {
   "cell_type": "markdown",
   "metadata": {},
   "source": [
    "To create a new Main and Transfer substation, we import the associated class from the `substation_builder` module in CIM-Builder:"
   ]
  },
  {
   "cell_type": "code",
   "execution_count": 32,
   "metadata": {},
   "outputs": [],
   "source": [
    "from cimbuilder.substation_builder import MainAndTransferSubstation"
   ]
  },
  {
   "cell_type": "markdown",
   "metadata": {},
   "source": [
    "To create a new substation, the class is instantiated with the name of the substation and base voltage. If the substation is not being added to an existing network, a new `DistributedArea` will be created to contain the substation."
   ]
  },
  {
   "cell_type": "code",
   "execution_count": 33,
   "metadata": {},
   "outputs": [],
   "source": [
    "SubBuilder = MainAndTransferSubstation(connection=connection,\n",
    "                                       name=\"main_transfer_sub\", \n",
    "                                       base_voltage = 115000)\n",
    "substation = SubBuilder.substation"
   ]
  },
  {
   "cell_type": "markdown",
   "metadata": {},
   "source": [
    "To add a feeder to the new substation, the `.new_feeder()` method is called. The `series_number` is used for automatic naming of the breaker and airgap switches. The arguments `feeder` and `feeder_network` are used for the CIM feeder object and the CIMantic Graphs network model.\n",
    "\n",
    "The function call below will automatically insert the IEEE 13 and IEEE 13 Assets feeders into the new substation:"
   ]
  },
  {
   "cell_type": "code",
   "execution_count": 34,
   "metadata": {},
   "outputs": [],
   "source": [
    "SubBuilder.new_feeder(series_number = 1, feeder=ieee13_feeder,\n",
    "                       feeder_network=ieee13_network)\n",
    "SubBuilder.new_feeder(series_number = 2, feeder=assets13_feeder,\n",
    "                      feeder_network=assets13_network)"
   ]
  },
  {
   "cell_type": "markdown",
   "metadata": {},
   "source": [
    "To check whether the feeders have been added successfully, it is possible to use the CIMantic Graphs `.pprint(cim.ClassName)` method to print all instances of Substation and Feeder objects."
   ]
  },
  {
   "cell_type": "code",
   "execution_count": 35,
   "metadata": {},
   "outputs": [
    {
     "name": "stdout",
     "output_type": "stream",
     "text": [
      "{\n",
      "    \"46e7633d-6b2e-4043-9634-a0b8a6102992\": {\n",
      "        \"mRID\": \"46e7633d-6b2e-4043-9634-a0b8a6102992\",\n",
      "        \"name\": \"main_transfer_sub\",\n",
      "        \"NormalEnergizedFeeder\": \"['ieee13nodeckt', 'ieee13nodecktassets']\"\n",
      "    }\n",
      "}\n",
      "{\n",
      "    \"49AD8E07-3BF9-A4E2-CB8F-C3722F837B62\": {\n",
      "        \"mRID\": \"49AD8E07-3BF9-A4E2-CB8F-C3722F837B62\",\n",
      "        \"name\": \"ieee13nodeckt\",\n",
      "        \"Location\": \"8E4E3C92-0B7A-4F74-8FD2-CC10F74E452F\",\n",
      "        \"ConnectivityNodes\": \"['673E896A-DCBF-4E43-9924-BEB31C5B6005', 'A8A25B50-3AE3-4A31-A18B-B3FA13397ED3', '421E99BE-A834-4809-B924-84D88F634A45', '2A6DC4DD-D3DC-434D-A187-D2C58A0A72C8', '7BEDDADD-0A14-429F-8601-9EA8B892CA6E', '63DFBEA0-CD06-4D2E-B956-DF9517BE057B', '30BE5988-DE57-4E0C-AB08-50D5A13D2C1B', '0124E881-B82D-4206-BBDF-37D585159872', 'C6256170-E6ED-4F91-8EBD-748090C3FDD5', '0A98A62D-7642-4F03-8317-A8605CBDBA37', '04984C4D-CC29-477A-9AF4-61AC7D74F16F', '0DCC57AF-F4FA-457D-BB24-2EFDA9865A1A', 'E5B2888B-B60D-4DA6-A4F7-17EB849D28B2', '6CB5E5CE-2CD0-40CC-A979-B4F9ED05E49B', '8E99F99D-FE8F-420B-AC49-0B52DF5362AB', 'DC889FA5-7B28-4273-A1D7-205BE3E0BFED', '94F822E0-7130-4205-8597-B47110BBEF4B', 'ADDB7A30-5A3C-4179-AF5D-5C9A7213B0E7', '8C58660F-C62C-4903-BE72-22F1255B1E62', '76D6D03C-967C-4E12-836D-A98DF3552BC7', '0F1E28C3-6C44-4F88-B79C-2FDBCA4487B2', 'DBFA8EFA-B397-40DA-9642-60E8DE4B3471']\",\n",
      "        \"Equipments\": \"['60B55036-DD71-40CE-ADDA-97B8CE7447DC', '52DE9189-20DC-4C73-BDEE-E960FE1F9493', '8E180773-2A9B-4136-BC9A-132A52C8E276', '259E820F-B4AF-4E1A-8271-687534EDAECC', '3FFFB3F7-A7AF-49E1-ACEE-449FC73D3CD6', 'ABF877D7-DAC2-4BF0-AB58-9A8A02E92EB3', '32F02D2B-EE6E-4D3F-8486-1B5CAEF70204', 'D34B0D01-B082-4081-A3CC-B68B9B8313A4', 'C39149DE-3451-4D33-B4C2-B1E6C6FC9AAB', 'A04CDFB1-E951-4FC4-8882-0323CD70AE3C', 'ABF53597-A808-422A-B7EE-552F24D83A5F', 'FBE26B35-13AB-457D-9795-DF58B28E309D', '45395C84-F20A-4F5A-977F-B80348256421', 'CE5D0651-676B-4AF3-8D67-41BF1B33E30C', '67B57539-590B-4158-9CBB-9DBA2FE6C1F0', 'A9E8758B-5486-4798-8FBA-9AE639ABFC38', '517413CB-6977-46FA-8911-C82332E42884', 'A9DE8829-58CB-4750-B2A2-672846A89753', '9CAAF741-BE1E-4893-8044-1E507B7DDC38', 'B21C5599-1D00-4FCF-904B-58D9D4CAC49A', 'B6363F07-B1BC-420B-AA4C-A34BB8F05827', '1E6B5C97-C4E8-4CED-B9A5-6E69F389DA93', 'E2E0FC64-8D45-4C55-BDB9-EAB827A46FBC', '4C04F838-62AA-475E-AEFA-A63B7C889C13', '7060D0BB-B30D-4932-8FA1-40820A0FC4D0', '8B452737-CA3D-4C10-A99D-6865506437C8', '7FF12CEF-1C4D-4CD2-8FCC-662530A7BA33', '44FC5A86-A099-45B8-B847-F685C5027AFB', '3B2021A7-4BFC-418D-9C20-BD6838E52CF8', 'D2E930A7-B136-4ACA-A996-8DB5C60AADF3', '1C6781A2-5B9D-4525-8A9B-F9B32C4C4AC0', '682AB7A9-4FBF-4204-BDE1-27EAB3425DA0', '8CA46F28-84C0-4FE2-B228-EC4080777865', '7B671984-4C56-4FF1-9733-B4B6FCA5F2AA', '9D725810-BFD6-44C6-961A-2BC027F6FC95', 'E503BBF8-3C82-4DF7-B6E9-2488ECFCC847', '47E52220-4596-4AF0-9724-0167B72A4DB8', '17A934C7-1510-481F-BAD7-189058957FF1', '91A37B4C-C38B-4269-8467-F40870934386', '0BBD0EA3-F665-465B-86FD-FC8B8466AD53', '8E34333C-2BB8-4631-B072-383F1CA38F60', '0BC9183A-9067-4E06-AA5B-48DC2AB30C80', '572BCFC9-E1D6-4419-9A33-EDD284806AF3', '2858B6C2-0886-4269-884C-06FA8B887319', 'CEC0FC3A-0FD1-4F1C-9C51-7D9BEF4D8222', '43EF8365-F932-409B-A51E-FBED3F6DFFAA', 'E26D83A0-D29D-41EF-9528-02C882FFCC0D', '70188FF4-04F0-48D2-8706-698D1FD086E6']\",\n",
      "        \"NormalEnergizingSubstation\": \"46e7633d-6b2e-4043-9634-a0b8a6102992\"\n",
      "    },\n",
      "    \"5B816B93-7A5F-B64C-8460-47C17D6E4B0F\": {\n",
      "        \"mRID\": \"5B816B93-7A5F-B64C-8460-47C17D6E4B0F\",\n",
      "        \"name\": \"ieee13nodecktassets\",\n",
      "        \"Location\": \"E8CC2D43-FB22-4798-AA57-09F1CDB77C00\",\n",
      "        \"ConnectivityNodes\": \"['09A37A19-DF0E-48F3-92E9-10FA62A08120', 'E14BD0DF-466D-487B-8786-0D46515D1F9B', '7326FB57-9839-4AE6-9F3D-B5660C58A7BA', '04006A64-109D-499D-8496-1B55907C1570', 'DFA687CB-83D6-4FD0-8007-657A3E1819F6', 'CB29A4D1-EE08-4AAF-82F6-3C178009EBC0', '22B55260-79B0-4DF5-A070-AFEDAFA299D4', 'B7E4EF30-D95D-4C8E-829B-F75FB0FDBEAD', 'BDCA9F2B-81A8-4969-AE86-B9D5DC399F51', '4163D7DE-898A-4241-93E0-F3FC49F1F714', '249A3E8C-0128-4DE2-92EA-112B44080BF2', '348C3A23-B2F4-4101-9A6C-AF8DEF97DD4C', '3E259C63-39CC-4B6C-9C4A-1B29A5C83840', '560E1C31-EE5C-4BFD-A0B6-F4E8D60E2C76', '61D2A727-4D2E-45F9-8A94-C42B38FFF029', 'DC7FBBF3-1456-4B9C-8983-9E3D4FA9D95B']\",\n",
      "        \"Equipments\": \"['4774208A-B9AB-4051-8BC9-4F7C8EA6552A', '603106B5-1DC7-40B1-A264-98774F6FD16D', '6964DE20-CC96-473D-BB0F-73CD8ACAED2D', '928BCF3C-276A-4E74-A4AE-C3C79D624F5F', '2EB647F9-B8F8-4659-9D2D-3515563030EB', 'F229083B-D5FC-40F0-BFE0-9E92C8C69574', '819CA18E-54AA-42D5-B069-F1AC831D926E', 'C28BFD4B-C7D1-49AD-BAA6-E06CB0856A72', 'EF316EA5-74D3-4209-89EA-BF8FAAC2BAF6', '28456F60-7196-47E4-9BE6-54F7EAABC04A', 'F3D41D9D-9606-4277-A336-69D7048301AF', '6A7D7AF8-A0F7-41B6-BB0C-160EAE054DEA', '4FE57842-43D5-4EBB-8FF1-795E6FE1C507', '7E0E4F76-E0FD-4BB5-BB58-BC5B05A5A59A', '16861155-E2D2-4E9C-8FCA-50EA820E96D0', '46479235-D5D9-4CE8-9F7C-C78426691797', '6EBB2188-CBE1-4FEC-9406-83DE8E61F9CB', '6BC92BAB-B1C8-49C5-87B3-126BBCDC46D5', '73E02C20-7DB0-4825-84C1-E58DB8C296BF', '6DEF3353-8276-402F-AC8E-3DEF4A396FFE', '8A0CF414-3240-47D1-AB8F-998165BA092E', 'EBD2AE36-04A5-4EA9-836F-12F9D3CCB777', 'F841F05A-E047-491F-BF7B-C71283C653D6', '4E1B3F09-CB88-4A5E-8198-24490EE7FC58', '6ECF60CD-E1E5-4C59-8941-3EC0E9DF30DD', 'C9CB60C2-46E0-4FDC-B2A5-73318344E4C9', '173879C4-4FDB-4521-A60D-5B102B3781B2', '8C536493-14B8-41D0-8EE4-CAE4DFF33839', 'A98417B1-4A7F-484F-97C8-9B91F29A26F1', 'D186291A-2487-45AE-83C7-651C7C71D41E', 'BE3F4495-1AC4-4A36-A529-40A6A740F58C', '08848DC6-BB11-4647-9C21-475BAD66A8B8', 'E062E187-F149-4555-8E27-2EE0C9D75274', '958C1DE5-2FA9-4051-8827-8681C4E7AFF6', 'F20F52DF-B0B1-4615-B9D3-AC669CE18454', '34A04257-8486-40AC-BE74-4022F7D395E4', '8A62F620-7C58-4662-AE5C-F41F5E3F0022', '67A2574B-8146-464D-B93C-B9FCBCE913BC']\",\n",
      "        \"NormalEnergizingSubstation\": \"46e7633d-6b2e-4043-9634-a0b8a6102992\"\n",
      "    }\n",
      "}\n"
     ]
    }
   ],
   "source": [
    "# Print substation data using names\n",
    "SubBuilder.network.pprint(cim.Substation, use_names = True)\n",
    "# Print feeder data\n",
    "SubBuilder.network.pprint(cim.Feeder)"
   ]
  },
  {
   "cell_type": "markdown",
   "metadata": {},
   "source": [
    "The CIMantic Graphs `utils` package can be used to save the substation to an XML file for further use. "
   ]
  },
  {
   "cell_type": "code",
   "execution_count": 36,
   "metadata": {},
   "outputs": [],
   "source": [
    "utils.write_xml(SubBuilder.network, '../test_output/main_and_transfer.xml')"
   ]
  },
  {
   "cell_type": "markdown",
   "metadata": {},
   "source": [
    "The final verification that the substation has been created and can be successfully used with the network models Round-Trip Test: \n",
    "1) Delete all old models from the database\n",
    "2) Load the new substation and feeder CIM XML files\n",
    "3) Obtain all data for feeders contained by the subustation"
   ]
  },
  {
   "cell_type": "code",
   "execution_count": 37,
   "metadata": {},
   "outputs": [
    {
     "name": "stderr",
     "output_type": "stream",
     "text": [
      "/home/ande188/CIM-Builder/.venv/lib/python3.10/site-packages/SPARQLWrapper/Wrapper.py:1215: RuntimeWarning: unknown response content type 'text/html;charset=utf-8' returning raw response...\n",
      "  warnings.warn(\n"
     ]
    },
    {
     "data": {
      "text/plain": [
       "b'<!DOCTYPE HTML PUBLIC \"-//W3C//DTD HTML 4.01 Transitional//EN\" \"http://www.w3.org/TR/html4/loose.dtd\"><html><head><meta http-equiv=\"Content-Type\" content=\"text&#47;html;charset=UTF-8\"><title>blazegraph&trade; by SYSTAP</title\\n></head\\n><body<p>totalElapsed=23ms, elapsed=23ms, connFlush=0ms, batchResolve=0, whereClause=0ms, deleteClause=0ms, insertClause=0ms</p\\n><hr><p>COMMIT: totalElapsed=28ms, commitTime=1709690429116, mutationCount=6540</p\\n></html\\n>'"
      ]
     },
     "execution_count": 37,
     "metadata": {},
     "output_type": "execute_result"
    }
   ],
   "source": [
    "# Delete all CIM triples from database\n",
    "blazegraph.execute('drop all')"
   ]
  },
  {
   "cell_type": "code",
   "execution_count": 38,
   "metadata": {},
   "outputs": [
    {
     "name": "stdout",
     "output_type": "stream",
     "text": [
      "HTTP/1.1 100 Continue\n",
      "\n",
      "HTTP/1.1 200 OK\n",
      "Content-Type: application/xml;charset=iso-8859-1\n",
      "Content-Length: 62\n",
      "Server: Jetty(9.4.18.v20190429)\n",
      "\n",
      "<?xml version=\"1.0\"?><data modified=\"3392\" milliseconds=\"36\"/>HTTP/1.1 100 Continue\n",
      "\n",
      "HTTP/1.1 200 OK\n",
      "Content-Type: application/xml;charset=iso-8859-1\n",
      "Content-Length: 62\n",
      "Server: Jetty(9.4.18.v20190429)\n",
      "\n",
      "<?xml version=\"1.0\"?><data modified=\"2927\" milliseconds=\"32\"/>HTTP/1.1 100 Continue\n",
      "\n",
      "HTTP/1.1 200 OK\n",
      "Content-Type: application/xml;charset=iso-8859-1\n",
      "Content-Length: 61\n",
      "Server: Jetty(9.4.18.v20190429)\n",
      "\n",
      "<?xml version=\"1.0\"?><data modified=\"290\" milliseconds=\"38\"/>"
     ]
    }
   ],
   "source": [
    "# Upload new models into the database\n",
    "bg_loader.upload_from_file(filename='../test_models/IEEE13.xml')\n",
    "bg_loader.upload_from_file(filename='../test_models/IEEE13_Assets.xml')\n",
    "bg_loader.upload_from_file(filename='../test_output/main_and_transfer.xml')"
   ]
  },
  {
   "cell_type": "markdown",
   "metadata": {},
   "source": [
    "To verify that all feeder data can be obtained, we create a new CIMantic Graphs model and then query for the classes Substation and Feeder. We can also obtain the total amount of aggregate load from both feeders that are served by the substation."
   ]
  },
  {
   "cell_type": "code",
   "execution_count": 39,
   "metadata": {},
   "outputs": [],
   "source": [
    "network = NodeBreakerModel(container=substation, connection=blazegraph, distributed = False)"
   ]
  },
  {
   "cell_type": "code",
   "execution_count": 40,
   "metadata": {},
   "outputs": [
    {
     "name": "stdout",
     "output_type": "stream",
     "text": [
      "{\n",
      "    \"46e7633d-6b2e-4043-9634-a0b8a6102992\": {\n",
      "        \"mRID\": \"46e7633d-6b2e-4043-9634-a0b8a6102992\",\n",
      "        \"name\": \"main_transfer_sub\",\n",
      "        \"ConnectivityNodes\": \"['8551d222-753b-4b95-b86f-3fe3356c27e3', '9a971917-ad2f-4195-afe2-30d6ee991248', 'a6321443-b82d-4b06-aa85-760fb1394f91', 'b60bf66b-eee8-4f32-bea5-4b97b3d27540', 'd4020cbc-9a8d-49d9-ae0f-b6db9f38125d', 'd6745a8d-aeb3-4229-a101-a882736eba1f', 'e94c2c34-7dfb-4786-96ba-c3859f3fecc5', '152b78c2-fce9-49e7-8c17-b746be0421d1']\",\n",
      "        \"Equipments\": \"['a5fcad02-595f-47f9-a72c-89113297cf74', 'a949e364-41bd-45eb-bf26-d0513062f89f', 'c2055188-f426-40c6-9ae4-bb8ceae1d8e4', 'c3590b3f-7b22-49b0-a144-d24995129475', 'c3eac626-1714-4d7d-9e08-58bc1dcd50a5', 'e17d2b73-f026-482d-9395-fff7c2bdf813', '097bbe19-f511-4a48-a990-084e4a7cabe9', '0cc614eb-aa1b-4bb1-8cb2-34e5a3ae0ac4', '16e22982-8ed8-4c41-92c2-eb4b496f62d9', '16eccc7d-c213-4375-9031-6f730fc48b21', '3b28b566-1b64-409b-be74-51d69c4eff95', '3d0fb2b2-a537-4fdb-bba0-19683e2a95ce', '4cc17190-6a45-47fe-9beb-43a83c4f7a66']\",\n",
      "        \"NormalEnergizedFeeder\": \"['49AD8E07-3BF9-A4E2-CB8F-C3722F837B62', '5B816B93-7A5F-B64C-8460-47C17D6E4B0F']\"\n",
      "    }\n",
      "}\n"
     ]
    }
   ],
   "source": [
    "# Print substation info\n",
    "network.get_all_edges(cim.Substation)\n",
    "network.pprint(cim.Substation)"
   ]
  },
  {
   "cell_type": "code",
   "execution_count": 41,
   "metadata": {},
   "outputs": [
    {
     "name": "stdout",
     "output_type": "stream",
     "text": [
      "{\n",
      "    \"49AD8E07-3BF9-A4E2-CB8F-C3722F837B62\": {\n",
      "        \"mRID\": \"49AD8E07-3BF9-A4E2-CB8F-C3722F837B62\",\n",
      "        \"name\": \"ieee13nodeckt\",\n",
      "        \"Location\": \"8E4E3C92-0B7A-4F74-8FD2-CC10F74E452F\",\n",
      "        \"ConnectivityNodes\": \"['673E896A-DCBF-4E43-9924-BEB31C5B6005', 'A8A25B50-3AE3-4A31-A18B-B3FA13397ED3', '421E99BE-A834-4809-B924-84D88F634A45', '2A6DC4DD-D3DC-434D-A187-D2C58A0A72C8', '7BEDDADD-0A14-429F-8601-9EA8B892CA6E', '63DFBEA0-CD06-4D2E-B956-DF9517BE057B', '30BE5988-DE57-4E0C-AB08-50D5A13D2C1B', '0124E881-B82D-4206-BBDF-37D585159872', 'C6256170-E6ED-4F91-8EBD-748090C3FDD5', '0A98A62D-7642-4F03-8317-A8605CBDBA37', '04984C4D-CC29-477A-9AF4-61AC7D74F16F', '0DCC57AF-F4FA-457D-BB24-2EFDA9865A1A', 'E5B2888B-B60D-4DA6-A4F7-17EB849D28B2', '6CB5E5CE-2CD0-40CC-A979-B4F9ED05E49B', '8E99F99D-FE8F-420B-AC49-0B52DF5362AB', 'DC889FA5-7B28-4273-A1D7-205BE3E0BFED', '94F822E0-7130-4205-8597-B47110BBEF4B', 'ADDB7A30-5A3C-4179-AF5D-5C9A7213B0E7', '8C58660F-C62C-4903-BE72-22F1255B1E62', '76D6D03C-967C-4E12-836D-A98DF3552BC7', '0F1E28C3-6C44-4F88-B79C-2FDBCA4487B2', 'DBFA8EFA-B397-40DA-9642-60E8DE4B3471']\",\n",
      "        \"Equipments\": \"['60B55036-DD71-40CE-ADDA-97B8CE7447DC', '52DE9189-20DC-4C73-BDEE-E960FE1F9493', '8E180773-2A9B-4136-BC9A-132A52C8E276', '259E820F-B4AF-4E1A-8271-687534EDAECC', '3FFFB3F7-A7AF-49E1-ACEE-449FC73D3CD6', 'ABF877D7-DAC2-4BF0-AB58-9A8A02E92EB3', '32F02D2B-EE6E-4D3F-8486-1B5CAEF70204', 'D34B0D01-B082-4081-A3CC-B68B9B8313A4', 'C39149DE-3451-4D33-B4C2-B1E6C6FC9AAB', 'A04CDFB1-E951-4FC4-8882-0323CD70AE3C', 'ABF53597-A808-422A-B7EE-552F24D83A5F', 'FBE26B35-13AB-457D-9795-DF58B28E309D', '45395C84-F20A-4F5A-977F-B80348256421', 'CE5D0651-676B-4AF3-8D67-41BF1B33E30C', '67B57539-590B-4158-9CBB-9DBA2FE6C1F0', 'A9E8758B-5486-4798-8FBA-9AE639ABFC38', '517413CB-6977-46FA-8911-C82332E42884', 'A9DE8829-58CB-4750-B2A2-672846A89753', '9CAAF741-BE1E-4893-8044-1E507B7DDC38', 'B21C5599-1D00-4FCF-904B-58D9D4CAC49A', 'B6363F07-B1BC-420B-AA4C-A34BB8F05827', '1E6B5C97-C4E8-4CED-B9A5-6E69F389DA93', 'E2E0FC64-8D45-4C55-BDB9-EAB827A46FBC', '4C04F838-62AA-475E-AEFA-A63B7C889C13', '7060D0BB-B30D-4932-8FA1-40820A0FC4D0', '8B452737-CA3D-4C10-A99D-6865506437C8', '7FF12CEF-1C4D-4CD2-8FCC-662530A7BA33', '44FC5A86-A099-45B8-B847-F685C5027AFB', '3B2021A7-4BFC-418D-9C20-BD6838E52CF8', 'D2E930A7-B136-4ACA-A996-8DB5C60AADF3', '1C6781A2-5B9D-4525-8A9B-F9B32C4C4AC0', '682AB7A9-4FBF-4204-BDE1-27EAB3425DA0', '8CA46F28-84C0-4FE2-B228-EC4080777865', '7B671984-4C56-4FF1-9733-B4B6FCA5F2AA', '9D725810-BFD6-44C6-961A-2BC027F6FC95', 'E503BBF8-3C82-4DF7-B6E9-2488ECFCC847', '47E52220-4596-4AF0-9724-0167B72A4DB8', '17A934C7-1510-481F-BAD7-189058957FF1', '91A37B4C-C38B-4269-8467-F40870934386', '0BBD0EA3-F665-465B-86FD-FC8B8466AD53', '8E34333C-2BB8-4631-B072-383F1CA38F60', '0BC9183A-9067-4E06-AA5B-48DC2AB30C80', '572BCFC9-E1D6-4419-9A33-EDD284806AF3', '2858B6C2-0886-4269-884C-06FA8B887319', 'CEC0FC3A-0FD1-4F1C-9C51-7D9BEF4D8222', '43EF8365-F932-409B-A51E-FBED3F6DFFAA', 'E26D83A0-D29D-41EF-9528-02C882FFCC0D', '70188FF4-04F0-48D2-8706-698D1FD086E6']\",\n",
      "        \"NormalEnergizingSubstation\": \"6C62C905-6FC7-653D-9F1E-1340F974A587\"\n",
      "    },\n",
      "    \"5B816B93-7A5F-B64C-8460-47C17D6E4B0F\": {\n",
      "        \"mRID\": \"5B816B93-7A5F-B64C-8460-47C17D6E4B0F\",\n",
      "        \"name\": \"ieee13nodecktassets\",\n",
      "        \"Location\": \"E8CC2D43-FB22-4798-AA57-09F1CDB77C00\",\n",
      "        \"ConnectivityNodes\": \"['09A37A19-DF0E-48F3-92E9-10FA62A08120', 'E14BD0DF-466D-487B-8786-0D46515D1F9B', '7326FB57-9839-4AE6-9F3D-B5660C58A7BA', '04006A64-109D-499D-8496-1B55907C1570', 'DFA687CB-83D6-4FD0-8007-657A3E1819F6', 'CB29A4D1-EE08-4AAF-82F6-3C178009EBC0', '22B55260-79B0-4DF5-A070-AFEDAFA299D4', 'B7E4EF30-D95D-4C8E-829B-F75FB0FDBEAD', 'BDCA9F2B-81A8-4969-AE86-B9D5DC399F51', '4163D7DE-898A-4241-93E0-F3FC49F1F714', '249A3E8C-0128-4DE2-92EA-112B44080BF2', '348C3A23-B2F4-4101-9A6C-AF8DEF97DD4C', '3E259C63-39CC-4B6C-9C4A-1B29A5C83840', '560E1C31-EE5C-4BFD-A0B6-F4E8D60E2C76', '61D2A727-4D2E-45F9-8A94-C42B38FFF029', 'DC7FBBF3-1456-4B9C-8983-9E3D4FA9D95B']\",\n",
      "        \"Equipments\": \"['4774208A-B9AB-4051-8BC9-4F7C8EA6552A', '603106B5-1DC7-40B1-A264-98774F6FD16D', '6964DE20-CC96-473D-BB0F-73CD8ACAED2D', '928BCF3C-276A-4E74-A4AE-C3C79D624F5F', '2EB647F9-B8F8-4659-9D2D-3515563030EB', 'F229083B-D5FC-40F0-BFE0-9E92C8C69574', '819CA18E-54AA-42D5-B069-F1AC831D926E', 'C28BFD4B-C7D1-49AD-BAA6-E06CB0856A72', 'EF316EA5-74D3-4209-89EA-BF8FAAC2BAF6', '28456F60-7196-47E4-9BE6-54F7EAABC04A', 'F3D41D9D-9606-4277-A336-69D7048301AF', '6A7D7AF8-A0F7-41B6-BB0C-160EAE054DEA', '4FE57842-43D5-4EBB-8FF1-795E6FE1C507', '7E0E4F76-E0FD-4BB5-BB58-BC5B05A5A59A', '16861155-E2D2-4E9C-8FCA-50EA820E96D0', '46479235-D5D9-4CE8-9F7C-C78426691797', '6EBB2188-CBE1-4FEC-9406-83DE8E61F9CB', '6BC92BAB-B1C8-49C5-87B3-126BBCDC46D5', '73E02C20-7DB0-4825-84C1-E58DB8C296BF', '6DEF3353-8276-402F-AC8E-3DEF4A396FFE', '8A0CF414-3240-47D1-AB8F-998165BA092E', 'EBD2AE36-04A5-4EA9-836F-12F9D3CCB777', 'F841F05A-E047-491F-BF7B-C71283C653D6', '4E1B3F09-CB88-4A5E-8198-24490EE7FC58', '6ECF60CD-E1E5-4C59-8941-3EC0E9DF30DD', 'C9CB60C2-46E0-4FDC-B2A5-73318344E4C9', '173879C4-4FDB-4521-A60D-5B102B3781B2', '8C536493-14B8-41D0-8EE4-CAE4DFF33839', 'A98417B1-4A7F-484F-97C8-9B91F29A26F1', 'D186291A-2487-45AE-83C7-651C7C71D41E', 'BE3F4495-1AC4-4A36-A529-40A6A740F58C', '08848DC6-BB11-4647-9C21-475BAD66A8B8', 'E062E187-F149-4555-8E27-2EE0C9D75274', '958C1DE5-2FA9-4051-8827-8681C4E7AFF6', 'F20F52DF-B0B1-4615-B9D3-AC669CE18454', '34A04257-8486-40AC-BE74-4022F7D395E4', '8A62F620-7C58-4662-AE5C-F41F5E3F0022', '67A2574B-8146-464D-B93C-B9FCBCE913BC']\",\n",
      "        \"NormalEnergizingSubstation\": \"6C62C905-6FC7-653D-9F1E-1340F974A587\"\n",
      "    }\n",
      "}\n"
     ]
    }
   ],
   "source": [
    "# Print feeder info\n",
    "network.get_all_edges(cim.Feeder)\n",
    "network.pprint(cim.Feeder)"
   ]
  },
  {
   "cell_type": "code",
   "execution_count": 42,
   "metadata": {},
   "outputs": [
    {
     "name": "stdout",
     "output_type": "stream",
     "text": [
      "total load is 6937.0 kW\n"
     ]
    }
   ],
   "source": [
    "# Print total load served by substation from both feeders\n",
    "total_load = 0\n",
    "network.get_all_edges(cim.EnergyConsumer)\n",
    "for load in network.graph[cim.EnergyConsumer].values():\n",
    "    total_load = total_load + float(load.p)\n",
    "\n",
    "print(f'total load is {total_load/1000} kW')"
   ]
  },
  {
   "cell_type": "markdown",
   "metadata": {},
   "source": [
    "As part of the round-trip test, it is also possible to merge the substation and both feeders into a single XML file "
   ]
  },
  {
   "cell_type": "code",
   "execution_count": 43,
   "metadata": {},
   "outputs": [],
   "source": [
    "utils.get_all_data(network)\n",
    "utils.write_xml(network, '../test_output/main_transfer_and_feeders.xml')"
   ]
  },
  {
   "cell_type": "code",
   "execution_count": null,
   "metadata": {},
   "outputs": [],
   "source": []
  },
  {
   "cell_type": "markdown",
   "metadata": {},
   "source": [
    "### Create Double Bus Single Breaker Substation"
   ]
  },
  {
   "cell_type": "markdown",
   "metadata": {},
   "source": [
    "To create a new Main and Transfer substation, we import the associated class from the `substation_builder` module in CIM-Builder:"
   ]
  },
  {
   "cell_type": "code",
   "execution_count": 44,
   "metadata": {},
   "outputs": [],
   "source": [
    "from cimbuilder.substation_builder import DoubleBusSingleBreakerSubstation"
   ]
  },
  {
   "cell_type": "markdown",
   "metadata": {},
   "source": [
    "To create a new substation, the class is instantiated with the name of the substation and base voltage. If the substation is not being added to an existing network, a new `DistributedArea` will be created to contain the substation."
   ]
  },
  {
   "cell_type": "code",
   "execution_count": 45,
   "metadata": {},
   "outputs": [],
   "source": [
    "SubBuilder = DoubleBusSingleBreakerSubstation(connection=connection,\n",
    "                                              name=\"double_bus_sub\", \n",
    "                                              base_voltage = 115000)\n",
    "substation = SubBuilder.substation"
   ]
  },
  {
   "cell_type": "markdown",
   "metadata": {},
   "source": [
    "To add a feeder to the new substation, the `.new_feeder()` method is called. The `series_number` is used for automatic naming of the breaker and airgap switches. The arguments `feeder` and `feeder_network` are used for the CIM feeder object and the CIMantic Graphs network model.\n",
    "\n",
    "The function call below will automatically insert the IEEE 13 and IEEE 13 Assets feeders into the new substation:"
   ]
  },
  {
   "cell_type": "code",
   "execution_count": 46,
   "metadata": {},
   "outputs": [],
   "source": [
    "SubBuilder.new_feeder(series_number = 1, feeder=ieee13_feeder,\n",
    "                       feeder_network=ieee13_network)\n",
    "SubBuilder.new_feeder(series_number = 2, feeder=assets13_feeder,\n",
    "                      feeder_network=assets13_network)"
   ]
  },
  {
   "cell_type": "markdown",
   "metadata": {},
   "source": [
    "To check whether the feeders have been added successfully, it is possible to use the CIMantic Graphs `.pprint(cim.ClassName)` method to print all instances of Substation and Feeder objects."
   ]
  },
  {
   "cell_type": "code",
   "execution_count": 47,
   "metadata": {},
   "outputs": [
    {
     "name": "stdout",
     "output_type": "stream",
     "text": [
      "{\n",
      "    \"1cde3a3a-e19f-4129-925c-2c7a084f3d09\": {\n",
      "        \"mRID\": \"1cde3a3a-e19f-4129-925c-2c7a084f3d09\",\n",
      "        \"name\": \"double_bus_sub\",\n",
      "        \"NormalEnergizedFeeder\": \"['ieee13nodeckt', 'ieee13nodecktassets']\"\n",
      "    }\n",
      "}\n",
      "{\n",
      "    \"49AD8E07-3BF9-A4E2-CB8F-C3722F837B62\": {\n",
      "        \"mRID\": \"49AD8E07-3BF9-A4E2-CB8F-C3722F837B62\",\n",
      "        \"name\": \"ieee13nodeckt\",\n",
      "        \"Location\": \"8E4E3C92-0B7A-4F74-8FD2-CC10F74E452F\",\n",
      "        \"ConnectivityNodes\": \"['673E896A-DCBF-4E43-9924-BEB31C5B6005', 'A8A25B50-3AE3-4A31-A18B-B3FA13397ED3', '421E99BE-A834-4809-B924-84D88F634A45', '2A6DC4DD-D3DC-434D-A187-D2C58A0A72C8', '7BEDDADD-0A14-429F-8601-9EA8B892CA6E', '63DFBEA0-CD06-4D2E-B956-DF9517BE057B', '30BE5988-DE57-4E0C-AB08-50D5A13D2C1B', '0124E881-B82D-4206-BBDF-37D585159872', 'C6256170-E6ED-4F91-8EBD-748090C3FDD5', '0A98A62D-7642-4F03-8317-A8605CBDBA37', '04984C4D-CC29-477A-9AF4-61AC7D74F16F', '0DCC57AF-F4FA-457D-BB24-2EFDA9865A1A', 'E5B2888B-B60D-4DA6-A4F7-17EB849D28B2', '6CB5E5CE-2CD0-40CC-A979-B4F9ED05E49B', '8E99F99D-FE8F-420B-AC49-0B52DF5362AB', 'DC889FA5-7B28-4273-A1D7-205BE3E0BFED', '94F822E0-7130-4205-8597-B47110BBEF4B', 'ADDB7A30-5A3C-4179-AF5D-5C9A7213B0E7', '8C58660F-C62C-4903-BE72-22F1255B1E62', '76D6D03C-967C-4E12-836D-A98DF3552BC7', '0F1E28C3-6C44-4F88-B79C-2FDBCA4487B2', 'DBFA8EFA-B397-40DA-9642-60E8DE4B3471']\",\n",
      "        \"Equipments\": \"['60B55036-DD71-40CE-ADDA-97B8CE7447DC', '52DE9189-20DC-4C73-BDEE-E960FE1F9493', '8E180773-2A9B-4136-BC9A-132A52C8E276', '259E820F-B4AF-4E1A-8271-687534EDAECC', '3FFFB3F7-A7AF-49E1-ACEE-449FC73D3CD6', 'ABF877D7-DAC2-4BF0-AB58-9A8A02E92EB3', '32F02D2B-EE6E-4D3F-8486-1B5CAEF70204', 'D34B0D01-B082-4081-A3CC-B68B9B8313A4', 'C39149DE-3451-4D33-B4C2-B1E6C6FC9AAB', 'A04CDFB1-E951-4FC4-8882-0323CD70AE3C', 'ABF53597-A808-422A-B7EE-552F24D83A5F', 'FBE26B35-13AB-457D-9795-DF58B28E309D', '45395C84-F20A-4F5A-977F-B80348256421', 'CE5D0651-676B-4AF3-8D67-41BF1B33E30C', '67B57539-590B-4158-9CBB-9DBA2FE6C1F0', 'A9E8758B-5486-4798-8FBA-9AE639ABFC38', '517413CB-6977-46FA-8911-C82332E42884', 'A9DE8829-58CB-4750-B2A2-672846A89753', '9CAAF741-BE1E-4893-8044-1E507B7DDC38', 'B21C5599-1D00-4FCF-904B-58D9D4CAC49A', 'B6363F07-B1BC-420B-AA4C-A34BB8F05827', '1E6B5C97-C4E8-4CED-B9A5-6E69F389DA93', 'E2E0FC64-8D45-4C55-BDB9-EAB827A46FBC', '4C04F838-62AA-475E-AEFA-A63B7C889C13', '7060D0BB-B30D-4932-8FA1-40820A0FC4D0', '8B452737-CA3D-4C10-A99D-6865506437C8', '7FF12CEF-1C4D-4CD2-8FCC-662530A7BA33', '44FC5A86-A099-45B8-B847-F685C5027AFB', '3B2021A7-4BFC-418D-9C20-BD6838E52CF8', 'D2E930A7-B136-4ACA-A996-8DB5C60AADF3', '1C6781A2-5B9D-4525-8A9B-F9B32C4C4AC0', '682AB7A9-4FBF-4204-BDE1-27EAB3425DA0', '8CA46F28-84C0-4FE2-B228-EC4080777865', '7B671984-4C56-4FF1-9733-B4B6FCA5F2AA', '9D725810-BFD6-44C6-961A-2BC027F6FC95', 'E503BBF8-3C82-4DF7-B6E9-2488ECFCC847', '47E52220-4596-4AF0-9724-0167B72A4DB8', '17A934C7-1510-481F-BAD7-189058957FF1', '91A37B4C-C38B-4269-8467-F40870934386', '0BBD0EA3-F665-465B-86FD-FC8B8466AD53', '8E34333C-2BB8-4631-B072-383F1CA38F60', '0BC9183A-9067-4E06-AA5B-48DC2AB30C80', '572BCFC9-E1D6-4419-9A33-EDD284806AF3', '2858B6C2-0886-4269-884C-06FA8B887319', 'CEC0FC3A-0FD1-4F1C-9C51-7D9BEF4D8222', '43EF8365-F932-409B-A51E-FBED3F6DFFAA', 'E26D83A0-D29D-41EF-9528-02C882FFCC0D', '70188FF4-04F0-48D2-8706-698D1FD086E6']\",\n",
      "        \"NormalEnergizingSubstation\": \"1cde3a3a-e19f-4129-925c-2c7a084f3d09\"\n",
      "    },\n",
      "    \"5B816B93-7A5F-B64C-8460-47C17D6E4B0F\": {\n",
      "        \"mRID\": \"5B816B93-7A5F-B64C-8460-47C17D6E4B0F\",\n",
      "        \"name\": \"ieee13nodecktassets\",\n",
      "        \"Location\": \"E8CC2D43-FB22-4798-AA57-09F1CDB77C00\",\n",
      "        \"ConnectivityNodes\": \"['09A37A19-DF0E-48F3-92E9-10FA62A08120', 'E14BD0DF-466D-487B-8786-0D46515D1F9B', '7326FB57-9839-4AE6-9F3D-B5660C58A7BA', '04006A64-109D-499D-8496-1B55907C1570', 'DFA687CB-83D6-4FD0-8007-657A3E1819F6', 'CB29A4D1-EE08-4AAF-82F6-3C178009EBC0', '22B55260-79B0-4DF5-A070-AFEDAFA299D4', 'B7E4EF30-D95D-4C8E-829B-F75FB0FDBEAD', 'BDCA9F2B-81A8-4969-AE86-B9D5DC399F51', '4163D7DE-898A-4241-93E0-F3FC49F1F714', '249A3E8C-0128-4DE2-92EA-112B44080BF2', '348C3A23-B2F4-4101-9A6C-AF8DEF97DD4C', '3E259C63-39CC-4B6C-9C4A-1B29A5C83840', '560E1C31-EE5C-4BFD-A0B6-F4E8D60E2C76', '61D2A727-4D2E-45F9-8A94-C42B38FFF029', 'DC7FBBF3-1456-4B9C-8983-9E3D4FA9D95B']\",\n",
      "        \"Equipments\": \"['4774208A-B9AB-4051-8BC9-4F7C8EA6552A', '603106B5-1DC7-40B1-A264-98774F6FD16D', '6964DE20-CC96-473D-BB0F-73CD8ACAED2D', '928BCF3C-276A-4E74-A4AE-C3C79D624F5F', '2EB647F9-B8F8-4659-9D2D-3515563030EB', 'F229083B-D5FC-40F0-BFE0-9E92C8C69574', '819CA18E-54AA-42D5-B069-F1AC831D926E', 'C28BFD4B-C7D1-49AD-BAA6-E06CB0856A72', 'EF316EA5-74D3-4209-89EA-BF8FAAC2BAF6', '28456F60-7196-47E4-9BE6-54F7EAABC04A', 'F3D41D9D-9606-4277-A336-69D7048301AF', '6A7D7AF8-A0F7-41B6-BB0C-160EAE054DEA', '4FE57842-43D5-4EBB-8FF1-795E6FE1C507', '7E0E4F76-E0FD-4BB5-BB58-BC5B05A5A59A', '16861155-E2D2-4E9C-8FCA-50EA820E96D0', '46479235-D5D9-4CE8-9F7C-C78426691797', '6EBB2188-CBE1-4FEC-9406-83DE8E61F9CB', '6BC92BAB-B1C8-49C5-87B3-126BBCDC46D5', '73E02C20-7DB0-4825-84C1-E58DB8C296BF', '6DEF3353-8276-402F-AC8E-3DEF4A396FFE', '8A0CF414-3240-47D1-AB8F-998165BA092E', 'EBD2AE36-04A5-4EA9-836F-12F9D3CCB777', 'F841F05A-E047-491F-BF7B-C71283C653D6', '4E1B3F09-CB88-4A5E-8198-24490EE7FC58', '6ECF60CD-E1E5-4C59-8941-3EC0E9DF30DD', 'C9CB60C2-46E0-4FDC-B2A5-73318344E4C9', '173879C4-4FDB-4521-A60D-5B102B3781B2', '8C536493-14B8-41D0-8EE4-CAE4DFF33839', 'A98417B1-4A7F-484F-97C8-9B91F29A26F1', 'D186291A-2487-45AE-83C7-651C7C71D41E', 'BE3F4495-1AC4-4A36-A529-40A6A740F58C', '08848DC6-BB11-4647-9C21-475BAD66A8B8', 'E062E187-F149-4555-8E27-2EE0C9D75274', '958C1DE5-2FA9-4051-8827-8681C4E7AFF6', 'F20F52DF-B0B1-4615-B9D3-AC669CE18454', '34A04257-8486-40AC-BE74-4022F7D395E4', '8A62F620-7C58-4662-AE5C-F41F5E3F0022', '67A2574B-8146-464D-B93C-B9FCBCE913BC']\",\n",
      "        \"NormalEnergizingSubstation\": \"1cde3a3a-e19f-4129-925c-2c7a084f3d09\"\n",
      "    }\n",
      "}\n"
     ]
    }
   ],
   "source": [
    "# Print substation data using names\n",
    "SubBuilder.network.pprint(cim.Substation, use_names = True)\n",
    "# Print feeder data\n",
    "SubBuilder.network.pprint(cim.Feeder)"
   ]
  },
  {
   "cell_type": "markdown",
   "metadata": {},
   "source": [
    "The CIMantic Graphs `utils` package can be used to save the substation to an XML file for further use. "
   ]
  },
  {
   "cell_type": "code",
   "execution_count": 48,
   "metadata": {},
   "outputs": [],
   "source": [
    "utils.write_xml(SubBuilder.network, '../test_output/double_bus.xml')"
   ]
  },
  {
   "cell_type": "markdown",
   "metadata": {},
   "source": [
    "The final verification that the substation has been created and can be successfully used with the network models Round-Trip Test: \n",
    "1) Delete all old models from the database\n",
    "2) Load the new substation and feeder CIM XML files\n",
    "3) Obtain all data for feeders contained by the subustation"
   ]
  },
  {
   "cell_type": "code",
   "execution_count": 49,
   "metadata": {},
   "outputs": [
    {
     "name": "stderr",
     "output_type": "stream",
     "text": [
      "/home/ande188/CIM-Builder/.venv/lib/python3.10/site-packages/SPARQLWrapper/Wrapper.py:1215: RuntimeWarning: unknown response content type 'text/html;charset=utf-8' returning raw response...\n",
      "  warnings.warn(\n"
     ]
    },
    {
     "data": {
      "text/plain": [
       "b'<!DOCTYPE HTML PUBLIC \"-//W3C//DTD HTML 4.01 Transitional//EN\" \"http://www.w3.org/TR/html4/loose.dtd\"><html><head><meta http-equiv=\"Content-Type\" content=\"text&#47;html;charset=UTF-8\"><title>blazegraph&trade; by SYSTAP</title\\n></head\\n><body<p>totalElapsed=18ms, elapsed=18ms, connFlush=0ms, batchResolve=0, whereClause=0ms, deleteClause=0ms, insertClause=0ms</p\\n><hr><p>COMMIT: totalElapsed=22ms, commitTime=1709690433356, mutationCount=6578</p\\n></html\\n>'"
      ]
     },
     "execution_count": 49,
     "metadata": {},
     "output_type": "execute_result"
    }
   ],
   "source": [
    "# Delete all CIM triples from database\n",
    "blazegraph.execute('drop all')"
   ]
  },
  {
   "cell_type": "code",
   "execution_count": 50,
   "metadata": {},
   "outputs": [
    {
     "name": "stdout",
     "output_type": "stream",
     "text": [
      "HTTP/1.1 100 Continue\n",
      "\n",
      "HTTP/1.1 200 OK\n",
      "Content-Type: application/xml;charset=iso-8859-1\n",
      "Content-Length: 62\n",
      "Server: Jetty(9.4.18.v20190429)\n",
      "\n",
      "<?xml version=\"1.0\"?><data modified=\"3392\" milliseconds=\"27\"/>HTTP/1.1 100 Continue\n",
      "\n",
      "HTTP/1.1 200 OK\n",
      "Content-Type: application/xml;charset=iso-8859-1\n",
      "Content-Length: 62\n",
      "Server: Jetty(9.4.18.v20190429)\n",
      "\n",
      "<?xml version=\"1.0\"?><data modified=\"2927\" milliseconds=\"36\"/>HTTP/1.1 100 Continue\n",
      "\n",
      "HTTP/1.1 200 OK\n",
      "Content-Type: application/xml;charset=iso-8859-1\n",
      "Content-Length: 61\n",
      "Server: Jetty(9.4.18.v20190429)\n",
      "\n",
      "<?xml version=\"1.0\"?><data modified=\"244\" milliseconds=\"29\"/>"
     ]
    }
   ],
   "source": [
    "# Upload new models into the database\n",
    "bg_loader.upload_from_file(filename='../test_models/IEEE13.xml')\n",
    "bg_loader.upload_from_file(filename='../test_models/IEEE13_Assets.xml')\n",
    "bg_loader.upload_from_file(filename='../test_output/double_bus.xml')"
   ]
  },
  {
   "cell_type": "markdown",
   "metadata": {},
   "source": [
    "To verify that all feeder data can be obtained, we create a new CIMantic Graphs model and then query for the classes Substation and Feeder. We can also obtain the total amount of aggregate load from both feeders that are served by the substation."
   ]
  },
  {
   "cell_type": "code",
   "execution_count": 51,
   "metadata": {},
   "outputs": [],
   "source": [
    "network = NodeBreakerModel(container=substation, connection=blazegraph, distributed = False)"
   ]
  },
  {
   "cell_type": "code",
   "execution_count": 52,
   "metadata": {},
   "outputs": [
    {
     "name": "stdout",
     "output_type": "stream",
     "text": [
      "{\n",
      "    \"1cde3a3a-e19f-4129-925c-2c7a084f3d09\": {\n",
      "        \"mRID\": \"1cde3a3a-e19f-4129-925c-2c7a084f3d09\",\n",
      "        \"name\": \"double_bus_sub\",\n",
      "        \"ConnectivityNodes\": \"['9a0b5746-06f4-4a10-9548-0d57cf308b82', 'c39e0d7b-2569-4232-a399-23e7f596f8c7', '078d300d-7287-49d4-995c-1e628d0e34d4', '4ebf1123-40af-441e-9bd6-000251777096', '534f835a-26d3-47a7-946d-84be0cf17196', '7b0ac837-74fe-4559-97a4-2e839fae83b7']\",\n",
      "        \"Equipments\": \"['805f98fd-dba0-4c9a-9833-26aa144bee36', '9f89232b-6913-4cbc-8c8e-fda9394e0cc5', 'b7531bbb-e49c-4340-9565-78b0462a4c1a', 'cbf0033e-1243-4586-adb1-6c04f2e4e9e6', 'd30c3697-0409-424b-9ab0-894c7480b030', 'd394c5fd-285a-4a44-96d9-5f8607338c8a', 'f627e2c8-beb5-443a-a3ef-ad21bb2c2e3c', '0e40636e-d34c-44b5-9580-ad1dea3f28f3', '13073494-8321-4dd0-b509-3661a9259ca0', '34e2df6a-57e4-4a76-9be4-60346500371c', '4ec136f7-0bda-4a8b-8f7b-573176cd6387']\",\n",
      "        \"NormalEnergizedFeeder\": \"['49AD8E07-3BF9-A4E2-CB8F-C3722F837B62', '5B816B93-7A5F-B64C-8460-47C17D6E4B0F']\"\n",
      "    }\n",
      "}\n"
     ]
    }
   ],
   "source": [
    "# Print substation info\n",
    "network.get_all_edges(cim.Substation)\n",
    "network.pprint(cim.Substation)"
   ]
  },
  {
   "cell_type": "code",
   "execution_count": 53,
   "metadata": {},
   "outputs": [
    {
     "name": "stdout",
     "output_type": "stream",
     "text": [
      "{\n",
      "    \"49AD8E07-3BF9-A4E2-CB8F-C3722F837B62\": {\n",
      "        \"mRID\": \"49AD8E07-3BF9-A4E2-CB8F-C3722F837B62\",\n",
      "        \"name\": \"ieee13nodeckt\",\n",
      "        \"Location\": \"8E4E3C92-0B7A-4F74-8FD2-CC10F74E452F\",\n",
      "        \"ConnectivityNodes\": \"['673E896A-DCBF-4E43-9924-BEB31C5B6005', 'A8A25B50-3AE3-4A31-A18B-B3FA13397ED3', '421E99BE-A834-4809-B924-84D88F634A45', '2A6DC4DD-D3DC-434D-A187-D2C58A0A72C8', '7BEDDADD-0A14-429F-8601-9EA8B892CA6E', '63DFBEA0-CD06-4D2E-B956-DF9517BE057B', '30BE5988-DE57-4E0C-AB08-50D5A13D2C1B', '0124E881-B82D-4206-BBDF-37D585159872', 'C6256170-E6ED-4F91-8EBD-748090C3FDD5', '0A98A62D-7642-4F03-8317-A8605CBDBA37', '04984C4D-CC29-477A-9AF4-61AC7D74F16F', '0DCC57AF-F4FA-457D-BB24-2EFDA9865A1A', 'E5B2888B-B60D-4DA6-A4F7-17EB849D28B2', '6CB5E5CE-2CD0-40CC-A979-B4F9ED05E49B', '8E99F99D-FE8F-420B-AC49-0B52DF5362AB', 'DC889FA5-7B28-4273-A1D7-205BE3E0BFED', '94F822E0-7130-4205-8597-B47110BBEF4B', 'ADDB7A30-5A3C-4179-AF5D-5C9A7213B0E7', '8C58660F-C62C-4903-BE72-22F1255B1E62', '76D6D03C-967C-4E12-836D-A98DF3552BC7', '0F1E28C3-6C44-4F88-B79C-2FDBCA4487B2', 'DBFA8EFA-B397-40DA-9642-60E8DE4B3471']\",\n",
      "        \"Equipments\": \"['60B55036-DD71-40CE-ADDA-97B8CE7447DC', '52DE9189-20DC-4C73-BDEE-E960FE1F9493', '8E180773-2A9B-4136-BC9A-132A52C8E276', '259E820F-B4AF-4E1A-8271-687534EDAECC', '3FFFB3F7-A7AF-49E1-ACEE-449FC73D3CD6', 'ABF877D7-DAC2-4BF0-AB58-9A8A02E92EB3', '32F02D2B-EE6E-4D3F-8486-1B5CAEF70204', 'D34B0D01-B082-4081-A3CC-B68B9B8313A4', 'C39149DE-3451-4D33-B4C2-B1E6C6FC9AAB', 'A04CDFB1-E951-4FC4-8882-0323CD70AE3C', 'ABF53597-A808-422A-B7EE-552F24D83A5F', 'FBE26B35-13AB-457D-9795-DF58B28E309D', '45395C84-F20A-4F5A-977F-B80348256421', 'CE5D0651-676B-4AF3-8D67-41BF1B33E30C', '67B57539-590B-4158-9CBB-9DBA2FE6C1F0', 'A9E8758B-5486-4798-8FBA-9AE639ABFC38', '517413CB-6977-46FA-8911-C82332E42884', 'A9DE8829-58CB-4750-B2A2-672846A89753', '9CAAF741-BE1E-4893-8044-1E507B7DDC38', 'B21C5599-1D00-4FCF-904B-58D9D4CAC49A', 'B6363F07-B1BC-420B-AA4C-A34BB8F05827', '1E6B5C97-C4E8-4CED-B9A5-6E69F389DA93', 'E2E0FC64-8D45-4C55-BDB9-EAB827A46FBC', '4C04F838-62AA-475E-AEFA-A63B7C889C13', '7060D0BB-B30D-4932-8FA1-40820A0FC4D0', '8B452737-CA3D-4C10-A99D-6865506437C8', '7FF12CEF-1C4D-4CD2-8FCC-662530A7BA33', '44FC5A86-A099-45B8-B847-F685C5027AFB', '3B2021A7-4BFC-418D-9C20-BD6838E52CF8', 'D2E930A7-B136-4ACA-A996-8DB5C60AADF3', '1C6781A2-5B9D-4525-8A9B-F9B32C4C4AC0', '682AB7A9-4FBF-4204-BDE1-27EAB3425DA0', '8CA46F28-84C0-4FE2-B228-EC4080777865', '7B671984-4C56-4FF1-9733-B4B6FCA5F2AA', '9D725810-BFD6-44C6-961A-2BC027F6FC95', 'E503BBF8-3C82-4DF7-B6E9-2488ECFCC847', '47E52220-4596-4AF0-9724-0167B72A4DB8', '17A934C7-1510-481F-BAD7-189058957FF1', '91A37B4C-C38B-4269-8467-F40870934386', '0BBD0EA3-F665-465B-86FD-FC8B8466AD53', '8E34333C-2BB8-4631-B072-383F1CA38F60', '0BC9183A-9067-4E06-AA5B-48DC2AB30C80', '572BCFC9-E1D6-4419-9A33-EDD284806AF3', '2858B6C2-0886-4269-884C-06FA8B887319', 'CEC0FC3A-0FD1-4F1C-9C51-7D9BEF4D8222', '43EF8365-F932-409B-A51E-FBED3F6DFFAA', 'E26D83A0-D29D-41EF-9528-02C882FFCC0D', '70188FF4-04F0-48D2-8706-698D1FD086E6']\",\n",
      "        \"NormalEnergizingSubstation\": \"6C62C905-6FC7-653D-9F1E-1340F974A587\"\n",
      "    },\n",
      "    \"5B816B93-7A5F-B64C-8460-47C17D6E4B0F\": {\n",
      "        \"mRID\": \"5B816B93-7A5F-B64C-8460-47C17D6E4B0F\",\n",
      "        \"name\": \"ieee13nodecktassets\",\n",
      "        \"Location\": \"E8CC2D43-FB22-4798-AA57-09F1CDB77C00\",\n",
      "        \"ConnectivityNodes\": \"['09A37A19-DF0E-48F3-92E9-10FA62A08120', 'E14BD0DF-466D-487B-8786-0D46515D1F9B', '7326FB57-9839-4AE6-9F3D-B5660C58A7BA', '04006A64-109D-499D-8496-1B55907C1570', 'DFA687CB-83D6-4FD0-8007-657A3E1819F6', 'CB29A4D1-EE08-4AAF-82F6-3C178009EBC0', '22B55260-79B0-4DF5-A070-AFEDAFA299D4', 'B7E4EF30-D95D-4C8E-829B-F75FB0FDBEAD', 'BDCA9F2B-81A8-4969-AE86-B9D5DC399F51', '4163D7DE-898A-4241-93E0-F3FC49F1F714', '249A3E8C-0128-4DE2-92EA-112B44080BF2', '348C3A23-B2F4-4101-9A6C-AF8DEF97DD4C', '3E259C63-39CC-4B6C-9C4A-1B29A5C83840', '560E1C31-EE5C-4BFD-A0B6-F4E8D60E2C76', '61D2A727-4D2E-45F9-8A94-C42B38FFF029', 'DC7FBBF3-1456-4B9C-8983-9E3D4FA9D95B']\",\n",
      "        \"Equipments\": \"['4774208A-B9AB-4051-8BC9-4F7C8EA6552A', '603106B5-1DC7-40B1-A264-98774F6FD16D', '6964DE20-CC96-473D-BB0F-73CD8ACAED2D', '928BCF3C-276A-4E74-A4AE-C3C79D624F5F', '2EB647F9-B8F8-4659-9D2D-3515563030EB', 'F229083B-D5FC-40F0-BFE0-9E92C8C69574', '819CA18E-54AA-42D5-B069-F1AC831D926E', 'C28BFD4B-C7D1-49AD-BAA6-E06CB0856A72', 'EF316EA5-74D3-4209-89EA-BF8FAAC2BAF6', '28456F60-7196-47E4-9BE6-54F7EAABC04A', 'F3D41D9D-9606-4277-A336-69D7048301AF', '6A7D7AF8-A0F7-41B6-BB0C-160EAE054DEA', '4FE57842-43D5-4EBB-8FF1-795E6FE1C507', '7E0E4F76-E0FD-4BB5-BB58-BC5B05A5A59A', '16861155-E2D2-4E9C-8FCA-50EA820E96D0', '46479235-D5D9-4CE8-9F7C-C78426691797', '6EBB2188-CBE1-4FEC-9406-83DE8E61F9CB', '6BC92BAB-B1C8-49C5-87B3-126BBCDC46D5', '73E02C20-7DB0-4825-84C1-E58DB8C296BF', '6DEF3353-8276-402F-AC8E-3DEF4A396FFE', '8A0CF414-3240-47D1-AB8F-998165BA092E', 'EBD2AE36-04A5-4EA9-836F-12F9D3CCB777', 'F841F05A-E047-491F-BF7B-C71283C653D6', '4E1B3F09-CB88-4A5E-8198-24490EE7FC58', '6ECF60CD-E1E5-4C59-8941-3EC0E9DF30DD', 'C9CB60C2-46E0-4FDC-B2A5-73318344E4C9', '173879C4-4FDB-4521-A60D-5B102B3781B2', '8C536493-14B8-41D0-8EE4-CAE4DFF33839', 'A98417B1-4A7F-484F-97C8-9B91F29A26F1', 'D186291A-2487-45AE-83C7-651C7C71D41E', 'BE3F4495-1AC4-4A36-A529-40A6A740F58C', '08848DC6-BB11-4647-9C21-475BAD66A8B8', 'E062E187-F149-4555-8E27-2EE0C9D75274', '958C1DE5-2FA9-4051-8827-8681C4E7AFF6', 'F20F52DF-B0B1-4615-B9D3-AC669CE18454', '34A04257-8486-40AC-BE74-4022F7D395E4', '8A62F620-7C58-4662-AE5C-F41F5E3F0022', '67A2574B-8146-464D-B93C-B9FCBCE913BC']\",\n",
      "        \"NormalEnergizingSubstation\": \"6C62C905-6FC7-653D-9F1E-1340F974A587\"\n",
      "    }\n",
      "}\n"
     ]
    }
   ],
   "source": [
    "# Print feeder info\n",
    "network.get_all_edges(cim.Feeder)\n",
    "network.pprint(cim.Feeder)"
   ]
  },
  {
   "cell_type": "code",
   "execution_count": 54,
   "metadata": {},
   "outputs": [
    {
     "name": "stdout",
     "output_type": "stream",
     "text": [
      "total load is 6937.0 kW\n"
     ]
    }
   ],
   "source": [
    "# Print total load served by substation from both feeders\n",
    "total_load = 0\n",
    "network.get_all_edges(cim.EnergyConsumer)\n",
    "for load in network.graph[cim.EnergyConsumer].values():\n",
    "    total_load = total_load + float(load.p)\n",
    "\n",
    "print(f'total load is {total_load/1000} kW')"
   ]
  },
  {
   "cell_type": "markdown",
   "metadata": {},
   "source": [
    "As part of the round-trip test, it is also possible to merge the substation and both feeders into a single XML file "
   ]
  },
  {
   "cell_type": "code",
   "execution_count": 55,
   "metadata": {},
   "outputs": [],
   "source": [
    "utils.get_all_data(network)\n",
    "utils.write_xml(network, '../test_output/double_bus_and_feeders.xml')"
   ]
  },
  {
   "cell_type": "code",
   "execution_count": null,
   "metadata": {},
   "outputs": [],
   "source": []
  },
  {
   "cell_type": "markdown",
   "metadata": {},
   "source": []
  },
  {
   "cell_type": "markdown",
   "metadata": {},
   "source": [
    "### Create Ring Bus Substation"
   ]
  },
  {
   "cell_type": "markdown",
   "metadata": {},
   "source": [
    "To create a new Main and Transfer substation, we import the associated class from the `substation_builder` module in CIM-Builder:"
   ]
  },
  {
   "cell_type": "code",
   "execution_count": 56,
   "metadata": {},
   "outputs": [],
   "source": [
    "from cimbuilder.substation_builder import RingBusSubstation"
   ]
  },
  {
   "cell_type": "markdown",
   "metadata": {},
   "source": [
    "To create a new substation, the class is instantiated with the name of the substation and base voltage. If the substation is not being added to an existing network, a new `DistributedArea` will be created to contain the substation. The total number of bus sections within the ring is denoted by `total_sections`."
   ]
  },
  {
   "cell_type": "code",
   "execution_count": 57,
   "metadata": {},
   "outputs": [],
   "source": [
    "SubBuilder = RingBusSubstation(connection=connection,\n",
    "                               name = \"ring_bus_sub\", \n",
    "                               base_voltage = 115000,\n",
    "                               total_sections = 4)\n",
    "substation = SubBuilder.substation"
   ]
  },
  {
   "cell_type": "markdown",
   "metadata": {},
   "source": [
    "To add a feeder to the new substation, the `.new_feeder()` method is called. The `series_number` is used for automatic naming of the breaker and airgap switches. The arguments `feeder` and `feeder_network` are used for the CIM feeder object and the CIMantic Graphs network model.\n",
    "\n",
    "The function call below will automatically insert the IEEE 13 and IEEE 13 Assets feeders into the new substation:"
   ]
  },
  {
   "cell_type": "code",
   "execution_count": 58,
   "metadata": {},
   "outputs": [],
   "source": [
    "SubBuilder.new_feeder(bus_number = 1, feeder=ieee13_feeder,\n",
    "                       feeder_network=ieee13_network)\n",
    "SubBuilder.new_feeder(bus_number = 2, feeder=assets13_feeder,\n",
    "                      feeder_network=assets13_network)"
   ]
  },
  {
   "cell_type": "markdown",
   "metadata": {},
   "source": [
    "To check whether the feeders have been added successfully, it is possible to use the CIMantic Graphs `.pprint(cim.ClassName)` method to print all instances of Substation and Feeder objects."
   ]
  },
  {
   "cell_type": "code",
   "execution_count": 59,
   "metadata": {},
   "outputs": [
    {
     "name": "stdout",
     "output_type": "stream",
     "text": [
      "{\n",
      "    \"a1b18b31-8d47-44ff-8ed0-3f6f716765f5\": {\n",
      "        \"mRID\": \"a1b18b31-8d47-44ff-8ed0-3f6f716765f5\",\n",
      "        \"name\": \"ring_bus_sub\",\n",
      "        \"NormalEnergizedFeeder\": \"['ieee13nodeckt', 'ieee13nodecktassets']\"\n",
      "    }\n",
      "}\n",
      "{\n",
      "    \"49AD8E07-3BF9-A4E2-CB8F-C3722F837B62\": {\n",
      "        \"mRID\": \"49AD8E07-3BF9-A4E2-CB8F-C3722F837B62\",\n",
      "        \"name\": \"ieee13nodeckt\",\n",
      "        \"Location\": \"8E4E3C92-0B7A-4F74-8FD2-CC10F74E452F\",\n",
      "        \"ConnectivityNodes\": \"['673E896A-DCBF-4E43-9924-BEB31C5B6005', 'A8A25B50-3AE3-4A31-A18B-B3FA13397ED3', '421E99BE-A834-4809-B924-84D88F634A45', '2A6DC4DD-D3DC-434D-A187-D2C58A0A72C8', '7BEDDADD-0A14-429F-8601-9EA8B892CA6E', '63DFBEA0-CD06-4D2E-B956-DF9517BE057B', '30BE5988-DE57-4E0C-AB08-50D5A13D2C1B', '0124E881-B82D-4206-BBDF-37D585159872', 'C6256170-E6ED-4F91-8EBD-748090C3FDD5', '0A98A62D-7642-4F03-8317-A8605CBDBA37', '04984C4D-CC29-477A-9AF4-61AC7D74F16F', '0DCC57AF-F4FA-457D-BB24-2EFDA9865A1A', 'E5B2888B-B60D-4DA6-A4F7-17EB849D28B2', '6CB5E5CE-2CD0-40CC-A979-B4F9ED05E49B', '8E99F99D-FE8F-420B-AC49-0B52DF5362AB', 'DC889FA5-7B28-4273-A1D7-205BE3E0BFED', '94F822E0-7130-4205-8597-B47110BBEF4B', 'ADDB7A30-5A3C-4179-AF5D-5C9A7213B0E7', '8C58660F-C62C-4903-BE72-22F1255B1E62', '76D6D03C-967C-4E12-836D-A98DF3552BC7', '0F1E28C3-6C44-4F88-B79C-2FDBCA4487B2', 'DBFA8EFA-B397-40DA-9642-60E8DE4B3471']\",\n",
      "        \"Equipments\": \"['60B55036-DD71-40CE-ADDA-97B8CE7447DC', '52DE9189-20DC-4C73-BDEE-E960FE1F9493', '8E180773-2A9B-4136-BC9A-132A52C8E276', '259E820F-B4AF-4E1A-8271-687534EDAECC', '3FFFB3F7-A7AF-49E1-ACEE-449FC73D3CD6', 'ABF877D7-DAC2-4BF0-AB58-9A8A02E92EB3', '32F02D2B-EE6E-4D3F-8486-1B5CAEF70204', 'D34B0D01-B082-4081-A3CC-B68B9B8313A4', 'C39149DE-3451-4D33-B4C2-B1E6C6FC9AAB', 'A04CDFB1-E951-4FC4-8882-0323CD70AE3C', 'ABF53597-A808-422A-B7EE-552F24D83A5F', 'FBE26B35-13AB-457D-9795-DF58B28E309D', '45395C84-F20A-4F5A-977F-B80348256421', 'CE5D0651-676B-4AF3-8D67-41BF1B33E30C', '67B57539-590B-4158-9CBB-9DBA2FE6C1F0', 'A9E8758B-5486-4798-8FBA-9AE639ABFC38', '517413CB-6977-46FA-8911-C82332E42884', 'A9DE8829-58CB-4750-B2A2-672846A89753', '9CAAF741-BE1E-4893-8044-1E507B7DDC38', 'B21C5599-1D00-4FCF-904B-58D9D4CAC49A', 'B6363F07-B1BC-420B-AA4C-A34BB8F05827', '1E6B5C97-C4E8-4CED-B9A5-6E69F389DA93', 'E2E0FC64-8D45-4C55-BDB9-EAB827A46FBC', '4C04F838-62AA-475E-AEFA-A63B7C889C13', '7060D0BB-B30D-4932-8FA1-40820A0FC4D0', '8B452737-CA3D-4C10-A99D-6865506437C8', '7FF12CEF-1C4D-4CD2-8FCC-662530A7BA33', '44FC5A86-A099-45B8-B847-F685C5027AFB', '3B2021A7-4BFC-418D-9C20-BD6838E52CF8', 'D2E930A7-B136-4ACA-A996-8DB5C60AADF3', '1C6781A2-5B9D-4525-8A9B-F9B32C4C4AC0', '682AB7A9-4FBF-4204-BDE1-27EAB3425DA0', '8CA46F28-84C0-4FE2-B228-EC4080777865', '7B671984-4C56-4FF1-9733-B4B6FCA5F2AA', '9D725810-BFD6-44C6-961A-2BC027F6FC95', 'E503BBF8-3C82-4DF7-B6E9-2488ECFCC847', '47E52220-4596-4AF0-9724-0167B72A4DB8', '17A934C7-1510-481F-BAD7-189058957FF1', '91A37B4C-C38B-4269-8467-F40870934386', '0BBD0EA3-F665-465B-86FD-FC8B8466AD53', '8E34333C-2BB8-4631-B072-383F1CA38F60', '0BC9183A-9067-4E06-AA5B-48DC2AB30C80', '572BCFC9-E1D6-4419-9A33-EDD284806AF3', '2858B6C2-0886-4269-884C-06FA8B887319', 'CEC0FC3A-0FD1-4F1C-9C51-7D9BEF4D8222', '43EF8365-F932-409B-A51E-FBED3F6DFFAA', 'E26D83A0-D29D-41EF-9528-02C882FFCC0D', '70188FF4-04F0-48D2-8706-698D1FD086E6']\",\n",
      "        \"NormalEnergizingSubstation\": \"a1b18b31-8d47-44ff-8ed0-3f6f716765f5\"\n",
      "    },\n",
      "    \"5B816B93-7A5F-B64C-8460-47C17D6E4B0F\": {\n",
      "        \"mRID\": \"5B816B93-7A5F-B64C-8460-47C17D6E4B0F\",\n",
      "        \"name\": \"ieee13nodecktassets\",\n",
      "        \"Location\": \"E8CC2D43-FB22-4798-AA57-09F1CDB77C00\",\n",
      "        \"ConnectivityNodes\": \"['09A37A19-DF0E-48F3-92E9-10FA62A08120', 'E14BD0DF-466D-487B-8786-0D46515D1F9B', '7326FB57-9839-4AE6-9F3D-B5660C58A7BA', '04006A64-109D-499D-8496-1B55907C1570', 'DFA687CB-83D6-4FD0-8007-657A3E1819F6', 'CB29A4D1-EE08-4AAF-82F6-3C178009EBC0', '22B55260-79B0-4DF5-A070-AFEDAFA299D4', 'B7E4EF30-D95D-4C8E-829B-F75FB0FDBEAD', 'BDCA9F2B-81A8-4969-AE86-B9D5DC399F51', '4163D7DE-898A-4241-93E0-F3FC49F1F714', '249A3E8C-0128-4DE2-92EA-112B44080BF2', '348C3A23-B2F4-4101-9A6C-AF8DEF97DD4C', '3E259C63-39CC-4B6C-9C4A-1B29A5C83840', '560E1C31-EE5C-4BFD-A0B6-F4E8D60E2C76', '61D2A727-4D2E-45F9-8A94-C42B38FFF029', 'DC7FBBF3-1456-4B9C-8983-9E3D4FA9D95B']\",\n",
      "        \"Equipments\": \"['4774208A-B9AB-4051-8BC9-4F7C8EA6552A', '603106B5-1DC7-40B1-A264-98774F6FD16D', '6964DE20-CC96-473D-BB0F-73CD8ACAED2D', '928BCF3C-276A-4E74-A4AE-C3C79D624F5F', '2EB647F9-B8F8-4659-9D2D-3515563030EB', 'F229083B-D5FC-40F0-BFE0-9E92C8C69574', '819CA18E-54AA-42D5-B069-F1AC831D926E', 'C28BFD4B-C7D1-49AD-BAA6-E06CB0856A72', 'EF316EA5-74D3-4209-89EA-BF8FAAC2BAF6', '28456F60-7196-47E4-9BE6-54F7EAABC04A', 'F3D41D9D-9606-4277-A336-69D7048301AF', '6A7D7AF8-A0F7-41B6-BB0C-160EAE054DEA', '4FE57842-43D5-4EBB-8FF1-795E6FE1C507', '7E0E4F76-E0FD-4BB5-BB58-BC5B05A5A59A', '16861155-E2D2-4E9C-8FCA-50EA820E96D0', '46479235-D5D9-4CE8-9F7C-C78426691797', '6EBB2188-CBE1-4FEC-9406-83DE8E61F9CB', '6BC92BAB-B1C8-49C5-87B3-126BBCDC46D5', '73E02C20-7DB0-4825-84C1-E58DB8C296BF', '6DEF3353-8276-402F-AC8E-3DEF4A396FFE', '8A0CF414-3240-47D1-AB8F-998165BA092E', 'EBD2AE36-04A5-4EA9-836F-12F9D3CCB777', 'F841F05A-E047-491F-BF7B-C71283C653D6', '4E1B3F09-CB88-4A5E-8198-24490EE7FC58', '6ECF60CD-E1E5-4C59-8941-3EC0E9DF30DD', 'C9CB60C2-46E0-4FDC-B2A5-73318344E4C9', '173879C4-4FDB-4521-A60D-5B102B3781B2', '8C536493-14B8-41D0-8EE4-CAE4DFF33839', 'A98417B1-4A7F-484F-97C8-9B91F29A26F1', 'D186291A-2487-45AE-83C7-651C7C71D41E', 'BE3F4495-1AC4-4A36-A529-40A6A740F58C', '08848DC6-BB11-4647-9C21-475BAD66A8B8', 'E062E187-F149-4555-8E27-2EE0C9D75274', '958C1DE5-2FA9-4051-8827-8681C4E7AFF6', 'F20F52DF-B0B1-4615-B9D3-AC669CE18454', '34A04257-8486-40AC-BE74-4022F7D395E4', '8A62F620-7C58-4662-AE5C-F41F5E3F0022', '67A2574B-8146-464D-B93C-B9FCBCE913BC']\",\n",
      "        \"NormalEnergizingSubstation\": \"a1b18b31-8d47-44ff-8ed0-3f6f716765f5\"\n",
      "    }\n",
      "}\n"
     ]
    }
   ],
   "source": [
    "# Print substation data using names\n",
    "SubBuilder.network.pprint(cim.Substation, use_names = True)\n",
    "# Print feeder data\n",
    "SubBuilder.network.pprint(cim.Feeder)"
   ]
  },
  {
   "cell_type": "markdown",
   "metadata": {},
   "source": [
    "The CIMantic Graphs `utils` package can be used to save the substation to an XML file for further use. "
   ]
  },
  {
   "cell_type": "code",
   "execution_count": 60,
   "metadata": {},
   "outputs": [],
   "source": [
    "utils.write_xml(SubBuilder.network, '../test_output/ring_bus.xml')"
   ]
  },
  {
   "cell_type": "markdown",
   "metadata": {},
   "source": [
    "The final verification that the substation has been created and can be successfully used with the network models Round-Trip Test: \n",
    "1) Delete all old models from the database\n",
    "2) Load the new substation and feeder CIM XML files\n",
    "3) Obtain all data for feeders contained by the subustation"
   ]
  },
  {
   "cell_type": "code",
   "execution_count": 61,
   "metadata": {},
   "outputs": [
    {
     "name": "stderr",
     "output_type": "stream",
     "text": [
      "/home/ande188/CIM-Builder/.venv/lib/python3.10/site-packages/SPARQLWrapper/Wrapper.py:1215: RuntimeWarning: unknown response content type 'text/html;charset=utf-8' returning raw response...\n",
      "  warnings.warn(\n"
     ]
    },
    {
     "data": {
      "text/plain": [
       "b'<!DOCTYPE HTML PUBLIC \"-//W3C//DTD HTML 4.01 Transitional//EN\" \"http://www.w3.org/TR/html4/loose.dtd\"><html><head><meta http-equiv=\"Content-Type\" content=\"text&#47;html;charset=UTF-8\"><title>blazegraph&trade; by SYSTAP</title\\n></head\\n><body<p>totalElapsed=31ms, elapsed=31ms, connFlush=0ms, batchResolve=0, whereClause=0ms, deleteClause=0ms, insertClause=0ms</p\\n><hr><p>COMMIT: totalElapsed=35ms, commitTime=1709690437549, mutationCount=6532</p\\n></html\\n>'"
      ]
     },
     "execution_count": 61,
     "metadata": {},
     "output_type": "execute_result"
    }
   ],
   "source": [
    "# Delete all CIM triples from database\n",
    "blazegraph.execute('drop all')"
   ]
  },
  {
   "cell_type": "code",
   "execution_count": 62,
   "metadata": {},
   "outputs": [
    {
     "name": "stdout",
     "output_type": "stream",
     "text": [
      "HTTP/1.1 100 Continue\n",
      "\n",
      "HTTP/1.1 200 OK\n",
      "Content-Type: application/xml;charset=iso-8859-1\n",
      "Content-Length: 62\n",
      "Server: Jetty(9.4.18.v20190429)\n",
      "\n",
      "<?xml version=\"1.0\"?><data modified=\"3392\" milliseconds=\"20\"/>HTTP/1.1 100 Continue\n",
      "\n",
      "HTTP/1.1 200 OK\n",
      "Content-Type: application/xml;charset=iso-8859-1\n",
      "Content-Length: 62\n",
      "Server: Jetty(9.4.18.v20190429)\n",
      "\n",
      "<?xml version=\"1.0\"?><data modified=\"2927\" milliseconds=\"21\"/>HTTP/1.1 100 Continue\n",
      "\n",
      "HTTP/1.1 200 OK\n",
      "Content-Type: application/xml;charset=iso-8859-1\n",
      "Content-Length: 61\n",
      "Server: Jetty(9.4.18.v20190429)\n",
      "\n",
      "<?xml version=\"1.0\"?><data modified=\"383\" milliseconds=\"29\"/>"
     ]
    }
   ],
   "source": [
    "# Upload new models into the database\n",
    "bg_loader.upload_from_file(filename='../test_models/IEEE13.xml')\n",
    "bg_loader.upload_from_file(filename='../test_models/IEEE13_Assets.xml')\n",
    "bg_loader.upload_from_file(filename='../test_output/ring_bus.xml')"
   ]
  },
  {
   "cell_type": "markdown",
   "metadata": {},
   "source": [
    "To verify that all feeder data can be obtained, we create a new CIMantic Graphs model and then query for the classes Substation and Feeder. We can also obtain the total amount of aggregate load from both feeders that are served by the substation."
   ]
  },
  {
   "cell_type": "code",
   "execution_count": 63,
   "metadata": {},
   "outputs": [],
   "source": [
    "network = NodeBreakerModel(container=substation, connection=blazegraph, distributed = False)"
   ]
  },
  {
   "cell_type": "code",
   "execution_count": 64,
   "metadata": {},
   "outputs": [
    {
     "name": "stdout",
     "output_type": "stream",
     "text": [
      "{\n",
      "    \"a1b18b31-8d47-44ff-8ed0-3f6f716765f5\": {\n",
      "        \"mRID\": \"a1b18b31-8d47-44ff-8ed0-3f6f716765f5\",\n",
      "        \"name\": \"ring_bus_sub\",\n",
      "        \"ConnectivityNodes\": \"['c08ba81a-5266-439e-87a2-1649a9f82c33', 'd2a97669-eda2-4948-83eb-e714906d5ff4', 'e48be6ab-e169-4e91-b1fc-d447617feb8f', 'effc4d06-049f-45e5-a6d8-98c63b36d2be', '1c6ac114-85fa-4b6d-9a9e-7b772ed1fc0c', '23387641-9b3c-49cd-9af5-2ed2fb6da11e', '3a0b4757-d8db-4f7b-89b3-7c98ad65c971', '5341b993-9ff6-4d11-9f7b-5cbd95b20b60', '6e7caef2-f2c5-4099-9285-cecaaa5d1ba7', '6f071a9a-bb43-45f4-ad92-f561f16d1225', '79052f05-3081-449e-af38-d3a18bfffe45', '7a571974-7a72-4079-bc0f-a9b2956e6eef']\",\n",
      "        \"Equipments\": \"['9776c7cc-eac7-429a-b17e-03f3756af413', 'a7444c60-adfd-498e-8c9a-322a1c481916', 'b5185dc7-f0fa-4bb1-8dd3-e16a2fdf4d6f', 'b7560811-ec1d-4fc4-9ee9-212871f6cad8', 'c4e83a27-8d34-413c-9726-0d57cc8a999b', 'dae6c7e2-1e3a-4178-81d0-562a07fd3da0', 'dda6676a-2571-479e-be0a-fac6dbe19b28', '09abb7e7-af22-414b-9145-68bdc0303865', '1992ec1c-4057-4662-8f40-dbd6a85b8149', '1e0e081b-a50c-4145-be0b-d8e648a22075', '292e1436-b69b-4d2f-af2f-d218ea1724b4', '33464f73-a730-4c1c-ac27-e2ef38dc029e', '4dc365cb-5353-49c0-b076-1b73dcf01fb1', '51379f2e-50de-49b5-81e6-590d1c70d919', '5929d73b-88b9-46c4-9a1d-f181a2582421', '6ca15306-dbcb-432f-b01f-6ea891cb2e72', '72bad1f2-609d-44a7-a10e-c4fc5a56905e', '7de3c99a-ede5-46e7-a2e5-b2b7c3d94d2b']\",\n",
      "        \"NormalEnergizedFeeder\": \"['49AD8E07-3BF9-A4E2-CB8F-C3722F837B62', '5B816B93-7A5F-B64C-8460-47C17D6E4B0F']\"\n",
      "    }\n",
      "}\n"
     ]
    }
   ],
   "source": [
    "# Print substation info\n",
    "network.get_all_edges(cim.Substation)\n",
    "network.pprint(cim.Substation)"
   ]
  },
  {
   "cell_type": "code",
   "execution_count": 65,
   "metadata": {},
   "outputs": [
    {
     "name": "stdout",
     "output_type": "stream",
     "text": [
      "{\n",
      "    \"49AD8E07-3BF9-A4E2-CB8F-C3722F837B62\": {\n",
      "        \"mRID\": \"49AD8E07-3BF9-A4E2-CB8F-C3722F837B62\",\n",
      "        \"name\": \"ieee13nodeckt\",\n",
      "        \"Location\": \"8E4E3C92-0B7A-4F74-8FD2-CC10F74E452F\",\n",
      "        \"ConnectivityNodes\": \"['673E896A-DCBF-4E43-9924-BEB31C5B6005', 'A8A25B50-3AE3-4A31-A18B-B3FA13397ED3', '421E99BE-A834-4809-B924-84D88F634A45', '2A6DC4DD-D3DC-434D-A187-D2C58A0A72C8', '7BEDDADD-0A14-429F-8601-9EA8B892CA6E', '63DFBEA0-CD06-4D2E-B956-DF9517BE057B', '30BE5988-DE57-4E0C-AB08-50D5A13D2C1B', '0124E881-B82D-4206-BBDF-37D585159872', 'C6256170-E6ED-4F91-8EBD-748090C3FDD5', '0A98A62D-7642-4F03-8317-A8605CBDBA37', '04984C4D-CC29-477A-9AF4-61AC7D74F16F', '0DCC57AF-F4FA-457D-BB24-2EFDA9865A1A', 'E5B2888B-B60D-4DA6-A4F7-17EB849D28B2', '6CB5E5CE-2CD0-40CC-A979-B4F9ED05E49B', '8E99F99D-FE8F-420B-AC49-0B52DF5362AB', 'DC889FA5-7B28-4273-A1D7-205BE3E0BFED', '94F822E0-7130-4205-8597-B47110BBEF4B', 'ADDB7A30-5A3C-4179-AF5D-5C9A7213B0E7', '8C58660F-C62C-4903-BE72-22F1255B1E62', '76D6D03C-967C-4E12-836D-A98DF3552BC7', '0F1E28C3-6C44-4F88-B79C-2FDBCA4487B2', 'DBFA8EFA-B397-40DA-9642-60E8DE4B3471']\",\n",
      "        \"Equipments\": \"['60B55036-DD71-40CE-ADDA-97B8CE7447DC', '52DE9189-20DC-4C73-BDEE-E960FE1F9493', '8E180773-2A9B-4136-BC9A-132A52C8E276', '259E820F-B4AF-4E1A-8271-687534EDAECC', '3FFFB3F7-A7AF-49E1-ACEE-449FC73D3CD6', 'ABF877D7-DAC2-4BF0-AB58-9A8A02E92EB3', '32F02D2B-EE6E-4D3F-8486-1B5CAEF70204', 'D34B0D01-B082-4081-A3CC-B68B9B8313A4', 'C39149DE-3451-4D33-B4C2-B1E6C6FC9AAB', 'A04CDFB1-E951-4FC4-8882-0323CD70AE3C', 'ABF53597-A808-422A-B7EE-552F24D83A5F', 'FBE26B35-13AB-457D-9795-DF58B28E309D', '45395C84-F20A-4F5A-977F-B80348256421', 'CE5D0651-676B-4AF3-8D67-41BF1B33E30C', '67B57539-590B-4158-9CBB-9DBA2FE6C1F0', 'A9E8758B-5486-4798-8FBA-9AE639ABFC38', '517413CB-6977-46FA-8911-C82332E42884', 'A9DE8829-58CB-4750-B2A2-672846A89753', '9CAAF741-BE1E-4893-8044-1E507B7DDC38', 'B21C5599-1D00-4FCF-904B-58D9D4CAC49A', 'B6363F07-B1BC-420B-AA4C-A34BB8F05827', '1E6B5C97-C4E8-4CED-B9A5-6E69F389DA93', 'E2E0FC64-8D45-4C55-BDB9-EAB827A46FBC', '4C04F838-62AA-475E-AEFA-A63B7C889C13', '7060D0BB-B30D-4932-8FA1-40820A0FC4D0', '8B452737-CA3D-4C10-A99D-6865506437C8', '7FF12CEF-1C4D-4CD2-8FCC-662530A7BA33', '44FC5A86-A099-45B8-B847-F685C5027AFB', '3B2021A7-4BFC-418D-9C20-BD6838E52CF8', 'D2E930A7-B136-4ACA-A996-8DB5C60AADF3', '1C6781A2-5B9D-4525-8A9B-F9B32C4C4AC0', '682AB7A9-4FBF-4204-BDE1-27EAB3425DA0', '8CA46F28-84C0-4FE2-B228-EC4080777865', '7B671984-4C56-4FF1-9733-B4B6FCA5F2AA', '9D725810-BFD6-44C6-961A-2BC027F6FC95', 'E503BBF8-3C82-4DF7-B6E9-2488ECFCC847', '47E52220-4596-4AF0-9724-0167B72A4DB8', '17A934C7-1510-481F-BAD7-189058957FF1', '91A37B4C-C38B-4269-8467-F40870934386', '0BBD0EA3-F665-465B-86FD-FC8B8466AD53', '8E34333C-2BB8-4631-B072-383F1CA38F60', '0BC9183A-9067-4E06-AA5B-48DC2AB30C80', '572BCFC9-E1D6-4419-9A33-EDD284806AF3', '2858B6C2-0886-4269-884C-06FA8B887319', 'CEC0FC3A-0FD1-4F1C-9C51-7D9BEF4D8222', '43EF8365-F932-409B-A51E-FBED3F6DFFAA', 'E26D83A0-D29D-41EF-9528-02C882FFCC0D', '70188FF4-04F0-48D2-8706-698D1FD086E6']\",\n",
      "        \"NormalEnergizingSubstation\": \"a1b18b31-8d47-44ff-8ed0-3f6f716765f5\"\n",
      "    },\n",
      "    \"5B816B93-7A5F-B64C-8460-47C17D6E4B0F\": {\n",
      "        \"mRID\": \"5B816B93-7A5F-B64C-8460-47C17D6E4B0F\",\n",
      "        \"name\": \"ieee13nodecktassets\",\n",
      "        \"Location\": \"E8CC2D43-FB22-4798-AA57-09F1CDB77C00\",\n",
      "        \"ConnectivityNodes\": \"['09A37A19-DF0E-48F3-92E9-10FA62A08120', 'E14BD0DF-466D-487B-8786-0D46515D1F9B', '7326FB57-9839-4AE6-9F3D-B5660C58A7BA', '04006A64-109D-499D-8496-1B55907C1570', 'DFA687CB-83D6-4FD0-8007-657A3E1819F6', 'CB29A4D1-EE08-4AAF-82F6-3C178009EBC0', '22B55260-79B0-4DF5-A070-AFEDAFA299D4', 'B7E4EF30-D95D-4C8E-829B-F75FB0FDBEAD', 'BDCA9F2B-81A8-4969-AE86-B9D5DC399F51', '4163D7DE-898A-4241-93E0-F3FC49F1F714', '249A3E8C-0128-4DE2-92EA-112B44080BF2', '348C3A23-B2F4-4101-9A6C-AF8DEF97DD4C', '3E259C63-39CC-4B6C-9C4A-1B29A5C83840', '560E1C31-EE5C-4BFD-A0B6-F4E8D60E2C76', '61D2A727-4D2E-45F9-8A94-C42B38FFF029', 'DC7FBBF3-1456-4B9C-8983-9E3D4FA9D95B']\",\n",
      "        \"Equipments\": \"['4774208A-B9AB-4051-8BC9-4F7C8EA6552A', '603106B5-1DC7-40B1-A264-98774F6FD16D', '6964DE20-CC96-473D-BB0F-73CD8ACAED2D', '928BCF3C-276A-4E74-A4AE-C3C79D624F5F', '2EB647F9-B8F8-4659-9D2D-3515563030EB', 'F229083B-D5FC-40F0-BFE0-9E92C8C69574', '819CA18E-54AA-42D5-B069-F1AC831D926E', 'C28BFD4B-C7D1-49AD-BAA6-E06CB0856A72', 'EF316EA5-74D3-4209-89EA-BF8FAAC2BAF6', '28456F60-7196-47E4-9BE6-54F7EAABC04A', 'F3D41D9D-9606-4277-A336-69D7048301AF', '6A7D7AF8-A0F7-41B6-BB0C-160EAE054DEA', '4FE57842-43D5-4EBB-8FF1-795E6FE1C507', '7E0E4F76-E0FD-4BB5-BB58-BC5B05A5A59A', '16861155-E2D2-4E9C-8FCA-50EA820E96D0', '46479235-D5D9-4CE8-9F7C-C78426691797', '6EBB2188-CBE1-4FEC-9406-83DE8E61F9CB', '6BC92BAB-B1C8-49C5-87B3-126BBCDC46D5', '73E02C20-7DB0-4825-84C1-E58DB8C296BF', '6DEF3353-8276-402F-AC8E-3DEF4A396FFE', '8A0CF414-3240-47D1-AB8F-998165BA092E', 'EBD2AE36-04A5-4EA9-836F-12F9D3CCB777', 'F841F05A-E047-491F-BF7B-C71283C653D6', '4E1B3F09-CB88-4A5E-8198-24490EE7FC58', '6ECF60CD-E1E5-4C59-8941-3EC0E9DF30DD', 'C9CB60C2-46E0-4FDC-B2A5-73318344E4C9', '173879C4-4FDB-4521-A60D-5B102B3781B2', '8C536493-14B8-41D0-8EE4-CAE4DFF33839', 'A98417B1-4A7F-484F-97C8-9B91F29A26F1', 'D186291A-2487-45AE-83C7-651C7C71D41E', 'BE3F4495-1AC4-4A36-A529-40A6A740F58C', '08848DC6-BB11-4647-9C21-475BAD66A8B8', 'E062E187-F149-4555-8E27-2EE0C9D75274', '958C1DE5-2FA9-4051-8827-8681C4E7AFF6', 'F20F52DF-B0B1-4615-B9D3-AC669CE18454', '34A04257-8486-40AC-BE74-4022F7D395E4', '8A62F620-7C58-4662-AE5C-F41F5E3F0022', '67A2574B-8146-464D-B93C-B9FCBCE913BC']\",\n",
      "        \"NormalEnergizingSubstation\": \"a1b18b31-8d47-44ff-8ed0-3f6f716765f5\"\n",
      "    }\n",
      "}\n"
     ]
    }
   ],
   "source": [
    "# Print feeder info\n",
    "network.get_all_edges(cim.Feeder)\n",
    "network.pprint(cim.Feeder)"
   ]
  },
  {
   "cell_type": "code",
   "execution_count": 66,
   "metadata": {},
   "outputs": [
    {
     "name": "stdout",
     "output_type": "stream",
     "text": [
      "total load is 6937.0 kW\n"
     ]
    }
   ],
   "source": [
    "# Print total load served by substation from both feeders\n",
    "total_load = 0\n",
    "network.get_all_edges(cim.EnergyConsumer)\n",
    "for load in network.graph[cim.EnergyConsumer].values():\n",
    "    total_load = total_load + float(load.p)\n",
    "\n",
    "print(f'total load is {total_load/1000} kW')"
   ]
  },
  {
   "cell_type": "markdown",
   "metadata": {},
   "source": [
    "As part of the round-trip test, it is also possible to merge the substation and both feeders into a single XML file "
   ]
  },
  {
   "cell_type": "code",
   "execution_count": 67,
   "metadata": {},
   "outputs": [],
   "source": [
    "utils.get_all_data(network)\n",
    "utils.write_xml(network, '../test_output/ring_bus_and_feeders.xml')"
   ]
  },
  {
   "cell_type": "code",
   "execution_count": null,
   "metadata": {},
   "outputs": [],
   "source": []
  },
  {
   "cell_type": "code",
   "execution_count": null,
   "metadata": {},
   "outputs": [],
   "source": []
  },
  {
   "cell_type": "code",
   "execution_count": null,
   "metadata": {},
   "outputs": [],
   "source": []
  },
  {
   "cell_type": "code",
   "execution_count": null,
   "metadata": {},
   "outputs": [],
   "source": []
  },
  {
   "cell_type": "code",
   "execution_count": null,
   "metadata": {},
   "outputs": [],
   "source": []
  },
  {
   "cell_type": "code",
   "execution_count": null,
   "metadata": {},
   "outputs": [],
   "source": []
  },
  {
   "cell_type": "markdown",
   "metadata": {},
   "source": []
  },
  {
   "cell_type": "markdown",
   "metadata": {},
   "source": [
    "### Create Breaker and a Half Substation"
   ]
  },
  {
   "cell_type": "markdown",
   "metadata": {},
   "source": [
    "To create a new Breaker-and-a-Half substation, we import the associated class from the `substation_builder` module in CIM-Builder:"
   ]
  },
  {
   "cell_type": "code",
   "execution_count": 68,
   "metadata": {},
   "outputs": [],
   "source": [
    "from cimbuilder.substation_builder import BreakerAndHalfSubstation"
   ]
  },
  {
   "cell_type": "markdown",
   "metadata": {},
   "source": [
    "To create a new substation, the class is instantiated with the name of the substation and base voltage. If the substation is not being added to an existing network, a new `DistributedArea` will be created to contain the substation. The total number of breaker sets in the substation is denoted by `total_bus_ties`."
   ]
  },
  {
   "cell_type": "code",
   "execution_count": 69,
   "metadata": {},
   "outputs": [],
   "source": [
    "SubBuilder = BreakerAndHalfSubstation(connection=connection,\n",
    "                               name = \"breaker_half_sub\", \n",
    "                               base_voltage = 115000,\n",
    "                               total_bus_ties=2)\n",
    "substation = SubBuilder.substation"
   ]
  },
  {
   "cell_type": "markdown",
   "metadata": {},
   "source": [
    "To add a feeder to the new substation, the `.new_feeder()` method is called. The `series_number` is used for automatic naming of the breaker and airgap switches. The arguments `feeder` and `feeder_network` are used for the CIM feeder object and the CIMantic Graphs network model.\n",
    "\n",
    "The function call below will automatically insert the IEEE 13 and IEEE 13 Assets feeders into the new substation:"
   ]
  },
  {
   "cell_type": "code",
   "execution_count": 70,
   "metadata": {},
   "outputs": [],
   "source": [
    "SubBuilder.new_feeder(branch_number=1, tie_number=1,\n",
    "                      feeder=ieee13_feeder,\n",
    "                      feeder_network=ieee13_network)\n",
    "SubBuilder.new_feeder(branch_number = 2, tie_number=1,\n",
    "                      feeder=assets13_feeder,\n",
    "                      feeder_network=assets13_network)"
   ]
  },
  {
   "cell_type": "markdown",
   "metadata": {},
   "source": [
    "To check whether the feeders have been added successfully, it is possible to use the CIMantic Graphs `.pprint(cim.ClassName)` method to print all instances of Substation and Feeder objects."
   ]
  },
  {
   "cell_type": "code",
   "execution_count": 71,
   "metadata": {},
   "outputs": [
    {
     "name": "stdout",
     "output_type": "stream",
     "text": [
      "{\n",
      "    \"2336a778-291f-4016-8fe9-a7bb0dae265c\": {\n",
      "        \"mRID\": \"2336a778-291f-4016-8fe9-a7bb0dae265c\",\n",
      "        \"name\": \"breaker_half_sub\",\n",
      "        \"NormalEnergizedFeeder\": \"['ieee13nodeckt', 'ieee13nodecktassets']\"\n",
      "    }\n",
      "}\n",
      "{\n",
      "    \"49AD8E07-3BF9-A4E2-CB8F-C3722F837B62\": {\n",
      "        \"mRID\": \"49AD8E07-3BF9-A4E2-CB8F-C3722F837B62\",\n",
      "        \"name\": \"ieee13nodeckt\",\n",
      "        \"Location\": \"8E4E3C92-0B7A-4F74-8FD2-CC10F74E452F\",\n",
      "        \"ConnectivityNodes\": \"['673E896A-DCBF-4E43-9924-BEB31C5B6005', 'A8A25B50-3AE3-4A31-A18B-B3FA13397ED3', '421E99BE-A834-4809-B924-84D88F634A45', '2A6DC4DD-D3DC-434D-A187-D2C58A0A72C8', '7BEDDADD-0A14-429F-8601-9EA8B892CA6E', '63DFBEA0-CD06-4D2E-B956-DF9517BE057B', '30BE5988-DE57-4E0C-AB08-50D5A13D2C1B', '0124E881-B82D-4206-BBDF-37D585159872', 'C6256170-E6ED-4F91-8EBD-748090C3FDD5', '0A98A62D-7642-4F03-8317-A8605CBDBA37', '04984C4D-CC29-477A-9AF4-61AC7D74F16F', '0DCC57AF-F4FA-457D-BB24-2EFDA9865A1A', 'E5B2888B-B60D-4DA6-A4F7-17EB849D28B2', '6CB5E5CE-2CD0-40CC-A979-B4F9ED05E49B', '8E99F99D-FE8F-420B-AC49-0B52DF5362AB', 'DC889FA5-7B28-4273-A1D7-205BE3E0BFED', '94F822E0-7130-4205-8597-B47110BBEF4B', 'ADDB7A30-5A3C-4179-AF5D-5C9A7213B0E7', '8C58660F-C62C-4903-BE72-22F1255B1E62', '76D6D03C-967C-4E12-836D-A98DF3552BC7', '0F1E28C3-6C44-4F88-B79C-2FDBCA4487B2', 'DBFA8EFA-B397-40DA-9642-60E8DE4B3471']\",\n",
      "        \"Equipments\": \"['60B55036-DD71-40CE-ADDA-97B8CE7447DC', '52DE9189-20DC-4C73-BDEE-E960FE1F9493', '8E180773-2A9B-4136-BC9A-132A52C8E276', '259E820F-B4AF-4E1A-8271-687534EDAECC', '3FFFB3F7-A7AF-49E1-ACEE-449FC73D3CD6', 'ABF877D7-DAC2-4BF0-AB58-9A8A02E92EB3', '32F02D2B-EE6E-4D3F-8486-1B5CAEF70204', 'D34B0D01-B082-4081-A3CC-B68B9B8313A4', 'C39149DE-3451-4D33-B4C2-B1E6C6FC9AAB', 'A04CDFB1-E951-4FC4-8882-0323CD70AE3C', 'ABF53597-A808-422A-B7EE-552F24D83A5F', 'FBE26B35-13AB-457D-9795-DF58B28E309D', '45395C84-F20A-4F5A-977F-B80348256421', 'CE5D0651-676B-4AF3-8D67-41BF1B33E30C', '67B57539-590B-4158-9CBB-9DBA2FE6C1F0', 'A9E8758B-5486-4798-8FBA-9AE639ABFC38', '517413CB-6977-46FA-8911-C82332E42884', 'A9DE8829-58CB-4750-B2A2-672846A89753', '9CAAF741-BE1E-4893-8044-1E507B7DDC38', 'B21C5599-1D00-4FCF-904B-58D9D4CAC49A', 'B6363F07-B1BC-420B-AA4C-A34BB8F05827', '1E6B5C97-C4E8-4CED-B9A5-6E69F389DA93', 'E2E0FC64-8D45-4C55-BDB9-EAB827A46FBC', '4C04F838-62AA-475E-AEFA-A63B7C889C13', '7060D0BB-B30D-4932-8FA1-40820A0FC4D0', '8B452737-CA3D-4C10-A99D-6865506437C8', '7FF12CEF-1C4D-4CD2-8FCC-662530A7BA33', '44FC5A86-A099-45B8-B847-F685C5027AFB', '3B2021A7-4BFC-418D-9C20-BD6838E52CF8', 'D2E930A7-B136-4ACA-A996-8DB5C60AADF3', '1C6781A2-5B9D-4525-8A9B-F9B32C4C4AC0', '682AB7A9-4FBF-4204-BDE1-27EAB3425DA0', '8CA46F28-84C0-4FE2-B228-EC4080777865', '7B671984-4C56-4FF1-9733-B4B6FCA5F2AA', '9D725810-BFD6-44C6-961A-2BC027F6FC95', 'E503BBF8-3C82-4DF7-B6E9-2488ECFCC847', '47E52220-4596-4AF0-9724-0167B72A4DB8', '17A934C7-1510-481F-BAD7-189058957FF1', '91A37B4C-C38B-4269-8467-F40870934386', '0BBD0EA3-F665-465B-86FD-FC8B8466AD53', '8E34333C-2BB8-4631-B072-383F1CA38F60', '0BC9183A-9067-4E06-AA5B-48DC2AB30C80', '572BCFC9-E1D6-4419-9A33-EDD284806AF3', '2858B6C2-0886-4269-884C-06FA8B887319', 'CEC0FC3A-0FD1-4F1C-9C51-7D9BEF4D8222', '43EF8365-F932-409B-A51E-FBED3F6DFFAA', 'E26D83A0-D29D-41EF-9528-02C882FFCC0D', '70188FF4-04F0-48D2-8706-698D1FD086E6']\",\n",
      "        \"NormalEnergizingSubstation\": \"2336a778-291f-4016-8fe9-a7bb0dae265c\"\n",
      "    },\n",
      "    \"5B816B93-7A5F-B64C-8460-47C17D6E4B0F\": {\n",
      "        \"mRID\": \"5B816B93-7A5F-B64C-8460-47C17D6E4B0F\",\n",
      "        \"name\": \"ieee13nodecktassets\",\n",
      "        \"Location\": \"E8CC2D43-FB22-4798-AA57-09F1CDB77C00\",\n",
      "        \"ConnectivityNodes\": \"['09A37A19-DF0E-48F3-92E9-10FA62A08120', 'E14BD0DF-466D-487B-8786-0D46515D1F9B', '7326FB57-9839-4AE6-9F3D-B5660C58A7BA', '04006A64-109D-499D-8496-1B55907C1570', 'DFA687CB-83D6-4FD0-8007-657A3E1819F6', 'CB29A4D1-EE08-4AAF-82F6-3C178009EBC0', '22B55260-79B0-4DF5-A070-AFEDAFA299D4', 'B7E4EF30-D95D-4C8E-829B-F75FB0FDBEAD', 'BDCA9F2B-81A8-4969-AE86-B9D5DC399F51', '4163D7DE-898A-4241-93E0-F3FC49F1F714', '249A3E8C-0128-4DE2-92EA-112B44080BF2', '348C3A23-B2F4-4101-9A6C-AF8DEF97DD4C', '3E259C63-39CC-4B6C-9C4A-1B29A5C83840', '560E1C31-EE5C-4BFD-A0B6-F4E8D60E2C76', '61D2A727-4D2E-45F9-8A94-C42B38FFF029', 'DC7FBBF3-1456-4B9C-8983-9E3D4FA9D95B']\",\n",
      "        \"Equipments\": \"['4774208A-B9AB-4051-8BC9-4F7C8EA6552A', '603106B5-1DC7-40B1-A264-98774F6FD16D', '6964DE20-CC96-473D-BB0F-73CD8ACAED2D', '928BCF3C-276A-4E74-A4AE-C3C79D624F5F', '2EB647F9-B8F8-4659-9D2D-3515563030EB', 'F229083B-D5FC-40F0-BFE0-9E92C8C69574', '819CA18E-54AA-42D5-B069-F1AC831D926E', 'C28BFD4B-C7D1-49AD-BAA6-E06CB0856A72', 'EF316EA5-74D3-4209-89EA-BF8FAAC2BAF6', '28456F60-7196-47E4-9BE6-54F7EAABC04A', 'F3D41D9D-9606-4277-A336-69D7048301AF', '6A7D7AF8-A0F7-41B6-BB0C-160EAE054DEA', '4FE57842-43D5-4EBB-8FF1-795E6FE1C507', '7E0E4F76-E0FD-4BB5-BB58-BC5B05A5A59A', '16861155-E2D2-4E9C-8FCA-50EA820E96D0', '46479235-D5D9-4CE8-9F7C-C78426691797', '6EBB2188-CBE1-4FEC-9406-83DE8E61F9CB', '6BC92BAB-B1C8-49C5-87B3-126BBCDC46D5', '73E02C20-7DB0-4825-84C1-E58DB8C296BF', '6DEF3353-8276-402F-AC8E-3DEF4A396FFE', '8A0CF414-3240-47D1-AB8F-998165BA092E', 'EBD2AE36-04A5-4EA9-836F-12F9D3CCB777', 'F841F05A-E047-491F-BF7B-C71283C653D6', '4E1B3F09-CB88-4A5E-8198-24490EE7FC58', '6ECF60CD-E1E5-4C59-8941-3EC0E9DF30DD', 'C9CB60C2-46E0-4FDC-B2A5-73318344E4C9', '173879C4-4FDB-4521-A60D-5B102B3781B2', '8C536493-14B8-41D0-8EE4-CAE4DFF33839', 'A98417B1-4A7F-484F-97C8-9B91F29A26F1', 'D186291A-2487-45AE-83C7-651C7C71D41E', 'BE3F4495-1AC4-4A36-A529-40A6A740F58C', '08848DC6-BB11-4647-9C21-475BAD66A8B8', 'E062E187-F149-4555-8E27-2EE0C9D75274', '958C1DE5-2FA9-4051-8827-8681C4E7AFF6', 'F20F52DF-B0B1-4615-B9D3-AC669CE18454', '34A04257-8486-40AC-BE74-4022F7D395E4', '8A62F620-7C58-4662-AE5C-F41F5E3F0022', '67A2574B-8146-464D-B93C-B9FCBCE913BC']\",\n",
      "        \"NormalEnergizingSubstation\": \"2336a778-291f-4016-8fe9-a7bb0dae265c\"\n",
      "    }\n",
      "}\n"
     ]
    }
   ],
   "source": [
    "# Print substation data using names\n",
    "SubBuilder.network.pprint(cim.Substation, use_names = True)\n",
    "# Print feeder data\n",
    "SubBuilder.network.pprint(cim.Feeder)"
   ]
  },
  {
   "cell_type": "markdown",
   "metadata": {},
   "source": [
    "The CIMantic Graphs `utils` package can be used to save the substation to an XML file for further use. "
   ]
  },
  {
   "cell_type": "code",
   "execution_count": 72,
   "metadata": {},
   "outputs": [],
   "source": [
    "utils.write_xml(SubBuilder.network, '../test_output/breaker_half.xml')"
   ]
  },
  {
   "cell_type": "markdown",
   "metadata": {},
   "source": [
    "The final verification that the substation has been created and can be successfully used with the network models Round-Trip Test: \n",
    "1) Delete all old models from the database\n",
    "2) Load the new substation and feeder CIM XML files\n",
    "3) Obtain all data for feeders contained by the subustation"
   ]
  },
  {
   "cell_type": "code",
   "execution_count": 73,
   "metadata": {},
   "outputs": [
    {
     "name": "stderr",
     "output_type": "stream",
     "text": [
      "/home/ande188/CIM-Builder/.venv/lib/python3.10/site-packages/SPARQLWrapper/Wrapper.py:1215: RuntimeWarning: unknown response content type 'text/html;charset=utf-8' returning raw response...\n",
      "  warnings.warn(\n"
     ]
    },
    {
     "data": {
      "text/plain": [
       "b'<!DOCTYPE HTML PUBLIC \"-//W3C//DTD HTML 4.01 Transitional//EN\" \"http://www.w3.org/TR/html4/loose.dtd\"><html><head><meta http-equiv=\"Content-Type\" content=\"text&#47;html;charset=UTF-8\"><title>blazegraph&trade; by SYSTAP</title\\n></head\\n><body<p>totalElapsed=18ms, elapsed=18ms, connFlush=0ms, batchResolve=0, whereClause=0ms, deleteClause=0ms, insertClause=0ms</p\\n><hr><p>COMMIT: totalElapsed=22ms, commitTime=1709690441781, mutationCount=6671</p\\n></html\\n>'"
      ]
     },
     "execution_count": 73,
     "metadata": {},
     "output_type": "execute_result"
    }
   ],
   "source": [
    "# Delete all CIM triples from database\n",
    "blazegraph.execute('drop all')"
   ]
  },
  {
   "cell_type": "code",
   "execution_count": 74,
   "metadata": {},
   "outputs": [
    {
     "name": "stdout",
     "output_type": "stream",
     "text": [
      "HTTP/1.1 100 Continue\n",
      "\n",
      "HTTP/1.1 200 OK\n",
      "Content-Type: application/xml;charset=iso-8859-1\n",
      "Content-Length: 62\n",
      "Server: Jetty(9.4.18.v20190429)\n",
      "\n",
      "<?xml version=\"1.0\"?><data modified=\"3392\" milliseconds=\"22\"/>HTTP/1.1 100 Continue\n",
      "\n",
      "HTTP/1.1 200 OK\n",
      "Content-Type: application/xml;charset=iso-8859-1\n",
      "Content-Length: 62\n",
      "Server: Jetty(9.4.18.v20190429)\n",
      "\n",
      "<?xml version=\"1.0\"?><data modified=\"2927\" milliseconds=\"40\"/>HTTP/1.1 100 Continue\n",
      "\n",
      "HTTP/1.1 200 OK\n",
      "Content-Type: application/xml;charset=iso-8859-1\n",
      "Content-Length: 61\n",
      "Server: Jetty(9.4.18.v20190429)\n",
      "\n",
      "<?xml version=\"1.0\"?><data modified=\"501\" milliseconds=\"49\"/>"
     ]
    }
   ],
   "source": [
    "# Upload new models into the database\n",
    "bg_loader.upload_from_file(filename='../test_models/IEEE13.xml')\n",
    "bg_loader.upload_from_file(filename='../test_models/IEEE13_Assets.xml')\n",
    "bg_loader.upload_from_file(filename='../test_output/breaker_half.xml')"
   ]
  },
  {
   "cell_type": "markdown",
   "metadata": {},
   "source": [
    "To verify that all feeder data can be obtained, we create a new CIMantic Graphs model and then query for the classes Substation and Feeder. We can also obtain the total amount of aggregate load from both feeders that are served by the substation."
   ]
  },
  {
   "cell_type": "code",
   "execution_count": 75,
   "metadata": {},
   "outputs": [],
   "source": [
    "network = NodeBreakerModel(container=substation, connection=blazegraph, distributed = False)"
   ]
  },
  {
   "cell_type": "code",
   "execution_count": 76,
   "metadata": {},
   "outputs": [
    {
     "name": "stdout",
     "output_type": "stream",
     "text": [
      "{\n",
      "    \"2336a778-291f-4016-8fe9-a7bb0dae265c\": {\n",
      "        \"mRID\": \"2336a778-291f-4016-8fe9-a7bb0dae265c\",\n",
      "        \"name\": \"breaker_half_sub\",\n",
      "        \"ConnectivityNodes\": \"['841593ae-5059-4e58-ac4d-bf33aee451e9', '923d707e-7897-4201-8e84-5d448dac19cb', 'ad273997-8310-4f4a-a9ca-b150eea3cb33', 'bba8971c-6a90-4774-ab36-b075dbca479a', 'bc0e4c3a-90f7-4c03-9873-6634d3fd0a9f', 'c6d4ffef-a973-4004-a578-f29b01db89fe', 'c9a16f38-f37e-4735-8f7b-3bb29d12af29', 'f473eb2b-b52c-466d-a0ec-44b4271a7b77', '08577179-cd1e-46d9-bbb0-fd7ec8df8888', '14179489-0232-4f06-82f2-eedb9cf3c2f4', '17e64884-953f-43a1-8e3c-b670703b9776', '28849487-03d8-4109-a1cb-7e1ea4a4b596', '30786787-458a-4bf9-97ca-ec289418579d', '3e38ec94-6446-45e9-a814-068402296b66', '494c9eaf-00fd-47fa-b5cb-04ae942aecfc', '599e2e0e-459e-4002-bb48-21053a2f40c7', '787bc5ef-7a05-48af-921f-924fe98b4c7a', '7e81b43f-83d2-45aa-bdfd-18bac5d683a1']\",\n",
      "        \"Equipments\": \"['86404f3c-a294-4607-822b-2ea26a6ee42a', '8d6b5056-00fe-424d-a35a-12ced05f8760', 'b0a7f11b-a91e-4c25-820a-260124484b07', 'b3289467-ccf3-4351-a134-ce443dead3b8', 'b5d94617-6a96-4b88-ad24-7d156cae7cc7', 'c76d489e-acc0-47f2-b96e-5797596930fb', 'e7fb5859-a476-41f7-9b84-3f3e406fab57', 'e8c26432-cd1b-4c15-8637-f3f0909b5dd7', 'f7af2760-529f-4fb5-aee9-f6ded0c89c39', 'fb6ff476-14e5-4725-84c8-0502986deeb9', '01c87c88-6fed-4749-b628-42b407fdc23c', '0aed3b6a-70e6-46d7-b373-140b156473da', '1402b9c4-8d5a-411f-b5d7-e0ae02603bc5', '2f5dab5c-0d03-46a3-9739-9d8c1f8173de', '48257b92-0987-4acb-92cb-52ed96565658', '51d7ec36-c613-417e-a86e-a5a12ef740da', '5729a3a8-3faf-4efb-b535-6f1d0ca0ceda', '5a587b6a-1bae-4c56-9e2a-ec34c21662e8', '6205b7f0-aba5-4418-8951-6387e249239e', '643860de-1e67-4e86-a861-c702e8d5ff75', '6f139662-3fc8-4d33-b256-78c98fda2ede', '7c41ba48-9fee-416b-bfc9-5ae255d3aa70']\",\n",
      "        \"NormalEnergizedFeeder\": \"['49AD8E07-3BF9-A4E2-CB8F-C3722F837B62', '5B816B93-7A5F-B64C-8460-47C17D6E4B0F']\"\n",
      "    }\n",
      "}\n"
     ]
    }
   ],
   "source": [
    "# Print substation info\n",
    "network.get_all_edges(cim.Substation)\n",
    "network.pprint(cim.Substation)"
   ]
  },
  {
   "cell_type": "code",
   "execution_count": 77,
   "metadata": {},
   "outputs": [
    {
     "name": "stdout",
     "output_type": "stream",
     "text": [
      "{\n",
      "    \"49AD8E07-3BF9-A4E2-CB8F-C3722F837B62\": {\n",
      "        \"mRID\": \"49AD8E07-3BF9-A4E2-CB8F-C3722F837B62\",\n",
      "        \"name\": \"ieee13nodeckt\",\n",
      "        \"Location\": \"8E4E3C92-0B7A-4F74-8FD2-CC10F74E452F\",\n",
      "        \"ConnectivityNodes\": \"['673E896A-DCBF-4E43-9924-BEB31C5B6005', 'A8A25B50-3AE3-4A31-A18B-B3FA13397ED3', '421E99BE-A834-4809-B924-84D88F634A45', '2A6DC4DD-D3DC-434D-A187-D2C58A0A72C8', '7BEDDADD-0A14-429F-8601-9EA8B892CA6E', '63DFBEA0-CD06-4D2E-B956-DF9517BE057B', '30BE5988-DE57-4E0C-AB08-50D5A13D2C1B', '0124E881-B82D-4206-BBDF-37D585159872', 'C6256170-E6ED-4F91-8EBD-748090C3FDD5', '0A98A62D-7642-4F03-8317-A8605CBDBA37', '04984C4D-CC29-477A-9AF4-61AC7D74F16F', '0DCC57AF-F4FA-457D-BB24-2EFDA9865A1A', 'E5B2888B-B60D-4DA6-A4F7-17EB849D28B2', '6CB5E5CE-2CD0-40CC-A979-B4F9ED05E49B', '8E99F99D-FE8F-420B-AC49-0B52DF5362AB', 'DC889FA5-7B28-4273-A1D7-205BE3E0BFED', '94F822E0-7130-4205-8597-B47110BBEF4B', 'ADDB7A30-5A3C-4179-AF5D-5C9A7213B0E7', '8C58660F-C62C-4903-BE72-22F1255B1E62', '76D6D03C-967C-4E12-836D-A98DF3552BC7', '0F1E28C3-6C44-4F88-B79C-2FDBCA4487B2', 'DBFA8EFA-B397-40DA-9642-60E8DE4B3471']\",\n",
      "        \"Equipments\": \"['60B55036-DD71-40CE-ADDA-97B8CE7447DC', '52DE9189-20DC-4C73-BDEE-E960FE1F9493', '8E180773-2A9B-4136-BC9A-132A52C8E276', '259E820F-B4AF-4E1A-8271-687534EDAECC', '3FFFB3F7-A7AF-49E1-ACEE-449FC73D3CD6', 'ABF877D7-DAC2-4BF0-AB58-9A8A02E92EB3', '32F02D2B-EE6E-4D3F-8486-1B5CAEF70204', 'D34B0D01-B082-4081-A3CC-B68B9B8313A4', 'C39149DE-3451-4D33-B4C2-B1E6C6FC9AAB', 'A04CDFB1-E951-4FC4-8882-0323CD70AE3C', 'ABF53597-A808-422A-B7EE-552F24D83A5F', 'FBE26B35-13AB-457D-9795-DF58B28E309D', '45395C84-F20A-4F5A-977F-B80348256421', 'CE5D0651-676B-4AF3-8D67-41BF1B33E30C', '67B57539-590B-4158-9CBB-9DBA2FE6C1F0', 'A9E8758B-5486-4798-8FBA-9AE639ABFC38', '517413CB-6977-46FA-8911-C82332E42884', 'A9DE8829-58CB-4750-B2A2-672846A89753', '9CAAF741-BE1E-4893-8044-1E507B7DDC38', 'B21C5599-1D00-4FCF-904B-58D9D4CAC49A', 'B6363F07-B1BC-420B-AA4C-A34BB8F05827', '1E6B5C97-C4E8-4CED-B9A5-6E69F389DA93', 'E2E0FC64-8D45-4C55-BDB9-EAB827A46FBC', '4C04F838-62AA-475E-AEFA-A63B7C889C13', '7060D0BB-B30D-4932-8FA1-40820A0FC4D0', '8B452737-CA3D-4C10-A99D-6865506437C8', '7FF12CEF-1C4D-4CD2-8FCC-662530A7BA33', '44FC5A86-A099-45B8-B847-F685C5027AFB', '3B2021A7-4BFC-418D-9C20-BD6838E52CF8', 'D2E930A7-B136-4ACA-A996-8DB5C60AADF3', '1C6781A2-5B9D-4525-8A9B-F9B32C4C4AC0', '682AB7A9-4FBF-4204-BDE1-27EAB3425DA0', '8CA46F28-84C0-4FE2-B228-EC4080777865', '7B671984-4C56-4FF1-9733-B4B6FCA5F2AA', '9D725810-BFD6-44C6-961A-2BC027F6FC95', 'E503BBF8-3C82-4DF7-B6E9-2488ECFCC847', '47E52220-4596-4AF0-9724-0167B72A4DB8', '17A934C7-1510-481F-BAD7-189058957FF1', '91A37B4C-C38B-4269-8467-F40870934386', '0BBD0EA3-F665-465B-86FD-FC8B8466AD53', '8E34333C-2BB8-4631-B072-383F1CA38F60', '0BC9183A-9067-4E06-AA5B-48DC2AB30C80', '572BCFC9-E1D6-4419-9A33-EDD284806AF3', '2858B6C2-0886-4269-884C-06FA8B887319', 'CEC0FC3A-0FD1-4F1C-9C51-7D9BEF4D8222', '43EF8365-F932-409B-A51E-FBED3F6DFFAA', 'E26D83A0-D29D-41EF-9528-02C882FFCC0D', '70188FF4-04F0-48D2-8706-698D1FD086E6']\",\n",
      "        \"NormalEnergizingSubstation\": \"6C62C905-6FC7-653D-9F1E-1340F974A587\"\n",
      "    },\n",
      "    \"5B816B93-7A5F-B64C-8460-47C17D6E4B0F\": {\n",
      "        \"mRID\": \"5B816B93-7A5F-B64C-8460-47C17D6E4B0F\",\n",
      "        \"name\": \"ieee13nodecktassets\",\n",
      "        \"Location\": \"E8CC2D43-FB22-4798-AA57-09F1CDB77C00\",\n",
      "        \"ConnectivityNodes\": \"['09A37A19-DF0E-48F3-92E9-10FA62A08120', 'E14BD0DF-466D-487B-8786-0D46515D1F9B', '7326FB57-9839-4AE6-9F3D-B5660C58A7BA', '04006A64-109D-499D-8496-1B55907C1570', 'DFA687CB-83D6-4FD0-8007-657A3E1819F6', 'CB29A4D1-EE08-4AAF-82F6-3C178009EBC0', '22B55260-79B0-4DF5-A070-AFEDAFA299D4', 'B7E4EF30-D95D-4C8E-829B-F75FB0FDBEAD', 'BDCA9F2B-81A8-4969-AE86-B9D5DC399F51', '4163D7DE-898A-4241-93E0-F3FC49F1F714', '249A3E8C-0128-4DE2-92EA-112B44080BF2', '348C3A23-B2F4-4101-9A6C-AF8DEF97DD4C', '3E259C63-39CC-4B6C-9C4A-1B29A5C83840', '560E1C31-EE5C-4BFD-A0B6-F4E8D60E2C76', '61D2A727-4D2E-45F9-8A94-C42B38FFF029', 'DC7FBBF3-1456-4B9C-8983-9E3D4FA9D95B']\",\n",
      "        \"Equipments\": \"['4774208A-B9AB-4051-8BC9-4F7C8EA6552A', '603106B5-1DC7-40B1-A264-98774F6FD16D', '6964DE20-CC96-473D-BB0F-73CD8ACAED2D', '928BCF3C-276A-4E74-A4AE-C3C79D624F5F', '2EB647F9-B8F8-4659-9D2D-3515563030EB', 'F229083B-D5FC-40F0-BFE0-9E92C8C69574', '819CA18E-54AA-42D5-B069-F1AC831D926E', 'C28BFD4B-C7D1-49AD-BAA6-E06CB0856A72', 'EF316EA5-74D3-4209-89EA-BF8FAAC2BAF6', '28456F60-7196-47E4-9BE6-54F7EAABC04A', 'F3D41D9D-9606-4277-A336-69D7048301AF', '6A7D7AF8-A0F7-41B6-BB0C-160EAE054DEA', '4FE57842-43D5-4EBB-8FF1-795E6FE1C507', '7E0E4F76-E0FD-4BB5-BB58-BC5B05A5A59A', '16861155-E2D2-4E9C-8FCA-50EA820E96D0', '46479235-D5D9-4CE8-9F7C-C78426691797', '6EBB2188-CBE1-4FEC-9406-83DE8E61F9CB', '6BC92BAB-B1C8-49C5-87B3-126BBCDC46D5', '73E02C20-7DB0-4825-84C1-E58DB8C296BF', '6DEF3353-8276-402F-AC8E-3DEF4A396FFE', '8A0CF414-3240-47D1-AB8F-998165BA092E', 'EBD2AE36-04A5-4EA9-836F-12F9D3CCB777', 'F841F05A-E047-491F-BF7B-C71283C653D6', '4E1B3F09-CB88-4A5E-8198-24490EE7FC58', '6ECF60CD-E1E5-4C59-8941-3EC0E9DF30DD', 'C9CB60C2-46E0-4FDC-B2A5-73318344E4C9', '173879C4-4FDB-4521-A60D-5B102B3781B2', '8C536493-14B8-41D0-8EE4-CAE4DFF33839', 'A98417B1-4A7F-484F-97C8-9B91F29A26F1', 'D186291A-2487-45AE-83C7-651C7C71D41E', 'BE3F4495-1AC4-4A36-A529-40A6A740F58C', '08848DC6-BB11-4647-9C21-475BAD66A8B8', 'E062E187-F149-4555-8E27-2EE0C9D75274', '958C1DE5-2FA9-4051-8827-8681C4E7AFF6', 'F20F52DF-B0B1-4615-B9D3-AC669CE18454', '34A04257-8486-40AC-BE74-4022F7D395E4', '8A62F620-7C58-4662-AE5C-F41F5E3F0022', '67A2574B-8146-464D-B93C-B9FCBCE913BC']\",\n",
      "        \"NormalEnergizingSubstation\": \"6C62C905-6FC7-653D-9F1E-1340F974A587\"\n",
      "    }\n",
      "}\n"
     ]
    }
   ],
   "source": [
    "# Print feeder info\n",
    "network.get_all_edges(cim.Feeder)\n",
    "network.pprint(cim.Feeder)"
   ]
  },
  {
   "cell_type": "code",
   "execution_count": 78,
   "metadata": {},
   "outputs": [
    {
     "name": "stdout",
     "output_type": "stream",
     "text": [
      "total load is 6937.0 kW\n"
     ]
    }
   ],
   "source": [
    "# Print total load served by substation from both feeders\n",
    "total_load = 0\n",
    "network.get_all_edges(cim.EnergyConsumer)\n",
    "for load in network.graph[cim.EnergyConsumer].values():\n",
    "    total_load = total_load + float(load.p)\n",
    "\n",
    "print(f'total load is {total_load/1000} kW')"
   ]
  },
  {
   "cell_type": "markdown",
   "metadata": {},
   "source": [
    "As part of the round-trip test, it is also possible to merge the substation and both feeders into a single XML file "
   ]
  },
  {
   "cell_type": "code",
   "execution_count": 79,
   "metadata": {},
   "outputs": [],
   "source": [
    "utils.get_all_data(network)\n",
    "utils.write_xml(network, '../test_output/breaker_half_and_feeders.xml')\n"
   ]
  },
  {
   "cell_type": "code",
   "execution_count": null,
   "metadata": {},
   "outputs": [],
   "source": []
  },
  {
   "cell_type": "code",
   "execution_count": null,
   "metadata": {},
   "outputs": [],
   "source": []
  },
  {
   "cell_type": "code",
   "execution_count": null,
   "metadata": {},
   "outputs": [],
   "source": []
  }
 ],
 "metadata": {
  "kernelspec": {
   "display_name": "Python 3 (ipykernel)",
   "language": "python",
   "name": "python3"
  },
  "language_info": {
   "codemirror_mode": {
    "name": "ipython",
    "version": 3
   },
   "file_extension": ".py",
   "mimetype": "text/x-python",
   "name": "python",
   "nbconvert_exporter": "python",
   "pygments_lexer": "ipython3",
   "version": "3.10.12"
  }
 },
 "nbformat": 4,
 "nbformat_minor": 4
}
