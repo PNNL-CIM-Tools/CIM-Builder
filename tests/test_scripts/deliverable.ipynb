{
 "cells": [
  {
   "cell_type": "markdown",
   "metadata": {},
   "source": [
    "# Automated Substation Creation and Feeder Insertion in Native CIM17"
   ]
  },
  {
   "cell_type": "markdown",
   "metadata": {},
   "source": [
    "CIM-Builder is a new python library developed under the Grid Atlas and MAPLE LEAF projects for creating CIM models \"from scratch\" with no pre-existing model files. This is a significantly different capability than all other tooling, which requires a source file from which to start, such as OpenDSS, PSSE, or GIS data. The library currently inlcudes three main functionalities:\n",
    "\n",
    "1) automatic creation of new node-breaker substations in CIM based on interactive API calls\n",
    "\n",
    "2) automatic insertion of existing distribution feeders in CIM into new node-breaker substations\n",
    "\n",
    "3) automatic insertion of new aggregate feeder data in existing CIM transmission models (not demonstrated in this report). //\n",
    "\n",
    "The library contains a set of classes for each type of common substation, which each contain two methods. The first is `add_feeder`, which automatically adds the specified distribution feeder to the substation and creates the chain of switching equipment between the sourcebus of the feeder and the correct breaker or airgap switch in the substation. The second is `add_branch`, which enables automated addition of transmission branches, transformers, and shunt equipment to the substation bus.\n",
    "\n",
    "The classes supported within the first version of CIM-Builder are\n",
    "\n",
    "* `SingleBusSubstation`\n",
    "* `MainAndTransferSubstation`\n",
    "* `RingBusSubstation`\n",
    "* `DoubleBusSingleBreakerSubstation`\n",
    "* `BreakerAndHalfSubstation`\n",
    "\n",
    "When instantiated, these classes create a new CIMantic Graphs `DistributedArea` or `NodeBreakerModel` graph model with all CIM objects associated with the default bus configuration for that substation. Distribution feeders can then be added to the substation by instantiating each feeder as a new CIMantic Graphs `FeederModel`. The python library then builds the set of CIM associations to map the feeder to the substation and create all CIM objects for the breaker, airgap switches, and junctions.\n",
    "\n"
   ]
  },
  {
   "cell_type": "markdown",
   "metadata": {},
   "source": [
    "----"
   ]
  },
  {
   "cell_type": "markdown",
   "metadata": {},
   "source": [
    "### Import CIMantic Graphs Library and CIM profile"
   ]
  },
  {
   "cell_type": "markdown",
   "metadata": {},
   "source": [
    "The CIMantic Graphs library can be installed using `pip install cim-graph` and imported into any script:"
   ]
  },
  {
   "cell_type": "code",
   "execution_count": 1,
   "metadata": {},
   "outputs": [],
   "source": [
    "# Import transmission and distribution modeling classes\n",
    "from cimgraph.models import FeederModel, NodeBreakerModel\n",
    "from cimgraph.databases import ConnectionParameters\n",
    "from cimgraph.databases import RDFlibConnection\n",
    "import cimgraph.utils as utils"
   ]
  },
  {
   "cell_type": "markdown",
   "metadata": {},
   "source": [
    "CIMantic Graphs can support multiple CIM profiles, so it is necessary to specify which one to use. This demonstration will use the extensions from CIMHub feature/SETO, which is derived from CIM17V38."
   ]
  },
  {
   "cell_type": "code",
   "execution_count": 2,
   "metadata": {},
   "outputs": [],
   "source": [
    "# Specify CIM Profile\n",
    "import importlib\n",
    "cim_profile = 'cimhub_2023'\n",
    "cim = importlib.import_module('cimgraph.data_profile.' + cim_profile)"
   ]
  },
  {
   "cell_type": "markdown",
   "metadata": {},
   "source": [
    "To create a new model \"from scratch\", no filename or databased is specified. This connection object contains all information regarding the CIM version, serilaization format, etc."
   ]
  },
  {
   "cell_type": "code",
   "execution_count": 3,
   "metadata": {},
   "outputs": [],
   "source": [
    "# Create an empty connection for new file\n",
    "params = ConnectionParameters(filename=None,\n",
    "                              cim_profile=cim_profile, iec61970_301=8)\n",
    "connection = RDFlibConnection(params)"
   ]
  },
  {
   "cell_type": "markdown",
   "metadata": {},
   "source": [
    "For this demonstration, the IEEE 13 and IEEE 13 assets feeders will be used to populate each substation. It is possible to load these files from a database, or open them directly from the XML using CIMantic Graphs. Since end-users of the Grid Atlas may not have a database, the feeders will be loaded from the standalone files:"
   ]
  },
  {
   "cell_type": "code",
   "execution_count": 4,
   "metadata": {},
   "outputs": [],
   "source": [
    "# Import 13 bus model from XML file\n",
    "ieee13_feeder = cim.Feeder(mRID = '49AD8E07-3BF9-A4E2-CB8F-C3722F837B62')\n",
    "params = ConnectionParameters(filename='../test_models/IEEE13.xml',\n",
    "                               cim_profile=cim_profile, iec61970_301=8)\n",
    "ieee13_connection = RDFlibConnection(params)\n",
    "ieee13_network = FeederModel(connection=ieee13_connection, container=ieee13_feeder,\n",
    "                              distributed=False)\n"
   ]
  },
  {
   "cell_type": "code",
   "execution_count": 5,
   "metadata": {},
   "outputs": [],
   "source": [
    "\n",
    "assets13_feeder = cim.Feeder(mRID = '5B816B93-7A5F-B64C-8460-47C17D6E4B0F')\n",
    "params = ConnectionParameters(filename='../test_models/IEEE13_Assets.xml', \n",
    "                              cim_profile=cim_profile, iec61970_301=8)\n",
    "assets13_connection = RDFlibConnection(params)\n",
    "assets13_network = FeederModel(connection=assets13_connection, container=assets13_feeder,\n",
    "                                distributed=False)\n"
   ]
  },
  {
   "cell_type": "markdown",
   "metadata": {},
   "source": [
    "For this demonstration, the Blazegraph database used by GridAPPS-D will be used for roundtrip testing. During these tests, each of the substation models developed for Grid Atlas will be added to the database. Connectivity and total load within the test feeders will be queried through a simple test.\n",
    "\n",
    "To connect to the database, we will establish two connections. The first will be used for database bulk upload using the CIM-Loader library previously developed for Grid Atlas. The second will be used for automated database queries using CIMantic Graphs."
   ]
  },
  {
   "cell_type": "code",
   "execution_count": 6,
   "metadata": {},
   "outputs": [],
   "source": [
    "# Connection to Blazegraph Database for CIM-Loader\n",
    "from cimloader.databases.blazegraph import BlazegraphConnection as BlazegraphLoader\n",
    "params = ConnectionParameters(url = \"http://localhost:8889/bigdata/namespace/kb/sparql\",\n",
    "                               cim_profile=cim_profile, iec61970_301=8)\n",
    "bg_loader = BlazegraphLoader(params)"
   ]
  },
  {
   "cell_type": "code",
   "execution_count": 7,
   "metadata": {},
   "outputs": [],
   "source": [
    "# Connection to Blazegraph Database for CIMantic Graphs\n",
    "from cimgraph.databases import BlazegraphConnection as BlazegraphConnection\n",
    "params = ConnectionParameters(url = \"http://localhost:8889/bigdata/namespace/kb/sparql\",\n",
    "                               cim_profile=cim_profile, iec61970_301=8)\n",
    "blazegraph = BlazegraphConnection(params)"
   ]
  },
  {
   "cell_type": "markdown",
   "metadata": {},
   "source": [
    "### Create New Single Bus Substation"
   ]
  },
  {
   "cell_type": "markdown",
   "metadata": {},
   "source": [
    "To create a new Single Bus substation, we import the associated class from the `substation_builder` module in CIM-Builder:"
   ]
  },
  {
   "cell_type": "code",
   "execution_count": 8,
   "metadata": {},
   "outputs": [],
   "source": [
    "from cimbuilder.substation_builder import SingleBusSubstation"
   ]
  },
  {
   "cell_type": "markdown",
   "metadata": {},
   "source": [
    "To create a new substation, the class is instantiated with the name of the substation and base voltage. If the substation is not being added to an existing network, a new `DistributedArea` will be created to contain the substation."
   ]
  },
  {
   "cell_type": "code",
   "execution_count": 9,
   "metadata": {},
   "outputs": [],
   "source": [
    "SubBuilder = SingleBusSubstation(connection=connection,\n",
    "                                 name=\"single_bus_sub\", \n",
    "                                 base_voltage = 115000)\n",
    "substation = SubBuilder.substation"
   ]
  },
  {
   "cell_type": "markdown",
   "metadata": {},
   "source": [
    "To add a feeder to the new substation, the `.new_feeder()` method is called. The `series_number` is used for automatic naming of the breaker and airgap switches.The arguments `feeder` and `feeder_network` are used for the CIM feeder object and the CIMantic Graphs network model.\n",
    "\n",
    "The function call below will automatically insert the IEEE 13 and IEEE 13 Assets feeders into the new substation:"
   ]
  },
  {
   "cell_type": "code",
   "execution_count": 10,
   "metadata": {},
   "outputs": [],
   "source": [
    "SubBuilder.new_feeder(series_number = 1, feeder=ieee13_feeder,\n",
    "                       feeder_network=ieee13_network)\n",
    "SubBuilder.new_feeder(series_number = 2, feeder=assets13_feeder,\n",
    "                      feeder_network=assets13_network)"
   ]
  },
  {
   "cell_type": "markdown",
   "metadata": {},
   "source": [
    "To check whether the feeders have been added successfully, it is possible to use the CIMantic Graphs `.pprint(cim.ClassName)` method to print all instances of Substation and Feeder objects."
   ]
  },
  {
   "cell_type": "code",
   "execution_count": 11,
   "metadata": {},
   "outputs": [
    {
     "name": "stdout",
     "output_type": "stream",
     "text": [
      "{\n",
      "    \"cb8c7601-0e43-478c-b206-be1137f45707\": {\n",
      "        \"mRID\": \"cb8c7601-0e43-478c-b206-be1137f45707\",\n",
      "        \"name\": \"single_bus_sub\",\n",
      "        \"NormalEnergizedFeeder\": \"['ieee13nodeckt', 'ieee13nodecktassets']\"\n",
      "    }\n",
      "}\n",
      "{\n",
      "    \"49AD8E07-3BF9-A4E2-CB8F-C3722F837B62\": {\n",
      "        \"mRID\": \"49AD8E07-3BF9-A4E2-CB8F-C3722F837B62\",\n",
      "        \"name\": \"ieee13nodeckt\",\n",
      "        \"Location\": \"8E4E3C92-0B7A-4F74-8FD2-CC10F74E452F\",\n",
      "        \"ConnectivityNodes\": \"['673E896A-DCBF-4E43-9924-BEB31C5B6005', 'A8A25B50-3AE3-4A31-A18B-B3FA13397ED3', '421E99BE-A834-4809-B924-84D88F634A45', '2A6DC4DD-D3DC-434D-A187-D2C58A0A72C8', '7BEDDADD-0A14-429F-8601-9EA8B892CA6E', '63DFBEA0-CD06-4D2E-B956-DF9517BE057B', '30BE5988-DE57-4E0C-AB08-50D5A13D2C1B', '0124E881-B82D-4206-BBDF-37D585159872', 'C6256170-E6ED-4F91-8EBD-748090C3FDD5', '0A98A62D-7642-4F03-8317-A8605CBDBA37', '04984C4D-CC29-477A-9AF4-61AC7D74F16F', '0DCC57AF-F4FA-457D-BB24-2EFDA9865A1A', 'E5B2888B-B60D-4DA6-A4F7-17EB849D28B2', '6CB5E5CE-2CD0-40CC-A979-B4F9ED05E49B', '8E99F99D-FE8F-420B-AC49-0B52DF5362AB', 'DC889FA5-7B28-4273-A1D7-205BE3E0BFED', '94F822E0-7130-4205-8597-B47110BBEF4B', 'ADDB7A30-5A3C-4179-AF5D-5C9A7213B0E7', '8C58660F-C62C-4903-BE72-22F1255B1E62', '76D6D03C-967C-4E12-836D-A98DF3552BC7', '0F1E28C3-6C44-4F88-B79C-2FDBCA4487B2', 'DBFA8EFA-B397-40DA-9642-60E8DE4B3471']\",\n",
      "        \"Equipments\": \"['60B55036-DD71-40CE-ADDA-97B8CE7447DC', '52DE9189-20DC-4C73-BDEE-E960FE1F9493', '8E180773-2A9B-4136-BC9A-132A52C8E276', '259E820F-B4AF-4E1A-8271-687534EDAECC', '3FFFB3F7-A7AF-49E1-ACEE-449FC73D3CD6', 'ABF877D7-DAC2-4BF0-AB58-9A8A02E92EB3', '32F02D2B-EE6E-4D3F-8486-1B5CAEF70204', 'D34B0D01-B082-4081-A3CC-B68B9B8313A4', 'C39149DE-3451-4D33-B4C2-B1E6C6FC9AAB', 'A04CDFB1-E951-4FC4-8882-0323CD70AE3C', 'ABF53597-A808-422A-B7EE-552F24D83A5F', 'FBE26B35-13AB-457D-9795-DF58B28E309D', '45395C84-F20A-4F5A-977F-B80348256421', 'CE5D0651-676B-4AF3-8D67-41BF1B33E30C', '67B57539-590B-4158-9CBB-9DBA2FE6C1F0', 'A9E8758B-5486-4798-8FBA-9AE639ABFC38', '517413CB-6977-46FA-8911-C82332E42884', 'A9DE8829-58CB-4750-B2A2-672846A89753', '9CAAF741-BE1E-4893-8044-1E507B7DDC38', 'B21C5599-1D00-4FCF-904B-58D9D4CAC49A', 'B6363F07-B1BC-420B-AA4C-A34BB8F05827', '1E6B5C97-C4E8-4CED-B9A5-6E69F389DA93', 'E2E0FC64-8D45-4C55-BDB9-EAB827A46FBC', '4C04F838-62AA-475E-AEFA-A63B7C889C13', '7060D0BB-B30D-4932-8FA1-40820A0FC4D0', '8B452737-CA3D-4C10-A99D-6865506437C8', '7FF12CEF-1C4D-4CD2-8FCC-662530A7BA33', '44FC5A86-A099-45B8-B847-F685C5027AFB', '3B2021A7-4BFC-418D-9C20-BD6838E52CF8', 'D2E930A7-B136-4ACA-A996-8DB5C60AADF3', '1C6781A2-5B9D-4525-8A9B-F9B32C4C4AC0', '682AB7A9-4FBF-4204-BDE1-27EAB3425DA0', '8CA46F28-84C0-4FE2-B228-EC4080777865', '7B671984-4C56-4FF1-9733-B4B6FCA5F2AA', '9D725810-BFD6-44C6-961A-2BC027F6FC95', 'E503BBF8-3C82-4DF7-B6E9-2488ECFCC847', '47E52220-4596-4AF0-9724-0167B72A4DB8', '17A934C7-1510-481F-BAD7-189058957FF1', '91A37B4C-C38B-4269-8467-F40870934386', '0BBD0EA3-F665-465B-86FD-FC8B8466AD53', '8E34333C-2BB8-4631-B072-383F1CA38F60', '0BC9183A-9067-4E06-AA5B-48DC2AB30C80', '572BCFC9-E1D6-4419-9A33-EDD284806AF3', '2858B6C2-0886-4269-884C-06FA8B887319', 'CEC0FC3A-0FD1-4F1C-9C51-7D9BEF4D8222', '43EF8365-F932-409B-A51E-FBED3F6DFFAA', 'E26D83A0-D29D-41EF-9528-02C882FFCC0D', '70188FF4-04F0-48D2-8706-698D1FD086E6']\",\n",
      "        \"NormalEnergizingSubstation\": \"cb8c7601-0e43-478c-b206-be1137f45707\"\n",
      "    },\n",
      "    \"5B816B93-7A5F-B64C-8460-47C17D6E4B0F\": {\n",
      "        \"mRID\": \"5B816B93-7A5F-B64C-8460-47C17D6E4B0F\",\n",
      "        \"name\": \"ieee13nodecktassets\",\n",
      "        \"Location\": \"E8CC2D43-FB22-4798-AA57-09F1CDB77C00\",\n",
      "        \"ConnectivityNodes\": \"['09A37A19-DF0E-48F3-92E9-10FA62A08120', 'E14BD0DF-466D-487B-8786-0D46515D1F9B', '7326FB57-9839-4AE6-9F3D-B5660C58A7BA', '04006A64-109D-499D-8496-1B55907C1570', 'DFA687CB-83D6-4FD0-8007-657A3E1819F6', 'CB29A4D1-EE08-4AAF-82F6-3C178009EBC0', '22B55260-79B0-4DF5-A070-AFEDAFA299D4', 'B7E4EF30-D95D-4C8E-829B-F75FB0FDBEAD', 'BDCA9F2B-81A8-4969-AE86-B9D5DC399F51', '4163D7DE-898A-4241-93E0-F3FC49F1F714', '249A3E8C-0128-4DE2-92EA-112B44080BF2', '348C3A23-B2F4-4101-9A6C-AF8DEF97DD4C', '3E259C63-39CC-4B6C-9C4A-1B29A5C83840', '560E1C31-EE5C-4BFD-A0B6-F4E8D60E2C76', '61D2A727-4D2E-45F9-8A94-C42B38FFF029', 'DC7FBBF3-1456-4B9C-8983-9E3D4FA9D95B']\",\n",
      "        \"Equipments\": \"['4774208A-B9AB-4051-8BC9-4F7C8EA6552A', '603106B5-1DC7-40B1-A264-98774F6FD16D', '6964DE20-CC96-473D-BB0F-73CD8ACAED2D', '928BCF3C-276A-4E74-A4AE-C3C79D624F5F', '2EB647F9-B8F8-4659-9D2D-3515563030EB', 'F229083B-D5FC-40F0-BFE0-9E92C8C69574', '819CA18E-54AA-42D5-B069-F1AC831D926E', 'C28BFD4B-C7D1-49AD-BAA6-E06CB0856A72', 'EF316EA5-74D3-4209-89EA-BF8FAAC2BAF6', '28456F60-7196-47E4-9BE6-54F7EAABC04A', 'F3D41D9D-9606-4277-A336-69D7048301AF', '6A7D7AF8-A0F7-41B6-BB0C-160EAE054DEA', '4FE57842-43D5-4EBB-8FF1-795E6FE1C507', '7E0E4F76-E0FD-4BB5-BB58-BC5B05A5A59A', '16861155-E2D2-4E9C-8FCA-50EA820E96D0', '46479235-D5D9-4CE8-9F7C-C78426691797', '6EBB2188-CBE1-4FEC-9406-83DE8E61F9CB', '6BC92BAB-B1C8-49C5-87B3-126BBCDC46D5', '73E02C20-7DB0-4825-84C1-E58DB8C296BF', '6DEF3353-8276-402F-AC8E-3DEF4A396FFE', '8A0CF414-3240-47D1-AB8F-998165BA092E', 'EBD2AE36-04A5-4EA9-836F-12F9D3CCB777', 'F841F05A-E047-491F-BF7B-C71283C653D6', '4E1B3F09-CB88-4A5E-8198-24490EE7FC58', '6ECF60CD-E1E5-4C59-8941-3EC0E9DF30DD', 'C9CB60C2-46E0-4FDC-B2A5-73318344E4C9', '173879C4-4FDB-4521-A60D-5B102B3781B2', '8C536493-14B8-41D0-8EE4-CAE4DFF33839', 'A98417B1-4A7F-484F-97C8-9B91F29A26F1', 'D186291A-2487-45AE-83C7-651C7C71D41E', 'BE3F4495-1AC4-4A36-A529-40A6A740F58C', '08848DC6-BB11-4647-9C21-475BAD66A8B8', 'E062E187-F149-4555-8E27-2EE0C9D75274', '958C1DE5-2FA9-4051-8827-8681C4E7AFF6', 'F20F52DF-B0B1-4615-B9D3-AC669CE18454', '34A04257-8486-40AC-BE74-4022F7D395E4', '8A62F620-7C58-4662-AE5C-F41F5E3F0022', '67A2574B-8146-464D-B93C-B9FCBCE913BC']\",\n",
      "        \"NormalEnergizingSubstation\": \"cb8c7601-0e43-478c-b206-be1137f45707\"\n",
      "    }\n",
      "}\n"
     ]
    }
   ],
   "source": [
    "# Print substation data using names\n",
    "SubBuilder.network.pprint(cim.Substation, use_names = True)\n",
    "# Print feeder data\n",
    "SubBuilder.network.pprint(cim.Feeder)"
   ]
  },
  {
   "cell_type": "markdown",
   "metadata": {},
   "source": [
    "The CIMantic Graphs `utils` package can be used to save the substation to an XML file for further use. "
   ]
  },
  {
   "cell_type": "code",
   "execution_count": 12,
   "metadata": {},
   "outputs": [],
   "source": [
    "utils.write_xml(SubBuilder.network, '../test_output/single_bus.xml')"
   ]
  },
  {
   "cell_type": "markdown",
   "metadata": {},
   "source": [
    "The final verification that the substation has been created and can be successfully used with the network models Round-Trip Test: \n",
    "1) Delete all old models from the database\n",
    "2) Load the new substation and feeder CIM XML files\n",
    "3) Obtain all data for feeders contained by the subustation"
   ]
  },
  {
   "cell_type": "code",
   "execution_count": 13,
   "metadata": {},
   "outputs": [
    {
     "name": "stderr",
     "output_type": "stream",
     "text": [
      "/home/ande188/CIM-Builder/.venv/lib/python3.10/site-packages/SPARQLWrapper/Wrapper.py:1215: RuntimeWarning: unknown response content type 'text/html;charset=utf-8' returning raw response...\n",
      "  warnings.warn(\n"
     ]
    },
    {
     "data": {
      "text/plain": [
       "b'<!DOCTYPE HTML PUBLIC \"-//W3C//DTD HTML 4.01 Transitional//EN\" \"http://www.w3.org/TR/html4/loose.dtd\"><html><head><meta http-equiv=\"Content-Type\" content=\"text&#47;html;charset=UTF-8\"><title>blazegraph&trade; by SYSTAP</title\\n></head\\n><body<p>totalElapsed=18ms, elapsed=18ms, connFlush=0ms, batchResolve=0, whereClause=0ms, deleteClause=0ms, insertClause=0ms</p\\n><hr><p>COMMIT: totalElapsed=20ms, commitTime=1709076712684, mutationCount=6789</p\\n></html\\n>'"
      ]
     },
     "execution_count": 13,
     "metadata": {},
     "output_type": "execute_result"
    }
   ],
   "source": [
    "# Delete all CIM triples from database\n",
    "blazegraph.execute('drop all')"
   ]
  },
  {
   "cell_type": "code",
   "execution_count": 14,
   "metadata": {},
   "outputs": [
    {
     "name": "stdout",
     "output_type": "stream",
     "text": [
      "HTTP/1.1 100 Continue\n",
      "\n",
      "HTTP/1.1 200 OK\n",
      "Content-Type: application/xml;charset=iso-8859-1\n",
      "Content-Length: 62\n",
      "Server: Jetty(9.4.18.v20190429)\n",
      "\n",
      "<?xml version=\"1.0\"?><data modified=\"3392\" milliseconds=\"21\"/>HTTP/1.1 100 Continue\n",
      "\n",
      "HTTP/1.1 200 OK\n",
      "Content-Type: application/xml;charset=iso-8859-1\n",
      "Content-Length: 62\n",
      "Server: Jetty(9.4.18.v20190429)\n",
      "\n",
      "<?xml version=\"1.0\"?><data modified=\"2927\" milliseconds=\"21\"/>HTTP/1.1 100 Continue\n",
      "\n",
      "HTTP/1.1 200 OK\n",
      "Content-Type: application/xml;charset=iso-8859-1\n",
      "Content-Length: 61\n",
      "Server: Jetty(9.4.18.v20190429)\n",
      "\n",
      "<?xml version=\"1.0\"?><data modified=\"173\" milliseconds=\"18\"/>"
     ]
    }
   ],
   "source": [
    "# Upload new models into the database\n",
    "bg_loader.upload_from_file(filename='../test_models/IEEE13.xml')\n",
    "bg_loader.upload_from_file(filename='../test_models/IEEE13_Assets.xml')\n",
    "bg_loader.upload_from_file(filename='../test_output/single_bus.xml')"
   ]
  },
  {
   "cell_type": "markdown",
   "metadata": {},
   "source": [
    "To verify that all feeder data can be obtained, we create a new CIMantic Graphs model and then query for the classes Substation and Feeder. We can also obtain the total amount of aggregate load from both feeders that are served by the substation."
   ]
  },
  {
   "cell_type": "code",
   "execution_count": 15,
   "metadata": {},
   "outputs": [],
   "source": [
    "network = NodeBreakerModel(container=substation, connection=blazegraph)"
   ]
  },
  {
   "cell_type": "code",
   "execution_count": 16,
   "metadata": {},
   "outputs": [
    {
     "name": "stdout",
     "output_type": "stream",
     "text": [
      "{\n",
      "    \"cb8c7601-0e43-478c-b206-be1137f45707\": {\n",
      "        \"mRID\": \"cb8c7601-0e43-478c-b206-be1137f45707\",\n",
      "        \"name\": \"single_bus_sub\",\n",
      "        \"ConnectivityNodes\": \"['c6116ccc-4f54-477a-81f4-08af12caee0a', '09a344f1-ed78-403c-85c6-6b882c7dba66', '26dc1181-0bbd-47f6-ac32-901f12bde92c', '2a8098d4-dcdc-4d68-9507-d902e493882b', '6361f281-a755-4fb6-8638-b02fa46647a6']\",\n",
      "        \"Equipments\": \"['941292aa-5a87-4daa-a812-77a31b83c90f', 'aa393741-2984-4dd3-a57d-8054dc5070bc', 'c8dea6bd-cf7e-4389-b8d7-a5e5931a4c94', '3dd99962-b842-4658-917a-b41c950f471b', '641c7b84-4d0b-463f-94ca-0834c5f88173', '72e9cf93-9c12-49b5-85e1-6ea1a5097662', '7d45b85d-8f46-407a-a11b-576d6c3d3d33']\",\n",
      "        \"NormalEnergizedFeeder\": \"['49AD8E07-3BF9-A4E2-CB8F-C3722F837B62', '5B816B93-7A5F-B64C-8460-47C17D6E4B0F']\"\n",
      "    }\n",
      "}\n"
     ]
    }
   ],
   "source": [
    "# Print substation info\n",
    "network.get_all_edges(cim.Substation)\n",
    "network.pprint(cim.Substation)"
   ]
  },
  {
   "cell_type": "code",
   "execution_count": 17,
   "metadata": {},
   "outputs": [
    {
     "name": "stdout",
     "output_type": "stream",
     "text": [
      "{\n",
      "    \"49AD8E07-3BF9-A4E2-CB8F-C3722F837B62\": {\n",
      "        \"mRID\": \"49AD8E07-3BF9-A4E2-CB8F-C3722F837B62\",\n",
      "        \"name\": \"ieee13nodeckt\",\n",
      "        \"Location\": \"8E4E3C92-0B7A-4F74-8FD2-CC10F74E452F\",\n",
      "        \"ConnectivityNodes\": \"['673E896A-DCBF-4E43-9924-BEB31C5B6005', 'A8A25B50-3AE3-4A31-A18B-B3FA13397ED3', '421E99BE-A834-4809-B924-84D88F634A45', '2A6DC4DD-D3DC-434D-A187-D2C58A0A72C8', '7BEDDADD-0A14-429F-8601-9EA8B892CA6E', '63DFBEA0-CD06-4D2E-B956-DF9517BE057B', '30BE5988-DE57-4E0C-AB08-50D5A13D2C1B', '0124E881-B82D-4206-BBDF-37D585159872', 'C6256170-E6ED-4F91-8EBD-748090C3FDD5', '0A98A62D-7642-4F03-8317-A8605CBDBA37', '04984C4D-CC29-477A-9AF4-61AC7D74F16F', '0DCC57AF-F4FA-457D-BB24-2EFDA9865A1A', 'E5B2888B-B60D-4DA6-A4F7-17EB849D28B2', '6CB5E5CE-2CD0-40CC-A979-B4F9ED05E49B', '8E99F99D-FE8F-420B-AC49-0B52DF5362AB', 'DC889FA5-7B28-4273-A1D7-205BE3E0BFED', '94F822E0-7130-4205-8597-B47110BBEF4B', 'ADDB7A30-5A3C-4179-AF5D-5C9A7213B0E7', '8C58660F-C62C-4903-BE72-22F1255B1E62', '76D6D03C-967C-4E12-836D-A98DF3552BC7', '0F1E28C3-6C44-4F88-B79C-2FDBCA4487B2', 'DBFA8EFA-B397-40DA-9642-60E8DE4B3471']\",\n",
      "        \"Equipments\": \"['60B55036-DD71-40CE-ADDA-97B8CE7447DC', '52DE9189-20DC-4C73-BDEE-E960FE1F9493', '8E180773-2A9B-4136-BC9A-132A52C8E276', '259E820F-B4AF-4E1A-8271-687534EDAECC', '3FFFB3F7-A7AF-49E1-ACEE-449FC73D3CD6', 'ABF877D7-DAC2-4BF0-AB58-9A8A02E92EB3', '32F02D2B-EE6E-4D3F-8486-1B5CAEF70204', 'D34B0D01-B082-4081-A3CC-B68B9B8313A4', 'C39149DE-3451-4D33-B4C2-B1E6C6FC9AAB', 'A04CDFB1-E951-4FC4-8882-0323CD70AE3C', 'ABF53597-A808-422A-B7EE-552F24D83A5F', 'FBE26B35-13AB-457D-9795-DF58B28E309D', '45395C84-F20A-4F5A-977F-B80348256421', 'CE5D0651-676B-4AF3-8D67-41BF1B33E30C', '67B57539-590B-4158-9CBB-9DBA2FE6C1F0', 'A9E8758B-5486-4798-8FBA-9AE639ABFC38', '517413CB-6977-46FA-8911-C82332E42884', 'A9DE8829-58CB-4750-B2A2-672846A89753', '9CAAF741-BE1E-4893-8044-1E507B7DDC38', 'B21C5599-1D00-4FCF-904B-58D9D4CAC49A', 'B6363F07-B1BC-420B-AA4C-A34BB8F05827', '1E6B5C97-C4E8-4CED-B9A5-6E69F389DA93', 'E2E0FC64-8D45-4C55-BDB9-EAB827A46FBC', '4C04F838-62AA-475E-AEFA-A63B7C889C13', '7060D0BB-B30D-4932-8FA1-40820A0FC4D0', '8B452737-CA3D-4C10-A99D-6865506437C8', '7FF12CEF-1C4D-4CD2-8FCC-662530A7BA33', '44FC5A86-A099-45B8-B847-F685C5027AFB', '3B2021A7-4BFC-418D-9C20-BD6838E52CF8', 'D2E930A7-B136-4ACA-A996-8DB5C60AADF3', '1C6781A2-5B9D-4525-8A9B-F9B32C4C4AC0', '682AB7A9-4FBF-4204-BDE1-27EAB3425DA0', '8CA46F28-84C0-4FE2-B228-EC4080777865', '7B671984-4C56-4FF1-9733-B4B6FCA5F2AA', '9D725810-BFD6-44C6-961A-2BC027F6FC95', 'E503BBF8-3C82-4DF7-B6E9-2488ECFCC847', '47E52220-4596-4AF0-9724-0167B72A4DB8', '17A934C7-1510-481F-BAD7-189058957FF1', '91A37B4C-C38B-4269-8467-F40870934386', '0BBD0EA3-F665-465B-86FD-FC8B8466AD53', '8E34333C-2BB8-4631-B072-383F1CA38F60', '0BC9183A-9067-4E06-AA5B-48DC2AB30C80', '572BCFC9-E1D6-4419-9A33-EDD284806AF3', '2858B6C2-0886-4269-884C-06FA8B887319', 'CEC0FC3A-0FD1-4F1C-9C51-7D9BEF4D8222', '43EF8365-F932-409B-A51E-FBED3F6DFFAA', 'E26D83A0-D29D-41EF-9528-02C882FFCC0D', '70188FF4-04F0-48D2-8706-698D1FD086E6']\",\n",
      "        \"NormalEnergizingSubstation\": \"cb8c7601-0e43-478c-b206-be1137f45707\"\n",
      "    },\n",
      "    \"5B816B93-7A5F-B64C-8460-47C17D6E4B0F\": {\n",
      "        \"mRID\": \"5B816B93-7A5F-B64C-8460-47C17D6E4B0F\",\n",
      "        \"name\": \"ieee13nodecktassets\",\n",
      "        \"Location\": \"E8CC2D43-FB22-4798-AA57-09F1CDB77C00\",\n",
      "        \"ConnectivityNodes\": \"['09A37A19-DF0E-48F3-92E9-10FA62A08120', 'E14BD0DF-466D-487B-8786-0D46515D1F9B', '7326FB57-9839-4AE6-9F3D-B5660C58A7BA', '04006A64-109D-499D-8496-1B55907C1570', 'DFA687CB-83D6-4FD0-8007-657A3E1819F6', 'CB29A4D1-EE08-4AAF-82F6-3C178009EBC0', '22B55260-79B0-4DF5-A070-AFEDAFA299D4', 'B7E4EF30-D95D-4C8E-829B-F75FB0FDBEAD', 'BDCA9F2B-81A8-4969-AE86-B9D5DC399F51', '4163D7DE-898A-4241-93E0-F3FC49F1F714', '249A3E8C-0128-4DE2-92EA-112B44080BF2', '348C3A23-B2F4-4101-9A6C-AF8DEF97DD4C', '3E259C63-39CC-4B6C-9C4A-1B29A5C83840', '560E1C31-EE5C-4BFD-A0B6-F4E8D60E2C76', '61D2A727-4D2E-45F9-8A94-C42B38FFF029', 'DC7FBBF3-1456-4B9C-8983-9E3D4FA9D95B']\",\n",
      "        \"Equipments\": \"['4774208A-B9AB-4051-8BC9-4F7C8EA6552A', '603106B5-1DC7-40B1-A264-98774F6FD16D', '6964DE20-CC96-473D-BB0F-73CD8ACAED2D', '928BCF3C-276A-4E74-A4AE-C3C79D624F5F', '2EB647F9-B8F8-4659-9D2D-3515563030EB', 'F229083B-D5FC-40F0-BFE0-9E92C8C69574', '819CA18E-54AA-42D5-B069-F1AC831D926E', 'C28BFD4B-C7D1-49AD-BAA6-E06CB0856A72', 'EF316EA5-74D3-4209-89EA-BF8FAAC2BAF6', '28456F60-7196-47E4-9BE6-54F7EAABC04A', 'F3D41D9D-9606-4277-A336-69D7048301AF', '6A7D7AF8-A0F7-41B6-BB0C-160EAE054DEA', '4FE57842-43D5-4EBB-8FF1-795E6FE1C507', '7E0E4F76-E0FD-4BB5-BB58-BC5B05A5A59A', '16861155-E2D2-4E9C-8FCA-50EA820E96D0', '46479235-D5D9-4CE8-9F7C-C78426691797', '6EBB2188-CBE1-4FEC-9406-83DE8E61F9CB', '6BC92BAB-B1C8-49C5-87B3-126BBCDC46D5', '73E02C20-7DB0-4825-84C1-E58DB8C296BF', '6DEF3353-8276-402F-AC8E-3DEF4A396FFE', '8A0CF414-3240-47D1-AB8F-998165BA092E', 'EBD2AE36-04A5-4EA9-836F-12F9D3CCB777', 'F841F05A-E047-491F-BF7B-C71283C653D6', '4E1B3F09-CB88-4A5E-8198-24490EE7FC58', '6ECF60CD-E1E5-4C59-8941-3EC0E9DF30DD', 'C9CB60C2-46E0-4FDC-B2A5-73318344E4C9', '173879C4-4FDB-4521-A60D-5B102B3781B2', '8C536493-14B8-41D0-8EE4-CAE4DFF33839', 'A98417B1-4A7F-484F-97C8-9B91F29A26F1', 'D186291A-2487-45AE-83C7-651C7C71D41E', 'BE3F4495-1AC4-4A36-A529-40A6A740F58C', '08848DC6-BB11-4647-9C21-475BAD66A8B8', 'E062E187-F149-4555-8E27-2EE0C9D75274', '958C1DE5-2FA9-4051-8827-8681C4E7AFF6', 'F20F52DF-B0B1-4615-B9D3-AC669CE18454', '34A04257-8486-40AC-BE74-4022F7D395E4', '8A62F620-7C58-4662-AE5C-F41F5E3F0022', '67A2574B-8146-464D-B93C-B9FCBCE913BC']\",\n",
      "        \"NormalEnergizingSubstation\": \"cb8c7601-0e43-478c-b206-be1137f45707\"\n",
      "    }\n",
      "}\n"
     ]
    }
   ],
   "source": [
    "# Print feeder info\n",
    "network.get_all_edges(cim.Feeder)\n",
    "network.pprint(cim.Feeder)"
   ]
  },
  {
   "cell_type": "code",
   "execution_count": 18,
   "metadata": {},
   "outputs": [
    {
     "name": "stdout",
     "output_type": "stream",
     "text": [
      "total load is 6937.0 kW\n"
     ]
    }
   ],
   "source": [
    "# Print total load served by substation from both feeders\n",
    "total_load = 0\n",
    "network.get_all_edges(cim.EnergyConsumer)\n",
    "for load in network.graph[cim.EnergyConsumer].values():\n",
    "    total_load = total_load + float(load.p)\n",
    "\n",
    "print(f'total load is {total_load/1000} kW')"
   ]
  },
  {
   "cell_type": "markdown",
   "metadata": {},
   "source": [
    "As part of the round-trip test, it is also possible to merge the substation and both feeders into a single XML file "
   ]
  },
  {
   "cell_type": "code",
   "execution_count": 19,
   "metadata": {},
   "outputs": [],
   "source": [
    "utils.get_all_data(network)\n",
    "utils.write_xml(network, '../test_output/single_bus_and_feeders.xml')"
   ]
  },
  {
   "cell_type": "code",
   "execution_count": null,
   "metadata": {},
   "outputs": [],
   "source": []
  },
  {
   "cell_type": "code",
   "execution_count": null,
   "metadata": {},
   "outputs": [],
   "source": []
  },
  {
   "cell_type": "markdown",
   "metadata": {},
   "source": [
    "### Create New Sectionalized-Bus Substation"
   ]
  },
  {
   "cell_type": "markdown",
   "metadata": {},
   "source": [
    "To create a new Sectionalized-Bus substation, we import the associated class from the `substation_builder` module in CIM-Builder:"
   ]
  },
  {
   "cell_type": "code",
   "execution_count": 20,
   "metadata": {},
   "outputs": [],
   "source": [
    "from cimbuilder.substation_builder import SectionalizedBusSubstation"
   ]
  },
  {
   "cell_type": "markdown",
   "metadata": {},
   "source": [
    "To create a new substation, the class is instantiated with the name of the substation and base voltage. If the substation is not being added to an existing network, a new `DistributedArea` will be created to contain the substation. The total number of bus sections is specified by `total_sections` with a default value of two bus sections."
   ]
  },
  {
   "cell_type": "code",
   "execution_count": 21,
   "metadata": {},
   "outputs": [],
   "source": [
    "SubBuilder = SectionalizedBusSubstation(connection=connection,\n",
    "                                        name=\"sectionalized_sub\", \n",
    "                                        base_voltage = 115000,\n",
    "                                        total_sections = 2)\n",
    "substation = SubBuilder.substation"
   ]
  },
  {
   "cell_type": "markdown",
   "metadata": {},
   "source": [
    "To add a feeder to the new substation, the `.new_feeder()` method is called. The `section_number` is used to identify the bus section to which the feeder should be connected. The arguments `feeder` and `feeder_network` are used for the CIM feeder object and the CIMantic Graphs network model.\n",
    "\n",
    "The function call below will automatically insert the IEEE 13 and IEEE 13 Assets feeders into the new substation:"
   ]
  },
  {
   "cell_type": "code",
   "execution_count": 22,
   "metadata": {},
   "outputs": [],
   "source": [
    "SubBuilder.new_feeder(section_number = 1, feeder=ieee13_feeder,\n",
    "                       feeder_network=ieee13_network)\n",
    "SubBuilder.new_feeder(section_number = 2, feeder=assets13_feeder,\n",
    "                      feeder_network=assets13_network)"
   ]
  },
  {
   "cell_type": "markdown",
   "metadata": {},
   "source": [
    "To check whether the feeders have been added successfully, it is possible to use the CIMantic Graphs `.pprint(cim.ClassName)` method to print all instances of Substation and Feeder objects."
   ]
  },
  {
   "cell_type": "code",
   "execution_count": 23,
   "metadata": {},
   "outputs": [
    {
     "name": "stdout",
     "output_type": "stream",
     "text": [
      "{\n",
      "    \"58449cb8-8a5f-4cad-abe7-62a6cc2abe01\": {\n",
      "        \"mRID\": \"58449cb8-8a5f-4cad-abe7-62a6cc2abe01\",\n",
      "        \"name\": \"sectionalized_sub\",\n",
      "        \"NormalEnergizedFeeder\": \"['ieee13nodeckt', 'ieee13nodecktassets']\"\n",
      "    }\n",
      "}\n",
      "{\n",
      "    \"49AD8E07-3BF9-A4E2-CB8F-C3722F837B62\": {\n",
      "        \"mRID\": \"49AD8E07-3BF9-A4E2-CB8F-C3722F837B62\",\n",
      "        \"name\": \"ieee13nodeckt\",\n",
      "        \"Location\": \"8E4E3C92-0B7A-4F74-8FD2-CC10F74E452F\",\n",
      "        \"ConnectivityNodes\": \"['673E896A-DCBF-4E43-9924-BEB31C5B6005', 'A8A25B50-3AE3-4A31-A18B-B3FA13397ED3', '421E99BE-A834-4809-B924-84D88F634A45', '2A6DC4DD-D3DC-434D-A187-D2C58A0A72C8', '7BEDDADD-0A14-429F-8601-9EA8B892CA6E', '63DFBEA0-CD06-4D2E-B956-DF9517BE057B', '30BE5988-DE57-4E0C-AB08-50D5A13D2C1B', '0124E881-B82D-4206-BBDF-37D585159872', 'C6256170-E6ED-4F91-8EBD-748090C3FDD5', '0A98A62D-7642-4F03-8317-A8605CBDBA37', '04984C4D-CC29-477A-9AF4-61AC7D74F16F', '0DCC57AF-F4FA-457D-BB24-2EFDA9865A1A', 'E5B2888B-B60D-4DA6-A4F7-17EB849D28B2', '6CB5E5CE-2CD0-40CC-A979-B4F9ED05E49B', '8E99F99D-FE8F-420B-AC49-0B52DF5362AB', 'DC889FA5-7B28-4273-A1D7-205BE3E0BFED', '94F822E0-7130-4205-8597-B47110BBEF4B', 'ADDB7A30-5A3C-4179-AF5D-5C9A7213B0E7', '8C58660F-C62C-4903-BE72-22F1255B1E62', '76D6D03C-967C-4E12-836D-A98DF3552BC7', '0F1E28C3-6C44-4F88-B79C-2FDBCA4487B2', 'DBFA8EFA-B397-40DA-9642-60E8DE4B3471']\",\n",
      "        \"Equipments\": \"['60B55036-DD71-40CE-ADDA-97B8CE7447DC', '52DE9189-20DC-4C73-BDEE-E960FE1F9493', '8E180773-2A9B-4136-BC9A-132A52C8E276', '259E820F-B4AF-4E1A-8271-687534EDAECC', '3FFFB3F7-A7AF-49E1-ACEE-449FC73D3CD6', 'ABF877D7-DAC2-4BF0-AB58-9A8A02E92EB3', '32F02D2B-EE6E-4D3F-8486-1B5CAEF70204', 'D34B0D01-B082-4081-A3CC-B68B9B8313A4', 'C39149DE-3451-4D33-B4C2-B1E6C6FC9AAB', 'A04CDFB1-E951-4FC4-8882-0323CD70AE3C', 'ABF53597-A808-422A-B7EE-552F24D83A5F', 'FBE26B35-13AB-457D-9795-DF58B28E309D', '45395C84-F20A-4F5A-977F-B80348256421', 'CE5D0651-676B-4AF3-8D67-41BF1B33E30C', '67B57539-590B-4158-9CBB-9DBA2FE6C1F0', 'A9E8758B-5486-4798-8FBA-9AE639ABFC38', '517413CB-6977-46FA-8911-C82332E42884', 'A9DE8829-58CB-4750-B2A2-672846A89753', '9CAAF741-BE1E-4893-8044-1E507B7DDC38', 'B21C5599-1D00-4FCF-904B-58D9D4CAC49A', 'B6363F07-B1BC-420B-AA4C-A34BB8F05827', '1E6B5C97-C4E8-4CED-B9A5-6E69F389DA93', 'E2E0FC64-8D45-4C55-BDB9-EAB827A46FBC', '4C04F838-62AA-475E-AEFA-A63B7C889C13', '7060D0BB-B30D-4932-8FA1-40820A0FC4D0', '8B452737-CA3D-4C10-A99D-6865506437C8', '7FF12CEF-1C4D-4CD2-8FCC-662530A7BA33', '44FC5A86-A099-45B8-B847-F685C5027AFB', '3B2021A7-4BFC-418D-9C20-BD6838E52CF8', 'D2E930A7-B136-4ACA-A996-8DB5C60AADF3', '1C6781A2-5B9D-4525-8A9B-F9B32C4C4AC0', '682AB7A9-4FBF-4204-BDE1-27EAB3425DA0', '8CA46F28-84C0-4FE2-B228-EC4080777865', '7B671984-4C56-4FF1-9733-B4B6FCA5F2AA', '9D725810-BFD6-44C6-961A-2BC027F6FC95', 'E503BBF8-3C82-4DF7-B6E9-2488ECFCC847', '47E52220-4596-4AF0-9724-0167B72A4DB8', '17A934C7-1510-481F-BAD7-189058957FF1', '91A37B4C-C38B-4269-8467-F40870934386', '0BBD0EA3-F665-465B-86FD-FC8B8466AD53', '8E34333C-2BB8-4631-B072-383F1CA38F60', '0BC9183A-9067-4E06-AA5B-48DC2AB30C80', '572BCFC9-E1D6-4419-9A33-EDD284806AF3', '2858B6C2-0886-4269-884C-06FA8B887319', 'CEC0FC3A-0FD1-4F1C-9C51-7D9BEF4D8222', '43EF8365-F932-409B-A51E-FBED3F6DFFAA', 'E26D83A0-D29D-41EF-9528-02C882FFCC0D', '70188FF4-04F0-48D2-8706-698D1FD086E6']\",\n",
      "        \"NormalEnergizingSubstation\": \"58449cb8-8a5f-4cad-abe7-62a6cc2abe01\"\n",
      "    },\n",
      "    \"5B816B93-7A5F-B64C-8460-47C17D6E4B0F\": {\n",
      "        \"mRID\": \"5B816B93-7A5F-B64C-8460-47C17D6E4B0F\",\n",
      "        \"name\": \"ieee13nodecktassets\",\n",
      "        \"Location\": \"E8CC2D43-FB22-4798-AA57-09F1CDB77C00\",\n",
      "        \"ConnectivityNodes\": \"['09A37A19-DF0E-48F3-92E9-10FA62A08120', 'E14BD0DF-466D-487B-8786-0D46515D1F9B', '7326FB57-9839-4AE6-9F3D-B5660C58A7BA', '04006A64-109D-499D-8496-1B55907C1570', 'DFA687CB-83D6-4FD0-8007-657A3E1819F6', 'CB29A4D1-EE08-4AAF-82F6-3C178009EBC0', '22B55260-79B0-4DF5-A070-AFEDAFA299D4', 'B7E4EF30-D95D-4C8E-829B-F75FB0FDBEAD', 'BDCA9F2B-81A8-4969-AE86-B9D5DC399F51', '4163D7DE-898A-4241-93E0-F3FC49F1F714', '249A3E8C-0128-4DE2-92EA-112B44080BF2', '348C3A23-B2F4-4101-9A6C-AF8DEF97DD4C', '3E259C63-39CC-4B6C-9C4A-1B29A5C83840', '560E1C31-EE5C-4BFD-A0B6-F4E8D60E2C76', '61D2A727-4D2E-45F9-8A94-C42B38FFF029', 'DC7FBBF3-1456-4B9C-8983-9E3D4FA9D95B']\",\n",
      "        \"Equipments\": \"['4774208A-B9AB-4051-8BC9-4F7C8EA6552A', '603106B5-1DC7-40B1-A264-98774F6FD16D', '6964DE20-CC96-473D-BB0F-73CD8ACAED2D', '928BCF3C-276A-4E74-A4AE-C3C79D624F5F', '2EB647F9-B8F8-4659-9D2D-3515563030EB', 'F229083B-D5FC-40F0-BFE0-9E92C8C69574', '819CA18E-54AA-42D5-B069-F1AC831D926E', 'C28BFD4B-C7D1-49AD-BAA6-E06CB0856A72', 'EF316EA5-74D3-4209-89EA-BF8FAAC2BAF6', '28456F60-7196-47E4-9BE6-54F7EAABC04A', 'F3D41D9D-9606-4277-A336-69D7048301AF', '6A7D7AF8-A0F7-41B6-BB0C-160EAE054DEA', '4FE57842-43D5-4EBB-8FF1-795E6FE1C507', '7E0E4F76-E0FD-4BB5-BB58-BC5B05A5A59A', '16861155-E2D2-4E9C-8FCA-50EA820E96D0', '46479235-D5D9-4CE8-9F7C-C78426691797', '6EBB2188-CBE1-4FEC-9406-83DE8E61F9CB', '6BC92BAB-B1C8-49C5-87B3-126BBCDC46D5', '73E02C20-7DB0-4825-84C1-E58DB8C296BF', '6DEF3353-8276-402F-AC8E-3DEF4A396FFE', '8A0CF414-3240-47D1-AB8F-998165BA092E', 'EBD2AE36-04A5-4EA9-836F-12F9D3CCB777', 'F841F05A-E047-491F-BF7B-C71283C653D6', '4E1B3F09-CB88-4A5E-8198-24490EE7FC58', '6ECF60CD-E1E5-4C59-8941-3EC0E9DF30DD', 'C9CB60C2-46E0-4FDC-B2A5-73318344E4C9', '173879C4-4FDB-4521-A60D-5B102B3781B2', '8C536493-14B8-41D0-8EE4-CAE4DFF33839', 'A98417B1-4A7F-484F-97C8-9B91F29A26F1', 'D186291A-2487-45AE-83C7-651C7C71D41E', 'BE3F4495-1AC4-4A36-A529-40A6A740F58C', '08848DC6-BB11-4647-9C21-475BAD66A8B8', 'E062E187-F149-4555-8E27-2EE0C9D75274', '958C1DE5-2FA9-4051-8827-8681C4E7AFF6', 'F20F52DF-B0B1-4615-B9D3-AC669CE18454', '34A04257-8486-40AC-BE74-4022F7D395E4', '8A62F620-7C58-4662-AE5C-F41F5E3F0022', '67A2574B-8146-464D-B93C-B9FCBCE913BC']\",\n",
      "        \"NormalEnergizingSubstation\": \"58449cb8-8a5f-4cad-abe7-62a6cc2abe01\"\n",
      "    }\n",
      "}\n"
     ]
    }
   ],
   "source": [
    "# Print substation data using names\n",
    "SubBuilder.network.pprint(cim.Substation, use_names = True)\n",
    "# Print feeder data\n",
    "SubBuilder.network.pprint(cim.Feeder)"
   ]
  },
  {
   "cell_type": "markdown",
   "metadata": {},
   "source": [
    "The CIMantic Graphs `utils` package can be used to save the substation to an XML file for further use. "
   ]
  },
  {
   "cell_type": "code",
   "execution_count": 24,
   "metadata": {},
   "outputs": [],
   "source": [
    "utils.write_xml(SubBuilder.network, '../test_output/sectionalized.xml')"
   ]
  },
  {
   "cell_type": "markdown",
   "metadata": {},
   "source": [
    "The final verification that the substation has been created and can be successfully used with the network models Round-Trip Test: \n",
    "1) Delete all old models from the database\n",
    "2) Load the new substation and feeder CIM XML files\n",
    "3) Obtain all data for feeders contained by the subustation"
   ]
  },
  {
   "cell_type": "code",
   "execution_count": 25,
   "metadata": {},
   "outputs": [
    {
     "name": "stderr",
     "output_type": "stream",
     "text": [
      "/home/ande188/CIM-Builder/.venv/lib/python3.10/site-packages/SPARQLWrapper/Wrapper.py:1215: RuntimeWarning: unknown response content type 'text/html;charset=utf-8' returning raw response...\n",
      "  warnings.warn(\n"
     ]
    },
    {
     "data": {
      "text/plain": [
       "b'<!DOCTYPE HTML PUBLIC \"-//W3C//DTD HTML 4.01 Transitional//EN\" \"http://www.w3.org/TR/html4/loose.dtd\"><html><head><meta http-equiv=\"Content-Type\" content=\"text&#47;html;charset=UTF-8\"><title>blazegraph&trade; by SYSTAP</title\\n></head\\n><body<p>totalElapsed=17ms, elapsed=17ms, connFlush=0ms, batchResolve=0, whereClause=0ms, deleteClause=0ms, insertClause=0ms</p\\n><hr><p>COMMIT: totalElapsed=20ms, commitTime=1709076717039, mutationCount=6461</p\\n></html\\n>'"
      ]
     },
     "execution_count": 25,
     "metadata": {},
     "output_type": "execute_result"
    }
   ],
   "source": [
    "# Delete all CIM triples from database\n",
    "blazegraph.execute('drop all')"
   ]
  },
  {
   "cell_type": "code",
   "execution_count": 26,
   "metadata": {},
   "outputs": [
    {
     "name": "stdout",
     "output_type": "stream",
     "text": [
      "HTTP/1.1 100 Continue\n",
      "\n",
      "HTTP/1.1 200 OK\n",
      "Content-Type: application/xml;charset=iso-8859-1\n",
      "Content-Length: 62\n",
      "Server: Jetty(9.4.18.v20190429)\n",
      "\n",
      "<?xml version=\"1.0\"?><data modified=\"3392\" milliseconds=\"19\"/>HTTP/1.1 100 Continue\n",
      "\n",
      "HTTP/1.1 200 OK\n",
      "Content-Type: application/xml;charset=iso-8859-1\n",
      "Content-Length: 62\n",
      "Server: Jetty(9.4.18.v20190429)\n",
      "\n",
      "<?xml version=\"1.0\"?><data modified=\"2927\" milliseconds=\"23\"/>HTTP/1.1 100 Continue\n",
      "\n",
      "HTTP/1.1 200 OK\n",
      "Content-Type: application/xml;charset=iso-8859-1\n",
      "Content-Length: 61\n",
      "Server: Jetty(9.4.18.v20190429)\n",
      "\n",
      "<?xml version=\"1.0\"?><data modified=\"252\" milliseconds=\"20\"/>"
     ]
    }
   ],
   "source": [
    "# Upload new models into the database\n",
    "bg_loader.upload_from_file(filename='../test_models/IEEE13.xml')\n",
    "bg_loader.upload_from_file(filename='../test_models/IEEE13_Assets.xml')\n",
    "bg_loader.upload_from_file(filename='../test_output/sectionalized.xml')"
   ]
  },
  {
   "cell_type": "markdown",
   "metadata": {},
   "source": [
    "To verify that all feeder data can be obtained, we create a new CIMantic Graphs model and then query for the classes Substation and Feeder. We can also obtain the total amount of aggregate load from both feeders that are served by the substation."
   ]
  },
  {
   "cell_type": "code",
   "execution_count": 27,
   "metadata": {},
   "outputs": [],
   "source": [
    "network = NodeBreakerModel(container=substation, connection=blazegraph, distributed = False)"
   ]
  },
  {
   "cell_type": "code",
   "execution_count": 28,
   "metadata": {},
   "outputs": [
    {
     "name": "stdout",
     "output_type": "stream",
     "text": [
      "{\n",
      "    \"58449cb8-8a5f-4cad-abe7-62a6cc2abe01\": {\n",
      "        \"mRID\": \"58449cb8-8a5f-4cad-abe7-62a6cc2abe01\",\n",
      "        \"name\": \"sectionalized_sub\",\n",
      "        \"ConnectivityNodes\": \"['890364d1-1a9f-43eb-b649-b6ce9d045337', 'adbce424-2d9c-459b-bf9a-a5cb7069a71f', 'aff45da7-3c2e-4d84-89a3-35560e707422', 'b7b5f302-5872-4c64-be47-cc0b2eae6c76', 'c81cb174-de0f-401d-ac91-a02aadd9c7b6', 'd32b6891-a2c9-408e-8eee-6327771512dc', 'd7d243eb-8973-48a0-b434-c56a35eabef2', '0dee55b9-a354-47fb-923f-4fe93b8df821']\",\n",
      "        \"Equipments\": \"['88c82476-ca31-473f-87a4-ded28ecceae2', '89552179-0bc7-4fb9-b15b-5fb3f9b5ba37', '9aaffb28-0f72-40a0-aa73-38e3033cbfdd', 'cc609993-2d83-4faf-a959-9757560cff0e', 'd9fa753f-fae1-4d10-9a9e-49a7b0381df6', 'e3978b8c-a59f-4b05-b442-48bb177515a1', 'f0c9ab09-147e-47f3-b27e-4b52e0f307fc', '1195372d-175c-4ef1-ad1c-1c1c15979907', '4d106def-cca7-4125-897d-818f0002d50d', '64fcb403-a499-45ab-9aa2-532392d7cde9', '7eef8843-1fdb-447b-b7d1-e10bb51eb8ce']\",\n",
      "        \"NormalEnergizedFeeder\": \"['49AD8E07-3BF9-A4E2-CB8F-C3722F837B62', '5B816B93-7A5F-B64C-8460-47C17D6E4B0F']\"\n",
      "    }\n",
      "}\n"
     ]
    }
   ],
   "source": [
    "# Print substation info\n",
    "network.get_all_edges(cim.Substation)\n",
    "network.pprint(cim.Substation)"
   ]
  },
  {
   "cell_type": "code",
   "execution_count": 29,
   "metadata": {},
   "outputs": [
    {
     "name": "stdout",
     "output_type": "stream",
     "text": [
      "{\n",
      "    \"49AD8E07-3BF9-A4E2-CB8F-C3722F837B62\": {\n",
      "        \"mRID\": \"49AD8E07-3BF9-A4E2-CB8F-C3722F837B62\",\n",
      "        \"name\": \"ieee13nodeckt\",\n",
      "        \"Location\": \"8E4E3C92-0B7A-4F74-8FD2-CC10F74E452F\",\n",
      "        \"ConnectivityNodes\": \"['673E896A-DCBF-4E43-9924-BEB31C5B6005', 'A8A25B50-3AE3-4A31-A18B-B3FA13397ED3', '421E99BE-A834-4809-B924-84D88F634A45', '2A6DC4DD-D3DC-434D-A187-D2C58A0A72C8', '7BEDDADD-0A14-429F-8601-9EA8B892CA6E', '63DFBEA0-CD06-4D2E-B956-DF9517BE057B', '30BE5988-DE57-4E0C-AB08-50D5A13D2C1B', '0124E881-B82D-4206-BBDF-37D585159872', 'C6256170-E6ED-4F91-8EBD-748090C3FDD5', '0A98A62D-7642-4F03-8317-A8605CBDBA37', '04984C4D-CC29-477A-9AF4-61AC7D74F16F', '0DCC57AF-F4FA-457D-BB24-2EFDA9865A1A', 'E5B2888B-B60D-4DA6-A4F7-17EB849D28B2', '6CB5E5CE-2CD0-40CC-A979-B4F9ED05E49B', '8E99F99D-FE8F-420B-AC49-0B52DF5362AB', 'DC889FA5-7B28-4273-A1D7-205BE3E0BFED', '94F822E0-7130-4205-8597-B47110BBEF4B', 'ADDB7A30-5A3C-4179-AF5D-5C9A7213B0E7', '8C58660F-C62C-4903-BE72-22F1255B1E62', '76D6D03C-967C-4E12-836D-A98DF3552BC7', '0F1E28C3-6C44-4F88-B79C-2FDBCA4487B2', 'DBFA8EFA-B397-40DA-9642-60E8DE4B3471']\",\n",
      "        \"Equipments\": \"['60B55036-DD71-40CE-ADDA-97B8CE7447DC', '52DE9189-20DC-4C73-BDEE-E960FE1F9493', '8E180773-2A9B-4136-BC9A-132A52C8E276', '259E820F-B4AF-4E1A-8271-687534EDAECC', '3FFFB3F7-A7AF-49E1-ACEE-449FC73D3CD6', 'ABF877D7-DAC2-4BF0-AB58-9A8A02E92EB3', '32F02D2B-EE6E-4D3F-8486-1B5CAEF70204', 'D34B0D01-B082-4081-A3CC-B68B9B8313A4', 'C39149DE-3451-4D33-B4C2-B1E6C6FC9AAB', 'A04CDFB1-E951-4FC4-8882-0323CD70AE3C', 'ABF53597-A808-422A-B7EE-552F24D83A5F', 'FBE26B35-13AB-457D-9795-DF58B28E309D', '45395C84-F20A-4F5A-977F-B80348256421', 'CE5D0651-676B-4AF3-8D67-41BF1B33E30C', '67B57539-590B-4158-9CBB-9DBA2FE6C1F0', 'A9E8758B-5486-4798-8FBA-9AE639ABFC38', '517413CB-6977-46FA-8911-C82332E42884', 'A9DE8829-58CB-4750-B2A2-672846A89753', '9CAAF741-BE1E-4893-8044-1E507B7DDC38', 'B21C5599-1D00-4FCF-904B-58D9D4CAC49A', 'B6363F07-B1BC-420B-AA4C-A34BB8F05827', '1E6B5C97-C4E8-4CED-B9A5-6E69F389DA93', 'E2E0FC64-8D45-4C55-BDB9-EAB827A46FBC', '4C04F838-62AA-475E-AEFA-A63B7C889C13', '7060D0BB-B30D-4932-8FA1-40820A0FC4D0', '8B452737-CA3D-4C10-A99D-6865506437C8', '7FF12CEF-1C4D-4CD2-8FCC-662530A7BA33', '44FC5A86-A099-45B8-B847-F685C5027AFB', '3B2021A7-4BFC-418D-9C20-BD6838E52CF8', 'D2E930A7-B136-4ACA-A996-8DB5C60AADF3', '1C6781A2-5B9D-4525-8A9B-F9B32C4C4AC0', '682AB7A9-4FBF-4204-BDE1-27EAB3425DA0', '8CA46F28-84C0-4FE2-B228-EC4080777865', '7B671984-4C56-4FF1-9733-B4B6FCA5F2AA', '9D725810-BFD6-44C6-961A-2BC027F6FC95', 'E503BBF8-3C82-4DF7-B6E9-2488ECFCC847', '47E52220-4596-4AF0-9724-0167B72A4DB8', '17A934C7-1510-481F-BAD7-189058957FF1', '91A37B4C-C38B-4269-8467-F40870934386', '0BBD0EA3-F665-465B-86FD-FC8B8466AD53', '8E34333C-2BB8-4631-B072-383F1CA38F60', '0BC9183A-9067-4E06-AA5B-48DC2AB30C80', '572BCFC9-E1D6-4419-9A33-EDD284806AF3', '2858B6C2-0886-4269-884C-06FA8B887319', 'CEC0FC3A-0FD1-4F1C-9C51-7D9BEF4D8222', '43EF8365-F932-409B-A51E-FBED3F6DFFAA', 'E26D83A0-D29D-41EF-9528-02C882FFCC0D', '70188FF4-04F0-48D2-8706-698D1FD086E6']\",\n",
      "        \"NormalEnergizingSubstation\": \"6C62C905-6FC7-653D-9F1E-1340F974A587\"\n",
      "    },\n",
      "    \"5B816B93-7A5F-B64C-8460-47C17D6E4B0F\": {\n",
      "        \"mRID\": \"5B816B93-7A5F-B64C-8460-47C17D6E4B0F\",\n",
      "        \"name\": \"ieee13nodecktassets\",\n",
      "        \"Location\": \"E8CC2D43-FB22-4798-AA57-09F1CDB77C00\",\n",
      "        \"ConnectivityNodes\": \"['09A37A19-DF0E-48F3-92E9-10FA62A08120', 'E14BD0DF-466D-487B-8786-0D46515D1F9B', '7326FB57-9839-4AE6-9F3D-B5660C58A7BA', '04006A64-109D-499D-8496-1B55907C1570', 'DFA687CB-83D6-4FD0-8007-657A3E1819F6', 'CB29A4D1-EE08-4AAF-82F6-3C178009EBC0', '22B55260-79B0-4DF5-A070-AFEDAFA299D4', 'B7E4EF30-D95D-4C8E-829B-F75FB0FDBEAD', 'BDCA9F2B-81A8-4969-AE86-B9D5DC399F51', '4163D7DE-898A-4241-93E0-F3FC49F1F714', '249A3E8C-0128-4DE2-92EA-112B44080BF2', '348C3A23-B2F4-4101-9A6C-AF8DEF97DD4C', '3E259C63-39CC-4B6C-9C4A-1B29A5C83840', '560E1C31-EE5C-4BFD-A0B6-F4E8D60E2C76', '61D2A727-4D2E-45F9-8A94-C42B38FFF029', 'DC7FBBF3-1456-4B9C-8983-9E3D4FA9D95B']\",\n",
      "        \"Equipments\": \"['4774208A-B9AB-4051-8BC9-4F7C8EA6552A', '603106B5-1DC7-40B1-A264-98774F6FD16D', '6964DE20-CC96-473D-BB0F-73CD8ACAED2D', '928BCF3C-276A-4E74-A4AE-C3C79D624F5F', '2EB647F9-B8F8-4659-9D2D-3515563030EB', 'F229083B-D5FC-40F0-BFE0-9E92C8C69574', '819CA18E-54AA-42D5-B069-F1AC831D926E', 'C28BFD4B-C7D1-49AD-BAA6-E06CB0856A72', 'EF316EA5-74D3-4209-89EA-BF8FAAC2BAF6', '28456F60-7196-47E4-9BE6-54F7EAABC04A', 'F3D41D9D-9606-4277-A336-69D7048301AF', '6A7D7AF8-A0F7-41B6-BB0C-160EAE054DEA', '4FE57842-43D5-4EBB-8FF1-795E6FE1C507', '7E0E4F76-E0FD-4BB5-BB58-BC5B05A5A59A', '16861155-E2D2-4E9C-8FCA-50EA820E96D0', '46479235-D5D9-4CE8-9F7C-C78426691797', '6EBB2188-CBE1-4FEC-9406-83DE8E61F9CB', '6BC92BAB-B1C8-49C5-87B3-126BBCDC46D5', '73E02C20-7DB0-4825-84C1-E58DB8C296BF', '6DEF3353-8276-402F-AC8E-3DEF4A396FFE', '8A0CF414-3240-47D1-AB8F-998165BA092E', 'EBD2AE36-04A5-4EA9-836F-12F9D3CCB777', 'F841F05A-E047-491F-BF7B-C71283C653D6', '4E1B3F09-CB88-4A5E-8198-24490EE7FC58', '6ECF60CD-E1E5-4C59-8941-3EC0E9DF30DD', 'C9CB60C2-46E0-4FDC-B2A5-73318344E4C9', '173879C4-4FDB-4521-A60D-5B102B3781B2', '8C536493-14B8-41D0-8EE4-CAE4DFF33839', 'A98417B1-4A7F-484F-97C8-9B91F29A26F1', 'D186291A-2487-45AE-83C7-651C7C71D41E', 'BE3F4495-1AC4-4A36-A529-40A6A740F58C', '08848DC6-BB11-4647-9C21-475BAD66A8B8', 'E062E187-F149-4555-8E27-2EE0C9D75274', '958C1DE5-2FA9-4051-8827-8681C4E7AFF6', 'F20F52DF-B0B1-4615-B9D3-AC669CE18454', '34A04257-8486-40AC-BE74-4022F7D395E4', '8A62F620-7C58-4662-AE5C-F41F5E3F0022', '67A2574B-8146-464D-B93C-B9FCBCE913BC']\",\n",
      "        \"NormalEnergizingSubstation\": \"6C62C905-6FC7-653D-9F1E-1340F974A587\"\n",
      "    }\n",
      "}\n"
     ]
    }
   ],
   "source": [
    "# Print feeder info\n",
    "network.get_all_edges(cim.Feeder)\n",
    "network.pprint(cim.Feeder)"
   ]
  },
  {
   "cell_type": "code",
   "execution_count": 30,
   "metadata": {},
   "outputs": [
    {
     "name": "stdout",
     "output_type": "stream",
     "text": [
      "total load is 6937.0 kW\n"
     ]
    }
   ],
   "source": [
    "# Print total load served by substation from both feeders\n",
    "total_load = 0\n",
    "network.get_all_edges(cim.EnergyConsumer)\n",
    "for load in network.graph[cim.EnergyConsumer].values():\n",
    "    total_load = total_load + float(load.p)\n",
    "\n",
    "print(f'total load is {total_load/1000} kW')"
   ]
  },
  {
   "cell_type": "markdown",
   "metadata": {},
   "source": [
    "As part of the round-trip test, it is also possible to merge the substation and both feeders into a single XML file "
   ]
  },
  {
   "cell_type": "code",
   "execution_count": 31,
   "metadata": {},
   "outputs": [],
   "source": [
    "utils.get_all_data(network)\n",
    "utils.write_xml(network, '../test_output/sectionalized_and_feeders.xml')"
   ]
  },
  {
   "cell_type": "code",
   "execution_count": null,
   "metadata": {},
   "outputs": [],
   "source": []
  },
  {
   "cell_type": "code",
   "execution_count": null,
   "metadata": {},
   "outputs": [],
   "source": []
  },
  {
   "cell_type": "markdown",
   "metadata": {},
   "source": [
    "### Create New Main-and-Transfer Substation"
   ]
  },
  {
   "cell_type": "markdown",
   "metadata": {},
   "source": [
    "To create a new Main and Transfer substation, we import the associated class from the `substation_builder` module in CIM-Builder:"
   ]
  },
  {
   "cell_type": "code",
   "execution_count": 32,
   "metadata": {},
   "outputs": [],
   "source": [
    "from cimbuilder.substation_builder import MainAndTransferSubstation"
   ]
  },
  {
   "cell_type": "markdown",
   "metadata": {},
   "source": [
    "To create a new substation, the class is instantiated with the name of the substation and base voltage. If the substation is not being added to an existing network, a new `DistributedArea` will be created to contain the substation."
   ]
  },
  {
   "cell_type": "code",
   "execution_count": 33,
   "metadata": {},
   "outputs": [],
   "source": [
    "SubBuilder = MainAndTransferSubstation(connection=connection,\n",
    "                                       name=\"main_transfer_sub\", \n",
    "                                       base_voltage = 115000)\n",
    "substation = SubBuilder.substation"
   ]
  },
  {
   "cell_type": "markdown",
   "metadata": {},
   "source": [
    "To add a feeder to the new substation, the `.new_feeder()` method is called. The `series_number` is used for automatic naming of the breaker and airgap switches. The arguments `feeder` and `feeder_network` are used for the CIM feeder object and the CIMantic Graphs network model.\n",
    "\n",
    "The function call below will automatically insert the IEEE 13 and IEEE 13 Assets feeders into the new substation:"
   ]
  },
  {
   "cell_type": "code",
   "execution_count": 34,
   "metadata": {},
   "outputs": [],
   "source": [
    "SubBuilder.new_feeder(series_number = 1, feeder=ieee13_feeder,\n",
    "                       feeder_network=ieee13_network)\n",
    "SubBuilder.new_feeder(series_number = 2, feeder=assets13_feeder,\n",
    "                      feeder_network=assets13_network)"
   ]
  },
  {
   "cell_type": "markdown",
   "metadata": {},
   "source": [
    "To check whether the feeders have been added successfully, it is possible to use the CIMantic Graphs `.pprint(cim.ClassName)` method to print all instances of Substation and Feeder objects."
   ]
  },
  {
   "cell_type": "code",
   "execution_count": 35,
   "metadata": {},
   "outputs": [
    {
     "name": "stdout",
     "output_type": "stream",
     "text": [
      "{\n",
      "    \"5ce025e2-6352-48db-8cdd-dd6c5dc41e65\": {\n",
      "        \"mRID\": \"5ce025e2-6352-48db-8cdd-dd6c5dc41e65\",\n",
      "        \"name\": \"main_transfer_sub\",\n",
      "        \"NormalEnergizedFeeder\": \"['ieee13nodeckt', 'ieee13nodecktassets']\"\n",
      "    }\n",
      "}\n",
      "{\n",
      "    \"49AD8E07-3BF9-A4E2-CB8F-C3722F837B62\": {\n",
      "        \"mRID\": \"49AD8E07-3BF9-A4E2-CB8F-C3722F837B62\",\n",
      "        \"name\": \"ieee13nodeckt\",\n",
      "        \"Location\": \"8E4E3C92-0B7A-4F74-8FD2-CC10F74E452F\",\n",
      "        \"ConnectivityNodes\": \"['673E896A-DCBF-4E43-9924-BEB31C5B6005', 'A8A25B50-3AE3-4A31-A18B-B3FA13397ED3', '421E99BE-A834-4809-B924-84D88F634A45', '2A6DC4DD-D3DC-434D-A187-D2C58A0A72C8', '7BEDDADD-0A14-429F-8601-9EA8B892CA6E', '63DFBEA0-CD06-4D2E-B956-DF9517BE057B', '30BE5988-DE57-4E0C-AB08-50D5A13D2C1B', '0124E881-B82D-4206-BBDF-37D585159872', 'C6256170-E6ED-4F91-8EBD-748090C3FDD5', '0A98A62D-7642-4F03-8317-A8605CBDBA37', '04984C4D-CC29-477A-9AF4-61AC7D74F16F', '0DCC57AF-F4FA-457D-BB24-2EFDA9865A1A', 'E5B2888B-B60D-4DA6-A4F7-17EB849D28B2', '6CB5E5CE-2CD0-40CC-A979-B4F9ED05E49B', '8E99F99D-FE8F-420B-AC49-0B52DF5362AB', 'DC889FA5-7B28-4273-A1D7-205BE3E0BFED', '94F822E0-7130-4205-8597-B47110BBEF4B', 'ADDB7A30-5A3C-4179-AF5D-5C9A7213B0E7', '8C58660F-C62C-4903-BE72-22F1255B1E62', '76D6D03C-967C-4E12-836D-A98DF3552BC7', '0F1E28C3-6C44-4F88-B79C-2FDBCA4487B2', 'DBFA8EFA-B397-40DA-9642-60E8DE4B3471']\",\n",
      "        \"Equipments\": \"['60B55036-DD71-40CE-ADDA-97B8CE7447DC', '52DE9189-20DC-4C73-BDEE-E960FE1F9493', '8E180773-2A9B-4136-BC9A-132A52C8E276', '259E820F-B4AF-4E1A-8271-687534EDAECC', '3FFFB3F7-A7AF-49E1-ACEE-449FC73D3CD6', 'ABF877D7-DAC2-4BF0-AB58-9A8A02E92EB3', '32F02D2B-EE6E-4D3F-8486-1B5CAEF70204', 'D34B0D01-B082-4081-A3CC-B68B9B8313A4', 'C39149DE-3451-4D33-B4C2-B1E6C6FC9AAB', 'A04CDFB1-E951-4FC4-8882-0323CD70AE3C', 'ABF53597-A808-422A-B7EE-552F24D83A5F', 'FBE26B35-13AB-457D-9795-DF58B28E309D', '45395C84-F20A-4F5A-977F-B80348256421', 'CE5D0651-676B-4AF3-8D67-41BF1B33E30C', '67B57539-590B-4158-9CBB-9DBA2FE6C1F0', 'A9E8758B-5486-4798-8FBA-9AE639ABFC38', '517413CB-6977-46FA-8911-C82332E42884', 'A9DE8829-58CB-4750-B2A2-672846A89753', '9CAAF741-BE1E-4893-8044-1E507B7DDC38', 'B21C5599-1D00-4FCF-904B-58D9D4CAC49A', 'B6363F07-B1BC-420B-AA4C-A34BB8F05827', '1E6B5C97-C4E8-4CED-B9A5-6E69F389DA93', 'E2E0FC64-8D45-4C55-BDB9-EAB827A46FBC', '4C04F838-62AA-475E-AEFA-A63B7C889C13', '7060D0BB-B30D-4932-8FA1-40820A0FC4D0', '8B452737-CA3D-4C10-A99D-6865506437C8', '7FF12CEF-1C4D-4CD2-8FCC-662530A7BA33', '44FC5A86-A099-45B8-B847-F685C5027AFB', '3B2021A7-4BFC-418D-9C20-BD6838E52CF8', 'D2E930A7-B136-4ACA-A996-8DB5C60AADF3', '1C6781A2-5B9D-4525-8A9B-F9B32C4C4AC0', '682AB7A9-4FBF-4204-BDE1-27EAB3425DA0', '8CA46F28-84C0-4FE2-B228-EC4080777865', '7B671984-4C56-4FF1-9733-B4B6FCA5F2AA', '9D725810-BFD6-44C6-961A-2BC027F6FC95', 'E503BBF8-3C82-4DF7-B6E9-2488ECFCC847', '47E52220-4596-4AF0-9724-0167B72A4DB8', '17A934C7-1510-481F-BAD7-189058957FF1', '91A37B4C-C38B-4269-8467-F40870934386', '0BBD0EA3-F665-465B-86FD-FC8B8466AD53', '8E34333C-2BB8-4631-B072-383F1CA38F60', '0BC9183A-9067-4E06-AA5B-48DC2AB30C80', '572BCFC9-E1D6-4419-9A33-EDD284806AF3', '2858B6C2-0886-4269-884C-06FA8B887319', 'CEC0FC3A-0FD1-4F1C-9C51-7D9BEF4D8222', '43EF8365-F932-409B-A51E-FBED3F6DFFAA', 'E26D83A0-D29D-41EF-9528-02C882FFCC0D', '70188FF4-04F0-48D2-8706-698D1FD086E6']\",\n",
      "        \"NormalEnergizingSubstation\": \"5ce025e2-6352-48db-8cdd-dd6c5dc41e65\"\n",
      "    },\n",
      "    \"5B816B93-7A5F-B64C-8460-47C17D6E4B0F\": {\n",
      "        \"mRID\": \"5B816B93-7A5F-B64C-8460-47C17D6E4B0F\",\n",
      "        \"name\": \"ieee13nodecktassets\",\n",
      "        \"Location\": \"E8CC2D43-FB22-4798-AA57-09F1CDB77C00\",\n",
      "        \"ConnectivityNodes\": \"['09A37A19-DF0E-48F3-92E9-10FA62A08120', 'E14BD0DF-466D-487B-8786-0D46515D1F9B', '7326FB57-9839-4AE6-9F3D-B5660C58A7BA', '04006A64-109D-499D-8496-1B55907C1570', 'DFA687CB-83D6-4FD0-8007-657A3E1819F6', 'CB29A4D1-EE08-4AAF-82F6-3C178009EBC0', '22B55260-79B0-4DF5-A070-AFEDAFA299D4', 'B7E4EF30-D95D-4C8E-829B-F75FB0FDBEAD', 'BDCA9F2B-81A8-4969-AE86-B9D5DC399F51', '4163D7DE-898A-4241-93E0-F3FC49F1F714', '249A3E8C-0128-4DE2-92EA-112B44080BF2', '348C3A23-B2F4-4101-9A6C-AF8DEF97DD4C', '3E259C63-39CC-4B6C-9C4A-1B29A5C83840', '560E1C31-EE5C-4BFD-A0B6-F4E8D60E2C76', '61D2A727-4D2E-45F9-8A94-C42B38FFF029', 'DC7FBBF3-1456-4B9C-8983-9E3D4FA9D95B']\",\n",
      "        \"Equipments\": \"['4774208A-B9AB-4051-8BC9-4F7C8EA6552A', '603106B5-1DC7-40B1-A264-98774F6FD16D', '6964DE20-CC96-473D-BB0F-73CD8ACAED2D', '928BCF3C-276A-4E74-A4AE-C3C79D624F5F', '2EB647F9-B8F8-4659-9D2D-3515563030EB', 'F229083B-D5FC-40F0-BFE0-9E92C8C69574', '819CA18E-54AA-42D5-B069-F1AC831D926E', 'C28BFD4B-C7D1-49AD-BAA6-E06CB0856A72', 'EF316EA5-74D3-4209-89EA-BF8FAAC2BAF6', '28456F60-7196-47E4-9BE6-54F7EAABC04A', 'F3D41D9D-9606-4277-A336-69D7048301AF', '6A7D7AF8-A0F7-41B6-BB0C-160EAE054DEA', '4FE57842-43D5-4EBB-8FF1-795E6FE1C507', '7E0E4F76-E0FD-4BB5-BB58-BC5B05A5A59A', '16861155-E2D2-4E9C-8FCA-50EA820E96D0', '46479235-D5D9-4CE8-9F7C-C78426691797', '6EBB2188-CBE1-4FEC-9406-83DE8E61F9CB', '6BC92BAB-B1C8-49C5-87B3-126BBCDC46D5', '73E02C20-7DB0-4825-84C1-E58DB8C296BF', '6DEF3353-8276-402F-AC8E-3DEF4A396FFE', '8A0CF414-3240-47D1-AB8F-998165BA092E', 'EBD2AE36-04A5-4EA9-836F-12F9D3CCB777', 'F841F05A-E047-491F-BF7B-C71283C653D6', '4E1B3F09-CB88-4A5E-8198-24490EE7FC58', '6ECF60CD-E1E5-4C59-8941-3EC0E9DF30DD', 'C9CB60C2-46E0-4FDC-B2A5-73318344E4C9', '173879C4-4FDB-4521-A60D-5B102B3781B2', '8C536493-14B8-41D0-8EE4-CAE4DFF33839', 'A98417B1-4A7F-484F-97C8-9B91F29A26F1', 'D186291A-2487-45AE-83C7-651C7C71D41E', 'BE3F4495-1AC4-4A36-A529-40A6A740F58C', '08848DC6-BB11-4647-9C21-475BAD66A8B8', 'E062E187-F149-4555-8E27-2EE0C9D75274', '958C1DE5-2FA9-4051-8827-8681C4E7AFF6', 'F20F52DF-B0B1-4615-B9D3-AC669CE18454', '34A04257-8486-40AC-BE74-4022F7D395E4', '8A62F620-7C58-4662-AE5C-F41F5E3F0022', '67A2574B-8146-464D-B93C-B9FCBCE913BC']\",\n",
      "        \"NormalEnergizingSubstation\": \"5ce025e2-6352-48db-8cdd-dd6c5dc41e65\"\n",
      "    }\n",
      "}\n"
     ]
    }
   ],
   "source": [
    "# Print substation data using names\n",
    "SubBuilder.network.pprint(cim.Substation, use_names = True)\n",
    "# Print feeder data\n",
    "SubBuilder.network.pprint(cim.Feeder)"
   ]
  },
  {
   "cell_type": "markdown",
   "metadata": {},
   "source": [
    "The CIMantic Graphs `utils` package can be used to save the substation to an XML file for further use. "
   ]
  },
  {
   "cell_type": "code",
   "execution_count": 36,
   "metadata": {},
   "outputs": [],
   "source": [
    "utils.write_xml(SubBuilder.network, '../test_output/main_and_transfer.xml')"
   ]
  },
  {
   "cell_type": "markdown",
   "metadata": {},
   "source": [
    "The final verification that the substation has been created and can be successfully used with the network models Round-Trip Test: \n",
    "1) Delete all old models from the database\n",
    "2) Load the new substation and feeder CIM XML files\n",
    "3) Obtain all data for feeders contained by the subustation"
   ]
  },
  {
   "cell_type": "code",
   "execution_count": 37,
   "metadata": {},
   "outputs": [
    {
     "name": "stderr",
     "output_type": "stream",
     "text": [
      "/home/ande188/CIM-Builder/.venv/lib/python3.10/site-packages/SPARQLWrapper/Wrapper.py:1215: RuntimeWarning: unknown response content type 'text/html;charset=utf-8' returning raw response...\n",
      "  warnings.warn(\n"
     ]
    },
    {
     "data": {
      "text/plain": [
       "b'<!DOCTYPE HTML PUBLIC \"-//W3C//DTD HTML 4.01 Transitional//EN\" \"http://www.w3.org/TR/html4/loose.dtd\"><html><head><meta http-equiv=\"Content-Type\" content=\"text&#47;html;charset=UTF-8\"><title>blazegraph&trade; by SYSTAP</title\\n></head\\n><body<p>totalElapsed=20ms, elapsed=20ms, connFlush=0ms, batchResolve=0, whereClause=0ms, deleteClause=0ms, insertClause=0ms</p\\n><hr><p>COMMIT: totalElapsed=23ms, commitTime=1709076721659, mutationCount=6540</p\\n></html\\n>'"
      ]
     },
     "execution_count": 37,
     "metadata": {},
     "output_type": "execute_result"
    }
   ],
   "source": [
    "# Delete all CIM triples from database\n",
    "blazegraph.execute('drop all')"
   ]
  },
  {
   "cell_type": "code",
   "execution_count": 38,
   "metadata": {},
   "outputs": [
    {
     "name": "stdout",
     "output_type": "stream",
     "text": [
      "HTTP/1.1 100 Continue\n",
      "\n",
      "HTTP/1.1 200 OK\n",
      "Content-Type: application/xml;charset=iso-8859-1\n",
      "Content-Length: 62\n",
      "Server: Jetty(9.4.18.v20190429)\n",
      "\n",
      "<?xml version=\"1.0\"?><data modified=\"3392\" milliseconds=\"25\"/>HTTP/1.1 100 Continue\n",
      "\n",
      "HTTP/1.1 200 OK\n",
      "Content-Type: application/xml;charset=iso-8859-1\n",
      "Content-Length: 62\n",
      "Server: Jetty(9.4.18.v20190429)\n",
      "\n",
      "<?xml version=\"1.0\"?><data modified=\"2927\" milliseconds=\"25\"/>HTTP/1.1 100 Continue\n",
      "\n",
      "HTTP/1.1 200 OK\n",
      "Content-Type: application/xml;charset=iso-8859-1\n",
      "Content-Length: 61\n",
      "Server: Jetty(9.4.18.v20190429)\n",
      "\n",
      "<?xml version=\"1.0\"?><data modified=\"290\" milliseconds=\"20\"/>"
     ]
    }
   ],
   "source": [
    "# Upload new models into the database\n",
    "bg_loader.upload_from_file(filename='../test_models/IEEE13.xml')\n",
    "bg_loader.upload_from_file(filename='../test_models/IEEE13_Assets.xml')\n",
    "bg_loader.upload_from_file(filename='../test_output/main_and_transfer.xml')"
   ]
  },
  {
   "cell_type": "markdown",
   "metadata": {},
   "source": [
    "To verify that all feeder data can be obtained, we create a new CIMantic Graphs model and then query for the classes Substation and Feeder. We can also obtain the total amount of aggregate load from both feeders that are served by the substation."
   ]
  },
  {
   "cell_type": "code",
   "execution_count": 39,
   "metadata": {},
   "outputs": [],
   "source": [
    "network = NodeBreakerModel(container=substation, connection=blazegraph, distributed = False)"
   ]
  },
  {
   "cell_type": "code",
   "execution_count": 40,
   "metadata": {},
   "outputs": [
    {
     "name": "stdout",
     "output_type": "stream",
     "text": [
      "{\n",
      "    \"5ce025e2-6352-48db-8cdd-dd6c5dc41e65\": {\n",
      "        \"mRID\": \"5ce025e2-6352-48db-8cdd-dd6c5dc41e65\",\n",
      "        \"name\": \"main_transfer_sub\",\n",
      "        \"ConnectivityNodes\": \"['8b1ee5c2-2cbe-48e4-a22b-fee2fcf644dd', '9f883dce-8992-465a-9af0-0e709ea84251', 'a72bbb03-1639-40b8-b813-fd0dbd84f0f5', 'd64ab296-10d0-4d4b-a96a-92a3aa9dd1c5', 'd9dc9438-c393-4d06-ba54-22635389b59d', '06812483-5178-46c3-aaee-0c5a7e733398', '324277eb-aec0-4aa8-9a60-ca8872cede60', '32dd0ede-4e74-4317-b40b-30e6f2274871']\",\n",
      "        \"Equipments\": \"['8511633b-69a1-4c86-8951-3561aaf79626', '9d017259-5665-48d9-814a-92fb61318caf', 'ae499193-cd04-4340-89b9-fba0b590934f', 'bea576c9-04ef-4aaf-8cf2-492a56377b77', 'fddc00fc-9545-466d-b1e3-20805efc0673', '0f06e820-c294-4a4c-9358-f2714fbe8dc6', '10d9a098-6e91-45f4-84ae-d5c349713b4e', '1ea5b1a4-248f-4725-8154-24f00de6992b', '2ebb6495-54a3-4d7d-a6a9-523518320070', '40932d50-444a-4df0-b1c8-cfefef50dd68', '4973c48f-447f-4642-8928-02638220a285', '620f2805-1e52-4b68-a042-d6b50be2d184', '73fbe4e2-71a6-4cba-9ec3-a001c43361a9']\",\n",
      "        \"NormalEnergizedFeeder\": \"['49AD8E07-3BF9-A4E2-CB8F-C3722F837B62', '5B816B93-7A5F-B64C-8460-47C17D6E4B0F']\"\n",
      "    }\n",
      "}\n"
     ]
    }
   ],
   "source": [
    "# Print substation info\n",
    "network.get_all_edges(cim.Substation)\n",
    "network.pprint(cim.Substation)"
   ]
  },
  {
   "cell_type": "code",
   "execution_count": 41,
   "metadata": {},
   "outputs": [
    {
     "name": "stdout",
     "output_type": "stream",
     "text": [
      "{\n",
      "    \"49AD8E07-3BF9-A4E2-CB8F-C3722F837B62\": {\n",
      "        \"mRID\": \"49AD8E07-3BF9-A4E2-CB8F-C3722F837B62\",\n",
      "        \"name\": \"ieee13nodeckt\",\n",
      "        \"Location\": \"8E4E3C92-0B7A-4F74-8FD2-CC10F74E452F\",\n",
      "        \"ConnectivityNodes\": \"['673E896A-DCBF-4E43-9924-BEB31C5B6005', 'A8A25B50-3AE3-4A31-A18B-B3FA13397ED3', '421E99BE-A834-4809-B924-84D88F634A45', '2A6DC4DD-D3DC-434D-A187-D2C58A0A72C8', '7BEDDADD-0A14-429F-8601-9EA8B892CA6E', '63DFBEA0-CD06-4D2E-B956-DF9517BE057B', '30BE5988-DE57-4E0C-AB08-50D5A13D2C1B', '0124E881-B82D-4206-BBDF-37D585159872', 'C6256170-E6ED-4F91-8EBD-748090C3FDD5', '0A98A62D-7642-4F03-8317-A8605CBDBA37', '04984C4D-CC29-477A-9AF4-61AC7D74F16F', '0DCC57AF-F4FA-457D-BB24-2EFDA9865A1A', 'E5B2888B-B60D-4DA6-A4F7-17EB849D28B2', '6CB5E5CE-2CD0-40CC-A979-B4F9ED05E49B', '8E99F99D-FE8F-420B-AC49-0B52DF5362AB', 'DC889FA5-7B28-4273-A1D7-205BE3E0BFED', '94F822E0-7130-4205-8597-B47110BBEF4B', 'ADDB7A30-5A3C-4179-AF5D-5C9A7213B0E7', '8C58660F-C62C-4903-BE72-22F1255B1E62', '76D6D03C-967C-4E12-836D-A98DF3552BC7', '0F1E28C3-6C44-4F88-B79C-2FDBCA4487B2', 'DBFA8EFA-B397-40DA-9642-60E8DE4B3471']\",\n",
      "        \"Equipments\": \"['60B55036-DD71-40CE-ADDA-97B8CE7447DC', '52DE9189-20DC-4C73-BDEE-E960FE1F9493', '8E180773-2A9B-4136-BC9A-132A52C8E276', '259E820F-B4AF-4E1A-8271-687534EDAECC', '3FFFB3F7-A7AF-49E1-ACEE-449FC73D3CD6', 'ABF877D7-DAC2-4BF0-AB58-9A8A02E92EB3', '32F02D2B-EE6E-4D3F-8486-1B5CAEF70204', 'D34B0D01-B082-4081-A3CC-B68B9B8313A4', 'C39149DE-3451-4D33-B4C2-B1E6C6FC9AAB', 'A04CDFB1-E951-4FC4-8882-0323CD70AE3C', 'ABF53597-A808-422A-B7EE-552F24D83A5F', 'FBE26B35-13AB-457D-9795-DF58B28E309D', '45395C84-F20A-4F5A-977F-B80348256421', 'CE5D0651-676B-4AF3-8D67-41BF1B33E30C', '67B57539-590B-4158-9CBB-9DBA2FE6C1F0', 'A9E8758B-5486-4798-8FBA-9AE639ABFC38', '517413CB-6977-46FA-8911-C82332E42884', 'A9DE8829-58CB-4750-B2A2-672846A89753', '9CAAF741-BE1E-4893-8044-1E507B7DDC38', 'B21C5599-1D00-4FCF-904B-58D9D4CAC49A', 'B6363F07-B1BC-420B-AA4C-A34BB8F05827', '1E6B5C97-C4E8-4CED-B9A5-6E69F389DA93', 'E2E0FC64-8D45-4C55-BDB9-EAB827A46FBC', '4C04F838-62AA-475E-AEFA-A63B7C889C13', '7060D0BB-B30D-4932-8FA1-40820A0FC4D0', '8B452737-CA3D-4C10-A99D-6865506437C8', '7FF12CEF-1C4D-4CD2-8FCC-662530A7BA33', '44FC5A86-A099-45B8-B847-F685C5027AFB', '3B2021A7-4BFC-418D-9C20-BD6838E52CF8', 'D2E930A7-B136-4ACA-A996-8DB5C60AADF3', '1C6781A2-5B9D-4525-8A9B-F9B32C4C4AC0', '682AB7A9-4FBF-4204-BDE1-27EAB3425DA0', '8CA46F28-84C0-4FE2-B228-EC4080777865', '7B671984-4C56-4FF1-9733-B4B6FCA5F2AA', '9D725810-BFD6-44C6-961A-2BC027F6FC95', 'E503BBF8-3C82-4DF7-B6E9-2488ECFCC847', '47E52220-4596-4AF0-9724-0167B72A4DB8', '17A934C7-1510-481F-BAD7-189058957FF1', '91A37B4C-C38B-4269-8467-F40870934386', '0BBD0EA3-F665-465B-86FD-FC8B8466AD53', '8E34333C-2BB8-4631-B072-383F1CA38F60', '0BC9183A-9067-4E06-AA5B-48DC2AB30C80', '572BCFC9-E1D6-4419-9A33-EDD284806AF3', '2858B6C2-0886-4269-884C-06FA8B887319', 'CEC0FC3A-0FD1-4F1C-9C51-7D9BEF4D8222', '43EF8365-F932-409B-A51E-FBED3F6DFFAA', 'E26D83A0-D29D-41EF-9528-02C882FFCC0D', '70188FF4-04F0-48D2-8706-698D1FD086E6']\",\n",
      "        \"NormalEnergizingSubstation\": \"6C62C905-6FC7-653D-9F1E-1340F974A587\"\n",
      "    },\n",
      "    \"5B816B93-7A5F-B64C-8460-47C17D6E4B0F\": {\n",
      "        \"mRID\": \"5B816B93-7A5F-B64C-8460-47C17D6E4B0F\",\n",
      "        \"name\": \"ieee13nodecktassets\",\n",
      "        \"Location\": \"E8CC2D43-FB22-4798-AA57-09F1CDB77C00\",\n",
      "        \"ConnectivityNodes\": \"['09A37A19-DF0E-48F3-92E9-10FA62A08120', 'E14BD0DF-466D-487B-8786-0D46515D1F9B', '7326FB57-9839-4AE6-9F3D-B5660C58A7BA', '04006A64-109D-499D-8496-1B55907C1570', 'DFA687CB-83D6-4FD0-8007-657A3E1819F6', 'CB29A4D1-EE08-4AAF-82F6-3C178009EBC0', '22B55260-79B0-4DF5-A070-AFEDAFA299D4', 'B7E4EF30-D95D-4C8E-829B-F75FB0FDBEAD', 'BDCA9F2B-81A8-4969-AE86-B9D5DC399F51', '4163D7DE-898A-4241-93E0-F3FC49F1F714', '249A3E8C-0128-4DE2-92EA-112B44080BF2', '348C3A23-B2F4-4101-9A6C-AF8DEF97DD4C', '3E259C63-39CC-4B6C-9C4A-1B29A5C83840', '560E1C31-EE5C-4BFD-A0B6-F4E8D60E2C76', '61D2A727-4D2E-45F9-8A94-C42B38FFF029', 'DC7FBBF3-1456-4B9C-8983-9E3D4FA9D95B']\",\n",
      "        \"Equipments\": \"['4774208A-B9AB-4051-8BC9-4F7C8EA6552A', '603106B5-1DC7-40B1-A264-98774F6FD16D', '6964DE20-CC96-473D-BB0F-73CD8ACAED2D', '928BCF3C-276A-4E74-A4AE-C3C79D624F5F', '2EB647F9-B8F8-4659-9D2D-3515563030EB', 'F229083B-D5FC-40F0-BFE0-9E92C8C69574', '819CA18E-54AA-42D5-B069-F1AC831D926E', 'C28BFD4B-C7D1-49AD-BAA6-E06CB0856A72', 'EF316EA5-74D3-4209-89EA-BF8FAAC2BAF6', '28456F60-7196-47E4-9BE6-54F7EAABC04A', 'F3D41D9D-9606-4277-A336-69D7048301AF', '6A7D7AF8-A0F7-41B6-BB0C-160EAE054DEA', '4FE57842-43D5-4EBB-8FF1-795E6FE1C507', '7E0E4F76-E0FD-4BB5-BB58-BC5B05A5A59A', '16861155-E2D2-4E9C-8FCA-50EA820E96D0', '46479235-D5D9-4CE8-9F7C-C78426691797', '6EBB2188-CBE1-4FEC-9406-83DE8E61F9CB', '6BC92BAB-B1C8-49C5-87B3-126BBCDC46D5', '73E02C20-7DB0-4825-84C1-E58DB8C296BF', '6DEF3353-8276-402F-AC8E-3DEF4A396FFE', '8A0CF414-3240-47D1-AB8F-998165BA092E', 'EBD2AE36-04A5-4EA9-836F-12F9D3CCB777', 'F841F05A-E047-491F-BF7B-C71283C653D6', '4E1B3F09-CB88-4A5E-8198-24490EE7FC58', '6ECF60CD-E1E5-4C59-8941-3EC0E9DF30DD', 'C9CB60C2-46E0-4FDC-B2A5-73318344E4C9', '173879C4-4FDB-4521-A60D-5B102B3781B2', '8C536493-14B8-41D0-8EE4-CAE4DFF33839', 'A98417B1-4A7F-484F-97C8-9B91F29A26F1', 'D186291A-2487-45AE-83C7-651C7C71D41E', 'BE3F4495-1AC4-4A36-A529-40A6A740F58C', '08848DC6-BB11-4647-9C21-475BAD66A8B8', 'E062E187-F149-4555-8E27-2EE0C9D75274', '958C1DE5-2FA9-4051-8827-8681C4E7AFF6', 'F20F52DF-B0B1-4615-B9D3-AC669CE18454', '34A04257-8486-40AC-BE74-4022F7D395E4', '8A62F620-7C58-4662-AE5C-F41F5E3F0022', '67A2574B-8146-464D-B93C-B9FCBCE913BC']\",\n",
      "        \"NormalEnergizingSubstation\": \"6C62C905-6FC7-653D-9F1E-1340F974A587\"\n",
      "    }\n",
      "}\n"
     ]
    }
   ],
   "source": [
    "# Print feeder info\n",
    "network.get_all_edges(cim.Feeder)\n",
    "network.pprint(cim.Feeder)"
   ]
  },
  {
   "cell_type": "code",
   "execution_count": 42,
   "metadata": {},
   "outputs": [
    {
     "name": "stdout",
     "output_type": "stream",
     "text": [
      "total load is 6937.0 kW\n"
     ]
    }
   ],
   "source": [
    "# Print total load served by substation from both feeders\n",
    "total_load = 0\n",
    "network.get_all_edges(cim.EnergyConsumer)\n",
    "for load in network.graph[cim.EnergyConsumer].values():\n",
    "    total_load = total_load + float(load.p)\n",
    "\n",
    "print(f'total load is {total_load/1000} kW')"
   ]
  },
  {
   "cell_type": "markdown",
   "metadata": {},
   "source": [
    "As part of the round-trip test, it is also possible to merge the substation and both feeders into a single XML file "
   ]
  },
  {
   "cell_type": "code",
   "execution_count": 43,
   "metadata": {},
   "outputs": [],
   "source": [
    "utils.get_all_data(network)\n",
    "utils.write_xml(network, '../test_output/main_transfer_and_feeders.xml')"
   ]
  },
  {
   "cell_type": "code",
   "execution_count": null,
   "metadata": {},
   "outputs": [],
   "source": []
  },
  {
   "cell_type": "markdown",
   "metadata": {},
   "source": [
    "### Create Double Bus Single Breaker Substation"
   ]
  },
  {
   "cell_type": "markdown",
   "metadata": {},
   "source": [
    "To create a new Main and Transfer substation, we import the associated class from the `substation_builder` module in CIM-Builder:"
   ]
  },
  {
   "cell_type": "code",
   "execution_count": 44,
   "metadata": {},
   "outputs": [],
   "source": [
    "from cimbuilder.substation_builder import DoubleBusSingleBreakerSubstation"
   ]
  },
  {
   "cell_type": "markdown",
   "metadata": {},
   "source": [
    "To create a new substation, the class is instantiated with the name of the substation and base voltage. If the substation is not being added to an existing network, a new `DistributedArea` will be created to contain the substation."
   ]
  },
  {
   "cell_type": "code",
   "execution_count": 45,
   "metadata": {},
   "outputs": [],
   "source": [
    "SubBuilder = DoubleBusSingleBreakerSubstation(connection=connection,\n",
    "                                              name=\"double_bus_sub\", \n",
    "                                              base_voltage = 115000)\n",
    "substation = SubBuilder.substation"
   ]
  },
  {
   "cell_type": "markdown",
   "metadata": {},
   "source": [
    "To add a feeder to the new substation, the `.new_feeder()` method is called. The `series_number` is used for automatic naming of the breaker and airgap switches. The arguments `feeder` and `feeder_network` are used for the CIM feeder object and the CIMantic Graphs network model.\n",
    "\n",
    "The function call below will automatically insert the IEEE 13 and IEEE 13 Assets feeders into the new substation:"
   ]
  },
  {
   "cell_type": "code",
   "execution_count": 46,
   "metadata": {},
   "outputs": [],
   "source": [
    "SubBuilder.new_feeder(series_number = 1, feeder=ieee13_feeder,\n",
    "                       feeder_network=ieee13_network)\n",
    "SubBuilder.new_feeder(series_number = 2, feeder=assets13_feeder,\n",
    "                      feeder_network=assets13_network)"
   ]
  },
  {
   "cell_type": "markdown",
   "metadata": {},
   "source": [
    "To check whether the feeders have been added successfully, it is possible to use the CIMantic Graphs `.pprint(cim.ClassName)` method to print all instances of Substation and Feeder objects."
   ]
  },
  {
   "cell_type": "code",
   "execution_count": 47,
   "metadata": {},
   "outputs": [
    {
     "name": "stdout",
     "output_type": "stream",
     "text": [
      "{\n",
      "    \"6169a4c6-53a9-4167-960d-ee0e6f0b197d\": {\n",
      "        \"mRID\": \"6169a4c6-53a9-4167-960d-ee0e6f0b197d\",\n",
      "        \"name\": \"double_bus_sub\",\n",
      "        \"NormalEnergizedFeeder\": \"['ieee13nodeckt', 'ieee13nodecktassets']\"\n",
      "    }\n",
      "}\n",
      "{\n",
      "    \"49AD8E07-3BF9-A4E2-CB8F-C3722F837B62\": {\n",
      "        \"mRID\": \"49AD8E07-3BF9-A4E2-CB8F-C3722F837B62\",\n",
      "        \"name\": \"ieee13nodeckt\",\n",
      "        \"Location\": \"8E4E3C92-0B7A-4F74-8FD2-CC10F74E452F\",\n",
      "        \"ConnectivityNodes\": \"['673E896A-DCBF-4E43-9924-BEB31C5B6005', 'A8A25B50-3AE3-4A31-A18B-B3FA13397ED3', '421E99BE-A834-4809-B924-84D88F634A45', '2A6DC4DD-D3DC-434D-A187-D2C58A0A72C8', '7BEDDADD-0A14-429F-8601-9EA8B892CA6E', '63DFBEA0-CD06-4D2E-B956-DF9517BE057B', '30BE5988-DE57-4E0C-AB08-50D5A13D2C1B', '0124E881-B82D-4206-BBDF-37D585159872', 'C6256170-E6ED-4F91-8EBD-748090C3FDD5', '0A98A62D-7642-4F03-8317-A8605CBDBA37', '04984C4D-CC29-477A-9AF4-61AC7D74F16F', '0DCC57AF-F4FA-457D-BB24-2EFDA9865A1A', 'E5B2888B-B60D-4DA6-A4F7-17EB849D28B2', '6CB5E5CE-2CD0-40CC-A979-B4F9ED05E49B', '8E99F99D-FE8F-420B-AC49-0B52DF5362AB', 'DC889FA5-7B28-4273-A1D7-205BE3E0BFED', '94F822E0-7130-4205-8597-B47110BBEF4B', 'ADDB7A30-5A3C-4179-AF5D-5C9A7213B0E7', '8C58660F-C62C-4903-BE72-22F1255B1E62', '76D6D03C-967C-4E12-836D-A98DF3552BC7', '0F1E28C3-6C44-4F88-B79C-2FDBCA4487B2', 'DBFA8EFA-B397-40DA-9642-60E8DE4B3471']\",\n",
      "        \"Equipments\": \"['60B55036-DD71-40CE-ADDA-97B8CE7447DC', '52DE9189-20DC-4C73-BDEE-E960FE1F9493', '8E180773-2A9B-4136-BC9A-132A52C8E276', '259E820F-B4AF-4E1A-8271-687534EDAECC', '3FFFB3F7-A7AF-49E1-ACEE-449FC73D3CD6', 'ABF877D7-DAC2-4BF0-AB58-9A8A02E92EB3', '32F02D2B-EE6E-4D3F-8486-1B5CAEF70204', 'D34B0D01-B082-4081-A3CC-B68B9B8313A4', 'C39149DE-3451-4D33-B4C2-B1E6C6FC9AAB', 'A04CDFB1-E951-4FC4-8882-0323CD70AE3C', 'ABF53597-A808-422A-B7EE-552F24D83A5F', 'FBE26B35-13AB-457D-9795-DF58B28E309D', '45395C84-F20A-4F5A-977F-B80348256421', 'CE5D0651-676B-4AF3-8D67-41BF1B33E30C', '67B57539-590B-4158-9CBB-9DBA2FE6C1F0', 'A9E8758B-5486-4798-8FBA-9AE639ABFC38', '517413CB-6977-46FA-8911-C82332E42884', 'A9DE8829-58CB-4750-B2A2-672846A89753', '9CAAF741-BE1E-4893-8044-1E507B7DDC38', 'B21C5599-1D00-4FCF-904B-58D9D4CAC49A', 'B6363F07-B1BC-420B-AA4C-A34BB8F05827', '1E6B5C97-C4E8-4CED-B9A5-6E69F389DA93', 'E2E0FC64-8D45-4C55-BDB9-EAB827A46FBC', '4C04F838-62AA-475E-AEFA-A63B7C889C13', '7060D0BB-B30D-4932-8FA1-40820A0FC4D0', '8B452737-CA3D-4C10-A99D-6865506437C8', '7FF12CEF-1C4D-4CD2-8FCC-662530A7BA33', '44FC5A86-A099-45B8-B847-F685C5027AFB', '3B2021A7-4BFC-418D-9C20-BD6838E52CF8', 'D2E930A7-B136-4ACA-A996-8DB5C60AADF3', '1C6781A2-5B9D-4525-8A9B-F9B32C4C4AC0', '682AB7A9-4FBF-4204-BDE1-27EAB3425DA0', '8CA46F28-84C0-4FE2-B228-EC4080777865', '7B671984-4C56-4FF1-9733-B4B6FCA5F2AA', '9D725810-BFD6-44C6-961A-2BC027F6FC95', 'E503BBF8-3C82-4DF7-B6E9-2488ECFCC847', '47E52220-4596-4AF0-9724-0167B72A4DB8', '17A934C7-1510-481F-BAD7-189058957FF1', '91A37B4C-C38B-4269-8467-F40870934386', '0BBD0EA3-F665-465B-86FD-FC8B8466AD53', '8E34333C-2BB8-4631-B072-383F1CA38F60', '0BC9183A-9067-4E06-AA5B-48DC2AB30C80', '572BCFC9-E1D6-4419-9A33-EDD284806AF3', '2858B6C2-0886-4269-884C-06FA8B887319', 'CEC0FC3A-0FD1-4F1C-9C51-7D9BEF4D8222', '43EF8365-F932-409B-A51E-FBED3F6DFFAA', 'E26D83A0-D29D-41EF-9528-02C882FFCC0D', '70188FF4-04F0-48D2-8706-698D1FD086E6']\",\n",
      "        \"NormalEnergizingSubstation\": \"6169a4c6-53a9-4167-960d-ee0e6f0b197d\"\n",
      "    },\n",
      "    \"5B816B93-7A5F-B64C-8460-47C17D6E4B0F\": {\n",
      "        \"mRID\": \"5B816B93-7A5F-B64C-8460-47C17D6E4B0F\",\n",
      "        \"name\": \"ieee13nodecktassets\",\n",
      "        \"Location\": \"E8CC2D43-FB22-4798-AA57-09F1CDB77C00\",\n",
      "        \"ConnectivityNodes\": \"['09A37A19-DF0E-48F3-92E9-10FA62A08120', 'E14BD0DF-466D-487B-8786-0D46515D1F9B', '7326FB57-9839-4AE6-9F3D-B5660C58A7BA', '04006A64-109D-499D-8496-1B55907C1570', 'DFA687CB-83D6-4FD0-8007-657A3E1819F6', 'CB29A4D1-EE08-4AAF-82F6-3C178009EBC0', '22B55260-79B0-4DF5-A070-AFEDAFA299D4', 'B7E4EF30-D95D-4C8E-829B-F75FB0FDBEAD', 'BDCA9F2B-81A8-4969-AE86-B9D5DC399F51', '4163D7DE-898A-4241-93E0-F3FC49F1F714', '249A3E8C-0128-4DE2-92EA-112B44080BF2', '348C3A23-B2F4-4101-9A6C-AF8DEF97DD4C', '3E259C63-39CC-4B6C-9C4A-1B29A5C83840', '560E1C31-EE5C-4BFD-A0B6-F4E8D60E2C76', '61D2A727-4D2E-45F9-8A94-C42B38FFF029', 'DC7FBBF3-1456-4B9C-8983-9E3D4FA9D95B']\",\n",
      "        \"Equipments\": \"['4774208A-B9AB-4051-8BC9-4F7C8EA6552A', '603106B5-1DC7-40B1-A264-98774F6FD16D', '6964DE20-CC96-473D-BB0F-73CD8ACAED2D', '928BCF3C-276A-4E74-A4AE-C3C79D624F5F', '2EB647F9-B8F8-4659-9D2D-3515563030EB', 'F229083B-D5FC-40F0-BFE0-9E92C8C69574', '819CA18E-54AA-42D5-B069-F1AC831D926E', 'C28BFD4B-C7D1-49AD-BAA6-E06CB0856A72', 'EF316EA5-74D3-4209-89EA-BF8FAAC2BAF6', '28456F60-7196-47E4-9BE6-54F7EAABC04A', 'F3D41D9D-9606-4277-A336-69D7048301AF', '6A7D7AF8-A0F7-41B6-BB0C-160EAE054DEA', '4FE57842-43D5-4EBB-8FF1-795E6FE1C507', '7E0E4F76-E0FD-4BB5-BB58-BC5B05A5A59A', '16861155-E2D2-4E9C-8FCA-50EA820E96D0', '46479235-D5D9-4CE8-9F7C-C78426691797', '6EBB2188-CBE1-4FEC-9406-83DE8E61F9CB', '6BC92BAB-B1C8-49C5-87B3-126BBCDC46D5', '73E02C20-7DB0-4825-84C1-E58DB8C296BF', '6DEF3353-8276-402F-AC8E-3DEF4A396FFE', '8A0CF414-3240-47D1-AB8F-998165BA092E', 'EBD2AE36-04A5-4EA9-836F-12F9D3CCB777', 'F841F05A-E047-491F-BF7B-C71283C653D6', '4E1B3F09-CB88-4A5E-8198-24490EE7FC58', '6ECF60CD-E1E5-4C59-8941-3EC0E9DF30DD', 'C9CB60C2-46E0-4FDC-B2A5-73318344E4C9', '173879C4-4FDB-4521-A60D-5B102B3781B2', '8C536493-14B8-41D0-8EE4-CAE4DFF33839', 'A98417B1-4A7F-484F-97C8-9B91F29A26F1', 'D186291A-2487-45AE-83C7-651C7C71D41E', 'BE3F4495-1AC4-4A36-A529-40A6A740F58C', '08848DC6-BB11-4647-9C21-475BAD66A8B8', 'E062E187-F149-4555-8E27-2EE0C9D75274', '958C1DE5-2FA9-4051-8827-8681C4E7AFF6', 'F20F52DF-B0B1-4615-B9D3-AC669CE18454', '34A04257-8486-40AC-BE74-4022F7D395E4', '8A62F620-7C58-4662-AE5C-F41F5E3F0022', '67A2574B-8146-464D-B93C-B9FCBCE913BC']\",\n",
      "        \"NormalEnergizingSubstation\": \"6169a4c6-53a9-4167-960d-ee0e6f0b197d\"\n",
      "    }\n",
      "}\n"
     ]
    }
   ],
   "source": [
    "# Print substation data using names\n",
    "SubBuilder.network.pprint(cim.Substation, use_names = True)\n",
    "# Print feeder data\n",
    "SubBuilder.network.pprint(cim.Feeder)"
   ]
  },
  {
   "cell_type": "markdown",
   "metadata": {},
   "source": [
    "The CIMantic Graphs `utils` package can be used to save the substation to an XML file for further use. "
   ]
  },
  {
   "cell_type": "code",
   "execution_count": 48,
   "metadata": {},
   "outputs": [],
   "source": [
    "utils.write_xml(SubBuilder.network, '../test_output/double_bus.xml')"
   ]
  },
  {
   "cell_type": "markdown",
   "metadata": {},
   "source": [
    "The final verification that the substation has been created and can be successfully used with the network models Round-Trip Test: \n",
    "1) Delete all old models from the database\n",
    "2) Load the new substation and feeder CIM XML files\n",
    "3) Obtain all data for feeders contained by the subustation"
   ]
  },
  {
   "cell_type": "code",
   "execution_count": 49,
   "metadata": {},
   "outputs": [
    {
     "name": "stderr",
     "output_type": "stream",
     "text": [
      "/home/ande188/CIM-Builder/.venv/lib/python3.10/site-packages/SPARQLWrapper/Wrapper.py:1215: RuntimeWarning: unknown response content type 'text/html;charset=utf-8' returning raw response...\n",
      "  warnings.warn(\n"
     ]
    },
    {
     "data": {
      "text/plain": [
       "b'<!DOCTYPE HTML PUBLIC \"-//W3C//DTD HTML 4.01 Transitional//EN\" \"http://www.w3.org/TR/html4/loose.dtd\"><html><head><meta http-equiv=\"Content-Type\" content=\"text&#47;html;charset=UTF-8\"><title>blazegraph&trade; by SYSTAP</title\\n></head\\n><body<p>totalElapsed=17ms, elapsed=17ms, connFlush=0ms, batchResolve=0, whereClause=0ms, deleteClause=0ms, insertClause=0ms</p\\n><hr><p>COMMIT: totalElapsed=21ms, commitTime=1709076726115, mutationCount=6578</p\\n></html\\n>'"
      ]
     },
     "execution_count": 49,
     "metadata": {},
     "output_type": "execute_result"
    }
   ],
   "source": [
    "# Delete all CIM triples from database\n",
    "blazegraph.execute('drop all')"
   ]
  },
  {
   "cell_type": "code",
   "execution_count": 50,
   "metadata": {},
   "outputs": [
    {
     "name": "stdout",
     "output_type": "stream",
     "text": [
      "HTTP/1.1 100 Continue\n",
      "\n",
      "HTTP/1.1 200 OK\n",
      "Content-Type: application/xml;charset=iso-8859-1\n",
      "Content-Length: 62\n",
      "Server: Jetty(9.4.18.v20190429)\n",
      "\n",
      "<?xml version=\"1.0\"?><data modified=\"3392\" milliseconds=\"19\"/>HTTP/1.1 100 Continue\n",
      "\n",
      "HTTP/1.1 200 OK\n",
      "Content-Type: application/xml;charset=iso-8859-1\n",
      "Content-Length: 62\n",
      "Server: Jetty(9.4.18.v20190429)\n",
      "\n",
      "<?xml version=\"1.0\"?><data modified=\"2927\" milliseconds=\"21\"/>HTTP/1.1 100 Continue\n",
      "\n",
      "HTTP/1.1 200 OK\n",
      "Content-Type: application/xml;charset=iso-8859-1\n",
      "Content-Length: 61\n",
      "Server: Jetty(9.4.18.v20190429)\n",
      "\n",
      "<?xml version=\"1.0\"?><data modified=\"244\" milliseconds=\"22\"/>"
     ]
    }
   ],
   "source": [
    "# Upload new models into the database\n",
    "bg_loader.upload_from_file(filename='../test_models/IEEE13.xml')\n",
    "bg_loader.upload_from_file(filename='../test_models/IEEE13_Assets.xml')\n",
    "bg_loader.upload_from_file(filename='../test_output/double_bus.xml')"
   ]
  },
  {
   "cell_type": "markdown",
   "metadata": {},
   "source": [
    "To verify that all feeder data can be obtained, we create a new CIMantic Graphs model and then query for the classes Substation and Feeder. We can also obtain the total amount of aggregate load from both feeders that are served by the substation."
   ]
  },
  {
   "cell_type": "code",
   "execution_count": 51,
   "metadata": {},
   "outputs": [],
   "source": [
    "network = NodeBreakerModel(container=substation, connection=blazegraph, distributed = False)"
   ]
  },
  {
   "cell_type": "code",
   "execution_count": 52,
   "metadata": {},
   "outputs": [
    {
     "name": "stdout",
     "output_type": "stream",
     "text": [
      "{\n",
      "    \"6169a4c6-53a9-4167-960d-ee0e6f0b197d\": {\n",
      "        \"mRID\": \"6169a4c6-53a9-4167-960d-ee0e6f0b197d\",\n",
      "        \"name\": \"double_bus_sub\",\n",
      "        \"ConnectivityNodes\": \"['890c129c-c8b8-43a6-a1aa-4ed391067c0a', '8f0f5dd7-02fd-4f99-b6d3-b885ebd5663e', 'e7e5241b-5a7a-4225-8736-ff99cffd118e', '3aaf3cf9-3768-4b42-98bf-643415e12880', '7161e04b-896f-4a35-86d4-d68a953be1fa', '71a9be64-9c7d-42c8-ae6a-4362b78d7f52']\",\n",
      "        \"Equipments\": \"['9cb32476-ae7f-4d5b-9718-a2bb7dd8b2c7', 'b3d458df-fa29-4848-b605-cf2bba880e3f', 'c2b941fe-ea27-440a-9ab1-12670061762f', 'cf9281b3-1dc8-4a60-bd15-d06c6ebc62a4', '024092b4-2e8e-4b42-8380-0cf7a1618cfb', '1749a651-bfba-4fd8-af64-14dc469f436b', '194ab054-b558-46a8-bd18-e3e3823b69f4', '2967826e-6f23-4bc3-8255-65658dd9fda1', '5aeaf411-35f9-4926-a56b-a08d57eb9754', '6fc21c8b-27d7-4716-a66c-03e19b795e4b', '73dc6f45-a313-4b78-be3f-ab04bc80dcec']\",\n",
      "        \"NormalEnergizedFeeder\": \"['49AD8E07-3BF9-A4E2-CB8F-C3722F837B62', '5B816B93-7A5F-B64C-8460-47C17D6E4B0F']\"\n",
      "    }\n",
      "}\n"
     ]
    }
   ],
   "source": [
    "# Print substation info\n",
    "network.get_all_edges(cim.Substation)\n",
    "network.pprint(cim.Substation)"
   ]
  },
  {
   "cell_type": "code",
   "execution_count": 53,
   "metadata": {},
   "outputs": [
    {
     "name": "stdout",
     "output_type": "stream",
     "text": [
      "{\n",
      "    \"49AD8E07-3BF9-A4E2-CB8F-C3722F837B62\": {\n",
      "        \"mRID\": \"49AD8E07-3BF9-A4E2-CB8F-C3722F837B62\",\n",
      "        \"name\": \"ieee13nodeckt\",\n",
      "        \"Location\": \"8E4E3C92-0B7A-4F74-8FD2-CC10F74E452F\",\n",
      "        \"ConnectivityNodes\": \"['673E896A-DCBF-4E43-9924-BEB31C5B6005', 'A8A25B50-3AE3-4A31-A18B-B3FA13397ED3', '421E99BE-A834-4809-B924-84D88F634A45', '2A6DC4DD-D3DC-434D-A187-D2C58A0A72C8', '7BEDDADD-0A14-429F-8601-9EA8B892CA6E', '63DFBEA0-CD06-4D2E-B956-DF9517BE057B', '30BE5988-DE57-4E0C-AB08-50D5A13D2C1B', '0124E881-B82D-4206-BBDF-37D585159872', 'C6256170-E6ED-4F91-8EBD-748090C3FDD5', '0A98A62D-7642-4F03-8317-A8605CBDBA37', '04984C4D-CC29-477A-9AF4-61AC7D74F16F', '0DCC57AF-F4FA-457D-BB24-2EFDA9865A1A', 'E5B2888B-B60D-4DA6-A4F7-17EB849D28B2', '6CB5E5CE-2CD0-40CC-A979-B4F9ED05E49B', '8E99F99D-FE8F-420B-AC49-0B52DF5362AB', 'DC889FA5-7B28-4273-A1D7-205BE3E0BFED', '94F822E0-7130-4205-8597-B47110BBEF4B', 'ADDB7A30-5A3C-4179-AF5D-5C9A7213B0E7', '8C58660F-C62C-4903-BE72-22F1255B1E62', '76D6D03C-967C-4E12-836D-A98DF3552BC7', '0F1E28C3-6C44-4F88-B79C-2FDBCA4487B2', 'DBFA8EFA-B397-40DA-9642-60E8DE4B3471']\",\n",
      "        \"Equipments\": \"['60B55036-DD71-40CE-ADDA-97B8CE7447DC', '52DE9189-20DC-4C73-BDEE-E960FE1F9493', '8E180773-2A9B-4136-BC9A-132A52C8E276', '259E820F-B4AF-4E1A-8271-687534EDAECC', '3FFFB3F7-A7AF-49E1-ACEE-449FC73D3CD6', 'ABF877D7-DAC2-4BF0-AB58-9A8A02E92EB3', '32F02D2B-EE6E-4D3F-8486-1B5CAEF70204', 'D34B0D01-B082-4081-A3CC-B68B9B8313A4', 'C39149DE-3451-4D33-B4C2-B1E6C6FC9AAB', 'A04CDFB1-E951-4FC4-8882-0323CD70AE3C', 'ABF53597-A808-422A-B7EE-552F24D83A5F', 'FBE26B35-13AB-457D-9795-DF58B28E309D', '45395C84-F20A-4F5A-977F-B80348256421', 'CE5D0651-676B-4AF3-8D67-41BF1B33E30C', '67B57539-590B-4158-9CBB-9DBA2FE6C1F0', 'A9E8758B-5486-4798-8FBA-9AE639ABFC38', '517413CB-6977-46FA-8911-C82332E42884', 'A9DE8829-58CB-4750-B2A2-672846A89753', '9CAAF741-BE1E-4893-8044-1E507B7DDC38', 'B21C5599-1D00-4FCF-904B-58D9D4CAC49A', 'B6363F07-B1BC-420B-AA4C-A34BB8F05827', '1E6B5C97-C4E8-4CED-B9A5-6E69F389DA93', 'E2E0FC64-8D45-4C55-BDB9-EAB827A46FBC', '4C04F838-62AA-475E-AEFA-A63B7C889C13', '7060D0BB-B30D-4932-8FA1-40820A0FC4D0', '8B452737-CA3D-4C10-A99D-6865506437C8', '7FF12CEF-1C4D-4CD2-8FCC-662530A7BA33', '44FC5A86-A099-45B8-B847-F685C5027AFB', '3B2021A7-4BFC-418D-9C20-BD6838E52CF8', 'D2E930A7-B136-4ACA-A996-8DB5C60AADF3', '1C6781A2-5B9D-4525-8A9B-F9B32C4C4AC0', '682AB7A9-4FBF-4204-BDE1-27EAB3425DA0', '8CA46F28-84C0-4FE2-B228-EC4080777865', '7B671984-4C56-4FF1-9733-B4B6FCA5F2AA', '9D725810-BFD6-44C6-961A-2BC027F6FC95', 'E503BBF8-3C82-4DF7-B6E9-2488ECFCC847', '47E52220-4596-4AF0-9724-0167B72A4DB8', '17A934C7-1510-481F-BAD7-189058957FF1', '91A37B4C-C38B-4269-8467-F40870934386', '0BBD0EA3-F665-465B-86FD-FC8B8466AD53', '8E34333C-2BB8-4631-B072-383F1CA38F60', '0BC9183A-9067-4E06-AA5B-48DC2AB30C80', '572BCFC9-E1D6-4419-9A33-EDD284806AF3', '2858B6C2-0886-4269-884C-06FA8B887319', 'CEC0FC3A-0FD1-4F1C-9C51-7D9BEF4D8222', '43EF8365-F932-409B-A51E-FBED3F6DFFAA', 'E26D83A0-D29D-41EF-9528-02C882FFCC0D', '70188FF4-04F0-48D2-8706-698D1FD086E6']\",\n",
      "        \"NormalEnergizingSubstation\": \"6C62C905-6FC7-653D-9F1E-1340F974A587\"\n",
      "    },\n",
      "    \"5B816B93-7A5F-B64C-8460-47C17D6E4B0F\": {\n",
      "        \"mRID\": \"5B816B93-7A5F-B64C-8460-47C17D6E4B0F\",\n",
      "        \"name\": \"ieee13nodecktassets\",\n",
      "        \"Location\": \"E8CC2D43-FB22-4798-AA57-09F1CDB77C00\",\n",
      "        \"ConnectivityNodes\": \"['09A37A19-DF0E-48F3-92E9-10FA62A08120', 'E14BD0DF-466D-487B-8786-0D46515D1F9B', '7326FB57-9839-4AE6-9F3D-B5660C58A7BA', '04006A64-109D-499D-8496-1B55907C1570', 'DFA687CB-83D6-4FD0-8007-657A3E1819F6', 'CB29A4D1-EE08-4AAF-82F6-3C178009EBC0', '22B55260-79B0-4DF5-A070-AFEDAFA299D4', 'B7E4EF30-D95D-4C8E-829B-F75FB0FDBEAD', 'BDCA9F2B-81A8-4969-AE86-B9D5DC399F51', '4163D7DE-898A-4241-93E0-F3FC49F1F714', '249A3E8C-0128-4DE2-92EA-112B44080BF2', '348C3A23-B2F4-4101-9A6C-AF8DEF97DD4C', '3E259C63-39CC-4B6C-9C4A-1B29A5C83840', '560E1C31-EE5C-4BFD-A0B6-F4E8D60E2C76', '61D2A727-4D2E-45F9-8A94-C42B38FFF029', 'DC7FBBF3-1456-4B9C-8983-9E3D4FA9D95B']\",\n",
      "        \"Equipments\": \"['4774208A-B9AB-4051-8BC9-4F7C8EA6552A', '603106B5-1DC7-40B1-A264-98774F6FD16D', '6964DE20-CC96-473D-BB0F-73CD8ACAED2D', '928BCF3C-276A-4E74-A4AE-C3C79D624F5F', '2EB647F9-B8F8-4659-9D2D-3515563030EB', 'F229083B-D5FC-40F0-BFE0-9E92C8C69574', '819CA18E-54AA-42D5-B069-F1AC831D926E', 'C28BFD4B-C7D1-49AD-BAA6-E06CB0856A72', 'EF316EA5-74D3-4209-89EA-BF8FAAC2BAF6', '28456F60-7196-47E4-9BE6-54F7EAABC04A', 'F3D41D9D-9606-4277-A336-69D7048301AF', '6A7D7AF8-A0F7-41B6-BB0C-160EAE054DEA', '4FE57842-43D5-4EBB-8FF1-795E6FE1C507', '7E0E4F76-E0FD-4BB5-BB58-BC5B05A5A59A', '16861155-E2D2-4E9C-8FCA-50EA820E96D0', '46479235-D5D9-4CE8-9F7C-C78426691797', '6EBB2188-CBE1-4FEC-9406-83DE8E61F9CB', '6BC92BAB-B1C8-49C5-87B3-126BBCDC46D5', '73E02C20-7DB0-4825-84C1-E58DB8C296BF', '6DEF3353-8276-402F-AC8E-3DEF4A396FFE', '8A0CF414-3240-47D1-AB8F-998165BA092E', 'EBD2AE36-04A5-4EA9-836F-12F9D3CCB777', 'F841F05A-E047-491F-BF7B-C71283C653D6', '4E1B3F09-CB88-4A5E-8198-24490EE7FC58', '6ECF60CD-E1E5-4C59-8941-3EC0E9DF30DD', 'C9CB60C2-46E0-4FDC-B2A5-73318344E4C9', '173879C4-4FDB-4521-A60D-5B102B3781B2', '8C536493-14B8-41D0-8EE4-CAE4DFF33839', 'A98417B1-4A7F-484F-97C8-9B91F29A26F1', 'D186291A-2487-45AE-83C7-651C7C71D41E', 'BE3F4495-1AC4-4A36-A529-40A6A740F58C', '08848DC6-BB11-4647-9C21-475BAD66A8B8', 'E062E187-F149-4555-8E27-2EE0C9D75274', '958C1DE5-2FA9-4051-8827-8681C4E7AFF6', 'F20F52DF-B0B1-4615-B9D3-AC669CE18454', '34A04257-8486-40AC-BE74-4022F7D395E4', '8A62F620-7C58-4662-AE5C-F41F5E3F0022', '67A2574B-8146-464D-B93C-B9FCBCE913BC']\",\n",
      "        \"NormalEnergizingSubstation\": \"6C62C905-6FC7-653D-9F1E-1340F974A587\"\n",
      "    }\n",
      "}\n"
     ]
    }
   ],
   "source": [
    "# Print feeder info\n",
    "network.get_all_edges(cim.Feeder)\n",
    "network.pprint(cim.Feeder)"
   ]
  },
  {
   "cell_type": "code",
   "execution_count": 54,
   "metadata": {},
   "outputs": [
    {
     "name": "stdout",
     "output_type": "stream",
     "text": [
      "total load is 6937.0 kW\n"
     ]
    }
   ],
   "source": [
    "# Print total load served by substation from both feeders\n",
    "total_load = 0\n",
    "network.get_all_edges(cim.EnergyConsumer)\n",
    "for load in network.graph[cim.EnergyConsumer].values():\n",
    "    total_load = total_load + float(load.p)\n",
    "\n",
    "print(f'total load is {total_load/1000} kW')"
   ]
  },
  {
   "cell_type": "markdown",
   "metadata": {},
   "source": [
    "As part of the round-trip test, it is also possible to merge the substation and both feeders into a single XML file "
   ]
  },
  {
   "cell_type": "code",
   "execution_count": 55,
   "metadata": {},
   "outputs": [],
   "source": [
    "utils.get_all_data(network)\n",
    "utils.write_xml(network, '../test_output/double_bus_and_feeders.xml')"
   ]
  },
  {
   "cell_type": "code",
   "execution_count": null,
   "metadata": {},
   "outputs": [],
   "source": []
  },
  {
   "cell_type": "markdown",
   "metadata": {},
   "source": []
  },
  {
   "cell_type": "markdown",
   "metadata": {},
   "source": [
    "### Create Ring Bus Substation"
   ]
  },
  {
   "cell_type": "markdown",
   "metadata": {},
   "source": [
    "To create a new Main and Transfer substation, we import the associated class from the `substation_builder` module in CIM-Builder:"
   ]
  },
  {
   "cell_type": "code",
   "execution_count": 56,
   "metadata": {},
   "outputs": [],
   "source": [
    "from cimbuilder.substation_builder import RingBusSubstation"
   ]
  },
  {
   "cell_type": "markdown",
   "metadata": {},
   "source": [
    "To create a new substation, the class is instantiated with the name of the substation and base voltage. If the substation is not being added to an existing network, a new `DistributedArea` will be created to contain the substation. The total number of bus sections within the ring is denoted by `total_sections`."
   ]
  },
  {
   "cell_type": "code",
   "execution_count": 57,
   "metadata": {},
   "outputs": [],
   "source": [
    "SubBuilder = RingBusSubstation(connection=connection,\n",
    "                               name = \"ring_bus_sub\", \n",
    "                               base_voltage = 115000,\n",
    "                               total_sections = 4)\n",
    "substation = SubBuilder.substation"
   ]
  },
  {
   "cell_type": "markdown",
   "metadata": {},
   "source": [
    "To add a feeder to the new substation, the `.new_feeder()` method is called. The `series_number` is used for automatic naming of the breaker and airgap switches. The arguments `feeder` and `feeder_network` are used for the CIM feeder object and the CIMantic Graphs network model.\n",
    "\n",
    "The function call below will automatically insert the IEEE 13 and IEEE 13 Assets feeders into the new substation:"
   ]
  },
  {
   "cell_type": "code",
   "execution_count": 58,
   "metadata": {},
   "outputs": [],
   "source": [
    "SubBuilder.new_feeder(bus_number = 1, feeder=ieee13_feeder,\n",
    "                       feeder_network=ieee13_network)\n",
    "SubBuilder.new_feeder(bus_number = 2, feeder=assets13_feeder,\n",
    "                      feeder_network=assets13_network)"
   ]
  },
  {
   "cell_type": "markdown",
   "metadata": {},
   "source": [
    "To check whether the feeders have been added successfully, it is possible to use the CIMantic Graphs `.pprint(cim.ClassName)` method to print all instances of Substation and Feeder objects."
   ]
  },
  {
   "cell_type": "code",
   "execution_count": 59,
   "metadata": {},
   "outputs": [
    {
     "name": "stdout",
     "output_type": "stream",
     "text": [
      "{\n",
      "    \"8a4a3b73-75ae-4119-a685-b998613d469b\": {\n",
      "        \"mRID\": \"8a4a3b73-75ae-4119-a685-b998613d469b\",\n",
      "        \"name\": \"ring_bus_sub\",\n",
      "        \"NormalEnergizedFeeder\": \"['ieee13nodeckt', 'ieee13nodecktassets']\"\n",
      "    }\n",
      "}\n",
      "{\n",
      "    \"49AD8E07-3BF9-A4E2-CB8F-C3722F837B62\": {\n",
      "        \"mRID\": \"49AD8E07-3BF9-A4E2-CB8F-C3722F837B62\",\n",
      "        \"name\": \"ieee13nodeckt\",\n",
      "        \"Location\": \"8E4E3C92-0B7A-4F74-8FD2-CC10F74E452F\",\n",
      "        \"ConnectivityNodes\": \"['673E896A-DCBF-4E43-9924-BEB31C5B6005', 'A8A25B50-3AE3-4A31-A18B-B3FA13397ED3', '421E99BE-A834-4809-B924-84D88F634A45', '2A6DC4DD-D3DC-434D-A187-D2C58A0A72C8', '7BEDDADD-0A14-429F-8601-9EA8B892CA6E', '63DFBEA0-CD06-4D2E-B956-DF9517BE057B', '30BE5988-DE57-4E0C-AB08-50D5A13D2C1B', '0124E881-B82D-4206-BBDF-37D585159872', 'C6256170-E6ED-4F91-8EBD-748090C3FDD5', '0A98A62D-7642-4F03-8317-A8605CBDBA37', '04984C4D-CC29-477A-9AF4-61AC7D74F16F', '0DCC57AF-F4FA-457D-BB24-2EFDA9865A1A', 'E5B2888B-B60D-4DA6-A4F7-17EB849D28B2', '6CB5E5CE-2CD0-40CC-A979-B4F9ED05E49B', '8E99F99D-FE8F-420B-AC49-0B52DF5362AB', 'DC889FA5-7B28-4273-A1D7-205BE3E0BFED', '94F822E0-7130-4205-8597-B47110BBEF4B', 'ADDB7A30-5A3C-4179-AF5D-5C9A7213B0E7', '8C58660F-C62C-4903-BE72-22F1255B1E62', '76D6D03C-967C-4E12-836D-A98DF3552BC7', '0F1E28C3-6C44-4F88-B79C-2FDBCA4487B2', 'DBFA8EFA-B397-40DA-9642-60E8DE4B3471']\",\n",
      "        \"Equipments\": \"['60B55036-DD71-40CE-ADDA-97B8CE7447DC', '52DE9189-20DC-4C73-BDEE-E960FE1F9493', '8E180773-2A9B-4136-BC9A-132A52C8E276', '259E820F-B4AF-4E1A-8271-687534EDAECC', '3FFFB3F7-A7AF-49E1-ACEE-449FC73D3CD6', 'ABF877D7-DAC2-4BF0-AB58-9A8A02E92EB3', '32F02D2B-EE6E-4D3F-8486-1B5CAEF70204', 'D34B0D01-B082-4081-A3CC-B68B9B8313A4', 'C39149DE-3451-4D33-B4C2-B1E6C6FC9AAB', 'A04CDFB1-E951-4FC4-8882-0323CD70AE3C', 'ABF53597-A808-422A-B7EE-552F24D83A5F', 'FBE26B35-13AB-457D-9795-DF58B28E309D', '45395C84-F20A-4F5A-977F-B80348256421', 'CE5D0651-676B-4AF3-8D67-41BF1B33E30C', '67B57539-590B-4158-9CBB-9DBA2FE6C1F0', 'A9E8758B-5486-4798-8FBA-9AE639ABFC38', '517413CB-6977-46FA-8911-C82332E42884', 'A9DE8829-58CB-4750-B2A2-672846A89753', '9CAAF741-BE1E-4893-8044-1E507B7DDC38', 'B21C5599-1D00-4FCF-904B-58D9D4CAC49A', 'B6363F07-B1BC-420B-AA4C-A34BB8F05827', '1E6B5C97-C4E8-4CED-B9A5-6E69F389DA93', 'E2E0FC64-8D45-4C55-BDB9-EAB827A46FBC', '4C04F838-62AA-475E-AEFA-A63B7C889C13', '7060D0BB-B30D-4932-8FA1-40820A0FC4D0', '8B452737-CA3D-4C10-A99D-6865506437C8', '7FF12CEF-1C4D-4CD2-8FCC-662530A7BA33', '44FC5A86-A099-45B8-B847-F685C5027AFB', '3B2021A7-4BFC-418D-9C20-BD6838E52CF8', 'D2E930A7-B136-4ACA-A996-8DB5C60AADF3', '1C6781A2-5B9D-4525-8A9B-F9B32C4C4AC0', '682AB7A9-4FBF-4204-BDE1-27EAB3425DA0', '8CA46F28-84C0-4FE2-B228-EC4080777865', '7B671984-4C56-4FF1-9733-B4B6FCA5F2AA', '9D725810-BFD6-44C6-961A-2BC027F6FC95', 'E503BBF8-3C82-4DF7-B6E9-2488ECFCC847', '47E52220-4596-4AF0-9724-0167B72A4DB8', '17A934C7-1510-481F-BAD7-189058957FF1', '91A37B4C-C38B-4269-8467-F40870934386', '0BBD0EA3-F665-465B-86FD-FC8B8466AD53', '8E34333C-2BB8-4631-B072-383F1CA38F60', '0BC9183A-9067-4E06-AA5B-48DC2AB30C80', '572BCFC9-E1D6-4419-9A33-EDD284806AF3', '2858B6C2-0886-4269-884C-06FA8B887319', 'CEC0FC3A-0FD1-4F1C-9C51-7D9BEF4D8222', '43EF8365-F932-409B-A51E-FBED3F6DFFAA', 'E26D83A0-D29D-41EF-9528-02C882FFCC0D', '70188FF4-04F0-48D2-8706-698D1FD086E6']\",\n",
      "        \"NormalEnergizingSubstation\": \"8a4a3b73-75ae-4119-a685-b998613d469b\"\n",
      "    },\n",
      "    \"5B816B93-7A5F-B64C-8460-47C17D6E4B0F\": {\n",
      "        \"mRID\": \"5B816B93-7A5F-B64C-8460-47C17D6E4B0F\",\n",
      "        \"name\": \"ieee13nodecktassets\",\n",
      "        \"Location\": \"E8CC2D43-FB22-4798-AA57-09F1CDB77C00\",\n",
      "        \"ConnectivityNodes\": \"['09A37A19-DF0E-48F3-92E9-10FA62A08120', 'E14BD0DF-466D-487B-8786-0D46515D1F9B', '7326FB57-9839-4AE6-9F3D-B5660C58A7BA', '04006A64-109D-499D-8496-1B55907C1570', 'DFA687CB-83D6-4FD0-8007-657A3E1819F6', 'CB29A4D1-EE08-4AAF-82F6-3C178009EBC0', '22B55260-79B0-4DF5-A070-AFEDAFA299D4', 'B7E4EF30-D95D-4C8E-829B-F75FB0FDBEAD', 'BDCA9F2B-81A8-4969-AE86-B9D5DC399F51', '4163D7DE-898A-4241-93E0-F3FC49F1F714', '249A3E8C-0128-4DE2-92EA-112B44080BF2', '348C3A23-B2F4-4101-9A6C-AF8DEF97DD4C', '3E259C63-39CC-4B6C-9C4A-1B29A5C83840', '560E1C31-EE5C-4BFD-A0B6-F4E8D60E2C76', '61D2A727-4D2E-45F9-8A94-C42B38FFF029', 'DC7FBBF3-1456-4B9C-8983-9E3D4FA9D95B']\",\n",
      "        \"Equipments\": \"['4774208A-B9AB-4051-8BC9-4F7C8EA6552A', '603106B5-1DC7-40B1-A264-98774F6FD16D', '6964DE20-CC96-473D-BB0F-73CD8ACAED2D', '928BCF3C-276A-4E74-A4AE-C3C79D624F5F', '2EB647F9-B8F8-4659-9D2D-3515563030EB', 'F229083B-D5FC-40F0-BFE0-9E92C8C69574', '819CA18E-54AA-42D5-B069-F1AC831D926E', 'C28BFD4B-C7D1-49AD-BAA6-E06CB0856A72', 'EF316EA5-74D3-4209-89EA-BF8FAAC2BAF6', '28456F60-7196-47E4-9BE6-54F7EAABC04A', 'F3D41D9D-9606-4277-A336-69D7048301AF', '6A7D7AF8-A0F7-41B6-BB0C-160EAE054DEA', '4FE57842-43D5-4EBB-8FF1-795E6FE1C507', '7E0E4F76-E0FD-4BB5-BB58-BC5B05A5A59A', '16861155-E2D2-4E9C-8FCA-50EA820E96D0', '46479235-D5D9-4CE8-9F7C-C78426691797', '6EBB2188-CBE1-4FEC-9406-83DE8E61F9CB', '6BC92BAB-B1C8-49C5-87B3-126BBCDC46D5', '73E02C20-7DB0-4825-84C1-E58DB8C296BF', '6DEF3353-8276-402F-AC8E-3DEF4A396FFE', '8A0CF414-3240-47D1-AB8F-998165BA092E', 'EBD2AE36-04A5-4EA9-836F-12F9D3CCB777', 'F841F05A-E047-491F-BF7B-C71283C653D6', '4E1B3F09-CB88-4A5E-8198-24490EE7FC58', '6ECF60CD-E1E5-4C59-8941-3EC0E9DF30DD', 'C9CB60C2-46E0-4FDC-B2A5-73318344E4C9', '173879C4-4FDB-4521-A60D-5B102B3781B2', '8C536493-14B8-41D0-8EE4-CAE4DFF33839', 'A98417B1-4A7F-484F-97C8-9B91F29A26F1', 'D186291A-2487-45AE-83C7-651C7C71D41E', 'BE3F4495-1AC4-4A36-A529-40A6A740F58C', '08848DC6-BB11-4647-9C21-475BAD66A8B8', 'E062E187-F149-4555-8E27-2EE0C9D75274', '958C1DE5-2FA9-4051-8827-8681C4E7AFF6', 'F20F52DF-B0B1-4615-B9D3-AC669CE18454', '34A04257-8486-40AC-BE74-4022F7D395E4', '8A62F620-7C58-4662-AE5C-F41F5E3F0022', '67A2574B-8146-464D-B93C-B9FCBCE913BC']\",\n",
      "        \"NormalEnergizingSubstation\": \"8a4a3b73-75ae-4119-a685-b998613d469b\"\n",
      "    }\n",
      "}\n"
     ]
    }
   ],
   "source": [
    "# Print substation data using names\n",
    "SubBuilder.network.pprint(cim.Substation, use_names = True)\n",
    "# Print feeder data\n",
    "SubBuilder.network.pprint(cim.Feeder)"
   ]
  },
  {
   "cell_type": "markdown",
   "metadata": {},
   "source": [
    "The CIMantic Graphs `utils` package can be used to save the substation to an XML file for further use. "
   ]
  },
  {
   "cell_type": "code",
   "execution_count": 60,
   "metadata": {},
   "outputs": [],
   "source": [
    "utils.write_xml(SubBuilder.network, '../test_output/ring_bus.xml')"
   ]
  },
  {
   "cell_type": "markdown",
   "metadata": {},
   "source": [
    "The final verification that the substation has been created and can be successfully used with the network models Round-Trip Test: \n",
    "1) Delete all old models from the database\n",
    "2) Load the new substation and feeder CIM XML files\n",
    "3) Obtain all data for feeders contained by the subustation"
   ]
  },
  {
   "cell_type": "code",
   "execution_count": 61,
   "metadata": {},
   "outputs": [
    {
     "name": "stderr",
     "output_type": "stream",
     "text": [
      "/home/ande188/CIM-Builder/.venv/lib/python3.10/site-packages/SPARQLWrapper/Wrapper.py:1215: RuntimeWarning: unknown response content type 'text/html;charset=utf-8' returning raw response...\n",
      "  warnings.warn(\n"
     ]
    },
    {
     "data": {
      "text/plain": [
       "b'<!DOCTYPE HTML PUBLIC \"-//W3C//DTD HTML 4.01 Transitional//EN\" \"http://www.w3.org/TR/html4/loose.dtd\"><html><head><meta http-equiv=\"Content-Type\" content=\"text&#47;html;charset=UTF-8\"><title>blazegraph&trade; by SYSTAP</title\\n></head\\n><body<p>totalElapsed=18ms, elapsed=18ms, connFlush=0ms, batchResolve=0, whereClause=0ms, deleteClause=0ms, insertClause=0ms</p\\n><hr><p>COMMIT: totalElapsed=23ms, commitTime=1709076730332, mutationCount=6532</p\\n></html\\n>'"
      ]
     },
     "execution_count": 61,
     "metadata": {},
     "output_type": "execute_result"
    }
   ],
   "source": [
    "# Delete all CIM triples from database\n",
    "blazegraph.execute('drop all')"
   ]
  },
  {
   "cell_type": "code",
   "execution_count": 62,
   "metadata": {},
   "outputs": [
    {
     "name": "stdout",
     "output_type": "stream",
     "text": [
      "HTTP/1.1 100 Continue\n",
      "\n",
      "HTTP/1.1 200 OK\n",
      "Content-Type: application/xml;charset=iso-8859-1\n",
      "Content-Length: 62\n",
      "Server: Jetty(9.4.18.v20190429)\n",
      "\n",
      "<?xml version=\"1.0\"?><data modified=\"3392\" milliseconds=\"19\"/>HTTP/1.1 100 Continue\n",
      "\n",
      "HTTP/1.1 200 OK\n",
      "Content-Type: application/xml;charset=iso-8859-1\n",
      "Content-Length: 62\n",
      "Server: Jetty(9.4.18.v20190429)\n",
      "\n",
      "<?xml version=\"1.0\"?><data modified=\"2927\" milliseconds=\"22\"/>HTTP/1.1 100 Continue\n",
      "\n",
      "HTTP/1.1 200 OK\n",
      "Content-Type: application/xml;charset=iso-8859-1\n",
      "Content-Length: 61\n",
      "Server: Jetty(9.4.18.v20190429)\n",
      "\n",
      "<?xml version=\"1.0\"?><data modified=\"383\" milliseconds=\"22\"/>"
     ]
    }
   ],
   "source": [
    "# Upload new models into the database\n",
    "bg_loader.upload_from_file(filename='../test_models/IEEE13.xml')\n",
    "bg_loader.upload_from_file(filename='../test_models/IEEE13_Assets.xml')\n",
    "bg_loader.upload_from_file(filename='../test_output/ring_bus.xml')"
   ]
  },
  {
   "cell_type": "markdown",
   "metadata": {},
   "source": [
    "To verify that all feeder data can be obtained, we create a new CIMantic Graphs model and then query for the classes Substation and Feeder. We can also obtain the total amount of aggregate load from both feeders that are served by the substation."
   ]
  },
  {
   "cell_type": "code",
   "execution_count": 63,
   "metadata": {},
   "outputs": [],
   "source": [
    "network = NodeBreakerModel(container=substation, connection=blazegraph, distributed = False)"
   ]
  },
  {
   "cell_type": "code",
   "execution_count": 64,
   "metadata": {},
   "outputs": [
    {
     "name": "stdout",
     "output_type": "stream",
     "text": [
      "{\n",
      "    \"8a4a3b73-75ae-4119-a685-b998613d469b\": {\n",
      "        \"mRID\": \"8a4a3b73-75ae-4119-a685-b998613d469b\",\n",
      "        \"name\": \"ring_bus_sub\",\n",
      "        \"ConnectivityNodes\": \"['c2dfed47-2edb-477a-a990-cfab3a180212', 'e92f265e-8fbc-4ced-8075-d214ed222d44', '0f0f6aa3-2f3e-402e-b37e-b3f38cd3fbde', '16772a8c-34d9-4ade-8f27-90b54bb0a267', '17136127-d02b-4f0b-ad8b-00f4ff75b398', '3f9f32a7-6bd6-40c1-890e-29b64414d25e', '555d19ef-77b0-4cbf-890b-4180c5415c77', '60f67759-b1c4-451a-9e7b-66544439ba6e', '658382a5-291f-4620-b5ed-11d950b3cfd9', '739bbf1e-3b3a-4261-979f-f3983eadfa77', '77df54fc-e1fa-479c-95d0-591097ec22ba', '7de2624a-c38d-498f-ae84-e591dded91f4']\",\n",
      "        \"Equipments\": \"['8494989e-7526-4b62-8714-63c6a48cc8d6', '92c1f834-99ad-4700-b687-de44c2429459', '944468ab-b5da-4828-908d-b439bb517525', '99e54061-f150-4549-acde-8be855b0d24d', '9e012dd8-9f7d-4e58-abfa-818dda41ad4b', 'b623e89e-b403-455e-90b7-fe3d2ed2db34', 'c5317ad7-3e9c-4252-b0f8-3ba475384621', 'cc7065d1-8e3f-4970-a919-22159c5e4552', 'ea8fff46-c6d7-46b6-82f1-0d1cd88dcefd', '13c35bd6-467c-475d-ba38-45f0658ec14f', '2674344d-8a9c-4b1a-b188-cd3f365cf481', '3782fb1b-728d-421a-9f91-8199ddbcc652', '459c360d-af92-4042-b8b1-d8d480bc5fdc', '52b1d193-063b-4369-b370-b7d6cf3101bf', '54d52c78-5f3c-4d14-9282-106b809bedc6', '5d5da376-ec15-436a-bbd9-ec5928524cb8', '6bae9e66-6e74-43d2-b398-ff8c6a4d337f', '793acf42-8352-4388-af69-8cce6e459efd']\",\n",
      "        \"NormalEnergizedFeeder\": \"['49AD8E07-3BF9-A4E2-CB8F-C3722F837B62', '5B816B93-7A5F-B64C-8460-47C17D6E4B0F']\"\n",
      "    }\n",
      "}\n"
     ]
    }
   ],
   "source": [
    "# Print substation info\n",
    "network.get_all_edges(cim.Substation)\n",
    "network.pprint(cim.Substation)"
   ]
  },
  {
   "cell_type": "code",
   "execution_count": 65,
   "metadata": {},
   "outputs": [
    {
     "name": "stdout",
     "output_type": "stream",
     "text": [
      "{\n",
      "    \"49AD8E07-3BF9-A4E2-CB8F-C3722F837B62\": {\n",
      "        \"mRID\": \"49AD8E07-3BF9-A4E2-CB8F-C3722F837B62\",\n",
      "        \"name\": \"ieee13nodeckt\",\n",
      "        \"Location\": \"8E4E3C92-0B7A-4F74-8FD2-CC10F74E452F\",\n",
      "        \"ConnectivityNodes\": \"['673E896A-DCBF-4E43-9924-BEB31C5B6005', 'A8A25B50-3AE3-4A31-A18B-B3FA13397ED3', '421E99BE-A834-4809-B924-84D88F634A45', '2A6DC4DD-D3DC-434D-A187-D2C58A0A72C8', '7BEDDADD-0A14-429F-8601-9EA8B892CA6E', '63DFBEA0-CD06-4D2E-B956-DF9517BE057B', '30BE5988-DE57-4E0C-AB08-50D5A13D2C1B', '0124E881-B82D-4206-BBDF-37D585159872', 'C6256170-E6ED-4F91-8EBD-748090C3FDD5', '0A98A62D-7642-4F03-8317-A8605CBDBA37', '04984C4D-CC29-477A-9AF4-61AC7D74F16F', '0DCC57AF-F4FA-457D-BB24-2EFDA9865A1A', 'E5B2888B-B60D-4DA6-A4F7-17EB849D28B2', '6CB5E5CE-2CD0-40CC-A979-B4F9ED05E49B', '8E99F99D-FE8F-420B-AC49-0B52DF5362AB', 'DC889FA5-7B28-4273-A1D7-205BE3E0BFED', '94F822E0-7130-4205-8597-B47110BBEF4B', 'ADDB7A30-5A3C-4179-AF5D-5C9A7213B0E7', '8C58660F-C62C-4903-BE72-22F1255B1E62', '76D6D03C-967C-4E12-836D-A98DF3552BC7', '0F1E28C3-6C44-4F88-B79C-2FDBCA4487B2', 'DBFA8EFA-B397-40DA-9642-60E8DE4B3471']\",\n",
      "        \"Equipments\": \"['60B55036-DD71-40CE-ADDA-97B8CE7447DC', '52DE9189-20DC-4C73-BDEE-E960FE1F9493', '8E180773-2A9B-4136-BC9A-132A52C8E276', '259E820F-B4AF-4E1A-8271-687534EDAECC', '3FFFB3F7-A7AF-49E1-ACEE-449FC73D3CD6', 'ABF877D7-DAC2-4BF0-AB58-9A8A02E92EB3', '32F02D2B-EE6E-4D3F-8486-1B5CAEF70204', 'D34B0D01-B082-4081-A3CC-B68B9B8313A4', 'C39149DE-3451-4D33-B4C2-B1E6C6FC9AAB', 'A04CDFB1-E951-4FC4-8882-0323CD70AE3C', 'ABF53597-A808-422A-B7EE-552F24D83A5F', 'FBE26B35-13AB-457D-9795-DF58B28E309D', '45395C84-F20A-4F5A-977F-B80348256421', 'CE5D0651-676B-4AF3-8D67-41BF1B33E30C', '67B57539-590B-4158-9CBB-9DBA2FE6C1F0', 'A9E8758B-5486-4798-8FBA-9AE639ABFC38', '517413CB-6977-46FA-8911-C82332E42884', 'A9DE8829-58CB-4750-B2A2-672846A89753', '9CAAF741-BE1E-4893-8044-1E507B7DDC38', 'B21C5599-1D00-4FCF-904B-58D9D4CAC49A', 'B6363F07-B1BC-420B-AA4C-A34BB8F05827', '1E6B5C97-C4E8-4CED-B9A5-6E69F389DA93', 'E2E0FC64-8D45-4C55-BDB9-EAB827A46FBC', '4C04F838-62AA-475E-AEFA-A63B7C889C13', '7060D0BB-B30D-4932-8FA1-40820A0FC4D0', '8B452737-CA3D-4C10-A99D-6865506437C8', '7FF12CEF-1C4D-4CD2-8FCC-662530A7BA33', '44FC5A86-A099-45B8-B847-F685C5027AFB', '3B2021A7-4BFC-418D-9C20-BD6838E52CF8', 'D2E930A7-B136-4ACA-A996-8DB5C60AADF3', '1C6781A2-5B9D-4525-8A9B-F9B32C4C4AC0', '682AB7A9-4FBF-4204-BDE1-27EAB3425DA0', '8CA46F28-84C0-4FE2-B228-EC4080777865', '7B671984-4C56-4FF1-9733-B4B6FCA5F2AA', '9D725810-BFD6-44C6-961A-2BC027F6FC95', 'E503BBF8-3C82-4DF7-B6E9-2488ECFCC847', '47E52220-4596-4AF0-9724-0167B72A4DB8', '17A934C7-1510-481F-BAD7-189058957FF1', '91A37B4C-C38B-4269-8467-F40870934386', '0BBD0EA3-F665-465B-86FD-FC8B8466AD53', '8E34333C-2BB8-4631-B072-383F1CA38F60', '0BC9183A-9067-4E06-AA5B-48DC2AB30C80', '572BCFC9-E1D6-4419-9A33-EDD284806AF3', '2858B6C2-0886-4269-884C-06FA8B887319', 'CEC0FC3A-0FD1-4F1C-9C51-7D9BEF4D8222', '43EF8365-F932-409B-A51E-FBED3F6DFFAA', 'E26D83A0-D29D-41EF-9528-02C882FFCC0D', '70188FF4-04F0-48D2-8706-698D1FD086E6']\",\n",
      "        \"NormalEnergizingSubstation\": \"6C62C905-6FC7-653D-9F1E-1340F974A587\"\n",
      "    },\n",
      "    \"5B816B93-7A5F-B64C-8460-47C17D6E4B0F\": {\n",
      "        \"mRID\": \"5B816B93-7A5F-B64C-8460-47C17D6E4B0F\",\n",
      "        \"name\": \"ieee13nodecktassets\",\n",
      "        \"Location\": \"E8CC2D43-FB22-4798-AA57-09F1CDB77C00\",\n",
      "        \"ConnectivityNodes\": \"['09A37A19-DF0E-48F3-92E9-10FA62A08120', 'E14BD0DF-466D-487B-8786-0D46515D1F9B', '7326FB57-9839-4AE6-9F3D-B5660C58A7BA', '04006A64-109D-499D-8496-1B55907C1570', 'DFA687CB-83D6-4FD0-8007-657A3E1819F6', 'CB29A4D1-EE08-4AAF-82F6-3C178009EBC0', '22B55260-79B0-4DF5-A070-AFEDAFA299D4', 'B7E4EF30-D95D-4C8E-829B-F75FB0FDBEAD', 'BDCA9F2B-81A8-4969-AE86-B9D5DC399F51', '4163D7DE-898A-4241-93E0-F3FC49F1F714', '249A3E8C-0128-4DE2-92EA-112B44080BF2', '348C3A23-B2F4-4101-9A6C-AF8DEF97DD4C', '3E259C63-39CC-4B6C-9C4A-1B29A5C83840', '560E1C31-EE5C-4BFD-A0B6-F4E8D60E2C76', '61D2A727-4D2E-45F9-8A94-C42B38FFF029', 'DC7FBBF3-1456-4B9C-8983-9E3D4FA9D95B']\",\n",
      "        \"Equipments\": \"['4774208A-B9AB-4051-8BC9-4F7C8EA6552A', '603106B5-1DC7-40B1-A264-98774F6FD16D', '6964DE20-CC96-473D-BB0F-73CD8ACAED2D', '928BCF3C-276A-4E74-A4AE-C3C79D624F5F', '2EB647F9-B8F8-4659-9D2D-3515563030EB', 'F229083B-D5FC-40F0-BFE0-9E92C8C69574', '819CA18E-54AA-42D5-B069-F1AC831D926E', 'C28BFD4B-C7D1-49AD-BAA6-E06CB0856A72', 'EF316EA5-74D3-4209-89EA-BF8FAAC2BAF6', '28456F60-7196-47E4-9BE6-54F7EAABC04A', 'F3D41D9D-9606-4277-A336-69D7048301AF', '6A7D7AF8-A0F7-41B6-BB0C-160EAE054DEA', '4FE57842-43D5-4EBB-8FF1-795E6FE1C507', '7E0E4F76-E0FD-4BB5-BB58-BC5B05A5A59A', '16861155-E2D2-4E9C-8FCA-50EA820E96D0', '46479235-D5D9-4CE8-9F7C-C78426691797', '6EBB2188-CBE1-4FEC-9406-83DE8E61F9CB', '6BC92BAB-B1C8-49C5-87B3-126BBCDC46D5', '73E02C20-7DB0-4825-84C1-E58DB8C296BF', '6DEF3353-8276-402F-AC8E-3DEF4A396FFE', '8A0CF414-3240-47D1-AB8F-998165BA092E', 'EBD2AE36-04A5-4EA9-836F-12F9D3CCB777', 'F841F05A-E047-491F-BF7B-C71283C653D6', '4E1B3F09-CB88-4A5E-8198-24490EE7FC58', '6ECF60CD-E1E5-4C59-8941-3EC0E9DF30DD', 'C9CB60C2-46E0-4FDC-B2A5-73318344E4C9', '173879C4-4FDB-4521-A60D-5B102B3781B2', '8C536493-14B8-41D0-8EE4-CAE4DFF33839', 'A98417B1-4A7F-484F-97C8-9B91F29A26F1', 'D186291A-2487-45AE-83C7-651C7C71D41E', 'BE3F4495-1AC4-4A36-A529-40A6A740F58C', '08848DC6-BB11-4647-9C21-475BAD66A8B8', 'E062E187-F149-4555-8E27-2EE0C9D75274', '958C1DE5-2FA9-4051-8827-8681C4E7AFF6', 'F20F52DF-B0B1-4615-B9D3-AC669CE18454', '34A04257-8486-40AC-BE74-4022F7D395E4', '8A62F620-7C58-4662-AE5C-F41F5E3F0022', '67A2574B-8146-464D-B93C-B9FCBCE913BC']\",\n",
      "        \"NormalEnergizingSubstation\": \"6C62C905-6FC7-653D-9F1E-1340F974A587\"\n",
      "    }\n",
      "}\n"
     ]
    }
   ],
   "source": [
    "# Print feeder info\n",
    "network.get_all_edges(cim.Feeder)\n",
    "network.pprint(cim.Feeder)"
   ]
  },
  {
   "cell_type": "code",
   "execution_count": 66,
   "metadata": {},
   "outputs": [
    {
     "name": "stdout",
     "output_type": "stream",
     "text": [
      "total load is 6937.0 kW\n"
     ]
    }
   ],
   "source": [
    "# Print total load served by substation from both feeders\n",
    "total_load = 0\n",
    "network.get_all_edges(cim.EnergyConsumer)\n",
    "for load in network.graph[cim.EnergyConsumer].values():\n",
    "    total_load = total_load + float(load.p)\n",
    "\n",
    "print(f'total load is {total_load/1000} kW')"
   ]
  },
  {
   "cell_type": "markdown",
   "metadata": {},
   "source": [
    "As part of the round-trip test, it is also possible to merge the substation and both feeders into a single XML file "
   ]
  },
  {
   "cell_type": "code",
   "execution_count": 67,
   "metadata": {},
   "outputs": [],
   "source": [
    "utils.get_all_data(network)\n",
    "utils.write_xml(network, '../test_output/ring_bus_and_feeders.xml')"
   ]
  },
  {
   "cell_type": "code",
   "execution_count": null,
   "metadata": {},
   "outputs": [],
   "source": []
  },
  {
   "cell_type": "code",
   "execution_count": null,
   "metadata": {},
   "outputs": [],
   "source": []
  },
  {
   "cell_type": "code",
   "execution_count": null,
   "metadata": {},
   "outputs": [],
   "source": []
  },
  {
   "cell_type": "code",
   "execution_count": null,
   "metadata": {},
   "outputs": [],
   "source": []
  },
  {
   "cell_type": "code",
   "execution_count": null,
   "metadata": {},
   "outputs": [],
   "source": []
  },
  {
   "cell_type": "code",
   "execution_count": null,
   "metadata": {},
   "outputs": [],
   "source": []
  },
  {
   "cell_type": "markdown",
   "metadata": {},
   "source": []
  },
  {
   "cell_type": "markdown",
   "metadata": {},
   "source": [
    "### Create Breaker and a Half Substation"
   ]
  },
  {
   "cell_type": "markdown",
   "metadata": {},
   "source": [
    "To create a new Breaker-and-a-Half substation, we import the associated class from the `substation_builder` module in CIM-Builder:"
   ]
  },
  {
   "cell_type": "code",
   "execution_count": 68,
   "metadata": {},
   "outputs": [],
   "source": [
    "from cimbuilder.substation_builder import BreakerAndHalfSubstation"
   ]
  },
  {
   "cell_type": "markdown",
   "metadata": {},
   "source": [
    "To create a new substation, the class is instantiated with the name of the substation and base voltage. If the substation is not being added to an existing network, a new `DistributedArea` will be created to contain the substation. The total number of breaker sets in the substation is denoted by `total_bus_ties`."
   ]
  },
  {
   "cell_type": "code",
   "execution_count": 69,
   "metadata": {},
   "outputs": [],
   "source": [
    "SubBuilder = BreakerAndHalfSubstation(connection=connection,\n",
    "                               name = \"breaker_half_sub\", \n",
    "                               base_voltage = 115000,\n",
    "                               total_bus_ties=2)\n",
    "substation = SubBuilder.substation"
   ]
  },
  {
   "cell_type": "markdown",
   "metadata": {},
   "source": [
    "To add a feeder to the new substation, the `.new_feeder()` method is called. The `series_number` is used for automatic naming of the breaker and airgap switches. The arguments `feeder` and `feeder_network` are used for the CIM feeder object and the CIMantic Graphs network model.\n",
    "\n",
    "The function call below will automatically insert the IEEE 13 and IEEE 13 Assets feeders into the new substation:"
   ]
  },
  {
   "cell_type": "code",
   "execution_count": 70,
   "metadata": {},
   "outputs": [],
   "source": [
    "SubBuilder.new_feeder(branch_number=1, tie_number=1,\n",
    "                      feeder=ieee13_feeder,\n",
    "                      feeder_network=ieee13_network)\n",
    "SubBuilder.new_feeder(branch_number = 2, tie_number=1,\n",
    "                      feeder=assets13_feeder,\n",
    "                      feeder_network=assets13_network)"
   ]
  },
  {
   "cell_type": "markdown",
   "metadata": {},
   "source": [
    "To check whether the feeders have been added successfully, it is possible to use the CIMantic Graphs `.pprint(cim.ClassName)` method to print all instances of Substation and Feeder objects."
   ]
  },
  {
   "cell_type": "code",
   "execution_count": 71,
   "metadata": {},
   "outputs": [
    {
     "name": "stdout",
     "output_type": "stream",
     "text": [
      "{\n",
      "    \"ed5fc824-37f7-4cd0-9308-0f5a1aecbcf6\": {\n",
      "        \"mRID\": \"ed5fc824-37f7-4cd0-9308-0f5a1aecbcf6\",\n",
      "        \"name\": \"breaker_half_sub\",\n",
      "        \"NormalEnergizedFeeder\": \"['ieee13nodeckt', 'ieee13nodecktassets']\"\n",
      "    }\n",
      "}\n",
      "{\n",
      "    \"49AD8E07-3BF9-A4E2-CB8F-C3722F837B62\": {\n",
      "        \"mRID\": \"49AD8E07-3BF9-A4E2-CB8F-C3722F837B62\",\n",
      "        \"name\": \"ieee13nodeckt\",\n",
      "        \"Location\": \"8E4E3C92-0B7A-4F74-8FD2-CC10F74E452F\",\n",
      "        \"ConnectivityNodes\": \"['673E896A-DCBF-4E43-9924-BEB31C5B6005', 'A8A25B50-3AE3-4A31-A18B-B3FA13397ED3', '421E99BE-A834-4809-B924-84D88F634A45', '2A6DC4DD-D3DC-434D-A187-D2C58A0A72C8', '7BEDDADD-0A14-429F-8601-9EA8B892CA6E', '63DFBEA0-CD06-4D2E-B956-DF9517BE057B', '30BE5988-DE57-4E0C-AB08-50D5A13D2C1B', '0124E881-B82D-4206-BBDF-37D585159872', 'C6256170-E6ED-4F91-8EBD-748090C3FDD5', '0A98A62D-7642-4F03-8317-A8605CBDBA37', '04984C4D-CC29-477A-9AF4-61AC7D74F16F', '0DCC57AF-F4FA-457D-BB24-2EFDA9865A1A', 'E5B2888B-B60D-4DA6-A4F7-17EB849D28B2', '6CB5E5CE-2CD0-40CC-A979-B4F9ED05E49B', '8E99F99D-FE8F-420B-AC49-0B52DF5362AB', 'DC889FA5-7B28-4273-A1D7-205BE3E0BFED', '94F822E0-7130-4205-8597-B47110BBEF4B', 'ADDB7A30-5A3C-4179-AF5D-5C9A7213B0E7', '8C58660F-C62C-4903-BE72-22F1255B1E62', '76D6D03C-967C-4E12-836D-A98DF3552BC7', '0F1E28C3-6C44-4F88-B79C-2FDBCA4487B2', 'DBFA8EFA-B397-40DA-9642-60E8DE4B3471']\",\n",
      "        \"Equipments\": \"['60B55036-DD71-40CE-ADDA-97B8CE7447DC', '52DE9189-20DC-4C73-BDEE-E960FE1F9493', '8E180773-2A9B-4136-BC9A-132A52C8E276', '259E820F-B4AF-4E1A-8271-687534EDAECC', '3FFFB3F7-A7AF-49E1-ACEE-449FC73D3CD6', 'ABF877D7-DAC2-4BF0-AB58-9A8A02E92EB3', '32F02D2B-EE6E-4D3F-8486-1B5CAEF70204', 'D34B0D01-B082-4081-A3CC-B68B9B8313A4', 'C39149DE-3451-4D33-B4C2-B1E6C6FC9AAB', 'A04CDFB1-E951-4FC4-8882-0323CD70AE3C', 'ABF53597-A808-422A-B7EE-552F24D83A5F', 'FBE26B35-13AB-457D-9795-DF58B28E309D', '45395C84-F20A-4F5A-977F-B80348256421', 'CE5D0651-676B-4AF3-8D67-41BF1B33E30C', '67B57539-590B-4158-9CBB-9DBA2FE6C1F0', 'A9E8758B-5486-4798-8FBA-9AE639ABFC38', '517413CB-6977-46FA-8911-C82332E42884', 'A9DE8829-58CB-4750-B2A2-672846A89753', '9CAAF741-BE1E-4893-8044-1E507B7DDC38', 'B21C5599-1D00-4FCF-904B-58D9D4CAC49A', 'B6363F07-B1BC-420B-AA4C-A34BB8F05827', '1E6B5C97-C4E8-4CED-B9A5-6E69F389DA93', 'E2E0FC64-8D45-4C55-BDB9-EAB827A46FBC', '4C04F838-62AA-475E-AEFA-A63B7C889C13', '7060D0BB-B30D-4932-8FA1-40820A0FC4D0', '8B452737-CA3D-4C10-A99D-6865506437C8', '7FF12CEF-1C4D-4CD2-8FCC-662530A7BA33', '44FC5A86-A099-45B8-B847-F685C5027AFB', '3B2021A7-4BFC-418D-9C20-BD6838E52CF8', 'D2E930A7-B136-4ACA-A996-8DB5C60AADF3', '1C6781A2-5B9D-4525-8A9B-F9B32C4C4AC0', '682AB7A9-4FBF-4204-BDE1-27EAB3425DA0', '8CA46F28-84C0-4FE2-B228-EC4080777865', '7B671984-4C56-4FF1-9733-B4B6FCA5F2AA', '9D725810-BFD6-44C6-961A-2BC027F6FC95', 'E503BBF8-3C82-4DF7-B6E9-2488ECFCC847', '47E52220-4596-4AF0-9724-0167B72A4DB8', '17A934C7-1510-481F-BAD7-189058957FF1', '91A37B4C-C38B-4269-8467-F40870934386', '0BBD0EA3-F665-465B-86FD-FC8B8466AD53', '8E34333C-2BB8-4631-B072-383F1CA38F60', '0BC9183A-9067-4E06-AA5B-48DC2AB30C80', '572BCFC9-E1D6-4419-9A33-EDD284806AF3', '2858B6C2-0886-4269-884C-06FA8B887319', 'CEC0FC3A-0FD1-4F1C-9C51-7D9BEF4D8222', '43EF8365-F932-409B-A51E-FBED3F6DFFAA', 'E26D83A0-D29D-41EF-9528-02C882FFCC0D', '70188FF4-04F0-48D2-8706-698D1FD086E6']\",\n",
      "        \"NormalEnergizingSubstation\": \"ed5fc824-37f7-4cd0-9308-0f5a1aecbcf6\"\n",
      "    },\n",
      "    \"5B816B93-7A5F-B64C-8460-47C17D6E4B0F\": {\n",
      "        \"mRID\": \"5B816B93-7A5F-B64C-8460-47C17D6E4B0F\",\n",
      "        \"name\": \"ieee13nodecktassets\",\n",
      "        \"Location\": \"E8CC2D43-FB22-4798-AA57-09F1CDB77C00\",\n",
      "        \"ConnectivityNodes\": \"['09A37A19-DF0E-48F3-92E9-10FA62A08120', 'E14BD0DF-466D-487B-8786-0D46515D1F9B', '7326FB57-9839-4AE6-9F3D-B5660C58A7BA', '04006A64-109D-499D-8496-1B55907C1570', 'DFA687CB-83D6-4FD0-8007-657A3E1819F6', 'CB29A4D1-EE08-4AAF-82F6-3C178009EBC0', '22B55260-79B0-4DF5-A070-AFEDAFA299D4', 'B7E4EF30-D95D-4C8E-829B-F75FB0FDBEAD', 'BDCA9F2B-81A8-4969-AE86-B9D5DC399F51', '4163D7DE-898A-4241-93E0-F3FC49F1F714', '249A3E8C-0128-4DE2-92EA-112B44080BF2', '348C3A23-B2F4-4101-9A6C-AF8DEF97DD4C', '3E259C63-39CC-4B6C-9C4A-1B29A5C83840', '560E1C31-EE5C-4BFD-A0B6-F4E8D60E2C76', '61D2A727-4D2E-45F9-8A94-C42B38FFF029', 'DC7FBBF3-1456-4B9C-8983-9E3D4FA9D95B']\",\n",
      "        \"Equipments\": \"['4774208A-B9AB-4051-8BC9-4F7C8EA6552A', '603106B5-1DC7-40B1-A264-98774F6FD16D', '6964DE20-CC96-473D-BB0F-73CD8ACAED2D', '928BCF3C-276A-4E74-A4AE-C3C79D624F5F', '2EB647F9-B8F8-4659-9D2D-3515563030EB', 'F229083B-D5FC-40F0-BFE0-9E92C8C69574', '819CA18E-54AA-42D5-B069-F1AC831D926E', 'C28BFD4B-C7D1-49AD-BAA6-E06CB0856A72', 'EF316EA5-74D3-4209-89EA-BF8FAAC2BAF6', '28456F60-7196-47E4-9BE6-54F7EAABC04A', 'F3D41D9D-9606-4277-A336-69D7048301AF', '6A7D7AF8-A0F7-41B6-BB0C-160EAE054DEA', '4FE57842-43D5-4EBB-8FF1-795E6FE1C507', '7E0E4F76-E0FD-4BB5-BB58-BC5B05A5A59A', '16861155-E2D2-4E9C-8FCA-50EA820E96D0', '46479235-D5D9-4CE8-9F7C-C78426691797', '6EBB2188-CBE1-4FEC-9406-83DE8E61F9CB', '6BC92BAB-B1C8-49C5-87B3-126BBCDC46D5', '73E02C20-7DB0-4825-84C1-E58DB8C296BF', '6DEF3353-8276-402F-AC8E-3DEF4A396FFE', '8A0CF414-3240-47D1-AB8F-998165BA092E', 'EBD2AE36-04A5-4EA9-836F-12F9D3CCB777', 'F841F05A-E047-491F-BF7B-C71283C653D6', '4E1B3F09-CB88-4A5E-8198-24490EE7FC58', '6ECF60CD-E1E5-4C59-8941-3EC0E9DF30DD', 'C9CB60C2-46E0-4FDC-B2A5-73318344E4C9', '173879C4-4FDB-4521-A60D-5B102B3781B2', '8C536493-14B8-41D0-8EE4-CAE4DFF33839', 'A98417B1-4A7F-484F-97C8-9B91F29A26F1', 'D186291A-2487-45AE-83C7-651C7C71D41E', 'BE3F4495-1AC4-4A36-A529-40A6A740F58C', '08848DC6-BB11-4647-9C21-475BAD66A8B8', 'E062E187-F149-4555-8E27-2EE0C9D75274', '958C1DE5-2FA9-4051-8827-8681C4E7AFF6', 'F20F52DF-B0B1-4615-B9D3-AC669CE18454', '34A04257-8486-40AC-BE74-4022F7D395E4', '8A62F620-7C58-4662-AE5C-F41F5E3F0022', '67A2574B-8146-464D-B93C-B9FCBCE913BC']\",\n",
      "        \"NormalEnergizingSubstation\": \"ed5fc824-37f7-4cd0-9308-0f5a1aecbcf6\"\n",
      "    }\n",
      "}\n"
     ]
    }
   ],
   "source": [
    "# Print substation data using names\n",
    "SubBuilder.network.pprint(cim.Substation, use_names = True)\n",
    "# Print feeder data\n",
    "SubBuilder.network.pprint(cim.Feeder)"
   ]
  },
  {
   "cell_type": "markdown",
   "metadata": {},
   "source": [
    "The CIMantic Graphs `utils` package can be used to save the substation to an XML file for further use. "
   ]
  },
  {
   "cell_type": "code",
   "execution_count": 72,
   "metadata": {},
   "outputs": [],
   "source": [
    "utils.write_xml(SubBuilder.network, '../test_output/breaker_half.xml')"
   ]
  },
  {
   "cell_type": "markdown",
   "metadata": {},
   "source": [
    "The final verification that the substation has been created and can be successfully used with the network models Round-Trip Test: \n",
    "1) Delete all old models from the database\n",
    "2) Load the new substation and feeder CIM XML files\n",
    "3) Obtain all data for feeders contained by the subustation"
   ]
  },
  {
   "cell_type": "code",
   "execution_count": 73,
   "metadata": {},
   "outputs": [
    {
     "name": "stderr",
     "output_type": "stream",
     "text": [
      "/home/ande188/CIM-Builder/.venv/lib/python3.10/site-packages/SPARQLWrapper/Wrapper.py:1215: RuntimeWarning: unknown response content type 'text/html;charset=utf-8' returning raw response...\n",
      "  warnings.warn(\n"
     ]
    },
    {
     "data": {
      "text/plain": [
       "b'<!DOCTYPE HTML PUBLIC \"-//W3C//DTD HTML 4.01 Transitional//EN\" \"http://www.w3.org/TR/html4/loose.dtd\"><html><head><meta http-equiv=\"Content-Type\" content=\"text&#47;html;charset=UTF-8\"><title>blazegraph&trade; by SYSTAP</title\\n></head\\n><body<p>totalElapsed=22ms, elapsed=22ms, connFlush=0ms, batchResolve=0, whereClause=0ms, deleteClause=0ms, insertClause=0ms</p\\n><hr><p>COMMIT: totalElapsed=27ms, commitTime=1709076734889, mutationCount=6671</p\\n></html\\n>'"
      ]
     },
     "execution_count": 73,
     "metadata": {},
     "output_type": "execute_result"
    }
   ],
   "source": [
    "# Delete all CIM triples from database\n",
    "blazegraph.execute('drop all')"
   ]
  },
  {
   "cell_type": "code",
   "execution_count": 74,
   "metadata": {},
   "outputs": [
    {
     "name": "stdout",
     "output_type": "stream",
     "text": [
      "HTTP/1.1 100 Continue\n",
      "\n",
      "HTTP/1.1 200 OK\n",
      "Content-Type: application/xml;charset=iso-8859-1\n",
      "Content-Length: 62\n",
      "Server: Jetty(9.4.18.v20190429)\n",
      "\n",
      "<?xml version=\"1.0\"?><data modified=\"3392\" milliseconds=\"21\"/>HTTP/1.1 100 Continue\n",
      "\n",
      "HTTP/1.1 200 OK\n",
      "Content-Type: application/xml;charset=iso-8859-1\n",
      "Content-Length: 62\n",
      "Server: Jetty(9.4.18.v20190429)\n",
      "\n",
      "<?xml version=\"1.0\"?><data modified=\"2927\" milliseconds=\"29\"/>HTTP/1.1 100 Continue\n",
      "\n",
      "HTTP/1.1 200 OK\n",
      "Content-Type: application/xml;charset=iso-8859-1\n",
      "Content-Length: 61\n",
      "Server: Jetty(9.4.18.v20190429)\n",
      "\n",
      "<?xml version=\"1.0\"?><data modified=\"501\" milliseconds=\"50\"/>"
     ]
    }
   ],
   "source": [
    "# Upload new models into the database\n",
    "bg_loader.upload_from_file(filename='../test_models/IEEE13.xml')\n",
    "bg_loader.upload_from_file(filename='../test_models/IEEE13_Assets.xml')\n",
    "bg_loader.upload_from_file(filename='../test_output/breaker_half.xml')"
   ]
  },
  {
   "cell_type": "markdown",
   "metadata": {},
   "source": [
    "To verify that all feeder data can be obtained, we create a new CIMantic Graphs model and then query for the classes Substation and Feeder. We can also obtain the total amount of aggregate load from both feeders that are served by the substation."
   ]
  },
  {
   "cell_type": "code",
   "execution_count": 75,
   "metadata": {},
   "outputs": [],
   "source": [
    "network = NodeBreakerModel(container=substation, connection=blazegraph, distributed = False)"
   ]
  },
  {
   "cell_type": "code",
   "execution_count": 76,
   "metadata": {},
   "outputs": [
    {
     "name": "stdout",
     "output_type": "stream",
     "text": [
      "{\n",
      "    \"ed5fc824-37f7-4cd0-9308-0f5a1aecbcf6\": {\n",
      "        \"mRID\": \"ed5fc824-37f7-4cd0-9308-0f5a1aecbcf6\",\n",
      "        \"name\": \"breaker_half_sub\",\n",
      "        \"ConnectivityNodes\": \"['89a75774-481f-4c45-a207-39f2f37d1086', '9bc0639a-9c02-442a-9021-feb0ab263a27', 'a5101289-6677-4591-b3f2-2b6bc07f3b81', 'd7a3151b-f079-42f8-af7a-1d5f1ae91d9e', 'd88d3c43-53df-41a7-9ff2-9ae598bd1a58', '02b9f9b5-be34-46ef-8df0-423324815c73', '046e21f8-b976-4714-87b6-fdfe879c8c6e', '04792457-e2cc-465c-8e74-679d2d9a0bf4', '1e26ca4e-e460-4c52-a3ff-ec3442221b0c', '1f5b498c-1002-4d16-befc-c8807a6ec3f6', '2ca5d713-ab28-444b-8c1c-a64bfb4995ea', '2cc57af6-5c71-40e1-95dc-813f1350a227', '3ed78b52-fb85-494c-b788-4b93f339e489', '427e7786-a37d-4e98-8546-6f6a9d0abe4d', '4a55f898-c1d0-4d9a-b764-4f570a865297', '68144d36-739d-43b4-b0f2-54dad9cf34fb', '6cd333fa-ff81-4382-a13a-fbc61a4b8e0e', '729fac0c-06f8-4352-b10b-959926639255']\",\n",
      "        \"Equipments\": \"['8456bc50-3b88-44de-b4cb-03913a0ae18d', '8533519c-193b-4c54-941a-753666f1cf1b', '8819f0db-1304-4c15-82b0-5f6c9619193b', '8c509b50-e5eb-42af-ab36-421ea667a6b2', '93cad0b3-2bda-465b-8e23-504c4fc4c1d3', '99ce50f6-53dc-4e11-8798-764b710ccd3f', 'a632e214-eb57-4318-8d1c-5f1d2c798699', 'a7a964ad-b50d-4f17-aada-f9f36ac75bca', 'aad6844e-b578-432f-8f95-ec205e717681', 'bb789324-a417-4b4c-aac8-ff711711c52b', 'c06c8da5-6429-4a8a-a6da-dd7a091be3ab', 'db24e0e7-e3a3-48b8-9a36-89f96c17fa89', 'e59c7102-b532-4049-96ea-d0d325ede643', 'e7548c7b-dcb5-4814-8253-543009cee86d', 'e9dce810-4a1c-4969-aa63-57674df94522', 'f0468206-5b96-4dd0-b327-bedbb94d9986', 'f5c2fcea-d73a-4fd9-bede-b9513dd195a8', 'f76c3f20-76b9-4bd2-b3d7-15050afbbef3', 'f7729683-44cf-4181-b59c-0e031e94fa88', '319e7f89-628f-466c-82dc-0a1614f16ce2', '3a237835-31cf-4294-8a0a-13b323ed7f3c', '7c7c9374-74e1-4e74-9f3c-03d0a48e0bf1']\",\n",
      "        \"NormalEnergizedFeeder\": \"['49AD8E07-3BF9-A4E2-CB8F-C3722F837B62', '5B816B93-7A5F-B64C-8460-47C17D6E4B0F']\"\n",
      "    }\n",
      "}\n"
     ]
    }
   ],
   "source": [
    "# Print substation info\n",
    "network.get_all_edges(cim.Substation)\n",
    "network.pprint(cim.Substation)"
   ]
  },
  {
   "cell_type": "code",
   "execution_count": 77,
   "metadata": {},
   "outputs": [
    {
     "name": "stdout",
     "output_type": "stream",
     "text": [
      "{\n",
      "    \"49AD8E07-3BF9-A4E2-CB8F-C3722F837B62\": {\n",
      "        \"mRID\": \"49AD8E07-3BF9-A4E2-CB8F-C3722F837B62\",\n",
      "        \"name\": \"ieee13nodeckt\",\n",
      "        \"Location\": \"8E4E3C92-0B7A-4F74-8FD2-CC10F74E452F\",\n",
      "        \"ConnectivityNodes\": \"['673E896A-DCBF-4E43-9924-BEB31C5B6005', 'A8A25B50-3AE3-4A31-A18B-B3FA13397ED3', '421E99BE-A834-4809-B924-84D88F634A45', '2A6DC4DD-D3DC-434D-A187-D2C58A0A72C8', '7BEDDADD-0A14-429F-8601-9EA8B892CA6E', '63DFBEA0-CD06-4D2E-B956-DF9517BE057B', '30BE5988-DE57-4E0C-AB08-50D5A13D2C1B', '0124E881-B82D-4206-BBDF-37D585159872', 'C6256170-E6ED-4F91-8EBD-748090C3FDD5', '0A98A62D-7642-4F03-8317-A8605CBDBA37', '04984C4D-CC29-477A-9AF4-61AC7D74F16F', '0DCC57AF-F4FA-457D-BB24-2EFDA9865A1A', 'E5B2888B-B60D-4DA6-A4F7-17EB849D28B2', '6CB5E5CE-2CD0-40CC-A979-B4F9ED05E49B', '8E99F99D-FE8F-420B-AC49-0B52DF5362AB', 'DC889FA5-7B28-4273-A1D7-205BE3E0BFED', '94F822E0-7130-4205-8597-B47110BBEF4B', 'ADDB7A30-5A3C-4179-AF5D-5C9A7213B0E7', '8C58660F-C62C-4903-BE72-22F1255B1E62', '76D6D03C-967C-4E12-836D-A98DF3552BC7', '0F1E28C3-6C44-4F88-B79C-2FDBCA4487B2', 'DBFA8EFA-B397-40DA-9642-60E8DE4B3471']\",\n",
      "        \"Equipments\": \"['60B55036-DD71-40CE-ADDA-97B8CE7447DC', '52DE9189-20DC-4C73-BDEE-E960FE1F9493', '8E180773-2A9B-4136-BC9A-132A52C8E276', '259E820F-B4AF-4E1A-8271-687534EDAECC', '3FFFB3F7-A7AF-49E1-ACEE-449FC73D3CD6', 'ABF877D7-DAC2-4BF0-AB58-9A8A02E92EB3', '32F02D2B-EE6E-4D3F-8486-1B5CAEF70204', 'D34B0D01-B082-4081-A3CC-B68B9B8313A4', 'C39149DE-3451-4D33-B4C2-B1E6C6FC9AAB', 'A04CDFB1-E951-4FC4-8882-0323CD70AE3C', 'ABF53597-A808-422A-B7EE-552F24D83A5F', 'FBE26B35-13AB-457D-9795-DF58B28E309D', '45395C84-F20A-4F5A-977F-B80348256421', 'CE5D0651-676B-4AF3-8D67-41BF1B33E30C', '67B57539-590B-4158-9CBB-9DBA2FE6C1F0', 'A9E8758B-5486-4798-8FBA-9AE639ABFC38', '517413CB-6977-46FA-8911-C82332E42884', 'A9DE8829-58CB-4750-B2A2-672846A89753', '9CAAF741-BE1E-4893-8044-1E507B7DDC38', 'B21C5599-1D00-4FCF-904B-58D9D4CAC49A', 'B6363F07-B1BC-420B-AA4C-A34BB8F05827', '1E6B5C97-C4E8-4CED-B9A5-6E69F389DA93', 'E2E0FC64-8D45-4C55-BDB9-EAB827A46FBC', '4C04F838-62AA-475E-AEFA-A63B7C889C13', '7060D0BB-B30D-4932-8FA1-40820A0FC4D0', '8B452737-CA3D-4C10-A99D-6865506437C8', '7FF12CEF-1C4D-4CD2-8FCC-662530A7BA33', '44FC5A86-A099-45B8-B847-F685C5027AFB', '3B2021A7-4BFC-418D-9C20-BD6838E52CF8', 'D2E930A7-B136-4ACA-A996-8DB5C60AADF3', '1C6781A2-5B9D-4525-8A9B-F9B32C4C4AC0', '682AB7A9-4FBF-4204-BDE1-27EAB3425DA0', '8CA46F28-84C0-4FE2-B228-EC4080777865', '7B671984-4C56-4FF1-9733-B4B6FCA5F2AA', '9D725810-BFD6-44C6-961A-2BC027F6FC95', 'E503BBF8-3C82-4DF7-B6E9-2488ECFCC847', '47E52220-4596-4AF0-9724-0167B72A4DB8', '17A934C7-1510-481F-BAD7-189058957FF1', '91A37B4C-C38B-4269-8467-F40870934386', '0BBD0EA3-F665-465B-86FD-FC8B8466AD53', '8E34333C-2BB8-4631-B072-383F1CA38F60', '0BC9183A-9067-4E06-AA5B-48DC2AB30C80', '572BCFC9-E1D6-4419-9A33-EDD284806AF3', '2858B6C2-0886-4269-884C-06FA8B887319', 'CEC0FC3A-0FD1-4F1C-9C51-7D9BEF4D8222', '43EF8365-F932-409B-A51E-FBED3F6DFFAA', 'E26D83A0-D29D-41EF-9528-02C882FFCC0D', '70188FF4-04F0-48D2-8706-698D1FD086E6']\",\n",
      "        \"NormalEnergizingSubstation\": \"ed5fc824-37f7-4cd0-9308-0f5a1aecbcf6\"\n",
      "    },\n",
      "    \"5B816B93-7A5F-B64C-8460-47C17D6E4B0F\": {\n",
      "        \"mRID\": \"5B816B93-7A5F-B64C-8460-47C17D6E4B0F\",\n",
      "        \"name\": \"ieee13nodecktassets\",\n",
      "        \"Location\": \"E8CC2D43-FB22-4798-AA57-09F1CDB77C00\",\n",
      "        \"ConnectivityNodes\": \"['09A37A19-DF0E-48F3-92E9-10FA62A08120', 'E14BD0DF-466D-487B-8786-0D46515D1F9B', '7326FB57-9839-4AE6-9F3D-B5660C58A7BA', '04006A64-109D-499D-8496-1B55907C1570', 'DFA687CB-83D6-4FD0-8007-657A3E1819F6', 'CB29A4D1-EE08-4AAF-82F6-3C178009EBC0', '22B55260-79B0-4DF5-A070-AFEDAFA299D4', 'B7E4EF30-D95D-4C8E-829B-F75FB0FDBEAD', 'BDCA9F2B-81A8-4969-AE86-B9D5DC399F51', '4163D7DE-898A-4241-93E0-F3FC49F1F714', '249A3E8C-0128-4DE2-92EA-112B44080BF2', '348C3A23-B2F4-4101-9A6C-AF8DEF97DD4C', '3E259C63-39CC-4B6C-9C4A-1B29A5C83840', '560E1C31-EE5C-4BFD-A0B6-F4E8D60E2C76', '61D2A727-4D2E-45F9-8A94-C42B38FFF029', 'DC7FBBF3-1456-4B9C-8983-9E3D4FA9D95B']\",\n",
      "        \"Equipments\": \"['4774208A-B9AB-4051-8BC9-4F7C8EA6552A', '603106B5-1DC7-40B1-A264-98774F6FD16D', '6964DE20-CC96-473D-BB0F-73CD8ACAED2D', '928BCF3C-276A-4E74-A4AE-C3C79D624F5F', '2EB647F9-B8F8-4659-9D2D-3515563030EB', 'F229083B-D5FC-40F0-BFE0-9E92C8C69574', '819CA18E-54AA-42D5-B069-F1AC831D926E', 'C28BFD4B-C7D1-49AD-BAA6-E06CB0856A72', 'EF316EA5-74D3-4209-89EA-BF8FAAC2BAF6', '28456F60-7196-47E4-9BE6-54F7EAABC04A', 'F3D41D9D-9606-4277-A336-69D7048301AF', '6A7D7AF8-A0F7-41B6-BB0C-160EAE054DEA', '4FE57842-43D5-4EBB-8FF1-795E6FE1C507', '7E0E4F76-E0FD-4BB5-BB58-BC5B05A5A59A', '16861155-E2D2-4E9C-8FCA-50EA820E96D0', '46479235-D5D9-4CE8-9F7C-C78426691797', '6EBB2188-CBE1-4FEC-9406-83DE8E61F9CB', '6BC92BAB-B1C8-49C5-87B3-126BBCDC46D5', '73E02C20-7DB0-4825-84C1-E58DB8C296BF', '6DEF3353-8276-402F-AC8E-3DEF4A396FFE', '8A0CF414-3240-47D1-AB8F-998165BA092E', 'EBD2AE36-04A5-4EA9-836F-12F9D3CCB777', 'F841F05A-E047-491F-BF7B-C71283C653D6', '4E1B3F09-CB88-4A5E-8198-24490EE7FC58', '6ECF60CD-E1E5-4C59-8941-3EC0E9DF30DD', 'C9CB60C2-46E0-4FDC-B2A5-73318344E4C9', '173879C4-4FDB-4521-A60D-5B102B3781B2', '8C536493-14B8-41D0-8EE4-CAE4DFF33839', 'A98417B1-4A7F-484F-97C8-9B91F29A26F1', 'D186291A-2487-45AE-83C7-651C7C71D41E', 'BE3F4495-1AC4-4A36-A529-40A6A740F58C', '08848DC6-BB11-4647-9C21-475BAD66A8B8', 'E062E187-F149-4555-8E27-2EE0C9D75274', '958C1DE5-2FA9-4051-8827-8681C4E7AFF6', 'F20F52DF-B0B1-4615-B9D3-AC669CE18454', '34A04257-8486-40AC-BE74-4022F7D395E4', '8A62F620-7C58-4662-AE5C-F41F5E3F0022', '67A2574B-8146-464D-B93C-B9FCBCE913BC']\",\n",
      "        \"NormalEnergizingSubstation\": \"ed5fc824-37f7-4cd0-9308-0f5a1aecbcf6\"\n",
      "    }\n",
      "}\n"
     ]
    }
   ],
   "source": [
    "# Print feeder info\n",
    "network.get_all_edges(cim.Feeder)\n",
    "network.pprint(cim.Feeder)"
   ]
  },
  {
   "cell_type": "code",
   "execution_count": 78,
   "metadata": {},
   "outputs": [
    {
     "name": "stdout",
     "output_type": "stream",
     "text": [
      "total load is 6937.0 kW\n"
     ]
    }
   ],
   "source": [
    "# Print total load served by substation from both feeders\n",
    "total_load = 0\n",
    "network.get_all_edges(cim.EnergyConsumer)\n",
    "for load in network.graph[cim.EnergyConsumer].values():\n",
    "    total_load = total_load + float(load.p)\n",
    "\n",
    "print(f'total load is {total_load/1000} kW')"
   ]
  },
  {
   "cell_type": "markdown",
   "metadata": {},
   "source": [
    "As part of the round-trip test, it is also possible to merge the substation and both feeders into a single XML file "
   ]
  },
  {
   "cell_type": "code",
   "execution_count": 79,
   "metadata": {},
   "outputs": [],
   "source": [
    "utils.get_all_data(network)\n",
    "utils.write_xml(network, '../test_output/breaker_half_and_feeders.xml')"
   ]
  }
 ],
 "metadata": {
  "kernelspec": {
   "display_name": "Python 3 (ipykernel)",
   "language": "python",
   "name": "python3"
  },
  "language_info": {
   "codemirror_mode": {
    "name": "ipython",
    "version": 3
   },
   "file_extension": ".py",
   "mimetype": "text/x-python",
   "name": "python",
   "nbconvert_exporter": "python",
   "pygments_lexer": "ipython3",
   "version": "3.10.12"
  }
 },
 "nbformat": 4,
 "nbformat_minor": 4
}
