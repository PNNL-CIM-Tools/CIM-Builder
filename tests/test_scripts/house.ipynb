{
 "cells": [
  {
   "cell_type": "code",
   "execution_count": 1,
   "metadata": {},
   "outputs": [],
   "source": [
    "from cimbuilder.object_builder.new_house import estimate_num_houses\n",
    "from cimbuilder.object_builder.new_house import new_house"
   ]
  },
  {
   "cell_type": "code",
   "execution_count": 2,
   "metadata": {},
   "outputs": [],
   "source": [
    "from cimgraph.databases.fileparsers import XMLFile\n",
    "from cimgraph.databases import ConnectionParameters\n",
    "from cimgraph.models import FeederModel, GraphModel\n",
    "import cimgraph.data_profile.cimhub_2023 as cim \n",
    "import cimgraph.utils as utils"
   ]
  },
  {
   "cell_type": "code",
   "execution_count": 3,
   "metadata": {},
   "outputs": [],
   "source": [
    "params = ConnectionParameters(filename=\"/home/ande188/CIM-Graph/tests/test_models/ieee13.xml\", cim_profile='cimhub_2023', iec61970_301=8)\n",
    "xml_file = XMLFile(params)\n",
    "feeder_mrid = \"49AD8E07-3BF9-A4E2-CB8F-C3722F837B62\"\n",
    "feeder = cim.Feeder(mRID = feeder_mrid, name = 'ieee13')\n",
    "feeder_model = FeederModel(connection=xml_file, container=feeder, distributed=False)"
   ]
  },
  {
   "cell_type": "code",
   "execution_count": 4,
   "metadata": {},
   "outputs": [],
   "source": [
    "def search_by_value(network:GraphModel, class_type:type, attribute:str, value) -> object:\n",
    "    for uuid in network.graph.get(class_type, {}):\n",
    "        if getattr(feeder_model.graph[class_type][uuid], attribute) == value:\n",
    "            return network.graph[class_type][uuid]\n"
   ]
  },
  {
   "cell_type": "code",
   "execution_count": 5,
   "metadata": {},
   "outputs": [
    {
     "data": {
      "text/plain": [
       "{'identifier': UUID('32f02d2b-ee6e-4d3f-8486-1b5caef70204'),\n",
       " 'mRID': '32F02D2B-EE6E-4D3F-8486-1B5CAEF70204',\n",
       " 'aliasName': None,\n",
       " 'description': None,\n",
       " 'name': 'house',\n",
       " 'Names': [],\n",
       " 'AssetDatasheet': None,\n",
       " 'Assets': [],\n",
       " 'Controls': [],\n",
       " 'Location': {\"@id\": \"0c4d68bf-ac73-45c8-b2bd-ff3bfbcd20e1\", \"@type\": \"Location\"},\n",
       " 'Measurements': [],\n",
       " 'PSRType': None,\n",
       " 'aggregate': None,\n",
       " 'inService': None,\n",
       " 'networkAnalysisEnabled': None,\n",
       " 'normallyInService': None,\n",
       " 'AdditionalEquipmentContainer': [],\n",
       " 'EquipmentContainer': {\"@id\": \"49ad8e07-3bf9-a4e2-cb8f-c3722f837b62\", \"@type\": \"Feeder\"},\n",
       " 'OperationalLimitSet': [],\n",
       " 'SubSchedulingArea': None,\n",
       " 'BaseVoltage': {\"@id\": \"d5404a34-509a-41b1-8caa-44712a11f6c6\", \"@type\": \"BaseVoltage\"},\n",
       " 'Terminals': [{\"@id\": \"2128bb42-3e2d-490a-a29d-05549e81f25d\", \"@type\": \"Terminal\"}],\n",
       " 'EnergyConnectionProfile': None,\n",
       " 'customerCount': 1,\n",
       " 'grounded': True,\n",
       " 'p': 5000.0,\n",
       " 'phaseConnection': <PhaseShuntConnectionKind.Y: 'Y'>,\n",
       " 'q': 3098.7217,\n",
       " 'EnergyConsumerPhase': [{\"@id\": \"780517f3-5a91-48dc-86c3-5576bc7f1035\", \"@type\": \"EnergyConsumerPhase\"},\n",
       "  {\"@id\": \"4416af89-168b-4e3d-a0a9-ed52d8209b97\", \"@type\": \"EnergyConsumerPhase\"}],\n",
       " 'House': None,\n",
       " 'LoadResponse': {\"@id\": \"76011aca-ee17-4d61-8224-6bdbbc8ffb97\", \"@type\": \"LoadResponseCharacteristic\"},\n",
       " 'PowerCutZone': None,\n",
       " '__uuid__': <cimgraph.data_profile.cimhub_2023.cimhub_2023.Identity.__uuid_meta__ at 0x7f4ca61af130>}"
      ]
     },
     "execution_count": 5,
     "metadata": {},
     "output_type": "execute_result"
    }
   ],
   "source": [
    "load = search_by_value(feeder_model, cim.EnergyConsumer, 'name', 'house')\n",
    "load.__dict__"
   ]
  },
  {
   "cell_type": "code",
   "execution_count": 6,
   "metadata": {},
   "outputs": [
    {
     "data": {
      "text/plain": [
       "5882.352945382561"
      ]
     },
     "execution_count": 6,
     "metadata": {},
     "output_type": "execute_result"
    }
   ],
   "source": [
    "import math\n",
    "mag_s = math.sqrt(load.p * load.p + load.q * load.q)\n",
    "mag_s"
   ]
  },
  {
   "cell_type": "code",
   "execution_count": 8,
   "metadata": {},
   "outputs": [],
   "source": [
    "import requests\n",
    "import json\n",
    "url = 'https://raw.githubusercontent.com/GRIDAPPSD/CIMHub/refs/heads/feature/SETO/src_python/cimhub/eia_recs/housing_data.json'\n",
    "try:\n",
    "    # Send a GET request to the URL\n",
    "    response = requests.get(url)\n",
    "    \n",
    "    # Check if the request was successful\n",
    "    response.raise_for_status()\n",
    "    \n",
    "    # Load the JSON data from the response\n",
    "    housing_data = response.json()\n",
    "    \n",
    "    # # Process the JSON data as needed\n",
    "    # print(\"Successfully read JSON data:\")\n",
    "    # print(json.dumps(data, indent=4))  # Pretty print the JSON data\n",
    "    \n",
    "    # return data\n",
    "except requests.exceptions.RequestException as e:\n",
    "    print(f\"HTTP request error: {e}\")\n",
    "except json.JSONDecodeError as e:\n",
    "    print(f\"JSON decoding error: {e}\")"
   ]
  },
  {
   "cell_type": "code",
   "execution_count": 13,
   "metadata": {},
   "outputs": [
    {
     "data": {
      "text/plain": [
       "10.654021247399436"
      ]
     },
     "execution_count": 13,
     "metadata": {},
     "output_type": "execute_result"
    }
   ],
   "source": [
    "estimate_num_houses(housing_data['marine'], mag_s, 10)"
   ]
  },
  {
   "cell_type": "code",
   "execution_count": 12,
   "metadata": {},
   "outputs": [
    {
     "data": {
      "text/plain": [
       "dict_keys(['marine', 'cold/very cold', 'hot-dry/mixed-dry', 'mixed-humid', 'hot-humid'])"
      ]
     },
     "execution_count": 12,
     "metadata": {},
     "output_type": "execute_result"
    }
   ],
   "source": [
    "housing_data.keys()"
   ]
  },
  {
   "cell_type": "code",
   "execution_count": 14,
   "metadata": {},
   "outputs": [
    {
     "name": "stdout",
     "output_type": "stream",
     "text": [
      "1155000.0\n",
      "160000.0\n",
      "120000.0\n",
      "120000.0\n",
      "170000.0\n",
      "230000.0\n",
      "170000.0\n",
      "485000.0\n",
      "68000.0\n",
      "290000.0\n",
      "170000.0\n",
      "128000.0\n",
      "17000.0\n",
      "66000.0\n",
      "117000.0\n",
      "5000.0\n"
     ]
    }
   ],
   "source": [
    "for load in feeder_model.graph[cim.EnergyConsumer].values():\n",
    "    print(load.p)"
   ]
  },
  {
   "cell_type": "code",
   "execution_count": null,
   "metadata": {},
   "outputs": [],
   "source": []
  }
 ],
 "metadata": {
  "kernelspec": {
   "display_name": ".venv",
   "language": "python",
   "name": "python3"
  },
  "language_info": {
   "codemirror_mode": {
    "name": "ipython",
    "version": 3
   },
   "file_extension": ".py",
   "mimetype": "text/x-python",
   "name": "python",
   "nbconvert_exporter": "python",
   "pygments_lexer": "ipython3",
   "version": "3.10.12"
  }
 },
 "nbformat": 4,
 "nbformat_minor": 2
}
