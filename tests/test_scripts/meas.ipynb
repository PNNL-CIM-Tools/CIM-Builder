{
 "cells": [
  {
   "cell_type": "code",
   "execution_count": 1,
   "metadata": {},
   "outputs": [],
   "source": [
    "from cimgraph.databases.fileparsers import XMLFile\n",
    "from cimgraph.databases import ConnectionParameters\n",
    "from cimgraph.models import FeederModel\n",
    "import cimgraph.data_profile.cimhub_2023 as cim \n",
    "import cimgraph.utils as utils"
   ]
  },
  {
   "cell_type": "code",
   "execution_count": 2,
   "metadata": {},
   "outputs": [],
   "source": [
    "params = ConnectionParameters(filename=\"/home/ande188/CIM-Graph/tests/test_models/ieee13.xml\", cim_profile='cimhub_2023', iec61970_301=8)\n",
    "xml_file = XMLFile(params)\n",
    "feeder_mrid = \"49AD8E07-3BF9-A4E2-CB8F-C3722F837B62\"\n",
    "feeder = cim.Feeder(mRID = feeder_mrid, name = 'ieee13')\n",
    "feeder_model = FeederModel(connection=xml_file, container=feeder, distributed=False)"
   ]
  },
  {
   "cell_type": "code",
   "execution_count": 3,
   "metadata": {},
   "outputs": [],
   "source": [
    "from cimbuilder.feeder_builder.insert_measurements import create_all_discrete_measurements\n",
    "from cimbuilder.feeder_builder.insert_measurements import create_all_analog_measurements"
   ]
  },
  {
   "cell_type": "code",
   "execution_count": 4,
   "metadata": {},
   "outputs": [],
   "source": [
    "discretes = create_all_discrete_measurements(feeder_model)\n",
    "utils.write_xml(discretes, 'discretes.xml')\n",
    "# discretes.connection"
   ]
  },
  {
   "cell_type": "code",
   "execution_count": 5,
   "metadata": {},
   "outputs": [],
   "source": [
    "analogs = create_all_analog_measurements(feeder_model)\n",
    "utils.write_xml(analogs, 'analogs.xml')"
   ]
  },
  {
   "cell_type": "code",
   "execution_count": 6,
   "metadata": {},
   "outputs": [
    {
     "name": "stdout",
     "output_type": "stream",
     "text": [
      "HTTP/1.1 100 Continue\n",
      "\n",
      "HTTP/1.1 200 OK\n",
      "Content-Type: application/xml;charset=iso-8859-1\n",
      "Content-Length: 62\n",
      "Server: Jetty(9.4.18.v20190429)\n",
      "\n",
      "<?xml version=\"1.0\"?><data modified=\"3392\" milliseconds=\"25\"/>HTTP/1.1 100 Continue\n",
      "\n",
      "HTTP/1.1 200 OK\n",
      "Content-Type: application/xml;charset=iso-8859-1\n",
      "Content-Length: 61\n",
      "Server: Jetty(9.4.18.v20190429)\n",
      "\n",
      "<?xml version=\"1.0\"?><data modified=\"561\" milliseconds=\"11\"/>HTTP/1.1 100 Continue\n",
      "\n",
      "HTTP/1.1 200 OK\n",
      "Content-Type: application/xml;charset=iso-8859-1\n",
      "Content-Length: 59\n",
      "Server: Jetty(9.4.18.v20190429)\n",
      "\n",
      "<?xml version=\"1.0\"?><data modified=\"99\" milliseconds=\"8\"/>"
     ]
    }
   ],
   "source": [
    "from cimloader.databases import ConnectionParameters\n",
    "from cimloader.databases import BlazegraphConnection\n",
    "from cimloader.uploaders import BlazegraphUploader\n",
    "\n",
    "params = ConnectionParameters(url = \"http://localhost:8889/bigdata/namespace/kb/sparql\")\n",
    "blazegraph = BlazegraphConnection(params)\n",
    "loader = BlazegraphUploader(params)\n",
    "\n",
    "blazegraph.drop_all()\n",
    "loader.upload_from_file(filepath=\"/home/ande188/CIM-Graph/tests/test_models\", filename=\"ieee13.xml\")\n",
    "\n",
    "loader.upload_from_file(filepath='./', filename='analogs.xml')\n",
    "loader.upload_from_file(filepath='./', filename='discretes.xml')\n"
   ]
  }
 ],
 "metadata": {
  "kernelspec": {
   "display_name": ".venv",
   "language": "python",
   "name": "python3"
  },
  "language_info": {
   "codemirror_mode": {
    "name": "ipython",
    "version": 3
   },
   "file_extension": ".py",
   "mimetype": "text/x-python",
   "name": "python",
   "nbconvert_exporter": "python",
   "pygments_lexer": "ipython3",
   "version": "3.10.12"
  }
 },
 "nbformat": 4,
 "nbformat_minor": 2
}
