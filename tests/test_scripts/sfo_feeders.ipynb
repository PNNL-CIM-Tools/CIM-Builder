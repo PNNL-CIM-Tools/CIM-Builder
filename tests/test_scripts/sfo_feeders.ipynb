{
 "cells": [
  {
   "cell_type": "code",
   "execution_count": null,
   "metadata": {},
   "outputs": [],
   "source": []
  },
  {
   "cell_type": "markdown",
   "metadata": {},
   "source": [
    "----"
   ]
  },
  {
   "cell_type": "markdown",
   "metadata": {},
   "source": [
    "### Import CIMantic Graphs Library and CIM profile"
   ]
  },
  {
   "cell_type": "markdown",
   "metadata": {},
   "source": [
    "The CIMantic Graphs library can be installed using `pip install cim-graph` and imported into any script:"
   ]
  },
  {
   "cell_type": "code",
   "execution_count": 1,
   "metadata": {},
   "outputs": [],
   "source": [
    "# Import transmission and distribution modeling classes\n",
    "from cimgraph.models import FeederModel, NodeBreakerModel\n",
    "from cimgraph.databases import ConnectionParameters\n",
    "from cimgraph.databases import RDFlibConnection\n",
    "# import cimgraph.utils as utils\n",
    "import cimbuilder.utils as utils"
   ]
  },
  {
   "cell_type": "markdown",
   "metadata": {},
   "source": [
    "CIMantic Graphs can support multiple CIM profiles, so it is necessary to specify which one to use. This demonstration will use the extensions from CIMHub feature/SETO, which is derived from CIM17V38."
   ]
  },
  {
   "cell_type": "code",
   "execution_count": 2,
   "metadata": {},
   "outputs": [],
   "source": [
    "# Specify CIM Profile\n",
    "import importlib\n",
    "cim_profile = 'cimhub_2023'\n",
    "cim = importlib.import_module('cimgraph.data_profile.' + cim_profile)"
   ]
  },
  {
   "cell_type": "markdown",
   "metadata": {},
   "source": [
    "To create a new model \"from scratch\", no filename or databased is specified. This connection object contains all information regarding the CIM version, serilaization format, etc."
   ]
  },
  {
   "cell_type": "code",
   "execution_count": 3,
   "metadata": {},
   "outputs": [],
   "source": [
    "# Create an empty connection for new file\n",
    "params = ConnectionParameters(filename=None,\n",
    "                              cim_profile=cim_profile, iec61970_301=8)\n",
    "connection = RDFlibConnection(params)"
   ]
  },
  {
   "cell_type": "markdown",
   "metadata": {},
   "source": [
    "For this demonstration, the IEEE 13 and IEEE 13 assets feeders will be used to populate each substation. It is possible to load these files from a database, or open them directly from the XML using CIMantic Graphs. Since end-users of the Grid Atlas may not have a database, the feeders will be loaded from the standalone files:"
   ]
  },
  {
   "cell_type": "code",
   "execution_count": 4,
   "metadata": {},
   "outputs": [],
   "source": [
    "# # Import 13 bus model from XML file\n",
    "# SFO1_feeder = cim.Feeder(mRID = 'accdf54c-c90c-4c41-9d7a-5e5d3d17a4e5')\n",
    "# params = ConnectionParameters(filename='../test_models/accdf54c-c90c-4c41-9d7a-5e5d3d17a4e5.xml',\n",
    "#                                cim_profile=cim_profile, iec61970_301=8)\n",
    "# SFO1_connection = RDFlibConnection(params)\n",
    "# SFO1_network = FeederModel(connection=SFO1_connection, container=SFO1_feeder,\n",
    "#                               distributed=False)\n"
   ]
  },
  {
   "cell_type": "code",
   "execution_count": 5,
   "metadata": {},
   "outputs": [],
   "source": [
    "\n",
    "# SFO2_feeder = cim.Feeder(mRID = 'bcbcaeb9-5209-49c0-b85b-417d76618ac3')\n",
    "# params = ConnectionParameters(filename='../test_models/bcbcaeb9-5209-49c0-b85b-417d76618ac3.xml', \n",
    "#                               cim_profile=cim_profile, iec61970_301=8)\n",
    "# SFO2_connection = RDFlibConnection(params)\n",
    "# SFO2_network = FeederModel(connection=SFO2_connection, container=SFO2_feeder,\n",
    "#                                 distributed=False)\n"
   ]
  },
  {
   "cell_type": "code",
   "execution_count": null,
   "metadata": {},
   "outputs": [],
   "source": []
  },
  {
   "cell_type": "code",
   "execution_count": null,
   "metadata": {},
   "outputs": [],
   "source": []
  },
  {
   "cell_type": "code",
   "execution_count": null,
   "metadata": {},
   "outputs": [],
   "source": []
  },
  {
   "cell_type": "markdown",
   "metadata": {},
   "source": [
    "For this demonstration, the Blazegraph database used by GridAPPS-D will be used for roundtrip testing. During these tests, each of the substation models developed for Grid Atlas will be added to the database. Connectivity and total load within the test feeders will be queried through a simple test.\n",
    "\n",
    "To connect to the database, we will establish two connections. The first will be used for database bulk upload using the CIM-Loader library previously developed for Grid Atlas. The second will be used for automated database queries using CIMantic Graphs."
   ]
  },
  {
   "cell_type": "code",
   "execution_count": 6,
   "metadata": {},
   "outputs": [],
   "source": [
    "# # Connection to Blazegraph Database for CIM-Loader\n",
    "# from cimloader.databases.blazegraph import BlazegraphConnection as BlazegraphLoader\n",
    "# params = ConnectionParameters(url = \"http://localhost:8889/bigdata/namespace/kb/sparql\",\n",
    "#                                cim_profile=cim_profile, iec61970_301=8)\n",
    "# bg_loader = BlazegraphLoader(params)"
   ]
  },
  {
   "cell_type": "code",
   "execution_count": 7,
   "metadata": {},
   "outputs": [],
   "source": [
    "# # Connection to Blazegraph Database for CIMantic Graphs\n",
    "# from cimgraph.databases import BlazegraphConnection as BlazegraphConnection\n",
    "# params = ConnectionParameters(url = \"http://localhost:8889/bigdata/namespace/kb/sparql\",\n",
    "#                                cim_profile=cim_profile, iec61970_301=8)\n",
    "# blazegraph = BlazegraphConnection(params)"
   ]
  },
  {
   "cell_type": "markdown",
   "metadata": {},
   "source": [
    "### Create New Main-and-Transfer Substation"
   ]
  },
  {
   "cell_type": "markdown",
   "metadata": {},
   "source": [
    "To create a new Main and Transfer substation, we import the associated class from the `substation_builder` module in CIM-Builder:"
   ]
  },
  {
   "cell_type": "code",
   "execution_count": 8,
   "metadata": {},
   "outputs": [],
   "source": [
    "from cimbuilder.substation_builder import MainAndTransferSubstation"
   ]
  },
  {
   "cell_type": "markdown",
   "metadata": {},
   "source": [
    "To create a new substation, the class is instantiated with the name of the substation and base voltage. If the substation is not being added to an existing network, a new `DistributedArea` will be created to contain the substation."
   ]
  },
  {
   "cell_type": "code",
   "execution_count": 9,
   "metadata": {},
   "outputs": [],
   "source": [
    "main_transfer = MainAndTransferSubstation(connection=connection,\n",
    "                                       name=\"combined_sub\", \n",
    "                                       base_voltage = 69000)\n",
    "substation = main_transfer.substation"
   ]
  },
  {
   "cell_type": "code",
   "execution_count": null,
   "metadata": {},
   "outputs": [],
   "source": []
  },
  {
   "cell_type": "code",
   "execution_count": null,
   "metadata": {},
   "outputs": [],
   "source": []
  },
  {
   "cell_type": "code",
   "execution_count": 10,
   "metadata": {},
   "outputs": [],
   "source": [
    "# xfmr_id = cim.Feeder(mRID = 'B4AF9D95-FD3D-483A-A556-3497A2C912D6')\n",
    "# params = ConnectionParameters(filename='../test_models/sample_xfmr_69_12kv.xml', \n",
    "#                               cim_profile=cim_profile, iec61970_301=8)\n",
    "# xfmr_connection = RDFlibConnection(params)\n",
    "# xfmr = FeederModel(connection=xfmr_connection, container=xfmr_id,\n",
    "#                                 distributed=False)"
   ]
  },
  {
   "cell_type": "code",
   "execution_count": 11,
   "metadata": {},
   "outputs": [],
   "source": [
    "# xfmr.get_all_edges(cim.PowerTransformerEnd)\n",
    "# xfmr.pprint(cim.PowerTransformerEnd)"
   ]
  },
  {
   "cell_type": "code",
   "execution_count": null,
   "metadata": {},
   "outputs": [],
   "source": []
  },
  {
   "cell_type": "code",
   "execution_count": null,
   "metadata": {},
   "outputs": [],
   "source": []
  },
  {
   "cell_type": "code",
   "execution_count": null,
   "metadata": {},
   "outputs": [],
   "source": []
  },
  {
   "cell_type": "code",
   "execution_count": null,
   "metadata": {},
   "outputs": [],
   "source": []
  },
  {
   "cell_type": "markdown",
   "metadata": {},
   "source": [
    "### Create New Sectionalized Bus"
   ]
  },
  {
   "cell_type": "markdown",
   "metadata": {},
   "source": [
    "To create a new Sectionalized-Bus substation, we import the associated class from the `substation_builder` module in CIM-Builder:"
   ]
  },
  {
   "cell_type": "code",
   "execution_count": 12,
   "metadata": {},
   "outputs": [],
   "source": [
    "from cimbuilder.substation_builder import SectionalizedBusSubstation"
   ]
  },
  {
   "cell_type": "markdown",
   "metadata": {},
   "source": [
    "To create a new substation, the class is instantiated with the name of the substation and base voltage. If the substation is not being added to an existing network, a new `DistributedArea` will be created to contain the substation. The total number of bus sections is specified by `total_sections` with a default value of two bus sections."
   ]
  },
  {
   "cell_type": "code",
   "execution_count": 13,
   "metadata": {},
   "outputs": [],
   "source": [
    "sectionalized = SectionalizedBusSubstation(connection=connection,\n",
    "                                        name=\"sectionalized_bus\", \n",
    "                                        base_voltage = 69000,\n",
    "                                        total_sections = 2,\n",
    "                                        substation = substation)"
   ]
  },
  {
   "cell_type": "code",
   "execution_count": 14,
   "metadata": {},
   "outputs": [],
   "source": [
    "import cimbuilder.object_builder as object_builder"
   ]
  },
  {
   "cell_type": "code",
   "execution_count": 15,
   "metadata": {},
   "outputs": [],
   "source": [
    "high_side_1 = main_transfer.new_branch(series_number=1)\n",
    "low_side_1 = sectionalized.new_branch(section_number=1, series_number=1)\n",
    "\n",
    "transformer = object_builder.new_power_transformer(network=main_transfer.network,\n",
    ")"
   ]
  },
  {
   "cell_type": "code",
   "execution_count": null,
   "metadata": {},
   "outputs": [],
   "source": []
  },
  {
   "cell_type": "code",
   "execution_count": null,
   "metadata": {},
   "outputs": [],
   "source": []
  },
  {
   "cell_type": "code",
   "execution_count": null,
   "metadata": {},
   "outputs": [],
   "source": []
  },
  {
   "cell_type": "markdown",
   "metadata": {},
   "source": [
    "To add a feeder to the new substation, the `.new_feeder()` method is called. The `section_number` is used to identify the bus section to which the feeder should be connected. The arguments `feeder` and `feeder_network` are used for the CIM feeder object and the CIMantic Graphs network model.\n",
    "\n",
    "The function call below will automatically insert the IEEE 13 and IEEE 13 Assets feeders into the new substation:"
   ]
  },
  {
   "cell_type": "code",
   "execution_count": 16,
   "metadata": {},
   "outputs": [
    {
     "ename": "NameError",
     "evalue": "name 'SubBuilder' is not defined",
     "output_type": "error",
     "traceback": [
      "\u001b[0;31m---------------------------------------------------------------------------\u001b[0m",
      "\u001b[0;31mNameError\u001b[0m                                 Traceback (most recent call last)",
      "Cell \u001b[0;32mIn[16], line 1\u001b[0m\n\u001b[0;32m----> 1\u001b[0m \u001b[43mSubBuilder\u001b[49m\u001b[38;5;241m.\u001b[39mnew_feeder(section_number \u001b[38;5;241m=\u001b[39m \u001b[38;5;241m1\u001b[39m, feeder\u001b[38;5;241m=\u001b[39mieee13_feeder,\n\u001b[1;32m      2\u001b[0m                        feeder_network\u001b[38;5;241m=\u001b[39mieee13_network)\n\u001b[1;32m      3\u001b[0m SubBuilder\u001b[38;5;241m.\u001b[39mnew_feeder(section_number \u001b[38;5;241m=\u001b[39m \u001b[38;5;241m2\u001b[39m, feeder\u001b[38;5;241m=\u001b[39massets13_feeder,\n\u001b[1;32m      4\u001b[0m                       feeder_network\u001b[38;5;241m=\u001b[39massets13_network)\n",
      "\u001b[0;31mNameError\u001b[0m: name 'SubBuilder' is not defined"
     ]
    }
   ],
   "source": [
    "SubBuilder.new_feeder(section_number = 1, feeder=ieee13_feeder,\n",
    "                       feeder_network=ieee13_network)\n",
    "SubBuilder.new_feeder(section_number = 2, feeder=assets13_feeder,\n",
    "                      feeder_network=assets13_network)"
   ]
  },
  {
   "cell_type": "markdown",
   "metadata": {},
   "source": [
    "To check whether the feeders have been added successfully, it is possible to use the CIMantic Graphs `.pprint(cim.ClassName)` method to print all instances of Substation and Feeder objects."
   ]
  },
  {
   "cell_type": "code",
   "execution_count": null,
   "metadata": {},
   "outputs": [],
   "source": [
    "# Print substation data using names\n",
    "SubBuilder.network.pprint(cim.Substation, use_names = True)\n",
    "# Print feeder data\n",
    "SubBuilder.network.pprint(cim.Feeder)"
   ]
  },
  {
   "cell_type": "markdown",
   "metadata": {},
   "source": [
    "The CIMantic Graphs `utils` package can be used to save the substation to an XML file for further use. "
   ]
  },
  {
   "cell_type": "code",
   "execution_count": null,
   "metadata": {},
   "outputs": [],
   "source": [
    "utils.write_xml(SubBuilder.network, '../test_output/sectionalized.xml')"
   ]
  },
  {
   "cell_type": "markdown",
   "metadata": {},
   "source": [
    "The final verification that the substation has been created and can be successfully used with the network models Round-Trip Test: \n",
    "1) Delete all old models from the database\n",
    "2) Load the new substation and feeder CIM XML files\n",
    "3) Obtain all data for feeders contained by the subustation"
   ]
  },
  {
   "cell_type": "code",
   "execution_count": null,
   "metadata": {},
   "outputs": [],
   "source": [
    "# Delete all CIM triples from database\n",
    "blazegraph.execute('drop all')"
   ]
  },
  {
   "cell_type": "code",
   "execution_count": null,
   "metadata": {},
   "outputs": [],
   "source": [
    "# Upload new models into the database\n",
    "bg_loader.upload_from_file(filename='../test_models/IEEE13.xml')\n",
    "bg_loader.upload_from_file(filename='../test_models/IEEE13_Assets.xml')\n",
    "bg_loader.upload_from_file(filename='../test_output/sectionalized.xml')"
   ]
  },
  {
   "cell_type": "markdown",
   "metadata": {},
   "source": [
    "To verify that all feeder data can be obtained, we create a new CIMantic Graphs model and then query for the classes Substation and Feeder. We can also obtain the total amount of aggregate load from both feeders that are served by the substation."
   ]
  },
  {
   "cell_type": "code",
   "execution_count": null,
   "metadata": {},
   "outputs": [],
   "source": [
    "network = NodeBreakerModel(container=substation, connection=blazegraph, distributed = False)"
   ]
  },
  {
   "cell_type": "code",
   "execution_count": null,
   "metadata": {},
   "outputs": [],
   "source": [
    "# Print substation info\n",
    "network.get_all_edges(cim.Substation)\n",
    "network.pprint(cim.Substation)"
   ]
  },
  {
   "cell_type": "code",
   "execution_count": null,
   "metadata": {},
   "outputs": [],
   "source": [
    "# Print feeder info\n",
    "network.get_all_edges(cim.Feeder)\n",
    "network.pprint(cim.Feeder)"
   ]
  },
  {
   "cell_type": "code",
   "execution_count": null,
   "metadata": {},
   "outputs": [],
   "source": [
    "# Print total load served by substation from both feeders\n",
    "total_load = 0\n",
    "network.get_all_edges(cim.EnergyConsumer)\n",
    "for load in network.graph[cim.EnergyConsumer].values():\n",
    "    total_load = total_load + float(load.p)\n",
    "\n",
    "print(f'total load is {total_load/1000} kW')"
   ]
  },
  {
   "cell_type": "markdown",
   "metadata": {},
   "source": [
    "As part of the round-trip test, it is also possible to merge the substation and both feeders into a single XML file "
   ]
  },
  {
   "cell_type": "code",
   "execution_count": null,
   "metadata": {},
   "outputs": [],
   "source": [
    "utils.get_all_data(network)\n",
    "utils.write_xml(network, '../test_output/sectionalized_and_feeders.xml')"
   ]
  },
  {
   "cell_type": "code",
   "execution_count": null,
   "metadata": {},
   "outputs": [],
   "source": []
  }
 ],
 "metadata": {
  "kernelspec": {
   "display_name": ".venv",
   "language": "python",
   "name": "python3"
  },
  "language_info": {
   "codemirror_mode": {
    "name": "ipython",
    "version": 3
   },
   "file_extension": ".py",
   "mimetype": "text/x-python",
   "name": "python",
   "nbconvert_exporter": "python",
   "pygments_lexer": "ipython3",
   "version": "3.10.12"
  }
 },
 "nbformat": 4,
 "nbformat_minor": 2
}
