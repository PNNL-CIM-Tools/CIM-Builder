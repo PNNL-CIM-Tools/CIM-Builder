{
 "cells": [
  {
   "cell_type": "markdown",
   "metadata": {},
   "source": [
    "# Main-and-Transfer Substation Test"
   ]
  },
  {
   "cell_type": "markdown",
   "metadata": {},
   "source": [
    "## Create a New Substation"
   ]
  },
  {
   "cell_type": "markdown",
   "metadata": {},
   "source": [
    "### Import CIMantic Graphs Library and CIM profile"
   ]
  },
  {
   "cell_type": "code",
   "execution_count": 1,
   "metadata": {},
   "outputs": [],
   "source": [
    "# Import transmission and distribution modeling classes\n",
    "from cimgraph.models import FeederModel, NodeBreakerModel\n",
    "from cimgraph.databases import ConnectionParameters, RDFlibConnection, BlazegraphConnection\n",
    "import cimgraph.utils as utils\n",
    "\n",
    "import importlib\n",
    "\n",
    "cim_profile = 'cimhub_2023'\n",
    "cim = importlib.import_module('cimgraph.data_profile.' + cim_profile)\n",
    "\n",
    "params = ConnectionParameters(filename=None, cim_profile=cim_profile, iec61970_301=8)\n",
    "connection = RDFlibConnection(params)"
   ]
  },
  {
   "cell_type": "markdown",
   "metadata": {},
   "source": [
    "### Create New Main-and-Transfer Substation"
   ]
  },
  {
   "cell_type": "code",
   "execution_count": 2,
   "metadata": {},
   "outputs": [],
   "source": [
    "from cimbuilder.substation_builder import MainAndTransferSubstation"
   ]
  },
  {
   "cell_type": "code",
   "execution_count": 3,
   "metadata": {},
   "outputs": [],
   "source": [
    "SubBuilder = MainAndTransferSubstation(connection=connection, name=\"main_transfer_sub\", base_voltage = 11500)\n",
    "substation = SubBuilder.substation"
   ]
  },
  {
   "cell_type": "markdown",
   "metadata": {},
   "source": [
    "### Add IEEE 13 Feeder and IEEE 13 Assets Feeder to substation"
   ]
  },
  {
   "cell_type": "code",
   "execution_count": 4,
   "metadata": {},
   "outputs": [],
   "source": [
    "# Import 13 bus model from XML file\n",
    "ieee13_feeder = cim.Feeder(mRID = '49AD8E07-3BF9-A4E2-CB8F-C3722F837B62')\n",
    "params = ConnectionParameters(filename='../test_models/IEEE13.xml', cim_profile=cim_profile, iec61970_301=8)\n",
    "connection = RDFlibConnection(params)\n",
    "ieee13_network = FeederModel(connection=connection, container=ieee13_feeder, distributed=False)\n"
   ]
  },
  {
   "cell_type": "code",
   "execution_count": 5,
   "metadata": {},
   "outputs": [],
   "source": [
    "\n",
    "assets13_feeder = cim.Feeder(mRID = '5B816B93-7A5F-B64C-8460-47C17D6E4B0F')\n",
    "params = ConnectionParameters(filename='../test_models/IEEE13_Assets.xml', cim_profile=cim_profile, iec61970_301=8)\n",
    "connection = RDFlibConnection(params)\n",
    "assets13_network = FeederModel(connection=connection, container=assets13_feeder, distributed=False)\n"
   ]
  },
  {
   "cell_type": "code",
   "execution_count": 6,
   "metadata": {},
   "outputs": [],
   "source": [
    "SubBuilder.new_main_trans_feeder(series_number = 10, feeder=ieee13_feeder, feeder_network=ieee13_network)\n",
    "SubBuilder.new_main_trans_feeder(series_number = 20, feeder=assets13_feeder, feeder_network=assets13_network)"
   ]
  },
  {
   "cell_type": "code",
   "execution_count": 7,
   "metadata": {},
   "outputs": [
    {
     "name": "stdout",
     "output_type": "stream",
     "text": [
      "{\n",
      "    \"f6b9d448-7b02-43a0-91e6-bf83cda64c56\": {\n",
      "        \"mRID\": \"f6b9d448-7b02-43a0-91e6-bf83cda64c56\",\n",
      "        \"name\": \"main_transfer_sub\"\n",
      "    }\n",
      "}\n",
      "{\n",
      "    \"49AD8E07-3BF9-A4E2-CB8F-C3722F837B62\": {\n",
      "        \"mRID\": \"49AD8E07-3BF9-A4E2-CB8F-C3722F837B62\",\n",
      "        \"name\": \"ieee13nodeckt\",\n",
      "        \"Location\": \"8E4E3C92-0B7A-4F74-8FD2-CC10F74E452F\",\n",
      "        \"ConnectivityNodes\": \"['673E896A-DCBF-4E43-9924-BEB31C5B6005', 'A8A25B50-3AE3-4A31-A18B-B3FA13397ED3', '421E99BE-A834-4809-B924-84D88F634A45', '2A6DC4DD-D3DC-434D-A187-D2C58A0A72C8', '7BEDDADD-0A14-429F-8601-9EA8B892CA6E', '63DFBEA0-CD06-4D2E-B956-DF9517BE057B', '30BE5988-DE57-4E0C-AB08-50D5A13D2C1B', '0124E881-B82D-4206-BBDF-37D585159872', 'C6256170-E6ED-4F91-8EBD-748090C3FDD5', '0A98A62D-7642-4F03-8317-A8605CBDBA37', '04984C4D-CC29-477A-9AF4-61AC7D74F16F', '0DCC57AF-F4FA-457D-BB24-2EFDA9865A1A', 'E5B2888B-B60D-4DA6-A4F7-17EB849D28B2', '6CB5E5CE-2CD0-40CC-A979-B4F9ED05E49B', '8E99F99D-FE8F-420B-AC49-0B52DF5362AB', 'DC889FA5-7B28-4273-A1D7-205BE3E0BFED', '94F822E0-7130-4205-8597-B47110BBEF4B', 'ADDB7A30-5A3C-4179-AF5D-5C9A7213B0E7', '8C58660F-C62C-4903-BE72-22F1255B1E62', '76D6D03C-967C-4E12-836D-A98DF3552BC7', '0F1E28C3-6C44-4F88-B79C-2FDBCA4487B2', 'DBFA8EFA-B397-40DA-9642-60E8DE4B3471']\",\n",
      "        \"Equipments\": \"['60B55036-DD71-40CE-ADDA-97B8CE7447DC', '52DE9189-20DC-4C73-BDEE-E960FE1F9493', '8E180773-2A9B-4136-BC9A-132A52C8E276', '259E820F-B4AF-4E1A-8271-687534EDAECC', '3FFFB3F7-A7AF-49E1-ACEE-449FC73D3CD6', 'ABF877D7-DAC2-4BF0-AB58-9A8A02E92EB3', '32F02D2B-EE6E-4D3F-8486-1B5CAEF70204', 'D34B0D01-B082-4081-A3CC-B68B9B8313A4', 'C39149DE-3451-4D33-B4C2-B1E6C6FC9AAB', 'A04CDFB1-E951-4FC4-8882-0323CD70AE3C', 'ABF53597-A808-422A-B7EE-552F24D83A5F', 'FBE26B35-13AB-457D-9795-DF58B28E309D', '45395C84-F20A-4F5A-977F-B80348256421', 'CE5D0651-676B-4AF3-8D67-41BF1B33E30C', '67B57539-590B-4158-9CBB-9DBA2FE6C1F0', 'A9E8758B-5486-4798-8FBA-9AE639ABFC38', '517413CB-6977-46FA-8911-C82332E42884', 'A9DE8829-58CB-4750-B2A2-672846A89753', '9CAAF741-BE1E-4893-8044-1E507B7DDC38', 'B21C5599-1D00-4FCF-904B-58D9D4CAC49A', 'B6363F07-B1BC-420B-AA4C-A34BB8F05827', '1E6B5C97-C4E8-4CED-B9A5-6E69F389DA93', 'E2E0FC64-8D45-4C55-BDB9-EAB827A46FBC', '4C04F838-62AA-475E-AEFA-A63B7C889C13', '7060D0BB-B30D-4932-8FA1-40820A0FC4D0', '8B452737-CA3D-4C10-A99D-6865506437C8', '7FF12CEF-1C4D-4CD2-8FCC-662530A7BA33', '44FC5A86-A099-45B8-B847-F685C5027AFB', '3B2021A7-4BFC-418D-9C20-BD6838E52CF8', 'D2E930A7-B136-4ACA-A996-8DB5C60AADF3', '1C6781A2-5B9D-4525-8A9B-F9B32C4C4AC0', '682AB7A9-4FBF-4204-BDE1-27EAB3425DA0', '8CA46F28-84C0-4FE2-B228-EC4080777865', '7B671984-4C56-4FF1-9733-B4B6FCA5F2AA', '9D725810-BFD6-44C6-961A-2BC027F6FC95', 'E503BBF8-3C82-4DF7-B6E9-2488ECFCC847', '47E52220-4596-4AF0-9724-0167B72A4DB8', '17A934C7-1510-481F-BAD7-189058957FF1', '91A37B4C-C38B-4269-8467-F40870934386', '0BBD0EA3-F665-465B-86FD-FC8B8466AD53', '8E34333C-2BB8-4631-B072-383F1CA38F60', '0BC9183A-9067-4E06-AA5B-48DC2AB30C80', '572BCFC9-E1D6-4419-9A33-EDD284806AF3', '2858B6C2-0886-4269-884C-06FA8B887319', 'CEC0FC3A-0FD1-4F1C-9C51-7D9BEF4D8222', '43EF8365-F932-409B-A51E-FBED3F6DFFAA', 'E26D83A0-D29D-41EF-9528-02C882FFCC0D', '70188FF4-04F0-48D2-8706-698D1FD086E6']\",\n",
      "        \"NormalEnergizingSubstation\": \"f6b9d448-7b02-43a0-91e6-bf83cda64c56\"\n",
      "    },\n",
      "    \"5B816B93-7A5F-B64C-8460-47C17D6E4B0F\": {\n",
      "        \"mRID\": \"5B816B93-7A5F-B64C-8460-47C17D6E4B0F\",\n",
      "        \"name\": \"ieee13nodecktassets\",\n",
      "        \"Location\": \"E8CC2D43-FB22-4798-AA57-09F1CDB77C00\",\n",
      "        \"ConnectivityNodes\": \"['09A37A19-DF0E-48F3-92E9-10FA62A08120', 'E14BD0DF-466D-487B-8786-0D46515D1F9B', '7326FB57-9839-4AE6-9F3D-B5660C58A7BA', '04006A64-109D-499D-8496-1B55907C1570', 'DFA687CB-83D6-4FD0-8007-657A3E1819F6', 'CB29A4D1-EE08-4AAF-82F6-3C178009EBC0', '22B55260-79B0-4DF5-A070-AFEDAFA299D4', 'B7E4EF30-D95D-4C8E-829B-F75FB0FDBEAD', 'BDCA9F2B-81A8-4969-AE86-B9D5DC399F51', '4163D7DE-898A-4241-93E0-F3FC49F1F714', '249A3E8C-0128-4DE2-92EA-112B44080BF2', '348C3A23-B2F4-4101-9A6C-AF8DEF97DD4C', '3E259C63-39CC-4B6C-9C4A-1B29A5C83840', '560E1C31-EE5C-4BFD-A0B6-F4E8D60E2C76', '61D2A727-4D2E-45F9-8A94-C42B38FFF029', 'DC7FBBF3-1456-4B9C-8983-9E3D4FA9D95B']\",\n",
      "        \"Equipments\": \"['4774208A-B9AB-4051-8BC9-4F7C8EA6552A', '603106B5-1DC7-40B1-A264-98774F6FD16D', '6964DE20-CC96-473D-BB0F-73CD8ACAED2D', '928BCF3C-276A-4E74-A4AE-C3C79D624F5F', '2EB647F9-B8F8-4659-9D2D-3515563030EB', 'F229083B-D5FC-40F0-BFE0-9E92C8C69574', '819CA18E-54AA-42D5-B069-F1AC831D926E', 'C28BFD4B-C7D1-49AD-BAA6-E06CB0856A72', 'EF316EA5-74D3-4209-89EA-BF8FAAC2BAF6', '28456F60-7196-47E4-9BE6-54F7EAABC04A', 'F3D41D9D-9606-4277-A336-69D7048301AF', '6A7D7AF8-A0F7-41B6-BB0C-160EAE054DEA', '4FE57842-43D5-4EBB-8FF1-795E6FE1C507', '7E0E4F76-E0FD-4BB5-BB58-BC5B05A5A59A', '16861155-E2D2-4E9C-8FCA-50EA820E96D0', '46479235-D5D9-4CE8-9F7C-C78426691797', '6EBB2188-CBE1-4FEC-9406-83DE8E61F9CB', '6BC92BAB-B1C8-49C5-87B3-126BBCDC46D5', '73E02C20-7DB0-4825-84C1-E58DB8C296BF', '6DEF3353-8276-402F-AC8E-3DEF4A396FFE', '8A0CF414-3240-47D1-AB8F-998165BA092E', 'EBD2AE36-04A5-4EA9-836F-12F9D3CCB777', 'F841F05A-E047-491F-BF7B-C71283C653D6', '4E1B3F09-CB88-4A5E-8198-24490EE7FC58', '6ECF60CD-E1E5-4C59-8941-3EC0E9DF30DD', 'C9CB60C2-46E0-4FDC-B2A5-73318344E4C9', '173879C4-4FDB-4521-A60D-5B102B3781B2', '8C536493-14B8-41D0-8EE4-CAE4DFF33839', 'A98417B1-4A7F-484F-97C8-9B91F29A26F1', 'D186291A-2487-45AE-83C7-651C7C71D41E', 'BE3F4495-1AC4-4A36-A529-40A6A740F58C', '08848DC6-BB11-4647-9C21-475BAD66A8B8', 'E062E187-F149-4555-8E27-2EE0C9D75274', '958C1DE5-2FA9-4051-8827-8681C4E7AFF6', 'F20F52DF-B0B1-4615-B9D3-AC669CE18454', '34A04257-8486-40AC-BE74-4022F7D395E4', '8A62F620-7C58-4662-AE5C-F41F5E3F0022', '67A2574B-8146-464D-B93C-B9FCBCE913BC']\",\n",
      "        \"NormalEnergizingSubstation\": \"f6b9d448-7b02-43a0-91e6-bf83cda64c56\"\n",
      "    }\n",
      "}\n"
     ]
    }
   ],
   "source": [
    "SubBuilder.network.pprint(cim.Substation)\n",
    "SubBuilder.network.pprint(cim.Feeder)"
   ]
  },
  {
   "cell_type": "markdown",
   "metadata": {},
   "source": [
    "### Save Substation to XML File"
   ]
  },
  {
   "cell_type": "code",
   "execution_count": 8,
   "metadata": {},
   "outputs": [],
   "source": [
    "utils.write_xml(SubBuilder.network, '../test_output/main_and_transfer.xml')"
   ]
  },
  {
   "cell_type": "markdown",
   "metadata": {},
   "source": [
    "## Round-Trip Test: Load and Read from Database"
   ]
  },
  {
   "cell_type": "markdown",
   "metadata": {},
   "source": [
    "### Delete all old entries from database and load new models"
   ]
  },
  {
   "cell_type": "code",
   "execution_count": 9,
   "metadata": {},
   "outputs": [
    {
     "name": "stderr",
     "output_type": "stream",
     "text": [
      "/home/ande188/CIM-Builder/.venv/lib/python3.10/site-packages/SPARQLWrapper/Wrapper.py:1215: RuntimeWarning: unknown response content type 'text/html;charset=utf-8' returning raw response...\n",
      "  warnings.warn(\n"
     ]
    },
    {
     "data": {
      "text/plain": [
       "b'<!DOCTYPE HTML PUBLIC \"-//W3C//DTD HTML 4.01 Transitional//EN\" \"http://www.w3.org/TR/html4/loose.dtd\"><html><head><meta http-equiv=\"Content-Type\" content=\"text&#47;html;charset=UTF-8\"><title>blazegraph&trade; by SYSTAP</title\\n></head\\n><body<p>totalElapsed=20ms, elapsed=20ms, connFlush=0ms, batchResolve=0, whereClause=0ms, deleteClause=0ms, insertClause=0ms</p\\n><hr><p>COMMIT: totalElapsed=35ms, commitTime=1707879336481, mutationCount=6671</p\\n></html\\n>'"
      ]
     },
     "execution_count": 9,
     "metadata": {},
     "output_type": "execute_result"
    }
   ],
   "source": [
    "# Connect to Blazegraph Database\n",
    "from cimgraph.databases import BlazegraphConnection\n",
    "params = ConnectionParameters(url = \"http://localhost:8889/bigdata/namespace/kb/sparql\", cim_profile=cim_profile, iec61970_301=8)\n",
    "blazegraph = BlazegraphConnection(params)\n",
    "blazegraph.execute('drop all')"
   ]
  },
  {
   "cell_type": "code",
   "execution_count": 10,
   "metadata": {},
   "outputs": [],
   "source": [
    "from cimloader.databases.blazegraph import BlazegraphConnection as BlazegraphLoader\n",
    "params = ConnectionParameters(url = \"http://localhost:8889/bigdata/namespace/kb/sparql\", cim_profile=cim_profile, iec61970_301=8)\n",
    "loader = BlazegraphLoader(params)"
   ]
  },
  {
   "cell_type": "code",
   "execution_count": 11,
   "metadata": {},
   "outputs": [
    {
     "name": "stdout",
     "output_type": "stream",
     "text": [
      "HTTP/1.1 100 Continue\n",
      "\n",
      "HTTP/1.1 200 OK\n",
      "Content-Type: application/xml;charset=iso-8859-1\n",
      "Content-Length: 62\n",
      "Server: Jetty(9.4.18.v20190429)\n",
      "\n",
      "<?xml version=\"1.0\"?><data modified=\"3392\" milliseconds=\"31\"/>HTTP/1.1 100 Continue\n",
      "\n",
      "HTTP/1.1 200 OK\n",
      "Content-Type: application/xml;charset=iso-8859-1\n",
      "Content-Length: 62\n",
      "Server: Jetty(9.4.18.v20190429)\n",
      "\n",
      "<?xml version=\"1.0\"?><data modified=\"2927\" milliseconds=\"30\"/>HTTP/1.1 100 Continue\n",
      "\n",
      "HTTP/1.1 200 OK\n",
      "Content-Type: application/xml;charset=iso-8859-1\n",
      "Content-Length: 61\n",
      "Server: Jetty(9.4.18.v20190429)\n",
      "\n",
      "<?xml version=\"1.0\"?><data modified=\"282\" milliseconds=\"15\"/>"
     ]
    }
   ],
   "source": [
    "loader.upload_from_file(filename='../test_models/IEEE13.xml')\n",
    "loader.upload_from_file(filename='../test_models/IEEE13_Assets.xml')\n",
    "loader.upload_from_file(filename='../test_output/main_and_transfer.xml')"
   ]
  },
  {
   "cell_type": "markdown",
   "metadata": {},
   "source": [
    "### Create new NodeBreakerModel of Substation + Feeders"
   ]
  },
  {
   "cell_type": "code",
   "execution_count": 12,
   "metadata": {},
   "outputs": [],
   "source": [
    "network = NodeBreakerModel(container=substation, connection=blazegraph, distributed = False)"
   ]
  },
  {
   "cell_type": "code",
   "execution_count": 13,
   "metadata": {},
   "outputs": [
    {
     "name": "stdout",
     "output_type": "stream",
     "text": [
      "{\n",
      "    \"f6b9d448-7b02-43a0-91e6-bf83cda64c56\": {\n",
      "        \"mRID\": \"f6b9d448-7b02-43a0-91e6-bf83cda64c56\",\n",
      "        \"name\": \"main_transfer_sub\",\n",
      "        \"ConnectivityNodes\": \"['94443d21-e85e-4173-a88e-ba7a3efaebc8', 'bda6fb7e-dd5b-4152-b28e-39c3ad9f9ed1', 'c77dee68-e288-4a49-97a4-94e33fbb2a20', 'd24f2202-d426-465f-84e8-96182c9be202', 'f03b9ff5-f4e7-4a44-bbc7-9026558bcb2d', '68160a60-8614-40ef-8832-c9923b2e69c7']\",\n",
      "        \"Equipments\": \"['8234de63-5b09-47de-afd0-b75876469820', '9561c211-e340-4b5d-9a47-ed435b1ff0ee', '9d32aa41-4451-458a-9818-b6c830b4e2f7', 'bb17b4c2-d17b-4861-809d-bdc31619185d', 'c061bd3b-ce62-4b58-905a-a10b9c8604c7', 'e541844f-41b6-4bd2-b138-cf5d2c42c81f', 'e7de501d-8f29-478f-9613-dca16cd9fe7f', 'ee23fd98-c6ae-4ea0-97a3-50804c0955c0', 'ee7f94aa-d0cd-4c4b-b661-66b558e09179', '0453c689-ca50-44b0-82a9-47ff0f64bc54', '13a4de9b-00b3-41c4-bbde-0c775c3e0ea4', '37e48b0d-f6f9-4974-8b61-05e339f606c9', '6d8b2c22-8ae1-47e6-b66c-ee414304950b']\",\n",
      "        \"NormalEnergizedFeeder\": \"['49AD8E07-3BF9-A4E2-CB8F-C3722F837B62', '5B816B93-7A5F-B64C-8460-47C17D6E4B0F']\"\n",
      "    }\n",
      "}\n"
     ]
    }
   ],
   "source": [
    "# Print substation info\n",
    "network.get_all_edges(cim.Substation)\n",
    "network.pprint(cim.Substation)"
   ]
  },
  {
   "cell_type": "code",
   "execution_count": 14,
   "metadata": {},
   "outputs": [
    {
     "name": "stdout",
     "output_type": "stream",
     "text": [
      "{\n",
      "    \"49AD8E07-3BF9-A4E2-CB8F-C3722F837B62\": {\n",
      "        \"mRID\": \"49AD8E07-3BF9-A4E2-CB8F-C3722F837B62\",\n",
      "        \"name\": \"ieee13nodeckt\",\n",
      "        \"Location\": \"8E4E3C92-0B7A-4F74-8FD2-CC10F74E452F\",\n",
      "        \"ConnectivityNodes\": \"['0DCC57AF-F4FA-457D-BB24-2EFDA9865A1A', '0F1E28C3-6C44-4F88-B79C-2FDBCA4487B2', '2A6DC4DD-D3DC-434D-A187-D2C58A0A72C8', '30BE5988-DE57-4E0C-AB08-50D5A13D2C1B', '421E99BE-A834-4809-B924-84D88F634A45', '63DFBEA0-CD06-4D2E-B956-DF9517BE057B', '673E896A-DCBF-4E43-9924-BEB31C5B6005', '6CB5E5CE-2CD0-40CC-A979-B4F9ED05E49B', '76D6D03C-967C-4E12-836D-A98DF3552BC7', '7BEDDADD-0A14-429F-8601-9EA8B892CA6E', '8C58660F-C62C-4903-BE72-22F1255B1E62', '8E99F99D-FE8F-420B-AC49-0B52DF5362AB', '94F822E0-7130-4205-8597-B47110BBEF4B', 'A8A25B50-3AE3-4A31-A18B-B3FA13397ED3', 'ADDB7A30-5A3C-4179-AF5D-5C9A7213B0E7', 'C6256170-E6ED-4F91-8EBD-748090C3FDD5', 'DBFA8EFA-B397-40DA-9642-60E8DE4B3471', 'DC889FA5-7B28-4273-A1D7-205BE3E0BFED', 'E5B2888B-B60D-4DA6-A4F7-17EB849D28B2', '0124E881-B82D-4206-BBDF-37D585159872', '04984C4D-CC29-477A-9AF4-61AC7D74F16F', '0A98A62D-7642-4F03-8317-A8605CBDBA37']\",\n",
      "        \"Equipments\": \"['0BC9183A-9067-4E06-AA5B-48DC2AB30C80', '17A934C7-1510-481F-BAD7-189058957FF1', '1C6781A2-5B9D-4525-8A9B-F9B32C4C4AC0', '1E6B5C97-C4E8-4CED-B9A5-6E69F389DA93', '259E820F-B4AF-4E1A-8271-687534EDAECC', '2858B6C2-0886-4269-884C-06FA8B887319', '32F02D2B-EE6E-4D3F-8486-1B5CAEF70204', '3B2021A7-4BFC-418D-9C20-BD6838E52CF8', '3FFFB3F7-A7AF-49E1-ACEE-449FC73D3CD6', '43EF8365-F932-409B-A51E-FBED3F6DFFAA', '44FC5A86-A099-45B8-B847-F685C5027AFB', '45395C84-F20A-4F5A-977F-B80348256421', '47E52220-4596-4AF0-9724-0167B72A4DB8', '4C04F838-62AA-475E-AEFA-A63B7C889C13', '517413CB-6977-46FA-8911-C82332E42884', '52DE9189-20DC-4C73-BDEE-E960FE1F9493', '572BCFC9-E1D6-4419-9A33-EDD284806AF3', '60B55036-DD71-40CE-ADDA-97B8CE7447DC', '67B57539-590B-4158-9CBB-9DBA2FE6C1F0', '682AB7A9-4FBF-4204-BDE1-27EAB3425DA0', '70188FF4-04F0-48D2-8706-698D1FD086E6', '7060D0BB-B30D-4932-8FA1-40820A0FC4D0', '7B671984-4C56-4FF1-9733-B4B6FCA5F2AA', '7FF12CEF-1C4D-4CD2-8FCC-662530A7BA33', '8B452737-CA3D-4C10-A99D-6865506437C8', '8CA46F28-84C0-4FE2-B228-EC4080777865', '8E180773-2A9B-4136-BC9A-132A52C8E276', '8E34333C-2BB8-4631-B072-383F1CA38F60', '91A37B4C-C38B-4269-8467-F40870934386', '9CAAF741-BE1E-4893-8044-1E507B7DDC38', '9D725810-BFD6-44C6-961A-2BC027F6FC95', 'A04CDFB1-E951-4FC4-8882-0323CD70AE3C', 'A9DE8829-58CB-4750-B2A2-672846A89753', 'A9E8758B-5486-4798-8FBA-9AE639ABFC38', 'ABF53597-A808-422A-B7EE-552F24D83A5F', 'ABF877D7-DAC2-4BF0-AB58-9A8A02E92EB3', 'B21C5599-1D00-4FCF-904B-58D9D4CAC49A', 'B6363F07-B1BC-420B-AA4C-A34BB8F05827', 'C39149DE-3451-4D33-B4C2-B1E6C6FC9AAB', 'CE5D0651-676B-4AF3-8D67-41BF1B33E30C', 'CEC0FC3A-0FD1-4F1C-9C51-7D9BEF4D8222', 'D2E930A7-B136-4ACA-A996-8DB5C60AADF3', 'D34B0D01-B082-4081-A3CC-B68B9B8313A4', 'E26D83A0-D29D-41EF-9528-02C882FFCC0D', 'E2E0FC64-8D45-4C55-BDB9-EAB827A46FBC', 'E503BBF8-3C82-4DF7-B6E9-2488ECFCC847', 'FBE26B35-13AB-457D-9795-DF58B28E309D', '0BBD0EA3-F665-465B-86FD-FC8B8466AD53']\",\n",
      "        \"NormalEnergizingSubstation\": \"f6b9d448-7b02-43a0-91e6-bf83cda64c56\"\n",
      "    },\n",
      "    \"5B816B93-7A5F-B64C-8460-47C17D6E4B0F\": {\n",
      "        \"mRID\": \"5B816B93-7A5F-B64C-8460-47C17D6E4B0F\",\n",
      "        \"name\": \"ieee13nodecktassets\",\n",
      "        \"Location\": \"E8CC2D43-FB22-4798-AA57-09F1CDB77C00\",\n",
      "        \"ConnectivityNodes\": \"['249A3E8C-0128-4DE2-92EA-112B44080BF2', '348C3A23-B2F4-4101-9A6C-AF8DEF97DD4C', '3E259C63-39CC-4B6C-9C4A-1B29A5C83840', '4163D7DE-898A-4241-93E0-F3FC49F1F714', '560E1C31-EE5C-4BFD-A0B6-F4E8D60E2C76', '61D2A727-4D2E-45F9-8A94-C42B38FFF029', '7326FB57-9839-4AE6-9F3D-B5660C58A7BA', '22B55260-79B0-4DF5-A070-AFEDAFA299D4', 'B7E4EF30-D95D-4C8E-829B-F75FB0FDBEAD', 'BDCA9F2B-81A8-4969-AE86-B9D5DC399F51', 'CB29A4D1-EE08-4AAF-82F6-3C178009EBC0', 'DC7FBBF3-1456-4B9C-8983-9E3D4FA9D95B', 'DFA687CB-83D6-4FD0-8007-657A3E1819F6', 'E14BD0DF-466D-487B-8786-0D46515D1F9B', '04006A64-109D-499D-8496-1B55907C1570', '09A37A19-DF0E-48F3-92E9-10FA62A08120']\",\n",
      "        \"Equipments\": \"['16861155-E2D2-4E9C-8FCA-50EA820E96D0', '28456F60-7196-47E4-9BE6-54F7EAABC04A', '2EB647F9-B8F8-4659-9D2D-3515563030EB', '34A04257-8486-40AC-BE74-4022F7D395E4', '46479235-D5D9-4CE8-9F7C-C78426691797', '4774208A-B9AB-4051-8BC9-4F7C8EA6552A', '4E1B3F09-CB88-4A5E-8198-24490EE7FC58', '4FE57842-43D5-4EBB-8FF1-795E6FE1C507', '603106B5-1DC7-40B1-A264-98774F6FD16D', '67A2574B-8146-464D-B93C-B9FCBCE913BC', '6964DE20-CC96-473D-BB0F-73CD8ACAED2D', '6A7D7AF8-A0F7-41B6-BB0C-160EAE054DEA', '6BC92BAB-B1C8-49C5-87B3-126BBCDC46D5', '6DEF3353-8276-402F-AC8E-3DEF4A396FFE', '6EBB2188-CBE1-4FEC-9406-83DE8E61F9CB', '6ECF60CD-E1E5-4C59-8941-3EC0E9DF30DD', '73E02C20-7DB0-4825-84C1-E58DB8C296BF', '7E0E4F76-E0FD-4BB5-BB58-BC5B05A5A59A', '173879C4-4FDB-4521-A60D-5B102B3781B2', '819CA18E-54AA-42D5-B069-F1AC831D926E', '8A0CF414-3240-47D1-AB8F-998165BA092E', '8A62F620-7C58-4662-AE5C-F41F5E3F0022', '8C536493-14B8-41D0-8EE4-CAE4DFF33839', '928BCF3C-276A-4E74-A4AE-C3C79D624F5F', '958C1DE5-2FA9-4051-8827-8681C4E7AFF6', 'A98417B1-4A7F-484F-97C8-9B91F29A26F1', 'BE3F4495-1AC4-4A36-A529-40A6A740F58C', 'C28BFD4B-C7D1-49AD-BAA6-E06CB0856A72', 'C9CB60C2-46E0-4FDC-B2A5-73318344E4C9', 'D186291A-2487-45AE-83C7-651C7C71D41E', 'E062E187-F149-4555-8E27-2EE0C9D75274', 'EBD2AE36-04A5-4EA9-836F-12F9D3CCB777', 'EF316EA5-74D3-4209-89EA-BF8FAAC2BAF6', 'F20F52DF-B0B1-4615-B9D3-AC669CE18454', 'F229083B-D5FC-40F0-BFE0-9E92C8C69574', 'F3D41D9D-9606-4277-A336-69D7048301AF', 'F841F05A-E047-491F-BF7B-C71283C653D6', '08848DC6-BB11-4647-9C21-475BAD66A8B8']\",\n",
      "        \"NormalEnergizingSubstation\": \"f6b9d448-7b02-43a0-91e6-bf83cda64c56\"\n",
      "    }\n",
      "}\n"
     ]
    }
   ],
   "source": [
    "# Print feeder info\n",
    "network.get_all_edges(cim.Feeder)\n",
    "network.pprint(cim.Feeder)"
   ]
  },
  {
   "cell_type": "code",
   "execution_count": 15,
   "metadata": {},
   "outputs": [
    {
     "name": "stdout",
     "output_type": "stream",
     "text": [
      "total load is 6937.0 kW\n"
     ]
    }
   ],
   "source": [
    "# Print total load served by substation from both feeders\n",
    "total_load = 0\n",
    "network.get_all_edges(cim.EnergyConsumer)\n",
    "for load in network.graph[cim.EnergyConsumer].values():\n",
    "    total_load = total_load + float(load.p)\n",
    "\n",
    "print(f'total load is {total_load/1000} kW')"
   ]
  },
  {
   "cell_type": "markdown",
   "metadata": {},
   "source": [
    "### Merge substation and feeders into a single XML file "
   ]
  },
  {
   "cell_type": "code",
   "execution_count": 16,
   "metadata": {},
   "outputs": [],
   "source": [
    "utils.get_all_data(network)"
   ]
  },
  {
   "cell_type": "code",
   "execution_count": 17,
   "metadata": {},
   "outputs": [],
   "source": [
    "utils.write_xml(network, '../test_output/main_transfer_and_feeders.xml')\n"
   ]
  },
  {
   "cell_type": "code",
   "execution_count": null,
   "metadata": {},
   "outputs": [],
   "source": []
  }
 ],
 "metadata": {
  "kernelspec": {
   "display_name": ".venv",
   "language": "python",
   "name": "python3"
  },
  "language_info": {
   "codemirror_mode": {
    "name": "ipython",
    "version": 3
   },
   "file_extension": ".py",
   "mimetype": "text/x-python",
   "name": "python",
   "nbconvert_exporter": "python",
   "pygments_lexer": "ipython3",
   "version": "3.10.12"
  }
 },
 "nbformat": 4,
 "nbformat_minor": 2
}
