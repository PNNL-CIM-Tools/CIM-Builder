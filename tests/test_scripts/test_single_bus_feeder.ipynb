{
 "cells": [
  {
   "cell_type": "code",
   "execution_count": 30,
   "metadata": {},
   "outputs": [],
   "source": [
    "# Import transmission and distribution modeling classes\n",
    "from cimgraph.models import FeederModel, NodeBreakerModel\n",
    "from cimgraph.databases import ConnectionParameters, RDFlibConnection, BlazegraphConnection\n",
    "import cimgraph.utils as utils\n",
    "\n",
    "import importlib"
   ]
  },
  {
   "cell_type": "code",
   "execution_count": 31,
   "metadata": {},
   "outputs": [],
   "source": [
    "cim_profile = 'cimhub_2023'\n",
    "cim = importlib.import_module('cimgraph.data_profile.' + cim_profile)"
   ]
  },
  {
   "cell_type": "code",
   "execution_count": 32,
   "metadata": {},
   "outputs": [],
   "source": [
    "params = ConnectionParameters(filename=None, cim_profile=cim_profile, iec61970_301=8)\n",
    "connection = RDFlibConnection(params)"
   ]
  },
  {
   "cell_type": "code",
   "execution_count": 33,
   "metadata": {},
   "outputs": [],
   "source": [
    "from cimbuilder.substation_builder import SingleBusSubstation"
   ]
  },
  {
   "cell_type": "code",
   "execution_count": 34,
   "metadata": {},
   "outputs": [],
   "source": [
    "SubBuilder = SingleBusSubstation(connection=connection, name=\"single_sub\", base_voltage=115000)\n",
    "substation = SubBuilder.substation\n"
   ]
  },
  {
   "cell_type": "code",
   "execution_count": 35,
   "metadata": {},
   "outputs": [],
   "source": [
    "# Import 13 bus model from XML file\n",
    "ieee13_feeder = cim.Feeder(mRID = '49AD8E07-3BF9-A4E2-CB8F-C3722F837B62')\n",
    "params = ConnectionParameters(filename='../test_models/IEEE13.xml', cim_profile=cim_profile, iec61970_301=8)\n",
    "connection = RDFlibConnection(params)\n",
    "ieee13_network = FeederModel(connection=connection, container=ieee13_feeder, distributed=False)"
   ]
  },
  {
   "cell_type": "code",
   "execution_count": 36,
   "metadata": {},
   "outputs": [],
   "source": [
    "\n",
    "assets13_feeder = cim.Feeder(mRID = '5B816B93-7A5F-B64C-8460-47C17D6E4B0F')\n",
    "params = ConnectionParameters(filename='../test_models/IEEE13_Assets.xml', cim_profile=cim_profile, iec61970_301=8)\n",
    "connection = RDFlibConnection(params)\n",
    "assets13_network = FeederModel(connection=connection, container=assets13_feeder, distributed=False)"
   ]
  },
  {
   "cell_type": "code",
   "execution_count": 37,
   "metadata": {},
   "outputs": [],
   "source": [
    "SubBuilder.new_single_bus_feeder(series_number= 10, feeder=ieee13_feeder, feeder_network=ieee13_network)\n",
    "SubBuilder.new_single_bus_feeder(series_number = 20, feeder=assets13_feeder, feeder_network=assets13_network)"
   ]
  },
  {
   "cell_type": "code",
   "execution_count": 38,
   "metadata": {},
   "outputs": [
    {
     "name": "stdout",
     "output_type": "stream",
     "text": [
      "{\n",
      "    \"4d01cb86-0940-4310-b563-acc5fc94cf89\": {\n",
      "        \"mRID\": \"4d01cb86-0940-4310-b563-acc5fc94cf89\",\n",
      "        \"name\": \"single_sub\"\n",
      "    }\n",
      "}\n"
     ]
    }
   ],
   "source": [
    "SubBuilder.network.pprint(cim.Substation)"
   ]
  },
  {
   "cell_type": "code",
   "execution_count": 39,
   "metadata": {},
   "outputs": [
    {
     "name": "stdout",
     "output_type": "stream",
     "text": [
      "{\n",
      "    \"49AD8E07-3BF9-A4E2-CB8F-C3722F837B62\": {\n",
      "        \"mRID\": \"49AD8E07-3BF9-A4E2-CB8F-C3722F837B62\",\n",
      "        \"NormalEnergizingSubstation\": \"4d01cb86-0940-4310-b563-acc5fc94cf89\"\n",
      "    },\n",
      "    \"5B816B93-7A5F-B64C-8460-47C17D6E4B0F\": {\n",
      "        \"mRID\": \"5B816B93-7A5F-B64C-8460-47C17D6E4B0F\",\n",
      "        \"NormalEnergizingSubstation\": \"4d01cb86-0940-4310-b563-acc5fc94cf89\"\n",
      "    }\n",
      "}\n"
     ]
    }
   ],
   "source": [
    "SubBuilder.network.pprint(cim.Feeder)"
   ]
  },
  {
   "cell_type": "code",
   "execution_count": 40,
   "metadata": {},
   "outputs": [],
   "source": [
    "utils.write_xml(SubBuilder.network, '../test_output/single_bus.xml')"
   ]
  },
  {
   "cell_type": "code",
   "execution_count": 41,
   "metadata": {},
   "outputs": [
    {
     "name": "stderr",
     "output_type": "stream",
     "text": [
      "/home/singha42/.cache/pypoetry/virtualenvs/cim-builder-hXthbBAa-py3.10/lib/python3.10/site-packages/SPARQLWrapper/Wrapper.py:1215: RuntimeWarning: unknown response content type 'text/html;charset=utf-8' returning raw response...\n",
      "  warnings.warn(\n"
     ]
    },
    {
     "data": {
      "text/plain": [
       "b'<!DOCTYPE HTML PUBLIC \"-//W3C//DTD HTML 4.01 Transitional//EN\" \"http://www.w3.org/TR/html4/loose.dtd\"><html><head><meta http-equiv=\"Content-Type\" content=\"text&#47;html;charset=UTF-8\"><title>blazegraph&trade; by SYSTAP</title\\n></head\\n><body<p>totalElapsed=22ms, elapsed=22ms, connFlush=0ms, batchResolve=0, whereClause=0ms, deleteClause=0ms, insertClause=0ms</p\\n><hr><p>COMMIT: totalElapsed=33ms, commitTime=1708361486211, mutationCount=6461</p\\n></html\\n>'"
      ]
     },
     "execution_count": 41,
     "metadata": {},
     "output_type": "execute_result"
    }
   ],
   "source": [
    "# Connect to Blazegraph Database\n",
    "from cimgraph.databases import BlazegraphConnection\n",
    "params = ConnectionParameters(url = \"http://localhost:8889/bigdata/namespace/kb/sparql\", cim_profile=cim_profile, iec61970_301=8)\n",
    "blazegraph = BlazegraphConnection(params)\n",
    "blazegraph.execute('drop all')"
   ]
  },
  {
   "cell_type": "code",
   "execution_count": 42,
   "metadata": {},
   "outputs": [],
   "source": [
    "from cimloader.databases.blazegraph import BlazegraphConnection as BlazegraphLoader\n",
    "params = ConnectionParameters(url = \"http://localhost:8889/bigdata/namespace/kb/sparql\", cim_profile=cim_profile, iec61970_301=8)\n",
    "loader = BlazegraphLoader(params)"
   ]
  },
  {
   "cell_type": "code",
   "execution_count": 43,
   "metadata": {},
   "outputs": [
    {
     "name": "stdout",
     "output_type": "stream",
     "text": [
      "HTTP/1.1 100 Continue\n",
      "\n",
      "HTTP/1.1 200 OK\n",
      "Content-Type: application/xml;charset=iso-8859-1\n",
      "Content-Length: 62\n",
      "Server: Jetty(9.4.18.v20190429)\n",
      "\n",
      "<?xml version=\"1.0\"?><data modified=\"3392\" milliseconds=\"32\"/>HTTP/1.1 100 Continue\n",
      "\n",
      "HTTP/1.1 200 OK\n",
      "Content-Type: application/xml;charset=iso-8859-1\n",
      "Content-Length: 62\n",
      "Server: Jetty(9.4.18.v20190429)\n",
      "\n",
      "<?xml version=\"1.0\"?><data modified=\"2927\" milliseconds=\"32\"/>HTTP/1.1 100 Continue\n",
      "\n",
      "HTTP/1.1 200 OK\n",
      "Content-Type: application/xml;charset=iso-8859-1\n",
      "Content-Length: 61\n",
      "Server: Jetty(9.4.18.v20190429)\n",
      "\n",
      "<?xml version=\"1.0\"?><data modified=\"169\" milliseconds=\"20\"/>"
     ]
    }
   ],
   "source": [
    "loader.upload_from_file(filename='../test_models/IEEE13.xml')\n",
    "loader.upload_from_file(filename='../test_models/IEEE13_Assets.xml')\n",
    "loader.upload_from_file(filename='../test_output/single_bus.xml')"
   ]
  },
  {
   "cell_type": "code",
   "execution_count": 44,
   "metadata": {},
   "outputs": [],
   "source": [
    "network = NodeBreakerModel(container=substation, connection=blazegraph, distributed = False)"
   ]
  },
  {
   "cell_type": "code",
   "execution_count": 45,
   "metadata": {},
   "outputs": [
    {
     "name": "stdout",
     "output_type": "stream",
     "text": [
      "{\n",
      "    \"4d01cb86-0940-4310-b563-acc5fc94cf89\": {\n",
      "        \"mRID\": \"4d01cb86-0940-4310-b563-acc5fc94cf89\",\n",
      "        \"name\": \"single_sub\",\n",
      "        \"ConnectivityNodes\": \"['8a202d3d-ceba-44b6-9136-28877e0ad723', '96ba62d1-9c3b-4534-99d9-dba8a24d235f', 'a2ed531b-d3c1-4fa0-adf5-26384e95d2fe', 'ad5a2893-d25e-49a4-ac30-df79fcbb4c90', 'c32fac81-02bc-4cb0-b125-4c70ac8948f2']\",\n",
      "        \"Equipments\": \"['89c21593-2639-444f-a01f-06703b4adeed', 'b826bdb2-4ee1-4cb7-a468-3baf60f3a897', 'c0986538-9262-4cef-9e0d-7b0ad6bb9863', '17a5fe81-9c43-43e3-b854-f693e0a61aab', '22dd107d-8a44-438a-bdb1-cb0468d7b213', '4934db02-6744-409f-9404-196abe62baff', '4b5fd476-3173-41fe-9317-1fa25bef79da']\",\n",
      "        \"NormalEnergizedFeeder\": \"['49AD8E07-3BF9-A4E2-CB8F-C3722F837B62', '5B816B93-7A5F-B64C-8460-47C17D6E4B0F']\"\n",
      "    }\n",
      "}\n"
     ]
    }
   ],
   "source": [
    "# Print substation info\n",
    "network.get_all_edges(cim.Substation)\n",
    "network.pprint(cim.Substation)"
   ]
  },
  {
   "cell_type": "code",
   "execution_count": 46,
   "metadata": {},
   "outputs": [
    {
     "name": "stdout",
     "output_type": "stream",
     "text": [
      "{\n",
      "    \"49AD8E07-3BF9-A4E2-CB8F-C3722F837B62\": {\n",
      "        \"mRID\": \"49AD8E07-3BF9-A4E2-CB8F-C3722F837B62\",\n",
      "        \"name\": \"ieee13nodeckt\",\n",
      "        \"Location\": \"8E4E3C92-0B7A-4F74-8FD2-CC10F74E452F\",\n",
      "        \"ConnectivityNodes\": \"['0F1E28C3-6C44-4F88-B79C-2FDBCA4487B2', '2A6DC4DD-D3DC-434D-A187-D2C58A0A72C8', '30BE5988-DE57-4E0C-AB08-50D5A13D2C1B', '421E99BE-A834-4809-B924-84D88F634A45', '63DFBEA0-CD06-4D2E-B956-DF9517BE057B', '673E896A-DCBF-4E43-9924-BEB31C5B6005', '6CB5E5CE-2CD0-40CC-A979-B4F9ED05E49B', '76D6D03C-967C-4E12-836D-A98DF3552BC7', '7BEDDADD-0A14-429F-8601-9EA8B892CA6E', '8C58660F-C62C-4903-BE72-22F1255B1E62', '8E99F99D-FE8F-420B-AC49-0B52DF5362AB', '94F822E0-7130-4205-8597-B47110BBEF4B', 'A8A25B50-3AE3-4A31-A18B-B3FA13397ED3', 'ADDB7A30-5A3C-4179-AF5D-5C9A7213B0E7', 'C6256170-E6ED-4F91-8EBD-748090C3FDD5', 'DBFA8EFA-B397-40DA-9642-60E8DE4B3471', 'DC889FA5-7B28-4273-A1D7-205BE3E0BFED', 'E5B2888B-B60D-4DA6-A4F7-17EB849D28B2', '0124E881-B82D-4206-BBDF-37D585159872', '04984C4D-CC29-477A-9AF4-61AC7D74F16F', '0A98A62D-7642-4F03-8317-A8605CBDBA37', '0DCC57AF-F4FA-457D-BB24-2EFDA9865A1A']\",\n",
      "        \"Equipments\": \"['17A934C7-1510-481F-BAD7-189058957FF1', '1C6781A2-5B9D-4525-8A9B-F9B32C4C4AC0', '1E6B5C97-C4E8-4CED-B9A5-6E69F389DA93', '259E820F-B4AF-4E1A-8271-687534EDAECC', '2858B6C2-0886-4269-884C-06FA8B887319', '32F02D2B-EE6E-4D3F-8486-1B5CAEF70204', '3B2021A7-4BFC-418D-9C20-BD6838E52CF8', '3FFFB3F7-A7AF-49E1-ACEE-449FC73D3CD6', '43EF8365-F932-409B-A51E-FBED3F6DFFAA', '44FC5A86-A099-45B8-B847-F685C5027AFB', '45395C84-F20A-4F5A-977F-B80348256421', '47E52220-4596-4AF0-9724-0167B72A4DB8', '4C04F838-62AA-475E-AEFA-A63B7C889C13', '517413CB-6977-46FA-8911-C82332E42884', '52DE9189-20DC-4C73-BDEE-E960FE1F9493', '572BCFC9-E1D6-4419-9A33-EDD284806AF3', '60B55036-DD71-40CE-ADDA-97B8CE7447DC', '67B57539-590B-4158-9CBB-9DBA2FE6C1F0', '682AB7A9-4FBF-4204-BDE1-27EAB3425DA0', '70188FF4-04F0-48D2-8706-698D1FD086E6', '7060D0BB-B30D-4932-8FA1-40820A0FC4D0', '7B671984-4C56-4FF1-9733-B4B6FCA5F2AA', '7FF12CEF-1C4D-4CD2-8FCC-662530A7BA33', '8B452737-CA3D-4C10-A99D-6865506437C8', '8CA46F28-84C0-4FE2-B228-EC4080777865', '8E180773-2A9B-4136-BC9A-132A52C8E276', '8E34333C-2BB8-4631-B072-383F1CA38F60', '91A37B4C-C38B-4269-8467-F40870934386', '9CAAF741-BE1E-4893-8044-1E507B7DDC38', '9D725810-BFD6-44C6-961A-2BC027F6FC95', 'A04CDFB1-E951-4FC4-8882-0323CD70AE3C', 'A9DE8829-58CB-4750-B2A2-672846A89753', 'A9E8758B-5486-4798-8FBA-9AE639ABFC38', 'ABF53597-A808-422A-B7EE-552F24D83A5F', 'ABF877D7-DAC2-4BF0-AB58-9A8A02E92EB3', 'B21C5599-1D00-4FCF-904B-58D9D4CAC49A', 'B6363F07-B1BC-420B-AA4C-A34BB8F05827', 'C39149DE-3451-4D33-B4C2-B1E6C6FC9AAB', 'CE5D0651-676B-4AF3-8D67-41BF1B33E30C', 'CEC0FC3A-0FD1-4F1C-9C51-7D9BEF4D8222', 'D2E930A7-B136-4ACA-A996-8DB5C60AADF3', 'D34B0D01-B082-4081-A3CC-B68B9B8313A4', 'E26D83A0-D29D-41EF-9528-02C882FFCC0D', 'E2E0FC64-8D45-4C55-BDB9-EAB827A46FBC', 'E503BBF8-3C82-4DF7-B6E9-2488ECFCC847', 'FBE26B35-13AB-457D-9795-DF58B28E309D', '0BBD0EA3-F665-465B-86FD-FC8B8466AD53', '0BC9183A-9067-4E06-AA5B-48DC2AB30C80']\",\n",
      "        \"NormalEnergizingSubstation\": \"6C62C905-6FC7-653D-9F1E-1340F974A587\"\n",
      "    },\n",
      "    \"5B816B93-7A5F-B64C-8460-47C17D6E4B0F\": {\n",
      "        \"mRID\": \"5B816B93-7A5F-B64C-8460-47C17D6E4B0F\",\n",
      "        \"name\": \"ieee13nodecktassets\",\n",
      "        \"Location\": \"E8CC2D43-FB22-4798-AA57-09F1CDB77C00\",\n",
      "        \"ConnectivityNodes\": \"['249A3E8C-0128-4DE2-92EA-112B44080BF2', '348C3A23-B2F4-4101-9A6C-AF8DEF97DD4C', '3E259C63-39CC-4B6C-9C4A-1B29A5C83840', '4163D7DE-898A-4241-93E0-F3FC49F1F714', '560E1C31-EE5C-4BFD-A0B6-F4E8D60E2C76', '61D2A727-4D2E-45F9-8A94-C42B38FFF029', '7326FB57-9839-4AE6-9F3D-B5660C58A7BA', '22B55260-79B0-4DF5-A070-AFEDAFA299D4', 'B7E4EF30-D95D-4C8E-829B-F75FB0FDBEAD', 'BDCA9F2B-81A8-4969-AE86-B9D5DC399F51', 'CB29A4D1-EE08-4AAF-82F6-3C178009EBC0', 'DC7FBBF3-1456-4B9C-8983-9E3D4FA9D95B', 'DFA687CB-83D6-4FD0-8007-657A3E1819F6', 'E14BD0DF-466D-487B-8786-0D46515D1F9B', '04006A64-109D-499D-8496-1B55907C1570', '09A37A19-DF0E-48F3-92E9-10FA62A08120']\",\n",
      "        \"Equipments\": \"['16861155-E2D2-4E9C-8FCA-50EA820E96D0', '28456F60-7196-47E4-9BE6-54F7EAABC04A', '2EB647F9-B8F8-4659-9D2D-3515563030EB', '34A04257-8486-40AC-BE74-4022F7D395E4', '46479235-D5D9-4CE8-9F7C-C78426691797', '4774208A-B9AB-4051-8BC9-4F7C8EA6552A', '4E1B3F09-CB88-4A5E-8198-24490EE7FC58', '4FE57842-43D5-4EBB-8FF1-795E6FE1C507', '603106B5-1DC7-40B1-A264-98774F6FD16D', '67A2574B-8146-464D-B93C-B9FCBCE913BC', '6964DE20-CC96-473D-BB0F-73CD8ACAED2D', '6A7D7AF8-A0F7-41B6-BB0C-160EAE054DEA', '6BC92BAB-B1C8-49C5-87B3-126BBCDC46D5', '6DEF3353-8276-402F-AC8E-3DEF4A396FFE', '6EBB2188-CBE1-4FEC-9406-83DE8E61F9CB', '6ECF60CD-E1E5-4C59-8941-3EC0E9DF30DD', '73E02C20-7DB0-4825-84C1-E58DB8C296BF', '7E0E4F76-E0FD-4BB5-BB58-BC5B05A5A59A', '173879C4-4FDB-4521-A60D-5B102B3781B2', '819CA18E-54AA-42D5-B069-F1AC831D926E', '8A0CF414-3240-47D1-AB8F-998165BA092E', '8A62F620-7C58-4662-AE5C-F41F5E3F0022', '8C536493-14B8-41D0-8EE4-CAE4DFF33839', '928BCF3C-276A-4E74-A4AE-C3C79D624F5F', '958C1DE5-2FA9-4051-8827-8681C4E7AFF6', 'A98417B1-4A7F-484F-97C8-9B91F29A26F1', 'BE3F4495-1AC4-4A36-A529-40A6A740F58C', 'C28BFD4B-C7D1-49AD-BAA6-E06CB0856A72', 'C9CB60C2-46E0-4FDC-B2A5-73318344E4C9', 'D186291A-2487-45AE-83C7-651C7C71D41E', 'E062E187-F149-4555-8E27-2EE0C9D75274', 'EBD2AE36-04A5-4EA9-836F-12F9D3CCB777', 'EF316EA5-74D3-4209-89EA-BF8FAAC2BAF6', 'F20F52DF-B0B1-4615-B9D3-AC669CE18454', 'F229083B-D5FC-40F0-BFE0-9E92C8C69574', 'F3D41D9D-9606-4277-A336-69D7048301AF', 'F841F05A-E047-491F-BF7B-C71283C653D6', '08848DC6-BB11-4647-9C21-475BAD66A8B8']\",\n",
      "        \"NormalEnergizingSubstation\": \"6C62C905-6FC7-653D-9F1E-1340F974A587\"\n",
      "    }\n",
      "}\n"
     ]
    }
   ],
   "source": [
    "# Print feeder info\n",
    "network.get_all_edges(cim.Feeder)\n",
    "network.pprint(cim.Feeder)"
   ]
  },
  {
   "cell_type": "code",
   "execution_count": 47,
   "metadata": {},
   "outputs": [
    {
     "name": "stdout",
     "output_type": "stream",
     "text": [
      "total load is 6937.0 kW\n"
     ]
    }
   ],
   "source": [
    "# Print total load served by substation from both feeders\n",
    "total_load = 0\n",
    "network.get_all_edges(cim.EnergyConsumer)\n",
    "for load in network.graph[cim.EnergyConsumer].values():\n",
    "    total_load = total_load + float(load.p)\n",
    "\n",
    "print(f'total load is {total_load/1000} kW')"
   ]
  },
  {
   "cell_type": "code",
   "execution_count": 48,
   "metadata": {},
   "outputs": [
    {
     "name": "stdout",
     "output_type": "stream",
     "text": [
      "ConnectivityNode\n",
      "Terminal\n",
      "BusbarSection\n",
      "Disconnector\n",
      "Breaker\n",
      "Substation\n",
      "Feeder\n",
      "TransformerTank\n",
      "ACLineSegment\n",
      "PowerTransformer\n",
      "LoadBreakSwitch\n",
      "EnergyConsumer\n",
      "Fuse\n",
      "PowerElectronicsConnection\n",
      "EnergySource\n",
      "LinearShuntCompensator\n",
      "Recloser\n",
      "Location\n",
      "BaseVoltage\n",
      "LoadResponseCharacteristic\n",
      "EnergyConsumerPhase\n",
      "OperationalLimitSet\n",
      "TopologicalNode\n",
      "TapChangerControl\n",
      "TransformerTankEnd\n",
      "PowerTransformerEnd\n",
      "RegulatingControl\n",
      "WireSpacingInfo\n",
      "ACLineSegmentPhase\n",
      "PerLengthPhaseImpedance\n",
      "OverheadWireInfo\n",
      "ConcentricNeutralCableInfo\n",
      "TapeShieldCableInfo\n",
      "PhaseImpedanceData\n",
      "WirePosition\n",
      "TransformerTankInfo\n",
      "RatioTapChanger\n",
      "TransformerEndInfo\n",
      "ShortCircuitTest\n",
      "NoLoadTest\n",
      "TransformerMeshImpedance\n",
      "TransformerCoreAdmittance\n",
      "BatteryUnit\n",
      "PowerElectronicsConnectionPhase\n",
      "PhotovoltaicUnit\n",
      "CurrentLimit\n",
      "VoltageLimit\n",
      "OperationalLimitType\n",
      "CoordinateSystem\n",
      "PositionPoint\n",
      "SubGeographicalRegion\n",
      "SwitchPhase\n",
      "LinearShuntCompensatorPhase\n",
      "TopologicalIsland\n",
      "GeographicalRegion\n"
     ]
    }
   ],
   "source": [
    "utils.get_all_data(network)"
   ]
  },
  {
   "cell_type": "code",
   "execution_count": 49,
   "metadata": {},
   "outputs": [],
   "source": [
    "utils.write_xml(network, '../test_output/single_bus_and_feeders.xml')"
   ]
  },
  {
   "cell_type": "markdown",
   "metadata": {},
   "source": []
  }
 ],
 "metadata": {
  "kernelspec": {
   "display_name": ".venv",
   "language": "python",
   "name": "python3"
  },
  "language_info": {
   "codemirror_mode": {
    "name": "ipython",
    "version": 3
   },
   "file_extension": ".py",
   "mimetype": "text/x-python",
   "name": "python",
   "nbconvert_exporter": "python",
   "pygments_lexer": "ipython3",
   "version": "3.10.12"
  }
 },
 "nbformat": 4,
 "nbformat_minor": 2
}
