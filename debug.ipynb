{
 "cells": [
  {
   "cell_type": "code",
   "execution_count": 17,
   "metadata": {},
   "outputs": [],
   "source": [
    "from cimgraph.databases import ConnectionParameters, BlazegraphConnection\n",
    "from cimgraph.models import NodeBreakerModel, DistributedArea, GraphModel\n",
    "from cimgraph.models.graph_model import new_mrid #TODO:replace with utils.new_mrid()\n",
    "import cimgraph.utils as utils\n",
    "import importlib\n",
    "from cimgraph import FeederModel"
   ]
  },
  {
   "cell_type": "code",
   "execution_count": 18,
   "metadata": {},
   "outputs": [],
   "source": [
    "cim_profile = 'cimhub_2023'\n",
    "cim = importlib.import_module('cimgraph.data_profile.' + cim_profile)"
   ]
  },
  {
   "cell_type": "code",
   "execution_count": 19,
   "metadata": {},
   "outputs": [],
   "source": [
    "# # RDFLib File Reader Connection\n",
    "# params = ConnectionParameters(filename=\"new_model.xml\", cim_profile='cimhub_2023', iec61970_301=8)\n",
    "# rdf = RDFlibConnection(params)\n",
    "\n",
    "params = ConnectionParameters(url = \"http://localhost:8889/bigdata/namespace/kb/sparql\", cim_profile=cim_profile, iec61970_301=8)\n",
    "connection = BlazegraphConnection(params)"
   ]
  },
  {
   "cell_type": "code",
   "execution_count": 20,
   "metadata": {},
   "outputs": [],
   "source": [
    "def new_substation(connection):\n",
    "\n",
    "    substation_mrid = new_mrid()\n",
    "    substation = cim.Substation(mRID = substation_mrid)\n",
    "\n",
    "    network = DistributedArea(connection=connection, container=substation, distributed=False)"
   ]
  },
  {
   "cell_type": "code",
   "execution_count": 10,
   "metadata": {},
   "outputs": [],
   "source": [
    "def terminal_to_node(network, terminal:cim.Terminal, node:str|cim.ConnectivityNode):\n",
    "    if node.__class__ == str:\n",
    "        for node_obj in network.graph[cim.ConnectivityNode].values():\n",
    "            if node_obj.name == node:\n",
    "                terminal.ConnectivityNode = node_obj\n",
    "                node_obj.Terminals.append(terminal)\n",
    "    else:\n",
    "        terminal.ConnectivityNode = node\n",
    "        node.Terminals.append(terminal)\n"
   ]
  },
  {
   "cell_type": "code",
   "execution_count": null,
   "metadata": {},
   "outputs": [],
   "source": []
  },
  {
   "cell_type": "code",
   "execution_count": 15,
   "metadata": {},
   "outputs": [],
   "source": [
    "def new_disconnector(network:DistributedArea, container:cim.EquipmentContainer, name:str, \n",
    "                node1:str|cim.ConnectivityNode, node2:str|cim.ConnectivityNode,\n",
    "                open:bool=False, normalOpen:bool=False, retained:bool=True) -> None:\n",
    "\n",
    "    disconnector = cim.Disconnector(name = name, mRID = new_mrid())\n",
    "    t1 = cim.Terminal(name=f\"{name}.1\", mRID = new_mrid(), sequenceNumber=1)\n",
    "    t2 = cim.Terminal(name=f\"{name}.2\", mRID = new_mrid(), sequenceNumber=2)\n",
    "\n",
    "    terminal_to_node(network, t1, node1)\n",
    "    terminal_to_node(network, t2, node2)\n",
    "\n",
    "    disconnector.EquipmentContainer = container\n",
    "    disconnector.open = open\n",
    "    disconnector.normalOpen = normalOpen\n",
    "    disconnector.Terminals.append(t1)\n",
    "    disconnector.Terminals.append(t2)\n",
    "    \n",
    "    t1.ConductingEquipment = disconnector\n",
    "    t2.ConductingEquipment = disconnector\n",
    "\n",
    "    network.add_to_graph(disconnector)\n",
    "    network.add_to_graph(t1)\n",
    "    network.add_to_graph(t2)\n"
   ]
  },
  {
   "cell_type": "code",
   "execution_count": 16,
   "metadata": {},
   "outputs": [],
   "source": [
    "def new_breaker(network:DistributedArea, container:cim.EquipmentContainer, name:str, \n",
    "                node1:str|cim.ConnectivityNode, node2:str|cim.ConnectivityNode,\n",
    "                open:bool=False, normalOpen:bool=False, retained:bool=True) -> None:\n",
    "\n",
    "    breaker = cim.Breaker(name = name, mRID = new_mrid())\n",
    "    t1 = cim.Terminal(name=f\"{name}.1\", mRID = new_mrid(), sequenceNumber=1)\n",
    "    t2 = cim.Terminal(name=f\"{name}.2\", mRID = new_mrid(), sequenceNumber=2)\n",
    "\n",
    "    terminal_to_node(network, t1, node1)\n",
    "    terminal_to_node(network, t2, node2)\n",
    "\n",
    "    breaker.EquipmentContainer = container\n",
    "    breaker.open = open\n",
    "    breaker.normalOpen = normalOpen\n",
    "    breaker.Terminals.append(t1)\n",
    "    breaker.Terminals.append(t2)\n",
    "    \n",
    "    t1.ConductingEquipment = breaker\n",
    "    t2.ConductingEquipment = breaker\n",
    "\n",
    "    network.add_to_graph(breaker)\n",
    "    network.add_to_graph(t1)\n",
    "    network.add_to_graph(t2)\n",
    "\n",
    "    #TODO: new_discrete()\n",
    "\n"
   ]
  },
  {
   "cell_type": "code",
   "execution_count": 26,
   "metadata": {},
   "outputs": [],
   "source": [
    "def new_bus_tie(network:GraphModel, substation:cim.Substation, main_bus:cim.ConnectivityNode, transfer_bus:cim.ConnectivityNode):\n",
    "\n",
    "    junction1 = cim.ConnectivityNode(name=f\"{substation.name}_bt_j1\", mRID = new_mrid(), ConnectivityNodeContainer=substation)\n",
    "    junction2 = cim.ConnectivityNode(name=f\"{substation.name}_bt_j2\", mRID = new_mrid(), ConnectivityNodeContainer=substation)\n",
    "    airgap1 = new_disconnector(network, substation, name = f'{substation.name}_bt1', node1 = main_bus, node2 = junction1)\n",
    "    bus_tie = new_breaker(network, substation, name = f\"{substation.name}_bus_tie\", node1 = junction1, node2 = junction2)\n",
    "    airgap2 = new_disconnector(network, substation, name = f'{substation.name}_bt1', node1 = junction2, node2 = transfer_bus)\n",
    "    network.add_to_graph(junction1)\n",
    "    network.add_to_graph(junction2)\n",
    "    \n",
    "    "
   ]
  },
  {
   "cell_type": "code",
   "execution_count": 39,
   "metadata": {},
   "outputs": [],
   "source": [
    "from cimgraph import GraphModel\n",
    "import cimgraph.data_profile.cimhub_2023 as cim\n",
    "\n",
    "def new_branch(network:GraphModel, substation:cim.Substation, main_bus:cim.ConnectivityNode, transfer_bus:cim.ConnectivityNode, \n",
    "               branch:cim.ConductingEquipment, sequenceNumber:int):\n",
    "\n",
    "    junction1 = cim.ConnectivityNode(name=f\"{substation.name}_{sequenceNumber}_j1\", mRID = new_mrid(), ConnectivityNodeContainer=substation)\n",
    "    junction2 = cim.ConnectivityNode(name=f\"{substation.name}_{sequenceNumber}_j2\", mRID = new_mrid(), ConnectivityNodeContainer=substation)\n",
    "    junction3 = cim.ConnectivityNode(name=f\"{substation.name}_{sequenceNumber}_j3\", mRID = new_mrid(), ConnectivityNodeContainer=substation)\n",
    "\n",
    "    breaker = new_breaker(network, substation, name = f\"{substation.name}_{sequenceNumber}\", node1 = junction1, node2 = junction2)\n",
    "\n",
    "    airgap1 = new_disconnector(network, substation, name = f'{substation.name}_{sequenceNumber+1}', node1 = main_bus, node2 = junction1)\n",
    "    airgap2 = new_disconnector(network, substation, name = f'{substation.name}_{sequenceNumber+2}', node1 = junction2, node2 = junction3)\n",
    "    airgap3 = new_disconnector(network, substation, name = f'{substation.name}_{sequenceNumber+3}', node1 = junction3, node2 = transfer_bus)\n",
    "\n",
    "    for terminal in branch.Terminals:\n",
    "        if int(terminal.sequenceNumber) == 1:\n",
    "            terminal.ConnectivityNode = junction3\n",
    "        \n",
    "    \n",
    "    network.add_to_graph(junction1)\n",
    "    network.add_to_graph(junction2)\n",
    "    network.add_to_graph(junction3)"
   ]
  },
  {
   "cell_type": "code",
   "execution_count": 34,
   "metadata": {},
   "outputs": [],
   "source": [
    "def new_main_and_transfer(network:GraphModel = None, name:str = \"new_sub\"):\n",
    "    \n",
    "    # create substation\n",
    "    substation_mrid = new_mrid()\n",
    "    substation = cim.Substation(mRID = substation_mrid, name=name)\n",
    "\n",
    "    if not network:\n",
    "        network = DistributedArea(connection=connection, container=substation, distributed=False)\n",
    "\n",
    "       \n",
    "\n",
    "    # main bus\n",
    "    main_bus = cim.ConnectivityNode(name=\"main_bus\", mRID=new_mrid())\n",
    "    main_bus.ConnectivityNodeContainer = substation\n",
    "    network.add_to_graph(main_bus)\n",
    "\n",
    "    # transfer bus\n",
    "    transfer_bus = cim.ConnectivityNode(name=\"transfer_bus\", mRID=new_mrid())\n",
    "    transfer_bus.ConnectivityNodeContainer = substation\n",
    "    network.add_to_graph(transfer_bus)\n",
    "\n",
    "    # create bus_tie\n",
    "    new_bus_tie(network, substation, main_bus, transfer_bus)\n",
    "\n",
    "    return network"
   ]
  },
  {
   "cell_type": "code",
   "execution_count": 35,
   "metadata": {},
   "outputs": [],
   "source": [
    "network = new_main_and_transfer()"
   ]
  },
  {
   "cell_type": "code",
   "execution_count": 37,
   "metadata": {},
   "outputs": [
    {
     "name": "stdout",
     "output_type": "stream",
     "text": [
      "{\n",
      "    \"8569b7ee-9cde-47cf-b520-883f99f5616f\": {\n",
      "        \"mRID\": \"8569b7ee-9cde-47cf-b520-883f99f5616f\",\n",
      "        \"name\": \"main_bus\",\n",
      "        \"ConnectivityNodeContainer\": \"5e7027ae-fb70-46cb-8683-3a5131392214\",\n",
      "        \"Terminals\": \"['c0a562fe-5ed7-41e5-bdc3-1b838aece1a7']\"\n",
      "    },\n",
      "    \"bb25f54e-4745-4b96-9c83-6b377ed9a9b5\": {\n",
      "        \"mRID\": \"bb25f54e-4745-4b96-9c83-6b377ed9a9b5\",\n",
      "        \"name\": \"transfer_bus\",\n",
      "        \"ConnectivityNodeContainer\": \"5e7027ae-fb70-46cb-8683-3a5131392214\",\n",
      "        \"Terminals\": \"['4a027ce0-f77c-4a5c-92f8-4e2d0593fa0c']\"\n",
      "    },\n",
      "    \"cd379ee6-385c-49f8-8794-60c80f694249\": {\n",
      "        \"mRID\": \"cd379ee6-385c-49f8-8794-60c80f694249\",\n",
      "        \"name\": \"new_sub_bt_j1\",\n",
      "        \"ConnectivityNodeContainer\": \"5e7027ae-fb70-46cb-8683-3a5131392214\",\n",
      "        \"Terminals\": \"['8f45aaa2-0581-4d09-aa45-0af6dd4c96c9', '6734cb45-8b89-4b38-869a-a3d441cad35e']\"\n",
      "    },\n",
      "    \"e63aa60a-bb1d-4c57-9415-b706f29934b7\": {\n",
      "        \"mRID\": \"e63aa60a-bb1d-4c57-9415-b706f29934b7\",\n",
      "        \"name\": \"new_sub_bt_j2\",\n",
      "        \"ConnectivityNodeContainer\": \"5e7027ae-fb70-46cb-8683-3a5131392214\",\n",
      "        \"Terminals\": \"['458bb0a5-8d21-465a-97fe-29e83940dbe6', '52a53860-a488-4153-901e-1f90020fb6a0']\"\n",
      "    }\n",
      "}\n"
     ]
    }
   ],
   "source": [
    "network.pprint(cim.ConnectivityNode)"
   ]
  },
  {
   "cell_type": "code",
   "execution_count": null,
   "metadata": {},
   "outputs": [],
   "source": []
  }
 ],
 "metadata": {
  "kernelspec": {
   "display_name": ".venv",
   "language": "python",
   "name": "python3"
  },
  "language_info": {
   "codemirror_mode": {
    "name": "ipython",
    "version": 3
   },
   "file_extension": ".py",
   "mimetype": "text/x-python",
   "name": "python",
   "nbconvert_exporter": "python",
   "pygments_lexer": "ipython3",
   "version": "3.10.12"
  }
 },
 "nbformat": 4,
 "nbformat_minor": 2
}
